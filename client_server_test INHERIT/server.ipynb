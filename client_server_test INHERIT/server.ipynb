{
 "cells": [
  {
   "cell_type": "code",
   "execution_count": 1,
   "metadata": {},
   "outputs": [
    {
     "name": "stderr",
     "output_type": "stream",
     "text": [
      "Using TensorFlow backend.\n"
     ]
    }
   ],
   "source": [
    "from LocalModelCommunication import LocalModelCommunication"
   ]
  },
  {
   "cell_type": "code",
   "execution_count": null,
   "metadata": {
    "collapsed": true
   },
   "outputs": [],
   "source": [
    "from CentralModelCommunication import CentralModelCommunication\n"
   ]
  },
  {
   "cell_type": "code",
   "execution_count": null,
   "metadata": {},
   "outputs": [
    {
     "name": "stdout",
     "output_type": "stream",
     "text": [
      "Waiting for connection...\n",
      "127.0.0.1:53938 has connected.\n",
      "gui68.45\n",
      "CONNECTION ON\n",
      "number of gui clients ->  1\n",
      "number of stacking clients -> {}\n",
      "number of app clients ->  0\n",
      "127.0.0.1:53947 has connected.\n",
      "gui62.72\n",
      "CONNECTION ON\n",
      "number of gui clients ->  2\n",
      "number of stacking clients -> {}\n",
      "number of app clients ->  0\n",
      "127.0.0.1:54001 has connected.\n",
      "gui64.84\n",
      "CONNECTION ON\n",
      "number of gui clients ->  3\n",
      "number of stacking clients -> {}\n",
      "number of app clients ->  0\n",
      "127.0.0.1:54005 has connected.\n",
      "app\n",
      "CONNECTION ON\n",
      "number of gui clients ->  3\n",
      "number of stacking clients -> {}\n",
      "number of app clients ->  1\n",
      "MESSAGE :  [\"requested_prediction\", \"{\\\"Soggetti\\\":{\\\"0\\\":\\\"01_2021\\\"},\\\"RR\\\":{\\\"0\\\":958.8643410853},\\\"QTm_old\\\":{\\\"0\\\":415.0},\\\"sbjBeatConsidered\\\":{\\\"0\\\":272},\\\"numRRaveraged\\\":{\\\"0\\\":258},\\\"QR\\\":{\\\"0\\\":41.0},\\\"QTn\\\":{\\\"0\\\":423.8083535237},\\\"QRS\\\":{\\\"0\\\":null},\\\"IPG\\\":{\\\"0\\\":0},\\\"PQ\\\":{\\\"0\\\":166.0},\\\"PCpos\\\":{\\\"0\\\":208.2112},\\\"PCneg\\\":{\\\"0\\\":null},\\\"PCdur\\\":{\\\"0\\\":122.0},\\\"PCfwhm\\\":{\\\"0\\\":52.109},\\\"PCarea\\\":{\\\"0\\\":12260.06},\\\"P_LoffEon\\\":{\\\"0\\\":128.0},\\\"Pdur16mean\\\":{\\\"0\\\":116.75},\\\"Pdur16median\\\":{\\\"0\\\":122.0},\\\"Pdur16min\\\":{\\\"0\\\":103.0},\\\"Pdur16max\\\":{\\\"0\\\":127.0},\\\"Pdur16std\\\":{\\\"0\\\":8.590693},\\\"Pdur16iqr\\\":{\\\"0\\\":15.0},\\\"Pdur_ECG_I\\\":{\\\"0\\\":127.0},\\\"Pdur_ECG_II\\\":{\\\"0\\\":122.0},\\\"Pdur_ECG_III\\\":{\\\"0\\\":123.0},\\\"Pdur_ECG_V1\\\":{\\\"0\\\":103.0},\\\"Pdur_ECG_V2\\\":{\\\"0\\\":104.0},\\\"Pdur_ECG_V3\\\":{\\\"0\\\":106.0},\\\"Pdur_ECG_V3R\\\":{\\\"0\\\":124.0},\\\"Pdur_ECG_V4\\\":{\\\"0\\\":115.0},\\\"Pdur_ECG_V4R\\\":{\\\"0\\\":125.0},\\\"Pdur_ECG_V5\\\":{\\\"0\\\":122.0},\\\"Pdur_ECG_V6\\\":{\\\"0\\\":122.0},\\\"Pdur_ECG_V8\\\":{\\\"0\\\":109.0},\\\"Pdur_ECG_V9\\\":{\\\"0\\\":108.0},\\\"Pdur_ECG_aVF\\\":{\\\"0\\\":123.0},\\\"Pdur_ECG_aVL\\\":{\\\"0\\\":125.0},\\\"Pdur_ECG_aVR\\\":{\\\"0\\\":110.0},\\\"Parea_ECG_I\\\":{\\\"0\\\":263.0136},\\\"Parea_ECG_II\\\":{\\\"0\\\":5362.682},\\\"Parea_ECG_III\\\":{\\\"0\\\":5708.737},\\\"Parea_ECG_V1\\\":{\\\"0\\\":2273.143},\\\"Parea_ECG_V2\\\":{\\\"0\\\":1696.737},\\\"Parea_ECG_V3\\\":{\\\"0\\\":2135.829},\\\"Parea_ECG_V3R\\\":{\\\"0\\\":4283.591},\\\"Parea_ECG_V4\\\":{\\\"0\\\":1851.163},\\\"Parea_ECG_V4R\\\":{\\\"0\\\":4407.373},\\\"Parea_ECG_V5\\\":{\\\"0\\\":1380.435},\\\"Parea_ECG_V6\\\":{\\\"0\\\":1004.717},\\\"Parea_ECG_V8\\\":{\\\"0\\\":277.7214},\\\"Parea_ECG_V9\\\":{\\\"0\\\":150.4419},\\\"Parea_ECG_aVF\\\":{\\\"0\\\":5524.828},\\\"Parea_ECG_aVL\\\":{\\\"0\\\":2854.68},\\\"Parea_ECG_aVR\\\":{\\\"0\\\":2195.197},\\\"Pfwhm_ECG_I\\\":{\\\"0\\\":30.49997},\\\"Pfwhm_ECG_II\\\":{\\\"0\\\":57.0277},\\\"Pfwhm_ECG_III\\\":{\\\"0\\\":58.01223},\\\"Pfwhm_ECG_V1\\\":{\\\"0\\\":34.05282},\\\"Pfwhm_ECG_V2\\\":{\\\"0\\\":47.0023},\\\"Pfwhm_ECG_V3\\\":{\\\"0\\\":49.00052},\\\"Pfwhm_ECG_V3R\\\":{\\\"0\\\":44.18612},\\\"Pfwhm_ECG_V4\\\":{\\\"0\\\":54.00165},\\\"Pfwhm_ECG_V4R\\\":{\\\"0\\\":46.01716},\\\"Pfwhm_ECG_V5\\\":{\\\"0\\\":63.0},\\\"Pfwhm_ECG_V6\\\":{\\\"0\\\":82.00008},\\\"Pfwhm_ECG_V8\\\":{\\\"0\\\":55.13901},\\\"Pfwhm_ECG_V9\\\":{\\\"0\\\":14.53569},\\\"Pfwhm_ECG_aVF\\\":{\\\"0\\\":58.03868},\\\"Pfwhm_ECG_aVL\\\":{\\\"0\\\":58.00024},\\\"Pfwhm_ECG_aVR\\\":{\\\"0\\\":53.00407},\\\"patsex\\\":{\\\"0\\\":\\\"m\\\\u00e4nnlich\\\"},\\\"Age\\\":{\\\"0\\\":69}}\"]\n",
      "PREDICTION REQUEST -> PREPARING DATA\n",
      "BROEADAST 1\n",
      "BROEADAST 2\n",
      "BROEADAST 3\n",
      "BROEADAST 4\n",
      "stacking clients len ->  0\n",
      "sent to all -> BROEADAST 5\n",
      "PREDICTION REQUEST -> PREPARING DATA\n",
      "MESSAGE :  [\"predict\", \"{\\\"RR\\\":{\\\"0\\\":958.8643410853},\\\"QTm_old\\\":{\\\"0\\\":415.0},\\\"QR\\\":{\\\"0\\\":41.0},\\\"QTn\\\":{\\\"0\\\":423.8083535237},\\\"QRS\\\":{\\\"0\\\":83.0656701971},\\\"PQ\\\":{\\\"0\\\":166.0},\\\"PCpos\\\":{\\\"0\\\":208.2112},\\\"patsex\\\":{\\\"0\\\":1.0},\\\"Age\\\":{\\\"0\\\":69.0},\\\"prediction\\\":{\\\"0\\\":1}}\"]MESSAGE : \n",
      " EOEOE 1[\"predict\", \"{\\\"RR\\\":{\\\"0\\\":958.8643410853},\\\"QTm_old\\\":{\\\"0\\\":415.0},\\\"QR\\\":{\\\"0\\\":41.0},\\\"QTn\\\":{\\\"0\\\":423.8083535237},\\\"QRS\\\":{\\\"0\\\":83.0656657164},\\\"PQ\\\":{\\\"0\\\":166.0},\\\"PCpos\\\":{\\\"0\\\":208.2112},\\\"patsex\\\":{\\\"0\\\":1.0},\\\"Age\\\":{\\\"0\\\":69.0},\\\"prediction\\\":{\\\"0\\\":1}}\"]\n",
      "\n",
      "EOEOE 2EOEOE 1\n",
      "\n",
      "counter -> : EOEOE 2 \n",
      "3counter -> : \n",
      " countResponses -> 3 \n",
      "0countResponses -> \n",
      " EOEOE 30\n",
      "\n",
      " stackingClients len -> : EOEOE 3 \n",
      "0 stackingClients len -> : \n",
      " EOEOE 40\n",
      "\n",
      "countResponses -> EOEOE 4 \n",
      "2countResponses -> \n",
      " 1\n",
      "MESSAGE :  [\"predict\", \"{\\\"RR\\\":{\\\"0\\\":958.8643410853},\\\"QTm_old\\\":{\\\"0\\\":415.0},\\\"QR\\\":{\\\"0\\\":41.0},\\\"QTn\\\":{\\\"0\\\":423.8083535237},\\\"QRS\\\":{\\\"0\\\":89.1793940214},\\\"PQ\\\":{\\\"0\\\":166.0},\\\"PCpos\\\":{\\\"0\\\":208.2112},\\\"PCdur\\\":{\\\"0\\\":122.0},\\\"PCfwhm\\\":{\\\"0\\\":52.109},\\\"PCarea\\\":{\\\"0\\\":12260.06},\\\"P_LoffEon\\\":{\\\"0\\\":128.0},\\\"Pdur16mean\\\":{\\\"0\\\":116.75},\\\"Pdur16median\\\":{\\\"0\\\":122.0},\\\"Pdur16min\\\":{\\\"0\\\":103.0},\\\"Pdur16max\\\":{\\\"0\\\":127.0},\\\"Pdur16std\\\":{\\\"0\\\":8.590693},\\\"Pdur16iqr\\\":{\\\"0\\\":15.0},\\\"Pdur_ECG_I\\\":{\\\"0\\\":127.0},\\\"Pdur_ECG_II\\\":{\\\"0\\\":122.0},\\\"Pdur_ECG_III\\\":{\\\"0\\\":123.0},\\\"Pdur_ECG_V1\\\":{\\\"0\\\":103.0},\\\"Pdur_ECG_V2\\\":{\\\"0\\\":104.0},\\\"Pdur_ECG_V3\\\":{\\\"0\\\":106.0},\\\"Pdur_ECG_V3R\\\":{\\\"0\\\":124.0},\\\"Pdur_ECG_V4\\\":{\\\"0\\\":115.0},\\\"Pdur_ECG_V4R\\\":{\\\"0\\\":125.0},\\\"Pdur_ECG_V5\\\":{\\\"0\\\":122.0},\\\"Pdur_ECG_V6\\\":{\\\"0\\\":122.0},\\\"Pdur_ECG_V8\\\":{\\\"0\\\":109.0},\\\"Pdur_ECG_V9\\\":{\\\"0\\\":108.0},\\\"Pdur_ECG_aVF\\\":{\\\"0\\\":123.0},\\\"Pdur_ECG_aVL\\\":{\\\"0\\\":125.0},\\\"Pdur_ECG_aVR\\\":{\\\"0\\\":110.0},\\\"Parea_ECG_I\\\":{\\\"0\\\":263.0136},\\\"Parea_ECG_II\\\":{\\\"0\\\":5362.682},\\\"Parea_ECG_III\\\":{\\\"0\\\":5708.737},\\\"Parea_ECG_V1\\\":{\\\"0\\\":2273.143},\\\"Parea_ECG_V2\\\":{\\\"0\\\":1696.737},\\\"Parea_ECG_V3\\\":{\\\"0\\\":2135.829},\\\"Parea_ECG_V3R\\\":{\\\"0\\\":4283.591},\\\"Parea_ECG_V4\\\":{\\\"0\\\":1851.163},\\\"Parea_ECG_V4R\\\":{\\\"0\\\":4407.373},\\\"Parea_ECG_V5\\\":{\\\"0\\\":1380.435},\\\"Parea_ECG_V6\\\":{\\\"0\\\":1004.717},\\\"Parea_ECG_V8\\\":{\\\"0\\\":277.7214},\\\"Parea_ECG_V9\\\":{\\\"0\\\":150.4419},\\\"Parea_ECG_aVF\\\":{\\\"0\\\":5524.828},\\\"Parea_ECG_aVL\\\":{\\\"0\\\":2854.68},\\\"Parea_ECG_aVR\\\":{\\\"0\\\":2195.197},\\\"Pfwhm_ECG_I\\\":{\\\"0\\\":30.49997},\\\"Pfwhm_ECG_II\\\":{\\\"0\\\":57.0277},\\\"Pfwhm_ECG_III\\\":{\\\"0\\\":58.01223},\\\"Pfwhm_ECG_V1\\\":{\\\"0\\\":34.05282},\\\"Pfwhm_ECG_V2\\\":{\\\"0\\\":47.0023},\\\"Pfwhm_ECG_V3\\\":{\\\"0\\\":49.00052},\\\"Pfwhm_ECG_V3R\\\":{\\\"0\\\":44.18612},\\\"Pfwhm_ECG_V4\\\":{\\\"0\\\":54.00165},\\\"Pfwhm_ECG_V4R\\\":{\\\"0\\\":46.01716},\\\"Pfwhm_ECG_V5\\\":{\\\"0\\\":63.0},\\\"Pfwhm_ECG_V6\\\":{\\\"0\\\":82.00008},\\\"Pfwhm_ECG_V8\\\":{\\\"0\\\":55.13901},\\\"Pfwhm_ECG_V9\\\":{\\\"0\\\":14.53569},\\\"Pfwhm_ECG_aVF\\\":{\\\"0\\\":58.03868},\\\"Pfwhm_ECG_aVL\\\":{\\\"0\\\":58.00024},\\\"Pfwhm_ECG_aVR\\\":{\\\"0\\\":53.00407},\\\"patsex\\\":{\\\"0\\\":1.0},\\\"Age\\\":{\\\"0\\\":69.0},\\\"prediction\\\":{\\\"0\\\":0}}\"]\n",
      "EOEOE 1\n",
      "EOEOE 2\n",
      "counter -> :  3\n",
      "countResponses ->  2\n",
      "EOEOE 3\n",
      " stackingClients len -> :  0\n",
      "PREDICTION predict_on_data\n",
      "counter :  3\n",
      "   prediction Local_hospital_0  prediction Local_hospital_1  \\\n",
      "0                            0                            1   \n",
      "\n",
      "   prediction Local_hospital_2  \n",
      "0                            1  \n",
      "majority voting\n",
      "local hospital -> accuracy AAA  {'Local_hospital_0': 68.45, 'Local_hospital_1': 62.72, 'Local_hospital_2': 64.84}\n",
      "local hospital -> accuracy BBB {'Local_hospital_0': 68.45, 'Local_hospital_1': 62.72, 'Local_hospital_2': 64.84}\n",
      "local hospital -> accuracy DDD {'Local_hospital_0': 68.45, 'Local_hospital_1': 62.72, 'Local_hospital_2': 64.84}\n",
      "local hospital -> accuracy AAA  {'Local_hospital_0': 68.45, 'Local_hospital_1': 62.72, 'Local_hospital_2': 64.84}\n",
      "local hospital -> accuracy BBB {'Local_hospital_0': 68.45, 'Local_hospital_1': 62.72, 'Local_hospital_2': 64.84}\n",
      "local hospital -> accuracy DDD {'Local_hospital_0': 68.45, 'Local_hospital_1': 62.72, 'Local_hospital_2': 64.84}\n",
      "pred -> majority voting SUCCEED -> MODE \n",
      "   prediction Local_hospital_0  prediction Local_hospital_1  \\\n",
      "0                            0                            1   \n",
      "\n",
      "   prediction Local_hospital_2  finalPrediction  \n",
      "0                            1                1  \n",
      "t printed -> send results\n",
      "EOEOE 4\n",
      "countResponses ->  0\n",
      "MESSAGE :  [\"train\", \"{\\\"Soggetti\\\":{\\\"0\\\":\\\"01_2021\\\"},\\\"RR\\\":{\\\"0\\\":958.8643410853},\\\"QTm_old\\\":{\\\"0\\\":415.0},\\\"sbjBeatConsidered\\\":{\\\"0\\\":272},\\\"numRRaveraged\\\":{\\\"0\\\":258},\\\"QR\\\":{\\\"0\\\":41.0},\\\"QTn\\\":{\\\"0\\\":423.8083535237},\\\"QRS\\\":{\\\"0\\\":null},\\\"IPG\\\":{\\\"0\\\":0},\\\"PQ\\\":{\\\"0\\\":166.0},\\\"PCpos\\\":{\\\"0\\\":208.2112},\\\"PCneg\\\":{\\\"0\\\":null},\\\"PCdur\\\":{\\\"0\\\":122.0},\\\"PCfwhm\\\":{\\\"0\\\":52.109},\\\"PCarea\\\":{\\\"0\\\":12260.06},\\\"P_LoffEon\\\":{\\\"0\\\":128.0},\\\"Pdur16mean\\\":{\\\"0\\\":116.75},\\\"Pdur16median\\\":{\\\"0\\\":122.0},\\\"Pdur16min\\\":{\\\"0\\\":103.0},\\\"Pdur16max\\\":{\\\"0\\\":127.0},\\\"Pdur16std\\\":{\\\"0\\\":8.590693},\\\"Pdur16iqr\\\":{\\\"0\\\":15.0},\\\"Pdur_ECG_I\\\":{\\\"0\\\":127.0},\\\"Pdur_ECG_II\\\":{\\\"0\\\":122.0},\\\"Pdur_ECG_III\\\":{\\\"0\\\":123.0},\\\"Pdur_ECG_V1\\\":{\\\"0\\\":103.0},\\\"Pdur_ECG_V2\\\":{\\\"0\\\":104.0},\\\"Pdur_ECG_V3\\\":{\\\"0\\\":106.0},\\\"Pdur_ECG_V3R\\\":{\\\"0\\\":124.0},\\\"Pdur_ECG_V4\\\":{\\\"0\\\":115.0},\\\"Pdur_ECG_V4R\\\":{\\\"0\\\":125.0},\\\"Pdur_ECG_V5\\\":{\\\"0\\\":122.0},\\\"Pdur_ECG_V6\\\":{\\\"0\\\":122.0},\\\"Pdur_ECG_V8\\\":{\\\"0\\\":109.0},\\\"Pdur_ECG_V9\\\":{\\\"0\\\":108.0},\\\"Pdur_ECG_aVF\\\":{\\\"0\\\":123.0},\\\"Pdur_ECG_aVL\\\":{\\\"0\\\":125.0},\\\"Pdur_ECG_aVR\\\":{\\\"0\\\":110.0},\\\"Parea_ECG_I\\\":{\\\"0\\\":263.0136},\\\"Parea_ECG_II\\\":{\\\"0\\\":5362.682},\\\"Parea_ECG_III\\\":{\\\"0\\\":5708.737},\\\"Parea_ECG_V1\\\":{\\\"0\\\":2273.143},\\\"Parea_ECG_V2\\\":{\\\"0\\\":1696.737},\\\"Parea_ECG_V3\\\":{\\\"0\\\":2135.829},\\\"Parea_ECG_V3R\\\":{\\\"0\\\":4283.591},\\\"Parea_ECG_V4\\\":{\\\"0\\\":1851.163},\\\"Parea_ECG_V4R\\\":{\\\"0\\\":4407.373},\\\"Parea_ECG_V5\\\":{\\\"0\\\":1380.435},\\\"Parea_ECG_V6\\\":{\\\"0\\\":1004.717},\\\"Parea_ECG_V8\\\":{\\\"0\\\":277.7214},\\\"Parea_ECG_V9\\\":{\\\"0\\\":150.4419},\\\"Parea_ECG_aVF\\\":{\\\"0\\\":5524.828},\\\"Parea_ECG_aVL\\\":{\\\"0\\\":2854.68},\\\"Parea_ECG_aVR\\\":{\\\"0\\\":2195.197},\\\"Pfwhm_ECG_I\\\":{\\\"0\\\":30.49997},\\\"Pfwhm_ECG_II\\\":{\\\"0\\\":57.0277},\\\"Pfwhm_ECG_III\\\":{\\\"0\\\":58.01223},\\\"Pfwhm_ECG_V1\\\":{\\\"0\\\":34.05282},\\\"Pfwhm_ECG_V2\\\":{\\\"0\\\":47.0023},\\\"Pfwhm_ECG_V3\\\":{\\\"0\\\":49.00052},\\\"Pfwhm_ECG_V3R\\\":{\\\"0\\\":44.18612},\\\"Pfwhm_ECG_V4\\\":{\\\"0\\\":54.00165},\\\"Pfwhm_ECG_V4R\\\":{\\\"0\\\":46.01716},\\\"Pfwhm_ECG_V5\\\":{\\\"0\\\":63.0},\\\"Pfwhm_ECG_V6\\\":{\\\"0\\\":82.00008},\\\"Pfwhm_ECG_V8\\\":{\\\"0\\\":55.13901},\\\"Pfwhm_ECG_V9\\\":{\\\"0\\\":14.53569},\\\"Pfwhm_ECG_aVF\\\":{\\\"0\\\":58.03868},\\\"Pfwhm_ECG_aVL\\\":{\\\"0\\\":58.00024},\\\"Pfwhm_ECG_aVR\\\":{\\\"0\\\":53.00407},\\\"patsex\\\":{\\\"0\\\":\\\"m\\\\u00e4nnlich\\\"},\\\"Age\\\":{\\\"0\\\":69},\\\"AFclass\\\":{\\\"0\\\":1}}\"]\n",
      " DATA RECEIVED _> :     AFclass  Age  IPG    PCarea  PCdur  PCfwhm  PCneg     PCpos   PQ  \\\n",
      "0        1   69    0  12260.06    122  52.109    NaN  208.2112  166   \n",
      "\n",
      "   P_LoffEon        ...          Pfwhm_ECG_aVR  QR  QRS  QTm_old         QTn  \\\n",
      "0        128        ...               53.00407  41  NaN      415  423.808354   \n",
      "\n",
      "           RR  Soggetti  numRRaveraged    patsex  sbjBeatConsidered  \n",
      "0  958.864341     12021            258  männlich                272  \n",
      "\n",
      "[1 rows x 73 columns]\n",
      "prepare to add DATA\n",
      "heieie\n",
      "current CENTRAL TRAIN DATASET -> dimension :  (1, 73)\n",
      "message sent\n"
     ]
    }
   ],
   "source": [
    "a = CentralModelCommunication()"
   ]
  },
  {
   "cell_type": "code",
   "execution_count": null,
   "metadata": {
    "collapsed": true
   },
   "outputs": [],
   "source": []
  }
 ],
 "metadata": {
  "kernelspec": {
   "display_name": "Python 3",
   "language": "python",
   "name": "python3"
  },
  "language_info": {
   "codemirror_mode": {
    "name": "ipython",
    "version": 3
   },
   "file_extension": ".py",
   "mimetype": "text/x-python",
   "name": "python",
   "nbconvert_exporter": "python",
   "pygments_lexer": "ipython3",
   "version": "3.6.3"
  }
 },
 "nbformat": 4,
 "nbformat_minor": 2
}
