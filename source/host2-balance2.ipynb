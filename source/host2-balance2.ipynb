{
 "cells": [
  {
   "cell_type": "code",
   "execution_count": 1,
   "metadata": {},
   "outputs": [],
   "source": [
    "import pandas as pd\n",
    "import numpy as np\n",
    "seed = np.random.seed(42)\n",
    "from matplotlib import pyplot as plt\n",
    "import seaborn as sns\n",
    "sns.set(style=\"ticks\", color_codes=True)\n",
    "\n",
    "pd.set_option('display.max_columns',500)\n",
    "pd.set_option('display.max_rows',50)\n",
    "\n",
    "%matplotlib inline\n",
    "best_model = None\n",
    "best_score = 0\n",
    "hospital_name = 'host2'"
   ]
  },
  {
   "cell_type": "code",
   "execution_count": 2,
   "metadata": {},
   "outputs": [],
   "source": [
    "data = pd.read_csv('../data/hospital' + str(2) + '_data.csv')"
   ]
  },
  {
   "cell_type": "code",
   "execution_count": 3,
   "metadata": {},
   "outputs": [
    {
     "name": "stderr",
     "output_type": "stream",
     "text": [
      "/Users/refikcanmalli/anaconda3/envs/vodafone/lib/python3.6/site-packages/h5py/__init__.py:36: FutureWarning: Conversion of the second argument of issubdtype from `float` to `np.floating` is deprecated. In future, it will be treated as `np.float64 == np.dtype(float).type`.\n",
      "  from ._conv import register_converters as _register_converters\n",
      "Using TensorFlow backend.\n"
     ]
    }
   ],
   "source": [
    "from sklearn.preprocessing import Imputer,StandardScaler,LabelEncoder\n",
    "from fancyimpute import BiScaler, KNN, NuclearNormMinimization, SoftImpute, MICE"
   ]
  },
  {
   "cell_type": "code",
   "execution_count": 4,
   "metadata": {},
   "outputs": [
    {
     "name": "stdout",
     "output_type": "stream",
     "text": [
      "[MICE] Completing matrix with shape (274, 69)\n",
      "[MICE] Starting imputation round 1/110, elapsed time 0.005\n",
      "[MICE] Starting imputation round 2/110, elapsed time 0.072\n",
      "[MICE] Starting imputation round 3/110, elapsed time 0.096\n",
      "[MICE] Starting imputation round 4/110, elapsed time 0.122\n",
      "[MICE] Starting imputation round 5/110, elapsed time 0.146\n",
      "[MICE] Starting imputation round 6/110, elapsed time 0.170\n",
      "[MICE] Starting imputation round 7/110, elapsed time 0.193\n",
      "[MICE] Starting imputation round 8/110, elapsed time 0.227\n",
      "[MICE] Starting imputation round 9/110, elapsed time 0.254\n",
      "[MICE] Starting imputation round 10/110, elapsed time 0.278\n",
      "[MICE] Starting imputation round 11/110, elapsed time 0.301\n",
      "[MICE] Starting imputation round 12/110, elapsed time 0.325\n",
      "[MICE] Starting imputation round 13/110, elapsed time 0.349\n",
      "[MICE] Starting imputation round 14/110, elapsed time 0.373\n",
      "[MICE] Starting imputation round 15/110, elapsed time 0.396\n",
      "[MICE] Starting imputation round 16/110, elapsed time 0.419\n",
      "[MICE] Starting imputation round 17/110, elapsed time 0.448\n",
      "[MICE] Starting imputation round 18/110, elapsed time 0.475\n",
      "[MICE] Starting imputation round 19/110, elapsed time 0.500\n",
      "[MICE] Starting imputation round 20/110, elapsed time 0.523\n",
      "[MICE] Starting imputation round 21/110, elapsed time 0.547\n",
      "[MICE] Starting imputation round 22/110, elapsed time 0.571\n",
      "[MICE] Starting imputation round 23/110, elapsed time 0.595\n",
      "[MICE] Starting imputation round 24/110, elapsed time 0.618\n",
      "[MICE] Starting imputation round 25/110, elapsed time 0.641\n",
      "[MICE] Starting imputation round 26/110, elapsed time 0.668\n",
      "[MICE] Starting imputation round 27/110, elapsed time 0.694\n",
      "[MICE] Starting imputation round 28/110, elapsed time 0.718\n",
      "[MICE] Starting imputation round 29/110, elapsed time 0.741\n",
      "[MICE] Starting imputation round 30/110, elapsed time 0.765\n",
      "[MICE] Starting imputation round 31/110, elapsed time 0.788\n",
      "[MICE] Starting imputation round 32/110, elapsed time 0.811\n",
      "[MICE] Starting imputation round 33/110, elapsed time 0.835\n",
      "[MICE] Starting imputation round 34/110, elapsed time 0.859\n",
      "[MICE] Starting imputation round 35/110, elapsed time 0.885\n",
      "[MICE] Starting imputation round 36/110, elapsed time 0.911\n",
      "[MICE] Starting imputation round 37/110, elapsed time 0.935\n",
      "[MICE] Starting imputation round 38/110, elapsed time 0.958\n",
      "[MICE] Starting imputation round 39/110, elapsed time 0.981\n",
      "[MICE] Starting imputation round 40/110, elapsed time 1.005\n",
      "[MICE] Starting imputation round 41/110, elapsed time 1.030\n",
      "[MICE] Starting imputation round 42/110, elapsed time 1.053\n",
      "[MICE] Starting imputation round 43/110, elapsed time 1.077\n",
      "[MICE] Starting imputation round 44/110, elapsed time 1.104\n",
      "[MICE] Starting imputation round 45/110, elapsed time 1.130\n",
      "[MICE] Starting imputation round 46/110, elapsed time 1.155\n",
      "[MICE] Starting imputation round 47/110, elapsed time 1.178\n",
      "[MICE] Starting imputation round 48/110, elapsed time 1.202\n",
      "[MICE] Starting imputation round 49/110, elapsed time 1.225\n",
      "[MICE] Starting imputation round 50/110, elapsed time 1.250\n",
      "[MICE] Starting imputation round 51/110, elapsed time 1.274\n",
      "[MICE] Starting imputation round 52/110, elapsed time 1.297\n",
      "[MICE] Starting imputation round 53/110, elapsed time 1.324\n",
      "[MICE] Starting imputation round 54/110, elapsed time 1.351\n",
      "[MICE] Starting imputation round 55/110, elapsed time 1.374\n",
      "[MICE] Starting imputation round 56/110, elapsed time 1.398\n",
      "[MICE] Starting imputation round 57/110, elapsed time 1.422\n",
      "[MICE] Starting imputation round 58/110, elapsed time 1.445\n",
      "[MICE] Starting imputation round 59/110, elapsed time 1.468\n",
      "[MICE] Starting imputation round 60/110, elapsed time 1.491\n",
      "[MICE] Starting imputation round 61/110, elapsed time 1.516\n",
      "[MICE] Starting imputation round 62/110, elapsed time 1.543\n",
      "[MICE] Starting imputation round 63/110, elapsed time 1.570\n",
      "[MICE] Starting imputation round 64/110, elapsed time 1.594\n",
      "[MICE] Starting imputation round 65/110, elapsed time 1.617\n",
      "[MICE] Starting imputation round 66/110, elapsed time 1.641\n",
      "[MICE] Starting imputation round 67/110, elapsed time 1.665\n",
      "[MICE] Starting imputation round 68/110, elapsed time 1.688\n",
      "[MICE] Starting imputation round 69/110, elapsed time 1.711\n",
      "[MICE] Starting imputation round 70/110, elapsed time 1.735\n",
      "[MICE] Starting imputation round 71/110, elapsed time 1.763\n",
      "[MICE] Starting imputation round 72/110, elapsed time 1.789\n",
      "[MICE] Starting imputation round 73/110, elapsed time 1.814\n",
      "[MICE] Starting imputation round 74/110, elapsed time 1.838\n",
      "[MICE] Starting imputation round 75/110, elapsed time 1.862\n",
      "[MICE] Starting imputation round 76/110, elapsed time 1.885\n",
      "[MICE] Starting imputation round 77/110, elapsed time 1.909\n",
      "[MICE] Starting imputation round 78/110, elapsed time 1.932\n",
      "[MICE] Starting imputation round 79/110, elapsed time 1.955\n",
      "[MICE] Starting imputation round 80/110, elapsed time 1.982\n",
      "[MICE] Starting imputation round 81/110, elapsed time 2.008\n",
      "[MICE] Starting imputation round 82/110, elapsed time 2.032\n",
      "[MICE] Starting imputation round 83/110, elapsed time 2.055\n",
      "[MICE] Starting imputation round 84/110, elapsed time 2.080\n",
      "[MICE] Starting imputation round 85/110, elapsed time 2.104\n",
      "[MICE] Starting imputation round 86/110, elapsed time 2.127\n",
      "[MICE] Starting imputation round 87/110, elapsed time 2.150\n",
      "[MICE] Starting imputation round 88/110, elapsed time 2.174\n",
      "[MICE] Starting imputation round 89/110, elapsed time 2.200\n",
      "[MICE] Starting imputation round 90/110, elapsed time 2.227\n",
      "[MICE] Starting imputation round 91/110, elapsed time 2.250\n",
      "[MICE] Starting imputation round 92/110, elapsed time 2.274\n",
      "[MICE] Starting imputation round 93/110, elapsed time 2.297\n",
      "[MICE] Starting imputation round 94/110, elapsed time 2.322\n",
      "[MICE] Starting imputation round 95/110, elapsed time 2.347\n",
      "[MICE] Starting imputation round 96/110, elapsed time 2.370\n",
      "[MICE] Starting imputation round 97/110, elapsed time 2.393\n",
      "[MICE] Starting imputation round 98/110, elapsed time 2.419\n",
      "[MICE] Starting imputation round 99/110, elapsed time 2.445\n",
      "[MICE] Starting imputation round 100/110, elapsed time 2.469\n",
      "[MICE] Starting imputation round 101/110, elapsed time 2.492\n",
      "[MICE] Starting imputation round 102/110, elapsed time 2.515\n",
      "[MICE] Starting imputation round 103/110, elapsed time 2.539\n",
      "[MICE] Starting imputation round 104/110, elapsed time 2.562\n",
      "[MICE] Starting imputation round 105/110, elapsed time 2.586\n",
      "[MICE] Starting imputation round 106/110, elapsed time 2.611\n",
      "[MICE] Starting imputation round 107/110, elapsed time 2.637\n",
      "[MICE] Starting imputation round 108/110, elapsed time 2.665\n",
      "[MICE] Starting imputation round 109/110, elapsed time 2.688\n",
      "[MICE] Starting imputation round 110/110, elapsed time 2.712\n"
     ]
    }
   ],
   "source": [
    "data_e = data[data['IPG'] != 1]\n",
    "data_e = data_e.drop('IPG', axis = 1);\n",
    "data_e = data_e.drop('sbjBeatConsidered', axis = 1);\n",
    "data_e = data_e.drop('numRRaveraged', axis = 1);\n",
    "data_e = data_e.drop('Soggetti', axis = 1);\n",
    "# df_columns = data.columns.tolist()\n",
    "# matching_columns1 = [s for s in df_columns if \"Parea\" in s]\n",
    "# matching_columns2 = [s for s in df_columns if \"Pdur\" in s]\n",
    "# mc = matching_columns1 + matching_columns2\n",
    "# data_e = data_e.dropna(subset=mc)\n",
    "data_e['PCneg'].fillna(0, inplace=True)\n",
    "data_e['AFclass'].replace('persistierend (>7 Tage, EKV)', 1, inplace=True)\n",
    "data_e['AFclass'].replace('paroxysmal', 0, inplace=True)\n",
    "categorical_variables_mask = data_e.dtypes==object\n",
    "categorical_variables = data_e.columns[categorical_variables_mask]\n",
    "for v in categorical_variables:\n",
    "    data_e[v] = LabelEncoder().fit_transform(data_e[v])\n",
    "del categorical_variables_mask,categorical_variables\n",
    "data_e = pd.DataFrame(data=MICE(n_imputations=100, impute_type='col', n_nearest_columns=5).complete(data_e.as_matrix()), columns=data_e.columns, index=data_e.index);\n",
    "y_df = data_e['AFclass'].copy()\n",
    "x_df = data_e.drop('AFclass',axis=1, inplace=False)"
   ]
  },
  {
   "cell_type": "code",
   "execution_count": 5,
   "metadata": {},
   "outputs": [],
   "source": [
    "from sklearn.model_selection import cross_val_score\n",
    "from sklearn.pipeline import Pipeline\n",
    "from sklearn.ensemble import RandomForestClassifier,GradientBoostingClassifier,ExtraTreesClassifier,AdaBoostClassifier\n",
    "#from sklearn.pipeline import Pipeline\n",
    "from sklearn.model_selection import cross_val_score\n",
    "from sklearn.model_selection import train_test_split\n",
    "from sklearn.metrics import f1_score, make_scorer\n",
    "from sklearn.metrics import accuracy_score\n",
    "from sklearn.model_selection import GridSearchCV\n",
    "from sklearn.dummy import DummyClassifier\n",
    "from imblearn.over_sampling import SMOTE\n",
    "from imblearn.pipeline import Pipeline\n",
    "\n",
    "#f1_scorer = make_scorer(f1_score, average='macro',labels=Y.unique().tolist())\n",
    "#myscorer = f1_scorer\n",
    "myscorer = 'roc_auc'"
   ]
  },
  {
   "cell_type": "code",
   "execution_count": 6,
   "metadata": {},
   "outputs": [],
   "source": [
    "balancer = SMOTE(random_state=42)"
   ]
  },
  {
   "cell_type": "code",
   "execution_count": 7,
   "metadata": {},
   "outputs": [],
   "source": [
    "def show_f_importance(estimator,train_data):\n",
    "    importances = estimator.feature_importances_\n",
    "    indices = np.argsort(importances)[::-1]\n",
    "    indices = np.argsort(importances)[::-1]\n",
    "    # Print the feature ranking\n",
    "    print(\"Feature ranking:\")\n",
    "\n",
    "    for f in range(train_data.shape[1]):\n",
    "        print(\"%d. feature %d - %s (%f)\" % (f + 1, indices[f],train_data.columns[indices[f]], importances[indices[f]]))\n"
   ]
  },
  {
   "cell_type": "code",
   "execution_count": 8,
   "metadata": {},
   "outputs": [],
   "source": [
    "param_grid = {\"clf__strategy\": ['most_frequent','stratified','prior','uniform']}\n",
    "\n",
    "dummy = DummyClassifier(random_state=42)\n",
    "plist = []\n",
    "plist.append(('balancer', balancer))\n",
    "plist.append(('clf', dummy))\n",
    "pipeline = Pipeline(plist)\n",
    "\n",
    "gs_dummy = GridSearchCV(pipeline, param_grid=param_grid, cv=5, verbose=1, scoring=myscorer, n_jobs=-1)"
   ]
  },
  {
   "cell_type": "code",
   "execution_count": 9,
   "metadata": {},
   "outputs": [
    {
     "name": "stdout",
     "output_type": "stream",
     "text": [
      "Fitting 5 folds for each of 4 candidates, totalling 20 fits\n"
     ]
    },
    {
     "name": "stderr",
     "output_type": "stream",
     "text": [
      "[Parallel(n_jobs=-1)]: Done  20 out of  20 | elapsed:    0.2s finished\n"
     ]
    }
   ],
   "source": [
    "gs_dummy.fit(x_df, y_df);"
   ]
  },
  {
   "cell_type": "code",
   "execution_count": 10,
   "metadata": {},
   "outputs": [
    {
     "data": {
      "text/plain": [
       "{'clf__strategy': 'stratified'}"
      ]
     },
     "execution_count": 10,
     "metadata": {},
     "output_type": "execute_result"
    }
   ],
   "source": [
    "gs_dummy.best_params_"
   ]
  },
  {
   "cell_type": "code",
   "execution_count": 11,
   "metadata": {},
   "outputs": [
    {
     "data": {
      "text/plain": [
       "0.5046998479802258"
      ]
     },
     "execution_count": 11,
     "metadata": {},
     "output_type": "execute_result"
    }
   ],
   "source": [
    "gs_dummy.best_score_"
   ]
  },
  {
   "cell_type": "code",
   "execution_count": 12,
   "metadata": {},
   "outputs": [],
   "source": [
    "param_grid = {\"clf__max_depth\": [10,30,50],\n",
    "              \"clf__criterion\": ['gini', 'entropy'],\n",
    "              \"clf__n_estimators\": [100,200,500,1000],\n",
    "              \"clf__random_state\": [42],\n",
    "              \"clf__class_weight\" : [None, 'balanced']}\n",
    "# param_grid = {\"classifier__max_depth\": [30],\n",
    "#               \"classifier__n_estimators\": [1000]}\n",
    "\n",
    "\n",
    "rf = RandomForestClassifier()\n",
    "\n",
    "plist = []\n",
    "plist.append(('balancer', balancer))\n",
    "plist.append(('clf', rf))\n",
    "pipeline = Pipeline(plist)\n",
    "\n",
    "gs_rf = GridSearchCV(pipeline, param_grid=param_grid, cv=5, verbose=1, scoring=myscorer, n_jobs=-1)"
   ]
  },
  {
   "cell_type": "code",
   "execution_count": 13,
   "metadata": {},
   "outputs": [
    {
     "name": "stdout",
     "output_type": "stream",
     "text": [
      "Fitting 5 folds for each of 48 candidates, totalling 240 fits\n"
     ]
    },
    {
     "name": "stderr",
     "output_type": "stream",
     "text": [
      "[Parallel(n_jobs=-1)]: Done  42 tasks      | elapsed:   19.1s\n",
      "[Parallel(n_jobs=-1)]: Done 192 tasks      | elapsed:  1.9min\n",
      "[Parallel(n_jobs=-1)]: Done 240 out of 240 | elapsed:  2.4min finished\n"
     ]
    }
   ],
   "source": [
    "gs_rf.fit(x_df, y_df);"
   ]
  },
  {
   "cell_type": "code",
   "execution_count": 14,
   "metadata": {},
   "outputs": [
    {
     "data": {
      "text/plain": [
       "{'clf__class_weight': None,\n",
       " 'clf__criterion': 'gini',\n",
       " 'clf__max_depth': 10,\n",
       " 'clf__n_estimators': 200,\n",
       " 'clf__random_state': 42}"
      ]
     },
     "execution_count": 14,
     "metadata": {},
     "output_type": "execute_result"
    }
   ],
   "source": [
    "gs_rf.best_params_"
   ]
  },
  {
   "cell_type": "code",
   "execution_count": 15,
   "metadata": {},
   "outputs": [
    {
     "data": {
      "text/plain": [
       "0.599488802037897"
      ]
     },
     "execution_count": 15,
     "metadata": {},
     "output_type": "execute_result"
    }
   ],
   "source": [
    "gs_rf.best_score_\n"
   ]
  },
  {
   "cell_type": "code",
   "execution_count": 16,
   "metadata": {},
   "outputs": [],
   "source": [
    "if gs_rf.best_score_ > best_score:\n",
    "    best_model = gs_rf\n",
    "    best_score = gs_rf.best_score_"
   ]
  },
  {
   "cell_type": "code",
   "execution_count": 17,
   "metadata": {},
   "outputs": [
    {
     "name": "stdout",
     "output_type": "stream",
     "text": [
      "Feature ranking:\n",
      "1. feature 45 - Parea_ECG_V8 (0.029903)\n",
      "2. feature 1 - QTm_old (0.027663)\n",
      "3. feature 3 - QTn (0.025701)\n",
      "4. feature 4 - QRS (0.025269)\n",
      "5. feature 34 - Parea_ECG_I (0.023605)\n",
      "6. feature 46 - Parea_ECG_V9 (0.022138)\n",
      "7. feature 37 - Parea_ECG_V1 (0.022081)\n",
      "8. feature 25 - Pdur_ECG_V4 (0.021937)\n",
      "9. feature 23 - Pdur_ECG_V3 (0.021894)\n",
      "10. feature 40 - Parea_ECG_V3R (0.021461)\n",
      "11. feature 44 - Parea_ECG_V6 (0.019421)\n",
      "12. feature 0 - RR (0.018803)\n",
      "13. feature 2 - QR (0.017557)\n",
      "14. feature 51 - Pfwhm_ECG_II (0.017238)\n",
      "15. feature 52 - Pfwhm_ECG_III (0.016990)\n",
      "16. feature 48 - Parea_ECG_aVL (0.016762)\n",
      "17. feature 5 - PQ (0.016446)\n",
      "18. feature 12 - Pdur16mean (0.016023)\n",
      "19. feature 64 - Pfwhm_ECG_aVL (0.015942)\n",
      "20. feature 39 - Parea_ECG_V3 (0.015654)\n",
      "21. feature 35 - Parea_ECG_II (0.015572)\n",
      "22. feature 16 - Pdur16std (0.015502)\n",
      "23. feature 42 - Parea_ECG_V4R (0.015468)\n",
      "24. feature 49 - Parea_ECG_aVR (0.015325)\n",
      "25. feature 53 - Pfwhm_ECG_V1 (0.015190)\n",
      "26. feature 57 - Pfwhm_ECG_V4 (0.015187)\n",
      "27. feature 50 - Pfwhm_ECG_I (0.014913)\n",
      "28. feature 67 - Age (0.014899)\n",
      "29. feature 55 - Pfwhm_ECG_V3 (0.014753)\n",
      "30. feature 65 - Pfwhm_ECG_aVR (0.014529)\n",
      "31. feature 10 - PCarea (0.014497)\n",
      "32. feature 58 - Pfwhm_ECG_V4R (0.014457)\n",
      "33. feature 32 - Pdur_ECG_aVL (0.014416)\n",
      "34. feature 38 - Parea_ECG_V2 (0.014264)\n",
      "35. feature 59 - Pfwhm_ECG_V5 (0.014033)\n",
      "36. feature 21 - Pdur_ECG_V1 (0.013797)\n",
      "37. feature 15 - Pdur16max (0.013601)\n",
      "38. feature 62 - Pfwhm_ECG_V9 (0.013545)\n",
      "39. feature 22 - Pdur_ECG_V2 (0.013505)\n",
      "40. feature 11 - P_LoffEon (0.013498)\n",
      "41. feature 56 - Pfwhm_ECG_V3R (0.013371)\n",
      "42. feature 17 - Pdur16iqr (0.013192)\n",
      "43. feature 6 - PCpos (0.013084)\n",
      "44. feature 28 - Pdur_ECG_V6 (0.012942)\n",
      "45. feature 63 - Pfwhm_ECG_aVF (0.012438)\n",
      "46. feature 47 - Parea_ECG_aVF (0.012255)\n",
      "47. feature 13 - Pdur16median (0.012091)\n",
      "48. feature 54 - Pfwhm_ECG_V2 (0.012000)\n",
      "49. feature 27 - Pdur_ECG_V5 (0.011949)\n",
      "50. feature 43 - Parea_ECG_V5 (0.011767)\n",
      "51. feature 60 - Pfwhm_ECG_V6 (0.011654)\n",
      "52. feature 41 - Parea_ECG_V4 (0.011390)\n",
      "53. feature 61 - Pfwhm_ECG_V8 (0.011330)\n",
      "54. feature 19 - Pdur_ECG_II (0.011300)\n",
      "55. feature 31 - Pdur_ECG_aVF (0.011072)\n",
      "56. feature 33 - Pdur_ECG_aVR (0.010612)\n",
      "57. feature 8 - PCdur (0.010523)\n",
      "58. feature 18 - Pdur_ECG_I (0.010319)\n",
      "59. feature 9 - PCfwhm (0.010102)\n",
      "60. feature 36 - Parea_ECG_III (0.010077)\n",
      "61. feature 29 - Pdur_ECG_V8 (0.009976)\n",
      "62. feature 30 - Pdur_ECG_V9 (0.009148)\n",
      "63. feature 24 - Pdur_ECG_V3R (0.009063)\n",
      "64. feature 14 - Pdur16min (0.008928)\n",
      "65. feature 20 - Pdur_ECG_III (0.008241)\n",
      "66. feature 26 - Pdur_ECG_V4R (0.007369)\n",
      "67. feature 7 - PCneg (0.006324)\n",
      "68. feature 66 - patsex (0.004041)\n"
     ]
    }
   ],
   "source": [
    "show_f_importance(gs_rf.best_estimator_.named_steps['clf'],x_df)"
   ]
  },
  {
   "cell_type": "code",
   "execution_count": 18,
   "metadata": {},
   "outputs": [],
   "source": [
    "param_grid = {\"clf__max_depth\": [3,5,8],\n",
    "              \"clf__n_estimators\": [100,200,500,1000],\n",
    "              \"clf__min_samples_leaf\": [1,3,5,10]}\n",
    "# param_grid = {\"classifier__n_estimators\": [50],\n",
    "#               \"classifier__max_depth\": [5],\n",
    "# \n",
    "\n",
    "gb = GradientBoostingClassifier(random_state=42)\n",
    "plist = []\n",
    "plist.append(('balancer', balancer))\n",
    "plist.append(('clf', gb))\n",
    "pipeline = Pipeline(plist)\n",
    "gs_gb = GridSearchCV(pipeline, param_grid=param_grid, cv=5, verbose=1,  scoring=myscorer, n_jobs=-1)"
   ]
  },
  {
   "cell_type": "code",
   "execution_count": 19,
   "metadata": {},
   "outputs": [
    {
     "name": "stdout",
     "output_type": "stream",
     "text": [
      "Fitting 5 folds for each of 48 candidates, totalling 240 fits\n"
     ]
    },
    {
     "name": "stderr",
     "output_type": "stream",
     "text": [
      "[Parallel(n_jobs=-1)]: Done  42 tasks      | elapsed:   13.8s\n",
      "[Parallel(n_jobs=-1)]: Done 192 tasks      | elapsed:  1.0min\n",
      "[Parallel(n_jobs=-1)]: Done 240 out of 240 | elapsed:  1.3min finished\n"
     ]
    }
   ],
   "source": [
    "gs_gb.fit(x_df, y_df);"
   ]
  },
  {
   "cell_type": "code",
   "execution_count": 20,
   "metadata": {},
   "outputs": [
    {
     "data": {
      "text/plain": [
       "{'clf__max_depth': 8, 'clf__min_samples_leaf': 3, 'clf__n_estimators': 100}"
      ]
     },
     "execution_count": 20,
     "metadata": {},
     "output_type": "execute_result"
    }
   ],
   "source": [
    "gs_gb.best_params_"
   ]
  },
  {
   "cell_type": "code",
   "execution_count": 21,
   "metadata": {},
   "outputs": [
    {
     "data": {
      "text/plain": [
       "0.5951229754533635"
      ]
     },
     "execution_count": 21,
     "metadata": {},
     "output_type": "execute_result"
    }
   ],
   "source": [
    "gs_gb.best_score_"
   ]
  },
  {
   "cell_type": "code",
   "execution_count": 22,
   "metadata": {},
   "outputs": [],
   "source": [
    "if gs_gb.best_score_ > best_score:\n",
    "    best_model = gs_gb\n",
    "    best_score = gs_gb.best_score_"
   ]
  },
  {
   "cell_type": "code",
   "execution_count": 23,
   "metadata": {},
   "outputs": [
    {
     "name": "stdout",
     "output_type": "stream",
     "text": [
      "Feature ranking:\n",
      "1. feature 37 - Parea_ECG_V1 (0.048080)\n",
      "2. feature 2 - QR (0.041954)\n",
      "3. feature 4 - QRS (0.041024)\n",
      "4. feature 1 - QTm_old (0.040056)\n",
      "5. feature 52 - Pfwhm_ECG_III (0.033386)\n",
      "6. feature 39 - Parea_ECG_V3 (0.030824)\n",
      "7. feature 45 - Parea_ECG_V8 (0.030709)\n",
      "8. feature 34 - Parea_ECG_I (0.028410)\n",
      "9. feature 64 - Pfwhm_ECG_aVL (0.028243)\n",
      "10. feature 40 - Parea_ECG_V3R (0.027663)\n",
      "11. feature 54 - Pfwhm_ECG_V2 (0.027552)\n",
      "12. feature 46 - Parea_ECG_V9 (0.027377)\n",
      "13. feature 3 - QTn (0.026419)\n",
      "14. feature 10 - PCarea (0.023709)\n",
      "15. feature 51 - Pfwhm_ECG_II (0.021092)\n",
      "16. feature 38 - Parea_ECG_V2 (0.020132)\n",
      "17. feature 67 - Age (0.019343)\n",
      "18. feature 0 - RR (0.019154)\n",
      "19. feature 35 - Parea_ECG_II (0.018251)\n",
      "20. feature 25 - Pdur_ECG_V4 (0.018163)\n",
      "21. feature 23 - Pdur_ECG_V3 (0.017383)\n",
      "22. feature 47 - Parea_ECG_aVF (0.017165)\n",
      "23. feature 59 - Pfwhm_ECG_V5 (0.016009)\n",
      "24. feature 48 - Parea_ECG_aVL (0.015237)\n",
      "25. feature 16 - Pdur16std (0.014984)\n",
      "26. feature 62 - Pfwhm_ECG_V9 (0.014974)\n",
      "27. feature 56 - Pfwhm_ECG_V3R (0.014166)\n",
      "28. feature 63 - Pfwhm_ECG_aVF (0.013164)\n",
      "29. feature 44 - Parea_ECG_V6 (0.012338)\n",
      "30. feature 49 - Parea_ECG_aVR (0.012231)\n",
      "31. feature 36 - Parea_ECG_III (0.012210)\n",
      "32. feature 5 - PQ (0.011752)\n",
      "33. feature 50 - Pfwhm_ECG_I (0.011583)\n",
      "34. feature 53 - Pfwhm_ECG_V1 (0.011555)\n",
      "35. feature 42 - Parea_ECG_V4R (0.011206)\n",
      "36. feature 58 - Pfwhm_ECG_V4R (0.010758)\n",
      "37. feature 55 - Pfwhm_ECG_V3 (0.009140)\n",
      "38. feature 28 - Pdur_ECG_V6 (0.008452)\n",
      "39. feature 9 - PCfwhm (0.007610)\n",
      "40. feature 61 - Pfwhm_ECG_V8 (0.007561)\n",
      "41. feature 6 - PCpos (0.007365)\n",
      "42. feature 26 - Pdur_ECG_V4R (0.007339)\n",
      "43. feature 43 - Parea_ECG_V5 (0.007276)\n",
      "44. feature 21 - Pdur_ECG_V1 (0.007255)\n",
      "45. feature 65 - Pfwhm_ECG_aVR (0.007177)\n",
      "46. feature 17 - Pdur16iqr (0.007074)\n",
      "47. feature 32 - Pdur_ECG_aVL (0.007074)\n",
      "48. feature 57 - Pfwhm_ECG_V4 (0.007064)\n",
      "49. feature 30 - Pdur_ECG_V9 (0.006914)\n",
      "50. feature 29 - Pdur_ECG_V8 (0.006913)\n",
      "51. feature 22 - Pdur_ECG_V2 (0.006483)\n",
      "52. feature 60 - Pfwhm_ECG_V6 (0.006032)\n",
      "53. feature 41 - Parea_ECG_V4 (0.005876)\n",
      "54. feature 19 - Pdur_ECG_II (0.005638)\n",
      "55. feature 33 - Pdur_ECG_aVR (0.005463)\n",
      "56. feature 31 - Pdur_ECG_aVF (0.005134)\n",
      "57. feature 15 - Pdur16max (0.004763)\n",
      "58. feature 7 - PCneg (0.004750)\n",
      "59. feature 14 - Pdur16min (0.004128)\n",
      "60. feature 20 - Pdur_ECG_III (0.003412)\n",
      "61. feature 24 - Pdur_ECG_V3R (0.002842)\n",
      "62. feature 27 - Pdur_ECG_V5 (0.002469)\n",
      "63. feature 18 - Pdur_ECG_I (0.002279)\n",
      "64. feature 66 - patsex (0.002179)\n",
      "65. feature 8 - PCdur (0.002174)\n",
      "66. feature 11 - P_LoffEon (0.001632)\n",
      "67. feature 13 - Pdur16median (0.001467)\n",
      "68. feature 12 - Pdur16mean (0.000809)\n"
     ]
    }
   ],
   "source": [
    "show_f_importance(gs_gb.best_estimator_.named_steps['clf'],x_df)"
   ]
  },
  {
   "cell_type": "code",
   "execution_count": 24,
   "metadata": {},
   "outputs": [],
   "source": [
    "param_grid = {\"clf__learning_rate\": [0.1,0.3,0.7,0.8],\n",
    "              \"clf__n_estimators\": [100,1000,2000,2500,3000,5000]}\n",
    "\n",
    "ab = AdaBoostClassifier(random_state=42)\n",
    "\n",
    "plist = []\n",
    "plist.append(('balancer', balancer))\n",
    "plist.append(('clf', ab))\n",
    "pipeline = Pipeline(plist)\n",
    "\n",
    "gs_ab = GridSearchCV(pipeline, param_grid=param_grid, cv=5, verbose=1, scoring=myscorer, n_jobs=-1)"
   ]
  },
  {
   "cell_type": "code",
   "execution_count": 25,
   "metadata": {},
   "outputs": [
    {
     "name": "stdout",
     "output_type": "stream",
     "text": [
      "Fitting 5 folds for each of 24 candidates, totalling 120 fits\n"
     ]
    },
    {
     "name": "stderr",
     "output_type": "stream",
     "text": [
      "[Parallel(n_jobs=-1)]: Done  42 tasks      | elapsed:  2.3min\n",
      "[Parallel(n_jobs=-1)]: Done 120 out of 120 | elapsed:  7.8min finished\n"
     ]
    }
   ],
   "source": [
    "gs_ab.fit(x_df, y_df);"
   ]
  },
  {
   "cell_type": "code",
   "execution_count": 26,
   "metadata": {},
   "outputs": [
    {
     "data": {
      "text/plain": [
       "{'clf__learning_rate': 0.8, 'clf__n_estimators': 100}"
      ]
     },
     "execution_count": 26,
     "metadata": {},
     "output_type": "execute_result"
    }
   ],
   "source": [
    "gs_ab.best_params_"
   ]
  },
  {
   "cell_type": "code",
   "execution_count": 27,
   "metadata": {},
   "outputs": [
    {
     "data": {
      "text/plain": [
       "0.5705882827981764"
      ]
     },
     "execution_count": 27,
     "metadata": {},
     "output_type": "execute_result"
    }
   ],
   "source": [
    "gs_ab.best_score_"
   ]
  },
  {
   "cell_type": "code",
   "execution_count": 28,
   "metadata": {},
   "outputs": [],
   "source": [
    "\n",
    "if gs_ab.best_score_ > best_score:\n",
    "    best_model = gs_ab\n",
    "    best_score = gs_ab.best_score_"
   ]
  },
  {
   "cell_type": "code",
   "execution_count": 29,
   "metadata": {},
   "outputs": [
    {
     "name": "stdout",
     "output_type": "stream",
     "text": [
      "Feature ranking:\n",
      "1. feature 35 - Parea_ECG_II (0.070000)\n",
      "2. feature 34 - Parea_ECG_I (0.050000)\n",
      "3. feature 10 - PCarea (0.050000)\n",
      "4. feature 64 - Pfwhm_ECG_aVL (0.050000)\n",
      "5. feature 40 - Parea_ECG_V3R (0.050000)\n",
      "6. feature 45 - Parea_ECG_V8 (0.050000)\n",
      "7. feature 37 - Parea_ECG_V1 (0.040000)\n",
      "8. feature 62 - Pfwhm_ECG_V9 (0.040000)\n",
      "9. feature 59 - Pfwhm_ECG_V5 (0.040000)\n",
      "10. feature 39 - Parea_ECG_V3 (0.030000)\n",
      "11. feature 25 - Pdur_ECG_V4 (0.030000)\n",
      "12. feature 50 - Pfwhm_ECG_I (0.030000)\n",
      "13. feature 1 - QTm_old (0.030000)\n",
      "14. feature 2 - QR (0.030000)\n",
      "15. feature 61 - Pfwhm_ECG_V8 (0.030000)\n",
      "16. feature 55 - Pfwhm_ECG_V3 (0.020000)\n",
      "17. feature 54 - Pfwhm_ECG_V2 (0.020000)\n",
      "18. feature 32 - Pdur_ECG_aVL (0.020000)\n",
      "19. feature 30 - Pdur_ECG_V9 (0.020000)\n",
      "20. feature 3 - QTn (0.020000)\n",
      "21. feature 42 - Parea_ECG_V4R (0.020000)\n",
      "22. feature 44 - Parea_ECG_V6 (0.020000)\n",
      "23. feature 57 - Pfwhm_ECG_V4 (0.020000)\n",
      "24. feature 47 - Parea_ECG_aVF (0.020000)\n",
      "25. feature 23 - Pdur_ECG_V3 (0.020000)\n",
      "26. feature 0 - RR (0.020000)\n",
      "27. feature 4 - QRS (0.010000)\n",
      "28. feature 28 - Pdur_ECG_V6 (0.010000)\n",
      "29. feature 29 - Pdur_ECG_V8 (0.010000)\n",
      "30. feature 16 - Pdur16std (0.010000)\n",
      "31. feature 66 - patsex (0.010000)\n",
      "32. feature 6 - PCpos (0.010000)\n",
      "33. feature 9 - PCfwhm (0.010000)\n",
      "34. feature 7 - PCneg (0.010000)\n",
      "35. feature 67 - Age (0.010000)\n",
      "36. feature 33 - Pdur_ECG_aVR (0.010000)\n",
      "37. feature 58 - Pfwhm_ECG_V4R (0.010000)\n",
      "38. feature 52 - Pfwhm_ECG_III (0.010000)\n",
      "39. feature 53 - Pfwhm_ECG_V1 (0.010000)\n",
      "40. feature 48 - Parea_ECG_aVL (0.010000)\n",
      "41. feature 41 - Parea_ECG_V4 (0.010000)\n",
      "42. feature 38 - Parea_ECG_V2 (0.010000)\n",
      "43. feature 63 - Pfwhm_ECG_aVF (0.000000)\n",
      "44. feature 60 - Pfwhm_ECG_V6 (0.000000)\n",
      "45. feature 65 - Pfwhm_ECG_aVR (0.000000)\n",
      "46. feature 5 - PQ (0.000000)\n",
      "47. feature 14 - Pdur16min (0.000000)\n",
      "48. feature 56 - Pfwhm_ECG_V3R (0.000000)\n",
      "49. feature 8 - PCdur (0.000000)\n",
      "50. feature 51 - Pfwhm_ECG_II (0.000000)\n",
      "51. feature 11 - P_LoffEon (0.000000)\n",
      "52. feature 12 - Pdur16mean (0.000000)\n",
      "53. feature 13 - Pdur16median (0.000000)\n",
      "54. feature 36 - Parea_ECG_III (0.000000)\n",
      "55. feature 15 - Pdur16max (0.000000)\n",
      "56. feature 31 - Pdur_ECG_aVF (0.000000)\n",
      "57. feature 17 - Pdur16iqr (0.000000)\n",
      "58. feature 18 - Pdur_ECG_I (0.000000)\n",
      "59. feature 19 - Pdur_ECG_II (0.000000)\n",
      "60. feature 20 - Pdur_ECG_III (0.000000)\n",
      "61. feature 21 - Pdur_ECG_V1 (0.000000)\n",
      "62. feature 22 - Pdur_ECG_V2 (0.000000)\n",
      "63. feature 24 - Pdur_ECG_V3R (0.000000)\n",
      "64. feature 46 - Parea_ECG_V9 (0.000000)\n",
      "65. feature 26 - Pdur_ECG_V4R (0.000000)\n",
      "66. feature 27 - Pdur_ECG_V5 (0.000000)\n",
      "67. feature 43 - Parea_ECG_V5 (0.000000)\n",
      "68. feature 49 - Parea_ECG_aVR (0.000000)\n"
     ]
    }
   ],
   "source": [
    "show_f_importance(gs_ab.best_estimator_.named_steps['clf'],x_df)"
   ]
  },
  {
   "cell_type": "code",
   "execution_count": 30,
   "metadata": {},
   "outputs": [],
   "source": [
    "param_grid = {\"clf__max_depth\": [3,5,8,10,15,30],\n",
    "              \"clf__n_estimators\": [100,200,500,1000,1500],\n",
    "              \"clf__min_samples_leaf\": [1,3,5,10]}\n",
    "\n",
    "et = ExtraTreesClassifier(random_state=42)\n",
    "\n",
    "plist = []\n",
    "plist.append(('balancer', balancer))\n",
    "plist.append(('clf', et))\n",
    "pipeline = Pipeline(plist)\n",
    "\n",
    "gs_et = GridSearchCV(pipeline, param_grid=param_grid, cv=5, verbose=1,  scoring=myscorer, n_jobs=-1)"
   ]
  },
  {
   "cell_type": "code",
   "execution_count": 31,
   "metadata": {},
   "outputs": [
    {
     "name": "stdout",
     "output_type": "stream",
     "text": [
      "Fitting 5 folds for each of 120 candidates, totalling 600 fits\n"
     ]
    },
    {
     "name": "stderr",
     "output_type": "stream",
     "text": [
      "[Parallel(n_jobs=-1)]: Done  42 tasks      | elapsed:   16.2s\n",
      "[Parallel(n_jobs=-1)]: Done 192 tasks      | elapsed:  1.2min\n",
      "[Parallel(n_jobs=-1)]: Done 442 tasks      | elapsed:  3.4min\n",
      "[Parallel(n_jobs=-1)]: Done 600 out of 600 | elapsed:  4.6min finished\n"
     ]
    }
   ],
   "source": [
    "gs_et.fit(x_df, y_df);"
   ]
  },
  {
   "cell_type": "code",
   "execution_count": 32,
   "metadata": {},
   "outputs": [
    {
     "data": {
      "text/plain": [
       "{'clf__max_depth': 3, 'clf__min_samples_leaf': 10, 'clf__n_estimators': 500}"
      ]
     },
     "execution_count": 32,
     "metadata": {},
     "output_type": "execute_result"
    }
   ],
   "source": [
    "gs_et.best_params_"
   ]
  },
  {
   "cell_type": "code",
   "execution_count": 33,
   "metadata": {},
   "outputs": [
    {
     "data": {
      "text/plain": [
       "0.6312963660820206"
      ]
     },
     "execution_count": 33,
     "metadata": {},
     "output_type": "execute_result"
    }
   ],
   "source": [
    "gs_et.best_score_"
   ]
  },
  {
   "cell_type": "code",
   "execution_count": 34,
   "metadata": {},
   "outputs": [],
   "source": [
    "if gs_et.best_score_ > best_score:\n",
    "    best_model = gs_et\n",
    "    best_score = gs_et.best_score_"
   ]
  },
  {
   "cell_type": "code",
   "execution_count": 35,
   "metadata": {},
   "outputs": [
    {
     "name": "stdout",
     "output_type": "stream",
     "text": [
      "Feature ranking:\n",
      "1. feature 1 - QTm_old (0.047928)\n",
      "2. feature 23 - Pdur_ECG_V3 (0.040189)\n",
      "3. feature 22 - Pdur_ECG_V2 (0.032469)\n",
      "4. feature 25 - Pdur_ECG_V4 (0.030794)\n",
      "5. feature 45 - Parea_ECG_V8 (0.030459)\n",
      "6. feature 12 - Pdur16mean (0.030421)\n",
      "7. feature 3 - QTn (0.029327)\n",
      "8. feature 28 - Pdur_ECG_V6 (0.029277)\n",
      "9. feature 21 - Pdur_ECG_V1 (0.029096)\n",
      "10. feature 8 - PCdur (0.025332)\n",
      "11. feature 40 - Parea_ECG_V3R (0.024362)\n",
      "12. feature 13 - Pdur16median (0.024003)\n",
      "13. feature 33 - Pdur_ECG_aVR (0.023216)\n",
      "14. feature 15 - Pdur16max (0.023134)\n",
      "15. feature 11 - P_LoffEon (0.023072)\n",
      "16. feature 31 - Pdur_ECG_aVF (0.021479)\n",
      "17. feature 0 - RR (0.021276)\n",
      "18. feature 65 - Pfwhm_ECG_aVR (0.020543)\n",
      "19. feature 60 - Pfwhm_ECG_V6 (0.020306)\n",
      "20. feature 18 - Pdur_ECG_I (0.020173)\n",
      "21. feature 32 - Pdur_ECG_aVL (0.020143)\n",
      "22. feature 59 - Pfwhm_ECG_V5 (0.019319)\n",
      "23. feature 14 - Pdur16min (0.018990)\n",
      "24. feature 24 - Pdur_ECG_V3R (0.017689)\n",
      "25. feature 37 - Parea_ECG_V1 (0.017261)\n",
      "26. feature 27 - Pdur_ECG_V5 (0.017115)\n",
      "27. feature 66 - patsex (0.016547)\n",
      "28. feature 20 - Pdur_ECG_III (0.016189)\n",
      "29. feature 34 - Parea_ECG_I (0.015395)\n",
      "30. feature 26 - Pdur_ECG_V4R (0.015358)\n",
      "31. feature 46 - Parea_ECG_V9 (0.015056)\n",
      "32. feature 48 - Parea_ECG_aVL (0.013993)\n",
      "33. feature 19 - Pdur_ECG_II (0.011398)\n",
      "34. feature 42 - Parea_ECG_V4R (0.011371)\n",
      "35. feature 44 - Parea_ECG_V6 (0.011309)\n",
      "36. feature 4 - QRS (0.010996)\n",
      "37. feature 29 - Pdur_ECG_V8 (0.010890)\n",
      "38. feature 9 - PCfwhm (0.010601)\n",
      "39. feature 30 - Pdur_ECG_V9 (0.010309)\n",
      "40. feature 5 - PQ (0.009703)\n",
      "41. feature 53 - Pfwhm_ECG_V1 (0.009388)\n",
      "42. feature 47 - Parea_ECG_aVF (0.009249)\n",
      "43. feature 35 - Parea_ECG_II (0.008974)\n",
      "44. feature 51 - Pfwhm_ECG_II (0.008435)\n",
      "45. feature 43 - Parea_ECG_V5 (0.008164)\n",
      "46. feature 10 - PCarea (0.007858)\n",
      "47. feature 2 - QR (0.007691)\n",
      "48. feature 52 - Pfwhm_ECG_III (0.007599)\n",
      "49. feature 16 - Pdur16std (0.007394)\n",
      "50. feature 55 - Pfwhm_ECG_V3 (0.006761)\n",
      "51. feature 50 - Pfwhm_ECG_I (0.006385)\n",
      "52. feature 41 - Parea_ECG_V4 (0.006156)\n",
      "53. feature 54 - Pfwhm_ECG_V2 (0.006137)\n",
      "54. feature 57 - Pfwhm_ECG_V4 (0.006076)\n",
      "55. feature 6 - PCpos (0.005925)\n",
      "56. feature 49 - Parea_ECG_aVR (0.005893)\n",
      "57. feature 64 - Pfwhm_ECG_aVL (0.005716)\n",
      "58. feature 63 - Pfwhm_ECG_aVF (0.004981)\n",
      "59. feature 67 - Age (0.004671)\n",
      "60. feature 39 - Parea_ECG_V3 (0.004595)\n",
      "61. feature 17 - Pdur16iqr (0.004370)\n",
      "62. feature 62 - Pfwhm_ECG_V9 (0.004079)\n",
      "63. feature 38 - Parea_ECG_V2 (0.003822)\n",
      "64. feature 61 - Pfwhm_ECG_V8 (0.003554)\n",
      "65. feature 36 - Parea_ECG_III (0.003197)\n",
      "66. feature 7 - PCneg (0.002717)\n",
      "67. feature 56 - Pfwhm_ECG_V3R (0.001979)\n",
      "68. feature 58 - Pfwhm_ECG_V4R (0.001747)\n"
     ]
    }
   ],
   "source": [
    "show_f_importance(gs_et.best_estimator_.named_steps['clf'],x_df)"
   ]
  },
  {
   "cell_type": "code",
   "execution_count": 36,
   "metadata": {},
   "outputs": [
    {
     "data": {
      "text/plain": [
       "(275, 73)"
      ]
     },
     "execution_count": 36,
     "metadata": {},
     "output_type": "execute_result"
    }
   ],
   "source": [
    "cdata = pd.read_csv('../data/central' +'_data.csv')\n",
    "cdata.shape"
   ]
  },
  {
   "cell_type": "code",
   "execution_count": 37,
   "metadata": {},
   "outputs": [
    {
     "name": "stdout",
     "output_type": "stream",
     "text": [
      "[MICE] Completing matrix with shape (270, 69)\n",
      "[MICE] Starting imputation round 1/110, elapsed time 0.004\n",
      "[MICE] Starting imputation round 2/110, elapsed time 0.030\n",
      "[MICE] Starting imputation round 3/110, elapsed time 0.057\n",
      "[MICE] Starting imputation round 4/110, elapsed time 0.098\n",
      "[MICE] Starting imputation round 5/110, elapsed time 0.122\n",
      "[MICE] Starting imputation round 6/110, elapsed time 0.149\n",
      "[MICE] Starting imputation round 7/110, elapsed time 0.176\n",
      "[MICE] Starting imputation round 8/110, elapsed time 0.201\n",
      "[MICE] Starting imputation round 9/110, elapsed time 0.231\n",
      "[MICE] Starting imputation round 10/110, elapsed time 0.256\n",
      "[MICE] Starting imputation round 11/110, elapsed time 0.287\n",
      "[MICE] Starting imputation round 12/110, elapsed time 0.311\n",
      "[MICE] Starting imputation round 13/110, elapsed time 0.334\n",
      "[MICE] Starting imputation round 14/110, elapsed time 0.360\n",
      "[MICE] Starting imputation round 15/110, elapsed time 0.392\n",
      "[MICE] Starting imputation round 16/110, elapsed time 0.418\n",
      "[MICE] Starting imputation round 17/110, elapsed time 0.442\n",
      "[MICE] Starting imputation round 18/110, elapsed time 0.469\n",
      "[MICE] Starting imputation round 19/110, elapsed time 0.496\n",
      "[MICE] Starting imputation round 20/110, elapsed time 0.527\n",
      "[MICE] Starting imputation round 21/110, elapsed time 0.551\n",
      "[MICE] Starting imputation round 22/110, elapsed time 0.576\n",
      "[MICE] Starting imputation round 23/110, elapsed time 0.600\n",
      "[MICE] Starting imputation round 24/110, elapsed time 0.626\n",
      "[MICE] Starting imputation round 25/110, elapsed time 0.657\n",
      "[MICE] Starting imputation round 26/110, elapsed time 0.682\n",
      "[MICE] Starting imputation round 27/110, elapsed time 0.706\n",
      "[MICE] Starting imputation round 28/110, elapsed time 0.730\n",
      "[MICE] Starting imputation round 29/110, elapsed time 0.757\n",
      "[MICE] Starting imputation round 30/110, elapsed time 0.785\n",
      "[MICE] Starting imputation round 31/110, elapsed time 0.819\n",
      "[MICE] Starting imputation round 32/110, elapsed time 0.852\n",
      "[MICE] Starting imputation round 33/110, elapsed time 0.876\n",
      "[MICE] Starting imputation round 34/110, elapsed time 0.901\n",
      "[MICE] Starting imputation round 35/110, elapsed time 0.925\n",
      "[MICE] Starting imputation round 36/110, elapsed time 0.952\n",
      "[MICE] Starting imputation round 37/110, elapsed time 0.995\n",
      "[MICE] Starting imputation round 38/110, elapsed time 1.021\n",
      "[MICE] Starting imputation round 39/110, elapsed time 1.046\n",
      "[MICE] Starting imputation round 40/110, elapsed time 1.072\n",
      "[MICE] Starting imputation round 41/110, elapsed time 1.097\n",
      "[MICE] Starting imputation round 42/110, elapsed time 1.124\n",
      "[MICE] Starting imputation round 43/110, elapsed time 1.154\n",
      "[MICE] Starting imputation round 44/110, elapsed time 1.178\n",
      "[MICE] Starting imputation round 45/110, elapsed time 1.215\n",
      "[MICE] Starting imputation round 46/110, elapsed time 1.242\n",
      "[MICE] Starting imputation round 47/110, elapsed time 1.266\n",
      "[MICE] Starting imputation round 48/110, elapsed time 1.292\n",
      "[MICE] Starting imputation round 49/110, elapsed time 1.319\n",
      "[MICE] Starting imputation round 50/110, elapsed time 1.344\n",
      "[MICE] Starting imputation round 51/110, elapsed time 1.382\n",
      "[MICE] Starting imputation round 52/110, elapsed time 1.408\n",
      "[MICE] Starting imputation round 53/110, elapsed time 1.434\n",
      "[MICE] Starting imputation round 54/110, elapsed time 1.458\n",
      "[MICE] Starting imputation round 55/110, elapsed time 1.485\n",
      "[MICE] Starting imputation round 56/110, elapsed time 1.513\n",
      "[MICE] Starting imputation round 57/110, elapsed time 1.540\n",
      "[MICE] Starting imputation round 58/110, elapsed time 1.575\n",
      "[MICE] Starting imputation round 59/110, elapsed time 1.600\n",
      "[MICE] Starting imputation round 60/110, elapsed time 1.627\n",
      "[MICE] Starting imputation round 61/110, elapsed time 1.655\n",
      "[MICE] Starting imputation round 62/110, elapsed time 1.682\n",
      "[MICE] Starting imputation round 63/110, elapsed time 1.706\n",
      "[MICE] Starting imputation round 64/110, elapsed time 1.732\n",
      "[MICE] Starting imputation round 65/110, elapsed time 1.765\n",
      "[MICE] Starting imputation round 66/110, elapsed time 1.789\n",
      "[MICE] Starting imputation round 67/110, elapsed time 1.813\n",
      "[MICE] Starting imputation round 68/110, elapsed time 1.839\n",
      "[MICE] Starting imputation round 69/110, elapsed time 1.873\n",
      "[MICE] Starting imputation round 70/110, elapsed time 1.897\n",
      "[MICE] Starting imputation round 71/110, elapsed time 1.921\n",
      "[MICE] Starting imputation round 72/110, elapsed time 1.950\n",
      "[MICE] Starting imputation round 73/110, elapsed time 1.980\n",
      "[MICE] Starting imputation round 74/110, elapsed time 2.004\n",
      "[MICE] Starting imputation round 75/110, elapsed time 2.027\n",
      "[MICE] Starting imputation round 76/110, elapsed time 2.050\n",
      "[MICE] Starting imputation round 77/110, elapsed time 2.073\n",
      "[MICE] Starting imputation round 78/110, elapsed time 2.098\n",
      "[MICE] Starting imputation round 79/110, elapsed time 2.126\n",
      "[MICE] Starting imputation round 80/110, elapsed time 2.152\n",
      "[MICE] Starting imputation round 81/110, elapsed time 2.177\n",
      "[MICE] Starting imputation round 82/110, elapsed time 2.204\n",
      "[MICE] Starting imputation round 83/110, elapsed time 2.230\n",
      "[MICE] Starting imputation round 84/110, elapsed time 2.256\n",
      "[MICE] Starting imputation round 85/110, elapsed time 2.279\n",
      "[MICE] Starting imputation round 86/110, elapsed time 2.310\n",
      "[MICE] Starting imputation round 87/110, elapsed time 2.335\n",
      "[MICE] Starting imputation round 88/110, elapsed time 2.359\n",
      "[MICE] Starting imputation round 89/110, elapsed time 2.389\n",
      "[MICE] Starting imputation round 90/110, elapsed time 2.416\n",
      "[MICE] Starting imputation round 91/110, elapsed time 2.439\n",
      "[MICE] Starting imputation round 92/110, elapsed time 2.469\n",
      "[MICE] Starting imputation round 93/110, elapsed time 2.494\n",
      "[MICE] Starting imputation round 94/110, elapsed time 2.519\n",
      "[MICE] Starting imputation round 95/110, elapsed time 2.548\n",
      "[MICE] Starting imputation round 96/110, elapsed time 2.580\n",
      "[MICE] Starting imputation round 97/110, elapsed time 2.605\n",
      "[MICE] Starting imputation round 98/110, elapsed time 2.629\n",
      "[MICE] Starting imputation round 99/110, elapsed time 2.656\n",
      "[MICE] Starting imputation round 100/110, elapsed time 2.683\n",
      "[MICE] Starting imputation round 101/110, elapsed time 2.709\n",
      "[MICE] Starting imputation round 102/110, elapsed time 2.735\n",
      "[MICE] Starting imputation round 103/110, elapsed time 2.759\n",
      "[MICE] Starting imputation round 104/110, elapsed time 2.783\n",
      "[MICE] Starting imputation round 105/110, elapsed time 2.808\n",
      "[MICE] Starting imputation round 106/110, elapsed time 2.832\n",
      "[MICE] Starting imputation round 107/110, elapsed time 2.856\n",
      "[MICE] Starting imputation round 108/110, elapsed time 2.879\n",
      "[MICE] Starting imputation round 109/110, elapsed time 2.904\n",
      "[MICE] Starting imputation round 110/110, elapsed time 2.931\n"
     ]
    }
   ],
   "source": [
    "data_e = cdata[cdata['IPG'] != 1]\n",
    "data_e = data_e.drop('IPG', axis = 1);\n",
    "data_e = data_e.drop('sbjBeatConsidered', axis = 1);\n",
    "data_e = data_e.drop('numRRaveraged', axis = 1);\n",
    "data_e = data_e.drop('Soggetti', axis = 1);\n",
    "# df_columns = data.columns.tolist()\n",
    "# matching_columns1 = [s for s in df_columns if \"Parea\" in s]\n",
    "# matching_columns2 = [s for s in df_columns if \"Pdur\" in s]\n",
    "# mc = matching_columns1 + matching_columns2\n",
    "# data_e = data_e.dropna(subset=mc)\n",
    "data_e['PCneg'].fillna(0, inplace=True)\n",
    "data_e['AFclass'].replace('persistierend (>7 Tage, EKV)', 1, inplace=True)\n",
    "data_e['AFclass'].replace('paroxysmal', 0, inplace=True)\n",
    "categorical_variables_mask = data_e.dtypes==object\n",
    "categorical_variables = data_e.columns[categorical_variables_mask]\n",
    "for v in categorical_variables:\n",
    "    data_e[v] = LabelEncoder().fit_transform(data_e[v])\n",
    "del categorical_variables_mask,categorical_variables\n",
    "data_e = pd.DataFrame(data=MICE(n_imputations=100, impute_type='col', n_nearest_columns=5).complete(data_e.as_matrix()), columns=data_e.columns, index=data_e.index);\n",
    "cy_df = data_e['AFclass'].copy()\n",
    "cx_df = data_e.drop('AFclass',axis=1, inplace=False)"
   ]
  },
  {
   "cell_type": "code",
   "execution_count": 43,
   "metadata": {},
   "outputs": [
    {
     "data": {
      "text/plain": [
       "0.48360655737704916"
      ]
     },
     "execution_count": 43,
     "metadata": {},
     "output_type": "execute_result"
    }
   ],
   "source": [
    "from sklearn.metrics import roc_auc_score\n",
    "p = best_model.predict(cx_df);\n",
    "scores = pd.DataFrame({hospital_name: p})\n",
    "scores.to_csv('../data/' + hospital_name +'_predictions.csv', index=False)\n",
    "np.save('../data/' + hospital_name +'_acc',best_score)\n",
    "roc_auc_score(cy_df, p)"
   ]
  },
  {
   "cell_type": "code",
   "execution_count": 42,
   "metadata": {},
   "outputs": [
    {
     "data": {
      "text/html": [
       "<div>\n",
       "<style scoped>\n",
       "    .dataframe tbody tr th:only-of-type {\n",
       "        vertical-align: middle;\n",
       "    }\n",
       "\n",
       "    .dataframe tbody tr th {\n",
       "        vertical-align: top;\n",
       "    }\n",
       "\n",
       "    .dataframe thead th {\n",
       "        text-align: right;\n",
       "    }\n",
       "</style>\n",
       "<table border=\"1\" class=\"dataframe\">\n",
       "  <thead>\n",
       "    <tr style=\"text-align: right;\">\n",
       "      <th></th>\n",
       "      <th>host2</th>\n",
       "    </tr>\n",
       "  </thead>\n",
       "  <tbody>\n",
       "    <tr>\n",
       "      <th>0</th>\n",
       "      <td>1.0</td>\n",
       "    </tr>\n",
       "    <tr>\n",
       "      <th>1</th>\n",
       "      <td>1.0</td>\n",
       "    </tr>\n",
       "    <tr>\n",
       "      <th>2</th>\n",
       "      <td>0.0</td>\n",
       "    </tr>\n",
       "    <tr>\n",
       "      <th>3</th>\n",
       "      <td>1.0</td>\n",
       "    </tr>\n",
       "    <tr>\n",
       "      <th>4</th>\n",
       "      <td>0.0</td>\n",
       "    </tr>\n",
       "  </tbody>\n",
       "</table>\n",
       "</div>"
      ],
      "text/plain": [
       "   host2\n",
       "0    1.0\n",
       "1    1.0\n",
       "2    0.0\n",
       "3    1.0\n",
       "4    0.0"
      ]
     },
     "execution_count": 42,
     "metadata": {},
     "output_type": "execute_result"
    }
   ],
   "source": [
    "scores.head(5)"
   ]
  },
  {
   "cell_type": "code",
   "execution_count": 44,
   "metadata": {},
   "outputs": [
    {
     "data": {
      "text/plain": [
       "GridSearchCV(cv=5, error_score='raise',\n",
       "       estimator=Pipeline(memory=None,\n",
       "     steps=[('balancer', SMOTE(k=None, k_neighbors=5, kind='regular', m=None, m_neighbors=10, n_jobs=1,\n",
       "   out_step=0.5, random_state=42, ratio='auto', svm_estimator=None)), ('clf', ExtraTreesClassifier(bootstrap=False, class_weight=None, criterion='gini',\n",
       "           max_depth=None, max_features='auto', ...estimators=10, n_jobs=1,\n",
       "           oob_score=False, random_state=42, verbose=0, warm_start=False))]),\n",
       "       fit_params=None, iid=True, n_jobs=-1,\n",
       "       param_grid={'clf__max_depth': [3, 5, 8, 10, 15, 30], 'clf__n_estimators': [100, 200, 500, 1000, 1500], 'clf__min_samples_leaf': [1, 3, 5, 10]},\n",
       "       pre_dispatch='2*n_jobs', refit=True, return_train_score='warn',\n",
       "       scoring='roc_auc', verbose=1)"
      ]
     },
     "execution_count": 44,
     "metadata": {},
     "output_type": "execute_result"
    }
   ],
   "source": [
    "best_model"
   ]
  },
  {
   "cell_type": "code",
   "execution_count": 40,
   "metadata": {},
   "outputs": [
    {
     "data": {
      "text/plain": [
       "0.6312963660820206"
      ]
     },
     "execution_count": 40,
     "metadata": {},
     "output_type": "execute_result"
    }
   ],
   "source": [
    "best_score"
   ]
  },
  {
   "cell_type": "code",
   "execution_count": 39,
   "metadata": {},
   "outputs": [
    {
     "data": {
      "text/plain": [
       "['../data/host2_model.pkl']"
      ]
     },
     "execution_count": 39,
     "metadata": {},
     "output_type": "execute_result"
    }
   ],
   "source": [
    "from sklearn.externals import joblib\n",
    "joblib.dump(best_model.best_estimator_, '../data/' + hospital_name + '_model.pkl')"
   ]
  },
  {
   "cell_type": "code",
   "execution_count": null,
   "metadata": {},
   "outputs": [],
   "source": []
  }
 ],
 "metadata": {
  "kernelspec": {
   "display_name": "Python 3",
   "language": "python",
   "name": "python3"
  },
  "language_info": {
   "codemirror_mode": {
    "name": "ipython",
    "version": 3
   },
   "file_extension": ".py",
   "mimetype": "text/x-python",
   "name": "python",
   "nbconvert_exporter": "python",
   "pygments_lexer": "ipython3",
   "version": "3.6.5"
  },
  "toc": {
   "nav_menu": {},
   "number_sections": true,
   "sideBar": true,
   "skip_h1_title": false,
   "title_cell": "Table of Contents",
   "title_sidebar": "Contents",
   "toc_cell": false,
   "toc_position": {},
   "toc_section_display": true,
   "toc_window_display": false
  },
  "varInspector": {
   "cols": {
    "lenName": 16,
    "lenType": 16,
    "lenVar": 40
   },
   "kernels_config": {
    "python": {
     "delete_cmd_postfix": "",
     "delete_cmd_prefix": "del ",
     "library": "var_list.py",
     "varRefreshCmd": "print(var_dic_list())"
    },
    "r": {
     "delete_cmd_postfix": ") ",
     "delete_cmd_prefix": "rm(",
     "library": "var_list.r",
     "varRefreshCmd": "cat(var_dic_list()) "
    }
   },
   "types_to_exclude": [
    "module",
    "function",
    "builtin_function_or_method",
    "instance",
    "_Feature"
   ],
   "window_display": false
  }
 },
 "nbformat": 4,
 "nbformat_minor": 2
}
