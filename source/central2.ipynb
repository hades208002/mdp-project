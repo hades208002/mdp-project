{
 "cells": [
  {
   "cell_type": "code",
   "execution_count": 1,
   "metadata": {},
   "outputs": [],
   "source": [
    "import pandas as pd\n",
    "import numpy as np\n",
    "seed = np.random.seed(42)\n",
    "from matplotlib import pyplot as plt\n",
    "import seaborn as sns\n",
    "sns.set(style=\"ticks\", color_codes=True)\n",
    "\n",
    "pd.set_option('display.max_columns',500)\n",
    "pd.set_option('display.max_rows',50)\n",
    "\n",
    "%matplotlib inline"
   ]
  },
  {
   "cell_type": "code",
   "execution_count": 2,
   "metadata": {},
   "outputs": [
    {
     "name": "stderr",
     "output_type": "stream",
     "text": [
      "/Users/refikcanmalli/anaconda3/envs/vodafone/lib/python3.6/site-packages/h5py/__init__.py:36: FutureWarning: Conversion of the second argument of issubdtype from `float` to `np.floating` is deprecated. In future, it will be treated as `np.float64 == np.dtype(float).type`.\n",
      "  from ._conv import register_converters as _register_converters\n",
      "Using TensorFlow backend.\n"
     ]
    }
   ],
   "source": [
    "from sklearn.model_selection import cross_val_score\n",
    "from sklearn.pipeline import Pipeline\n",
    "from sklearn.ensemble import RandomForestClassifier,GradientBoostingClassifier,ExtraTreesClassifier,AdaBoostClassifier\n",
    "#from sklearn.pipeline import Pipeline\n",
    "from sklearn.model_selection import cross_val_score\n",
    "from sklearn.model_selection import train_test_split\n",
    "from sklearn.metrics import f1_score, make_scorer\n",
    "from sklearn.metrics import accuracy_score\n",
    "from sklearn.model_selection import GridSearchCV\n",
    "from sklearn.dummy import DummyClassifier\n",
    "from imblearn.over_sampling import SMOTE\n",
    "from imblearn.pipeline import Pipeline\n",
    "from sklearn.preprocessing import Imputer,StandardScaler,LabelEncoder\n",
    "from fancyimpute import BiScaler, KNN, NuclearNormMinimization, SoftImpute, MICE\n",
    "\n",
    "#f1_scorer = make_scorer(f1_score, average='macro',labels=Y.unique().tolist())\n",
    "#myscorer = f1_scorer\n",
    "myscorer = 'accuracy'"
   ]
  },
  {
   "cell_type": "code",
   "execution_count": 3,
   "metadata": {},
   "outputs": [
    {
     "data": {
      "text/plain": [
       "(275, 73)"
      ]
     },
     "execution_count": 3,
     "metadata": {},
     "output_type": "execute_result"
    }
   ],
   "source": [
    "cdata = pd.read_csv('../data/central' +'_data.csv')\n",
    "cdata.shape"
   ]
  },
  {
   "cell_type": "code",
   "execution_count": 4,
   "metadata": {
    "slideshow": {
     "slide_type": "-"
    }
   },
   "outputs": [],
   "source": [
    "h1_p = pd.read_csv('../data/host1_predictions.csv')\n",
    "h2_p = pd.read_csv('../data/host2_predictions.csv')\n",
    "h3_p = pd.read_csv('../data/host3_predictions.csv')\n",
    "h1_a = np.load('../data/host1_acc.npy')\n",
    "h2_a = np.load('../data/host2_acc.npy')\n",
    "h3_a = np.load('../data/host3_acc.npy')"
   ]
  },
  {
   "cell_type": "code",
   "execution_count": 5,
   "metadata": {},
   "outputs": [
    {
     "data": {
      "text/html": [
       "<div>\n",
       "<style scoped>\n",
       "    .dataframe tbody tr th:only-of-type {\n",
       "        vertical-align: middle;\n",
       "    }\n",
       "\n",
       "    .dataframe tbody tr th {\n",
       "        vertical-align: top;\n",
       "    }\n",
       "\n",
       "    .dataframe thead th {\n",
       "        text-align: right;\n",
       "    }\n",
       "</style>\n",
       "<table border=\"1\" class=\"dataframe\">\n",
       "  <thead>\n",
       "    <tr style=\"text-align: right;\">\n",
       "      <th></th>\n",
       "      <th>host2</th>\n",
       "    </tr>\n",
       "  </thead>\n",
       "  <tbody>\n",
       "    <tr>\n",
       "      <th>0</th>\n",
       "      <td>1.0</td>\n",
       "    </tr>\n",
       "    <tr>\n",
       "      <th>1</th>\n",
       "      <td>1.0</td>\n",
       "    </tr>\n",
       "    <tr>\n",
       "      <th>2</th>\n",
       "      <td>0.0</td>\n",
       "    </tr>\n",
       "  </tbody>\n",
       "</table>\n",
       "</div>"
      ],
      "text/plain": [
       "   host2\n",
       "0    1.0\n",
       "1    1.0\n",
       "2    0.0"
      ]
     },
     "execution_count": 5,
     "metadata": {},
     "output_type": "execute_result"
    }
   ],
   "source": [
    "h2_p.head(3)"
   ]
  },
  {
   "cell_type": "code",
   "execution_count": 6,
   "metadata": {},
   "outputs": [
    {
     "name": "stdout",
     "output_type": "stream",
     "text": [
      "[MICE] Completing matrix with shape (270, 69)\n",
      "[MICE] Starting imputation round 1/110, elapsed time 0.003\n",
      "[MICE] Starting imputation round 2/110, elapsed time 0.027\n",
      "[MICE] Starting imputation round 3/110, elapsed time 0.052\n",
      "[MICE] Starting imputation round 4/110, elapsed time 0.090\n",
      "[MICE] Starting imputation round 5/110, elapsed time 0.115\n",
      "[MICE] Starting imputation round 6/110, elapsed time 0.138\n",
      "[MICE] Starting imputation round 7/110, elapsed time 0.161\n",
      "[MICE] Starting imputation round 8/110, elapsed time 0.184\n",
      "[MICE] Starting imputation round 9/110, elapsed time 0.209\n",
      "[MICE] Starting imputation round 10/110, elapsed time 0.249\n",
      "[MICE] Starting imputation round 11/110, elapsed time 0.271\n",
      "[MICE] Starting imputation round 12/110, elapsed time 0.294\n",
      "[MICE] Starting imputation round 13/110, elapsed time 0.317\n",
      "[MICE] Starting imputation round 14/110, elapsed time 0.340\n",
      "[MICE] Starting imputation round 15/110, elapsed time 0.363\n",
      "[MICE] Starting imputation round 16/110, elapsed time 0.386\n",
      "[MICE] Starting imputation round 17/110, elapsed time 0.409\n",
      "[MICE] Starting imputation round 18/110, elapsed time 0.448\n",
      "[MICE] Starting imputation round 19/110, elapsed time 0.471\n",
      "[MICE] Starting imputation round 20/110, elapsed time 0.494\n",
      "[MICE] Starting imputation round 21/110, elapsed time 0.517\n",
      "[MICE] Starting imputation round 22/110, elapsed time 0.539\n",
      "[MICE] Starting imputation round 23/110, elapsed time 0.562\n",
      "[MICE] Starting imputation round 24/110, elapsed time 0.585\n",
      "[MICE] Starting imputation round 25/110, elapsed time 0.607\n",
      "[MICE] Starting imputation round 26/110, elapsed time 0.630\n",
      "[MICE] Starting imputation round 27/110, elapsed time 0.654\n",
      "[MICE] Starting imputation round 28/110, elapsed time 0.686\n",
      "[MICE] Starting imputation round 29/110, elapsed time 0.713\n",
      "[MICE] Starting imputation round 30/110, elapsed time 0.736\n",
      "[MICE] Starting imputation round 31/110, elapsed time 0.759\n",
      "[MICE] Starting imputation round 32/110, elapsed time 0.782\n",
      "[MICE] Starting imputation round 33/110, elapsed time 0.805\n",
      "[MICE] Starting imputation round 34/110, elapsed time 0.829\n",
      "[MICE] Starting imputation round 35/110, elapsed time 0.851\n",
      "[MICE] Starting imputation round 36/110, elapsed time 0.883\n",
      "[MICE] Starting imputation round 37/110, elapsed time 0.913\n",
      "[MICE] Starting imputation round 38/110, elapsed time 0.937\n",
      "[MICE] Starting imputation round 39/110, elapsed time 0.959\n",
      "[MICE] Starting imputation round 40/110, elapsed time 0.982\n",
      "[MICE] Starting imputation round 41/110, elapsed time 1.005\n",
      "[MICE] Starting imputation round 42/110, elapsed time 1.027\n",
      "[MICE] Starting imputation round 43/110, elapsed time 1.050\n",
      "[MICE] Starting imputation round 44/110, elapsed time 1.073\n",
      "[MICE] Starting imputation round 45/110, elapsed time 1.107\n",
      "[MICE] Starting imputation round 46/110, elapsed time 1.133\n",
      "[MICE] Starting imputation round 47/110, elapsed time 1.156\n",
      "[MICE] Starting imputation round 48/110, elapsed time 1.179\n",
      "[MICE] Starting imputation round 49/110, elapsed time 1.202\n",
      "[MICE] Starting imputation round 50/110, elapsed time 1.224\n",
      "[MICE] Starting imputation round 51/110, elapsed time 1.247\n",
      "[MICE] Starting imputation round 52/110, elapsed time 1.270\n",
      "[MICE] Starting imputation round 53/110, elapsed time 1.293\n",
      "[MICE] Starting imputation round 54/110, elapsed time 1.317\n",
      "[MICE] Starting imputation round 55/110, elapsed time 1.352\n",
      "[MICE] Starting imputation round 56/110, elapsed time 1.375\n",
      "[MICE] Starting imputation round 57/110, elapsed time 1.399\n",
      "[MICE] Starting imputation round 58/110, elapsed time 1.424\n",
      "[MICE] Starting imputation round 59/110, elapsed time 1.451\n",
      "[MICE] Starting imputation round 60/110, elapsed time 1.474\n",
      "[MICE] Starting imputation round 61/110, elapsed time 1.497\n",
      "[MICE] Starting imputation round 62/110, elapsed time 1.519\n",
      "[MICE] Starting imputation round 63/110, elapsed time 1.556\n",
      "[MICE] Starting imputation round 64/110, elapsed time 1.578\n",
      "[MICE] Starting imputation round 65/110, elapsed time 1.601\n",
      "[MICE] Starting imputation round 66/110, elapsed time 1.624\n",
      "[MICE] Starting imputation round 67/110, elapsed time 1.647\n",
      "[MICE] Starting imputation round 68/110, elapsed time 1.669\n",
      "[MICE] Starting imputation round 69/110, elapsed time 1.691\n",
      "[MICE] Starting imputation round 70/110, elapsed time 1.714\n",
      "[MICE] Starting imputation round 71/110, elapsed time 1.737\n",
      "[MICE] Starting imputation round 72/110, elapsed time 1.759\n",
      "[MICE] Starting imputation round 73/110, elapsed time 1.796\n",
      "[MICE] Starting imputation round 74/110, elapsed time 1.819\n",
      "[MICE] Starting imputation round 75/110, elapsed time 1.841\n",
      "[MICE] Starting imputation round 76/110, elapsed time 1.864\n",
      "[MICE] Starting imputation round 77/110, elapsed time 1.887\n",
      "[MICE] Starting imputation round 78/110, elapsed time 1.910\n",
      "[MICE] Starting imputation round 79/110, elapsed time 1.934\n",
      "[MICE] Starting imputation round 80/110, elapsed time 1.957\n",
      "[MICE] Starting imputation round 81/110, elapsed time 1.980\n",
      "[MICE] Starting imputation round 82/110, elapsed time 2.004\n",
      "[MICE] Starting imputation round 83/110, elapsed time 2.041\n",
      "[MICE] Starting imputation round 84/110, elapsed time 2.064\n",
      "[MICE] Starting imputation round 85/110, elapsed time 2.086\n",
      "[MICE] Starting imputation round 86/110, elapsed time 2.109\n",
      "[MICE] Starting imputation round 87/110, elapsed time 2.132\n",
      "[MICE] Starting imputation round 88/110, elapsed time 2.154\n",
      "[MICE] Starting imputation round 89/110, elapsed time 2.177\n",
      "[MICE] Starting imputation round 90/110, elapsed time 2.200\n",
      "[MICE] Starting imputation round 91/110, elapsed time 2.232\n",
      "[MICE] Starting imputation round 92/110, elapsed time 2.261\n",
      "[MICE] Starting imputation round 93/110, elapsed time 2.283\n",
      "[MICE] Starting imputation round 94/110, elapsed time 2.306\n",
      "[MICE] Starting imputation round 95/110, elapsed time 2.328\n",
      "[MICE] Starting imputation round 96/110, elapsed time 2.351\n",
      "[MICE] Starting imputation round 97/110, elapsed time 2.374\n",
      "[MICE] Starting imputation round 98/110, elapsed time 2.397\n",
      "[MICE] Starting imputation round 99/110, elapsed time 2.420\n",
      "[MICE] Starting imputation round 100/110, elapsed time 2.452\n",
      "[MICE] Starting imputation round 101/110, elapsed time 2.481\n",
      "[MICE] Starting imputation round 102/110, elapsed time 2.503\n",
      "[MICE] Starting imputation round 103/110, elapsed time 2.526\n",
      "[MICE] Starting imputation round 104/110, elapsed time 2.548\n",
      "[MICE] Starting imputation round 105/110, elapsed time 2.572\n",
      "[MICE] Starting imputation round 106/110, elapsed time 2.594\n",
      "[MICE] Starting imputation round 107/110, elapsed time 2.617\n",
      "[MICE] Starting imputation round 108/110, elapsed time 2.639\n",
      "[MICE] Starting imputation round 109/110, elapsed time 2.664\n",
      "[MICE] Starting imputation round 110/110, elapsed time 2.715\n"
     ]
    }
   ],
   "source": [
    "data_e = cdata[cdata['IPG'] != 1]\n",
    "data_e = data_e.drop('IPG', axis = 1);\n",
    "data_e = data_e.drop('sbjBeatConsidered', axis = 1);\n",
    "data_e = data_e.drop('numRRaveraged', axis = 1);\n",
    "data_e = data_e.drop('Soggetti', axis = 1);\n",
    "# df_columns = data.columns.tolist()\n",
    "# matching_columns1 = [s for s in df_columns if \"Parea\" in s]\n",
    "# matching_columns2 = [s for s in df_columns if \"Pdur\" in s]\n",
    "# mc = matching_columns1 + matching_columns2\n",
    "# data_e = data_e.dropna(subset=mc)\n",
    "data_e['PCneg'].fillna(0, inplace=True)\n",
    "data_e['AFclass'].replace('persistierend (>7 Tage, EKV)', 1, inplace=True)\n",
    "data_e['AFclass'].replace('paroxysmal', 0, inplace=True)\n",
    "categorical_variables_mask = data_e.dtypes==object\n",
    "categorical_variables = data_e.columns[categorical_variables_mask]\n",
    "for v in categorical_variables:\n",
    "    data_e[v] = LabelEncoder().fit_transform(data_e[v])\n",
    "del categorical_variables_mask,categorical_variables\n",
    "data_e = pd.DataFrame(data=MICE(n_imputations=100, impute_type='col', n_nearest_columns=5).complete(data_e.as_matrix()), columns=data_e.columns, index=data_e.index);\n",
    "cy_df = data_e['AFclass'].copy()\n",
    "cx_df = data_e.drop('AFclass',axis=1, inplace=False)"
   ]
  },
  {
   "cell_type": "code",
   "execution_count": 7,
   "metadata": {},
   "outputs": [
    {
     "data": {
      "text/plain": [
       "array(0.68888889)"
      ]
     },
     "execution_count": 7,
     "metadata": {},
     "output_type": "execute_result"
    }
   ],
   "source": [
    "h1_a"
   ]
  },
  {
   "cell_type": "code",
   "execution_count": 8,
   "metadata": {},
   "outputs": [],
   "source": [
    "from sklearn.metrics import roc_auc_score,accuracy_score\n",
    "from sklearn.model_selection import train_test_split\n",
    "\n",
    "input_p = pd.concat([h1_p, h2_p, h3_p],axis=1)\n",
    "indices = np.arange(input_p.shape[0])\n",
    "X_train, X_test, y_train, y_test, ind_train, ind_test = train_test_split(input_p, cy_df,indices, test_size=0.3,stratify=cy_df, random_state=42)\n"
   ]
  },
  {
   "cell_type": "code",
   "execution_count": 9,
   "metadata": {
    "slideshow": {
     "slide_type": "slide"
    }
   },
   "outputs": [],
   "source": [
    "param_grid = {\"clf__max_depth\": [10,30,50],\n",
    "              \"clf__criterion\": ['gini', 'entropy'],\n",
    "              \"clf__n_estimators\": [100,200,500,1000],\n",
    "              \"clf__random_state\": [42],\n",
    "              \"clf__class_weight\" : [None, 'balanced']}\n",
    "# param_grid = {\"classifier__max_depth\": [30],\n",
    "#               \"classifier__n_estimators\": [1000]}\n",
    "\n",
    "\n",
    "rf = RandomForestClassifier()\n",
    "\n",
    "plist = []\n",
    "plist.append(('clf', rf))\n",
    "pipeline = Pipeline(plist)\n",
    "gs_rf = GridSearchCV(pipeline, param_grid=param_grid, cv=5, verbose=1, scoring=myscorer, n_jobs=-1)"
   ]
  },
  {
   "cell_type": "code",
   "execution_count": 10,
   "metadata": {},
   "outputs": [
    {
     "name": "stdout",
     "output_type": "stream",
     "text": [
      "Fitting 5 folds for each of 48 candidates, totalling 240 fits\n"
     ]
    },
    {
     "name": "stderr",
     "output_type": "stream",
     "text": [
      "[Parallel(n_jobs=-1)]: Done  42 tasks      | elapsed:   10.9s\n",
      "[Parallel(n_jobs=-1)]: Done 192 tasks      | elapsed:   52.5s\n",
      "[Parallel(n_jobs=-1)]: Done 240 out of 240 | elapsed:  1.2min finished\n"
     ]
    }
   ],
   "source": [
    "gs_rf.fit(X_train, y_train);"
   ]
  },
  {
   "cell_type": "code",
   "execution_count": 11,
   "metadata": {
    "slideshow": {
     "slide_type": "slide"
    }
   },
   "outputs": [
    {
     "data": {
      "text/plain": [
       "{'clf__class_weight': None,\n",
       " 'clf__criterion': 'gini',\n",
       " 'clf__max_depth': 10,\n",
       " 'clf__n_estimators': 100,\n",
       " 'clf__random_state': 42}"
      ]
     },
     "execution_count": 11,
     "metadata": {},
     "output_type": "execute_result"
    }
   ],
   "source": [
    "gs_rf.best_params_"
   ]
  },
  {
   "cell_type": "code",
   "execution_count": 12,
   "metadata": {},
   "outputs": [
    {
     "data": {
      "text/plain": [
       "0.6349206349206349"
      ]
     },
     "execution_count": 12,
     "metadata": {},
     "output_type": "execute_result"
    }
   ],
   "source": [
    "gs_rf.best_score_"
   ]
  },
  {
   "cell_type": "code",
   "execution_count": 27,
   "metadata": {
    "slideshow": {
     "slide_type": "-"
    }
   },
   "outputs": [],
   "source": [
    "p = gs_rf.predict(X_test)\n",
    "from sklearn.metrics import accuracy_score\n",
    "c_acc_score = accuracy_score(y_test, p)\n",
    "h1_acc_score = accuracy_score(input_p.values[ind_test,0], y_test)\n",
    "h2_acc_score = accuracy_score(input_p.values[ind_test,1], y_test)\n",
    "h3_acc_score = accuracy_score(input_p.values[ind_test,2], y_test)\n",
    "\n",
    "\n"
   ]
  },
  {
   "cell_type": "code",
   "execution_count": 31,
   "metadata": {
    "slideshow": {
     "slide_type": "slide"
    }
   },
   "outputs": [
    {
     "data": {
      "image/png": "[encoded data removed]",
      "text/plain": [
       "<Figure size 504x360 with 1 Axes>"
      ]
     },
     "metadata": {},
     "output_type": "display_data"
    }
   ],
   "source": [
    "x = np.arange(4)\n",
    "fig, ax = plt.subplots();\n",
    "ax.set_ylim([0.5,0.75]);\n",
    "fig.set_size_inches(7, 5);\n",
    "plt.grid();\n",
    "plt.bar(x, [h1_acc_score, h2_acc_score,h3_acc_score, c_acc_score]);\n",
    "plt.xticks(x, ('Hospital 1','Hospital 2','Hospital 3','Central'),fontsize=16, rotation=45);\n",
    "plt.yticks(fontsize=16);\n"
   ]
  },
  {
   "cell_type": "code",
   "execution_count": null,
   "metadata": {},
   "outputs": [],
   "source": []
  }
 ],
 "metadata": {
  "celltoolbar": "Slideshow",
  "kernelspec": {
   "display_name": "Python 3",
   "language": "python",
   "name": "python3"
  },
  "language_info": {
   "codemirror_mode": {
    "name": "ipython",
    "version": 3
   },
   "file_extension": ".py",
   "mimetype": "text/x-python",
   "name": "python",
   "nbconvert_exporter": "python",
   "pygments_lexer": "ipython3",
   "version": "3.6.5"
  },
  "toc": {
   "nav_menu": {},
   "number_sections": true,
   "sideBar": true,
   "skip_h1_title": false,
   "title_cell": "Table of Contents",
   "title_sidebar": "Contents",
   "toc_cell": false,
   "toc_position": {},
   "toc_section_display": true,
   "toc_window_display": false
  },
  "varInspector": {
   "cols": {
    "lenName": 16,
    "lenType": 16,
    "lenVar": 40
   },
   "kernels_config": {
    "python": {
     "delete_cmd_postfix": "",
     "delete_cmd_prefix": "del ",
     "library": "var_list.py",
     "varRefreshCmd": "print(var_dic_list())"
    },
    "r": {
     "delete_cmd_postfix": ") ",
     "delete_cmd_prefix": "rm(",
     "library": "var_list.r",
     "varRefreshCmd": "cat(var_dic_list()) "
    }
   },
   "types_to_exclude": [
    "module",
    "function",
    "builtin_function_or_method",
    "instance",
    "_Feature"
   ],
   "window_display": false
  }
 },
 "nbformat": 4,
 "nbformat_minor": 2
}
