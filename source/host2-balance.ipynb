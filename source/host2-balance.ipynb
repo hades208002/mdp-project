{
 "cells": [
  {
   "cell_type": "code",
   "execution_count": 1,
   "metadata": {},
   "outputs": [],
   "source": [
    "import pandas as pd\n",
    "import numpy as np\n",
    "seed = np.random.seed(42)\n",
    "from matplotlib import pyplot as plt\n",
    "import seaborn as sns\n",
    "sns.set(style=\"ticks\", color_codes=True)\n",
    "\n",
    "pd.set_option('display.max_columns',500)\n",
    "pd.set_option('display.max_rows',50)\n",
    "\n",
    "%matplotlib inline\n",
    "best_model = None\n",
    "best_score = 0\n",
    "hospital_name = 'host2'"
   ]
  },
  {
   "cell_type": "code",
   "execution_count": 2,
   "metadata": {},
   "outputs": [],
   "source": [
    "data = pd.read_csv('../data/hospital' + str(2) + '_data.csv')"
   ]
  },
  {
   "cell_type": "code",
   "execution_count": 3,
   "metadata": {},
   "outputs": [
    {
     "name": "stderr",
     "output_type": "stream",
     "text": [
      "/Users/refikcanmalli/anaconda3/envs/vodafone/lib/python3.6/site-packages/h5py/__init__.py:36: FutureWarning: Conversion of the second argument of issubdtype from `float` to `np.floating` is deprecated. In future, it will be treated as `np.float64 == np.dtype(float).type`.\n",
      "  from ._conv import register_converters as _register_converters\n",
      "Using TensorFlow backend.\n"
     ]
    }
   ],
   "source": [
    "from sklearn.preprocessing import Imputer,StandardScaler,LabelEncoder\n",
    "from fancyimpute import BiScaler, KNN, NuclearNormMinimization, SoftImpute, MICE"
   ]
  },
  {
   "cell_type": "code",
   "execution_count": 4,
   "metadata": {},
   "outputs": [
    {
     "name": "stdout",
     "output_type": "stream",
     "text": [
      "[MICE] Completing matrix with shape (274, 69)\n",
      "[MICE] Starting imputation round 1/110, elapsed time 0.003\n",
      "[MICE] Starting imputation round 2/110, elapsed time 0.065\n",
      "[MICE] Starting imputation round 3/110, elapsed time 0.120\n",
      "[MICE] Starting imputation round 4/110, elapsed time 0.166\n",
      "[MICE] Starting imputation round 5/110, elapsed time 0.243\n",
      "[MICE] Starting imputation round 6/110, elapsed time 0.299\n",
      "[MICE] Starting imputation round 7/110, elapsed time 0.370\n",
      "[MICE] Starting imputation round 8/110, elapsed time 0.412\n",
      "[MICE] Starting imputation round 9/110, elapsed time 0.461\n",
      "[MICE] Starting imputation round 10/110, elapsed time 0.530\n",
      "[MICE] Starting imputation round 11/110, elapsed time 0.583\n",
      "[MICE] Starting imputation round 12/110, elapsed time 0.638\n",
      "[MICE] Starting imputation round 13/110, elapsed time 0.710\n",
      "[MICE] Starting imputation round 14/110, elapsed time 0.760\n",
      "[MICE] Starting imputation round 15/110, elapsed time 0.812\n",
      "[MICE] Starting imputation round 16/110, elapsed time 0.859\n",
      "[MICE] Starting imputation round 17/110, elapsed time 0.906\n",
      "[MICE] Starting imputation round 18/110, elapsed time 0.964\n",
      "[MICE] Starting imputation round 19/110, elapsed time 1.017\n",
      "[MICE] Starting imputation round 20/110, elapsed time 1.065\n",
      "[MICE] Starting imputation round 21/110, elapsed time 1.110\n",
      "[MICE] Starting imputation round 22/110, elapsed time 1.154\n",
      "[MICE] Starting imputation round 23/110, elapsed time 1.207\n",
      "[MICE] Starting imputation round 24/110, elapsed time 1.261\n",
      "[MICE] Starting imputation round 25/110, elapsed time 1.308\n",
      "[MICE] Starting imputation round 26/110, elapsed time 1.355\n",
      "[MICE] Starting imputation round 27/110, elapsed time 1.396\n",
      "[MICE] Starting imputation round 28/110, elapsed time 1.454\n",
      "[MICE] Starting imputation round 29/110, elapsed time 1.515\n",
      "[MICE] Starting imputation round 30/110, elapsed time 1.586\n",
      "[MICE] Starting imputation round 31/110, elapsed time 1.631\n",
      "[MICE] Starting imputation round 32/110, elapsed time 1.688\n",
      "[MICE] Starting imputation round 33/110, elapsed time 1.746\n",
      "[MICE] Starting imputation round 34/110, elapsed time 1.795\n",
      "[MICE] Starting imputation round 35/110, elapsed time 1.852\n",
      "[MICE] Starting imputation round 36/110, elapsed time 1.989\n",
      "[MICE] Starting imputation round 37/110, elapsed time 2.109\n",
      "[MICE] Starting imputation round 38/110, elapsed time 2.216\n",
      "[MICE] Starting imputation round 39/110, elapsed time 2.362\n",
      "[MICE] Starting imputation round 40/110, elapsed time 2.475\n",
      "[MICE] Starting imputation round 41/110, elapsed time 2.530\n",
      "[MICE] Starting imputation round 42/110, elapsed time 2.584\n",
      "[MICE] Starting imputation round 43/110, elapsed time 2.649\n",
      "[MICE] Starting imputation round 44/110, elapsed time 2.711\n",
      "[MICE] Starting imputation round 45/110, elapsed time 2.791\n",
      "[MICE] Starting imputation round 46/110, elapsed time 2.867\n",
      "[MICE] Starting imputation round 47/110, elapsed time 2.923\n",
      "[MICE] Starting imputation round 48/110, elapsed time 3.005\n",
      "[MICE] Starting imputation round 49/110, elapsed time 3.067\n",
      "[MICE] Starting imputation round 50/110, elapsed time 3.118\n",
      "[MICE] Starting imputation round 51/110, elapsed time 3.192\n",
      "[MICE] Starting imputation round 52/110, elapsed time 3.264\n",
      "[MICE] Starting imputation round 53/110, elapsed time 3.318\n",
      "[MICE] Starting imputation round 54/110, elapsed time 3.448\n",
      "[MICE] Starting imputation round 55/110, elapsed time 3.725\n",
      "[MICE] Starting imputation round 56/110, elapsed time 3.768\n",
      "[MICE] Starting imputation round 57/110, elapsed time 3.819\n",
      "[MICE] Starting imputation round 58/110, elapsed time 4.061\n",
      "[MICE] Starting imputation round 59/110, elapsed time 4.107\n",
      "[MICE] Starting imputation round 60/110, elapsed time 4.149\n",
      "[MICE] Starting imputation round 61/110, elapsed time 4.202\n",
      "[MICE] Starting imputation round 62/110, elapsed time 4.254\n",
      "[MICE] Starting imputation round 63/110, elapsed time 4.298\n",
      "[MICE] Starting imputation round 64/110, elapsed time 4.353\n",
      "[MICE] Starting imputation round 65/110, elapsed time 4.394\n",
      "[MICE] Starting imputation round 66/110, elapsed time 4.445\n",
      "[MICE] Starting imputation round 67/110, elapsed time 4.508\n",
      "[MICE] Starting imputation round 68/110, elapsed time 4.572\n",
      "[MICE] Starting imputation round 69/110, elapsed time 4.630\n",
      "[MICE] Starting imputation round 70/110, elapsed time 4.681\n",
      "[MICE] Starting imputation round 71/110, elapsed time 4.745\n",
      "[MICE] Starting imputation round 72/110, elapsed time 4.794\n",
      "[MICE] Starting imputation round 73/110, elapsed time 4.876\n",
      "[MICE] Starting imputation round 74/110, elapsed time 4.924\n",
      "[MICE] Starting imputation round 75/110, elapsed time 4.979\n",
      "[MICE] Starting imputation round 76/110, elapsed time 5.025\n",
      "[MICE] Starting imputation round 77/110, elapsed time 5.067\n",
      "[MICE] Starting imputation round 78/110, elapsed time 5.115\n",
      "[MICE] Starting imputation round 79/110, elapsed time 5.159\n",
      "[MICE] Starting imputation round 80/110, elapsed time 5.194\n",
      "[MICE] Starting imputation round 81/110, elapsed time 5.244\n",
      "[MICE] Starting imputation round 82/110, elapsed time 5.288\n",
      "[MICE] Starting imputation round 83/110, elapsed time 5.332\n",
      "[MICE] Starting imputation round 84/110, elapsed time 5.390\n",
      "[MICE] Starting imputation round 85/110, elapsed time 5.436\n",
      "[MICE] Starting imputation round 86/110, elapsed time 5.483\n",
      "[MICE] Starting imputation round 87/110, elapsed time 5.546\n",
      "[MICE] Starting imputation round 88/110, elapsed time 5.591\n",
      "[MICE] Starting imputation round 89/110, elapsed time 5.635\n",
      "[MICE] Starting imputation round 90/110, elapsed time 5.681\n",
      "[MICE] Starting imputation round 91/110, elapsed time 5.725\n",
      "[MICE] Starting imputation round 92/110, elapsed time 5.773\n",
      "[MICE] Starting imputation round 93/110, elapsed time 5.866\n",
      "[MICE] Starting imputation round 94/110, elapsed time 5.915\n",
      "[MICE] Starting imputation round 95/110, elapsed time 5.957\n",
      "[MICE] Starting imputation round 96/110, elapsed time 6.029\n",
      "[MICE] Starting imputation round 97/110, elapsed time 6.075\n",
      "[MICE] Starting imputation round 98/110, elapsed time 6.115\n",
      "[MICE] Starting imputation round 99/110, elapsed time 6.184\n",
      "[MICE] Starting imputation round 100/110, elapsed time 6.232\n",
      "[MICE] Starting imputation round 101/110, elapsed time 6.324\n",
      "[MICE] Starting imputation round 102/110, elapsed time 6.365\n",
      "[MICE] Starting imputation round 103/110, elapsed time 6.410\n",
      "[MICE] Starting imputation round 104/110, elapsed time 6.487\n",
      "[MICE] Starting imputation round 105/110, elapsed time 6.526\n",
      "[MICE] Starting imputation round 106/110, elapsed time 6.575\n",
      "[MICE] Starting imputation round 107/110, elapsed time 6.642\n",
      "[MICE] Starting imputation round 108/110, elapsed time 6.686\n",
      "[MICE] Starting imputation round 109/110, elapsed time 6.733\n",
      "[MICE] Starting imputation round 110/110, elapsed time 6.779\n"
     ]
    }
   ],
   "source": [
    "data_e = data[data['IPG'] != 1]\n",
    "data_e = data_e.drop('IPG', axis = 1);\n",
    "data_e = data_e.drop('sbjBeatConsidered', axis = 1);\n",
    "data_e = data_e.drop('numRRaveraged', axis = 1);\n",
    "data_e = data_e.drop('Soggetti', axis = 1);\n",
    "# df_columns = data.columns.tolist()\n",
    "# matching_columns1 = [s for s in df_columns if \"Parea\" in s]\n",
    "# matching_columns2 = [s for s in df_columns if \"Pdur\" in s]\n",
    "# mc = matching_columns1 + matching_columns2\n",
    "# data_e = data_e.dropna(subset=mc)\n",
    "data_e['PCneg'].fillna(0, inplace=True)\n",
    "data_e['AFclass'].replace('persistierend (>7 Tage, EKV)', 1, inplace=True)\n",
    "data_e['AFclass'].replace('paroxysmal', 0, inplace=True)\n",
    "categorical_variables_mask = data_e.dtypes==object\n",
    "categorical_variables = data_e.columns[categorical_variables_mask]\n",
    "for v in categorical_variables:\n",
    "    data_e[v] = LabelEncoder().fit_transform(data_e[v])\n",
    "del categorical_variables_mask,categorical_variables\n",
    "data_e = pd.DataFrame(data=MICE(n_imputations=100, impute_type='col', n_nearest_columns=5).complete(data_e.as_matrix()), columns=data_e.columns, index=data_e.index);\n",
    "y_df = data_e['AFclass'].copy()\n",
    "x_df = data_e.drop('AFclass',axis=1, inplace=False)"
   ]
  },
  {
   "cell_type": "code",
   "execution_count": 5,
   "metadata": {},
   "outputs": [],
   "source": [
    "from sklearn.model_selection import cross_val_score\n",
    "from sklearn.pipeline import Pipeline\n",
    "from sklearn.ensemble import RandomForestClassifier,GradientBoostingClassifier,ExtraTreesClassifier,AdaBoostClassifier\n",
    "#from sklearn.pipeline import Pipeline\n",
    "from sklearn.model_selection import cross_val_score\n",
    "from sklearn.model_selection import train_test_split\n",
    "from sklearn.metrics import f1_score, make_scorer\n",
    "from sklearn.metrics import accuracy_score\n",
    "from sklearn.model_selection import GridSearchCV\n",
    "from sklearn.dummy import DummyClassifier\n",
    "from imblearn.over_sampling import SMOTE\n",
    "from imblearn.pipeline import Pipeline\n",
    "\n",
    "#f1_scorer = make_scorer(f1_score, average='macro',labels=Y.unique().tolist())\n",
    "#myscorer = f1_scorer\n",
    "myscorer = 'accuracy'"
   ]
  },
  {
   "cell_type": "code",
   "execution_count": 6,
   "metadata": {},
   "outputs": [],
   "source": [
    "balancer = SMOTE(random_state=42)"
   ]
  },
  {
   "cell_type": "code",
   "execution_count": 7,
   "metadata": {},
   "outputs": [],
   "source": [
    "def show_f_importance(estimator,train_data):\n",
    "    importances = estimator.feature_importances_\n",
    "    indices = np.argsort(importances)[::-1]\n",
    "    # Print the feature ranking\n",
    "    print(\"Feature ranking:\")\n",
    "\n",
    "    for f in range(train_data.shape[1]):\n",
    "        print(\"%d. feature %d - %s (%f)\" % (f + 1, indices[f],train_data.columns[indices[f]], importances[indices[f]]))\n"
   ]
  },
  {
   "cell_type": "code",
   "execution_count": 8,
   "metadata": {},
   "outputs": [],
   "source": [
    "param_grid = {\"clf__strategy\": ['most_frequent','stratified','prior','uniform']}\n",
    "\n",
    "dummy = DummyClassifier(random_state=42)\n",
    "plist = []\n",
    "plist.append(('balancer', balancer))\n",
    "plist.append(('clf', dummy))\n",
    "pipeline = Pipeline(plist)\n",
    "\n",
    "gs_dummy = GridSearchCV(pipeline, param_grid=param_grid, cv=5, verbose=1, scoring=myscorer, n_jobs=-1)"
   ]
  },
  {
   "cell_type": "code",
   "execution_count": 9,
   "metadata": {},
   "outputs": [
    {
     "name": "stdout",
     "output_type": "stream",
     "text": [
      "Fitting 5 folds for each of 4 candidates, totalling 20 fits\n"
     ]
    },
    {
     "name": "stderr",
     "output_type": "stream",
     "text": [
      "[Parallel(n_jobs=-1)]: Done  20 out of  20 | elapsed:    0.2s finished\n"
     ]
    }
   ],
   "source": [
    "gs_dummy.fit(x_df, y_df);"
   ]
  },
  {
   "cell_type": "code",
   "execution_count": 10,
   "metadata": {},
   "outputs": [
    {
     "data": {
      "text/plain": [
       "{'clf__strategy': 'most_frequent'}"
      ]
     },
     "execution_count": 10,
     "metadata": {},
     "output_type": "execute_result"
    }
   ],
   "source": [
    "gs_dummy.best_params_"
   ]
  },
  {
   "cell_type": "code",
   "execution_count": 11,
   "metadata": {},
   "outputs": [
    {
     "data": {
      "text/plain": [
       "0.6824817518248175"
      ]
     },
     "execution_count": 11,
     "metadata": {},
     "output_type": "execute_result"
    }
   ],
   "source": [
    "gs_dummy.best_score_"
   ]
  },
  {
   "cell_type": "code",
   "execution_count": 12,
   "metadata": {},
   "outputs": [],
   "source": [
    "param_grid = {\"clf__max_depth\": [10,30,50],\n",
    "              \"clf__criterion\": ['gini', 'entropy'],\n",
    "              \"clf__n_estimators\": [100,200,500,1000],\n",
    "              \"clf__random_state\": [42],\n",
    "              \"clf__class_weight\" : [None, 'balanced']}\n",
    "# param_grid = {\"classifier__max_depth\": [30],\n",
    "#               \"classifier__n_estimators\": [1000]}\n",
    "\n",
    "\n",
    "rf = RandomForestClassifier()\n",
    "\n",
    "plist = []\n",
    "plist.append(('balancer', balancer))\n",
    "plist.append(('clf', rf))\n",
    "pipeline = Pipeline(plist)\n",
    "gs_rf = GridSearchCV(pipeline, param_grid=param_grid, cv=5, verbose=1, scoring=myscorer, n_jobs=-1)"
   ]
  },
  {
   "cell_type": "code",
   "execution_count": 13,
   "metadata": {},
   "outputs": [
    {
     "name": "stdout",
     "output_type": "stream",
     "text": [
      "Fitting 5 folds for each of 48 candidates, totalling 240 fits\n"
     ]
    },
    {
     "name": "stderr",
     "output_type": "stream",
     "text": [
      "[Parallel(n_jobs=-1)]: Done  42 tasks      | elapsed:   45.9s\n",
      "[Parallel(n_jobs=-1)]: Done 192 tasks      | elapsed:  4.3min\n",
      "[Parallel(n_jobs=-1)]: Done 240 out of 240 | elapsed:  5.8min finished\n"
     ]
    }
   ],
   "source": [
    "gs_rf.fit(x_df, y_df);"
   ]
  },
  {
   "cell_type": "code",
   "execution_count": 14,
   "metadata": {},
   "outputs": [
    {
     "data": {
      "text/plain": [
       "{'clf__class_weight': None,\n",
       " 'clf__criterion': 'entropy',\n",
       " 'clf__max_depth': 30,\n",
       " 'clf__n_estimators': 100,\n",
       " 'clf__random_state': 42}"
      ]
     },
     "execution_count": 14,
     "metadata": {},
     "output_type": "execute_result"
    }
   ],
   "source": [
    "gs_rf.best_params_"
   ]
  },
  {
   "cell_type": "code",
   "execution_count": 15,
   "metadata": {},
   "outputs": [
    {
     "data": {
      "text/plain": [
       "0.6277372262773723"
      ]
     },
     "execution_count": 15,
     "metadata": {},
     "output_type": "execute_result"
    }
   ],
   "source": [
    "gs_rf.best_score_\n"
   ]
  },
  {
   "cell_type": "code",
   "execution_count": 16,
   "metadata": {},
   "outputs": [],
   "source": [
    "if gs_rf.best_score_ > best_score:\n",
    "    best_model = gs_rf\n",
    "    best_score = gs_rf.best_score_"
   ]
  },
  {
   "cell_type": "code",
   "execution_count": 17,
   "metadata": {},
   "outputs": [
    {
     "name": "stdout",
     "output_type": "stream",
     "text": [
      "Feature ranking:\n",
      "1. feature 4 - QRS (0.029896)\n",
      "2. feature 45 - Parea_ECG_V8 (0.028055)\n",
      "3. feature 3 - QTn (0.025425)\n",
      "4. feature 1 - QTm_old (0.025402)\n",
      "5. feature 25 - Pdur_ECG_V4 (0.024329)\n",
      "6. feature 23 - Pdur_ECG_V3 (0.022998)\n",
      "7. feature 34 - Parea_ECG_I (0.022602)\n",
      "8. feature 40 - Parea_ECG_V3R (0.021703)\n",
      "9. feature 55 - Pfwhm_ECG_V3 (0.019480)\n",
      "10. feature 35 - Parea_ECG_II (0.019041)\n",
      "11. feature 5 - PQ (0.018941)\n",
      "12. feature 46 - Parea_ECG_V9 (0.018872)\n",
      "13. feature 49 - Parea_ECG_aVR (0.018794)\n",
      "14. feature 42 - Parea_ECG_V4R (0.018009)\n",
      "15. feature 44 - Parea_ECG_V6 (0.017980)\n",
      "16. feature 0 - RR (0.017346)\n",
      "17. feature 37 - Parea_ECG_V1 (0.017156)\n",
      "18. feature 62 - Pfwhm_ECG_V9 (0.017130)\n",
      "19. feature 63 - Pfwhm_ECG_aVF (0.016525)\n",
      "20. feature 12 - Pdur16mean (0.016523)\n",
      "21. feature 67 - Age (0.016453)\n",
      "22. feature 10 - PCarea (0.016333)\n",
      "23. feature 54 - Pfwhm_ECG_V2 (0.016133)\n",
      "24. feature 2 - QR (0.015876)\n",
      "25. feature 51 - Pfwhm_ECG_II (0.015666)\n",
      "26. feature 65 - Pfwhm_ECG_aVR (0.015259)\n",
      "27. feature 32 - Pdur_ECG_aVL (0.014926)\n",
      "28. feature 11 - P_LoffEon (0.014923)\n",
      "29. feature 17 - Pdur16iqr (0.014575)\n",
      "30. feature 22 - Pdur_ECG_V2 (0.014519)\n",
      "31. feature 50 - Pfwhm_ECG_I (0.014457)\n",
      "32. feature 39 - Parea_ECG_V3 (0.014441)\n",
      "33. feature 38 - Parea_ECG_V2 (0.014417)\n",
      "34. feature 48 - Parea_ECG_aVL (0.014334)\n",
      "35. feature 58 - Pfwhm_ECG_V4R (0.014328)\n",
      "36. feature 13 - Pdur16median (0.013930)\n",
      "37. feature 47 - Parea_ECG_aVF (0.013743)\n",
      "38. feature 16 - Pdur16std (0.013429)\n",
      "39. feature 61 - Pfwhm_ECG_V8 (0.013349)\n",
      "40. feature 52 - Pfwhm_ECG_III (0.013347)\n",
      "41. feature 64 - Pfwhm_ECG_aVL (0.013321)\n",
      "42. feature 41 - Parea_ECG_V4 (0.012844)\n",
      "43. feature 21 - Pdur_ECG_V1 (0.012704)\n",
      "44. feature 59 - Pfwhm_ECG_V5 (0.012498)\n",
      "45. feature 53 - Pfwhm_ECG_V1 (0.012294)\n",
      "46. feature 57 - Pfwhm_ECG_V4 (0.012222)\n",
      "47. feature 9 - PCfwhm (0.011813)\n",
      "48. feature 18 - Pdur_ECG_I (0.011760)\n",
      "49. feature 15 - Pdur16max (0.011119)\n",
      "50. feature 31 - Pdur_ECG_aVF (0.010891)\n",
      "51. feature 24 - Pdur_ECG_V3R (0.010765)\n",
      "52. feature 56 - Pfwhm_ECG_V3R (0.010655)\n",
      "53. feature 20 - Pdur_ECG_III (0.010584)\n",
      "54. feature 29 - Pdur_ECG_V8 (0.010432)\n",
      "55. feature 28 - Pdur_ECG_V6 (0.010377)\n",
      "56. feature 27 - Pdur_ECG_V5 (0.010281)\n",
      "57. feature 30 - Pdur_ECG_V9 (0.010139)\n",
      "58. feature 60 - Pfwhm_ECG_V6 (0.010129)\n",
      "59. feature 6 - PCpos (0.010100)\n",
      "60. feature 19 - Pdur_ECG_II (0.009931)\n",
      "61. feature 33 - Pdur_ECG_aVR (0.009779)\n",
      "62. feature 14 - Pdur16min (0.009627)\n",
      "63. feature 26 - Pdur_ECG_V4R (0.009617)\n",
      "64. feature 43 - Parea_ECG_V5 (0.009364)\n",
      "65. feature 8 - PCdur (0.009250)\n",
      "66. feature 36 - Parea_ECG_III (0.007918)\n",
      "67. feature 7 - PCneg (0.005202)\n",
      "68. feature 66 - patsex (0.003737)\n"
     ]
    }
   ],
   "source": [
    "show_f_importance(gs_rf.best_estimator_.named_steps['clf'],x_df)"
   ]
  },
  {
   "cell_type": "code",
   "execution_count": 18,
   "metadata": {},
   "outputs": [],
   "source": [
    "param_grid = {\"clf__max_depth\": [3,5,8],\n",
    "              \"clf__n_estimators\": [100,200,500,1000],\n",
    "              \"clf__min_samples_leaf\": [1,3,5,10]}\n",
    "# param_grid = {\"classifier__n_estimators\": [50],\n",
    "#               \"classifier__max_depth\": [5],\n",
    "# \n",
    "\n",
    "gb = GradientBoostingClassifier(random_state=42)\n",
    "plist = []\n",
    "plist.append(('balancer', balancer))\n",
    "plist.append(('clf', gb))\n",
    "pipeline = Pipeline(plist)\n",
    "gs_gb = GridSearchCV(pipeline, param_grid=param_grid, cv=5, verbose=1,  scoring=myscorer, n_jobs=-1)"
   ]
  },
  {
   "cell_type": "code",
   "execution_count": 19,
   "metadata": {},
   "outputs": [
    {
     "name": "stdout",
     "output_type": "stream",
     "text": [
      "Fitting 5 folds for each of 48 candidates, totalling 240 fits\n"
     ]
    },
    {
     "name": "stderr",
     "output_type": "stream",
     "text": [
      "[Parallel(n_jobs=-1)]: Done  42 tasks      | elapsed:   40.7s\n",
      "[Parallel(n_jobs=-1)]: Done 192 tasks      | elapsed:  3.3min\n",
      "[Parallel(n_jobs=-1)]: Done 240 out of 240 | elapsed:  4.0min finished\n"
     ]
    }
   ],
   "source": [
    "gs_gb.fit(x_df, y_df);"
   ]
  },
  {
   "cell_type": "code",
   "execution_count": 20,
   "metadata": {},
   "outputs": [
    {
     "data": {
      "text/plain": [
       "{'clf__max_depth': 5, 'clf__min_samples_leaf': 1, 'clf__n_estimators': 200}"
      ]
     },
     "execution_count": 20,
     "metadata": {},
     "output_type": "execute_result"
    }
   ],
   "source": [
    "gs_gb.best_params_"
   ]
  },
  {
   "cell_type": "code",
   "execution_count": 21,
   "metadata": {},
   "outputs": [
    {
     "data": {
      "text/plain": [
       "0.6605839416058394"
      ]
     },
     "execution_count": 21,
     "metadata": {},
     "output_type": "execute_result"
    }
   ],
   "source": [
    "gs_gb.best_score_"
   ]
  },
  {
   "cell_type": "code",
   "execution_count": 22,
   "metadata": {},
   "outputs": [],
   "source": [
    "if gs_gb.best_score_ > best_score:\n",
    "    best_model = gs_gb\n",
    "    best_score = gs_gb.best_score_"
   ]
  },
  {
   "cell_type": "code",
   "execution_count": 23,
   "metadata": {},
   "outputs": [
    {
     "name": "stdout",
     "output_type": "stream",
     "text": [
      "Feature ranking:\n",
      "1. feature 1 - QTm_old (0.039163)\n",
      "2. feature 37 - Parea_ECG_V1 (0.033949)\n",
      "3. feature 34 - Parea_ECG_I (0.032819)\n",
      "4. feature 50 - Pfwhm_ECG_I (0.032210)\n",
      "5. feature 52 - Pfwhm_ECG_III (0.031865)\n",
      "6. feature 0 - RR (0.030842)\n",
      "7. feature 64 - Pfwhm_ECG_aVL (0.030241)\n",
      "8. feature 2 - QR (0.030006)\n",
      "9. feature 54 - Pfwhm_ECG_V2 (0.029419)\n",
      "10. feature 47 - Parea_ECG_aVF (0.027212)\n",
      "11. feature 40 - Parea_ECG_V3R (0.025544)\n",
      "12. feature 4 - QRS (0.025515)\n",
      "13. feature 3 - QTn (0.025276)\n",
      "14. feature 39 - Parea_ECG_V3 (0.024238)\n",
      "15. feature 45 - Parea_ECG_V8 (0.023873)\n",
      "16. feature 67 - Age (0.023791)\n",
      "17. feature 38 - Parea_ECG_V2 (0.022386)\n",
      "18. feature 16 - Pdur16std (0.019062)\n",
      "19. feature 10 - PCarea (0.018582)\n",
      "20. feature 46 - Parea_ECG_V9 (0.018505)\n",
      "21. feature 35 - Parea_ECG_II (0.018100)\n",
      "22. feature 7 - PCneg (0.017898)\n",
      "23. feature 59 - Pfwhm_ECG_V5 (0.017763)\n",
      "24. feature 58 - Pfwhm_ECG_V4R (0.017143)\n",
      "25. feature 25 - Pdur_ECG_V4 (0.017124)\n",
      "26. feature 53 - Pfwhm_ECG_V1 (0.016678)\n",
      "27. feature 62 - Pfwhm_ECG_V9 (0.015740)\n",
      "28. feature 48 - Parea_ECG_aVL (0.015417)\n",
      "29. feature 51 - Pfwhm_ECG_II (0.015369)\n",
      "30. feature 63 - Pfwhm_ECG_aVF (0.014879)\n",
      "31. feature 5 - PQ (0.014232)\n",
      "32. feature 36 - Parea_ECG_III (0.013659)\n",
      "33. feature 17 - Pdur16iqr (0.013246)\n",
      "34. feature 6 - PCpos (0.012553)\n",
      "35. feature 56 - Pfwhm_ECG_V3R (0.012167)\n",
      "36. feature 23 - Pdur_ECG_V3 (0.012054)\n",
      "37. feature 65 - Pfwhm_ECG_aVR (0.011447)\n",
      "38. feature 9 - PCfwhm (0.011390)\n",
      "39. feature 55 - Pfwhm_ECG_V3 (0.010685)\n",
      "40. feature 61 - Pfwhm_ECG_V8 (0.009969)\n",
      "41. feature 31 - Pdur_ECG_aVF (0.009927)\n",
      "42. feature 22 - Pdur_ECG_V2 (0.009773)\n",
      "43. feature 20 - Pdur_ECG_III (0.009485)\n",
      "44. feature 43 - Parea_ECG_V5 (0.009244)\n",
      "45. feature 49 - Parea_ECG_aVR (0.009232)\n",
      "46. feature 66 - patsex (0.008772)\n",
      "47. feature 42 - Parea_ECG_V4R (0.008600)\n",
      "48. feature 14 - Pdur16min (0.008121)\n",
      "49. feature 57 - Pfwhm_ECG_V4 (0.007865)\n",
      "50. feature 41 - Parea_ECG_V4 (0.007214)\n",
      "51. feature 29 - Pdur_ECG_V8 (0.007039)\n",
      "52. feature 44 - Parea_ECG_V6 (0.006720)\n",
      "53. feature 21 - Pdur_ECG_V1 (0.006225)\n",
      "54. feature 18 - Pdur_ECG_I (0.006139)\n",
      "55. feature 32 - Pdur_ECG_aVL (0.005976)\n",
      "56. feature 28 - Pdur_ECG_V6 (0.005729)\n",
      "57. feature 19 - Pdur_ECG_II (0.005231)\n",
      "58. feature 27 - Pdur_ECG_V5 (0.005160)\n",
      "59. feature 26 - Pdur_ECG_V4R (0.005080)\n",
      "60. feature 60 - Pfwhm_ECG_V6 (0.004678)\n",
      "61. feature 15 - Pdur16max (0.004194)\n",
      "62. feature 30 - Pdur_ECG_V9 (0.004098)\n",
      "63. feature 11 - P_LoffEon (0.003938)\n",
      "64. feature 24 - Pdur_ECG_V3R (0.003536)\n",
      "65. feature 33 - Pdur_ECG_aVR (0.002908)\n",
      "66. feature 12 - Pdur16mean (0.001255)\n",
      "67. feature 8 - PCdur (0.001063)\n",
      "68. feature 13 - Pdur16median (0.000783)\n"
     ]
    }
   ],
   "source": [
    "show_f_importance(gs_gb.best_estimator_.named_steps['clf'],x_df)"
   ]
  },
  {
   "cell_type": "code",
   "execution_count": 24,
   "metadata": {},
   "outputs": [],
   "source": [
    "param_grid = {\"clf__learning_rate\": [0.1,0.3,0.7,0.8],\n",
    "              \"clf__n_estimators\": [100,1000,2000,2500,3000,5000]}\n",
    "\n",
    "ab = AdaBoostClassifier(random_state=42)\n",
    "\n",
    "plist = []\n",
    "plist.append(('balancer', balancer))\n",
    "plist.append(('clf', ab))\n",
    "pipeline = Pipeline(plist)\n",
    "\n",
    "gs_ab = GridSearchCV(pipeline, param_grid=param_grid, cv=5, verbose=1, scoring=myscorer, n_jobs=-1)"
   ]
  },
  {
   "cell_type": "code",
   "execution_count": 25,
   "metadata": {},
   "outputs": [
    {
     "name": "stdout",
     "output_type": "stream",
     "text": [
      "Fitting 5 folds for each of 24 candidates, totalling 120 fits\n"
     ]
    },
    {
     "name": "stderr",
     "output_type": "stream",
     "text": [
      "[Parallel(n_jobs=-1)]: Done  42 tasks      | elapsed:  6.4min\n",
      "[Parallel(n_jobs=-1)]: Done 120 out of 120 | elapsed: 21.8min finished\n"
     ]
    }
   ],
   "source": [
    "gs_ab.fit(x_df, y_df);"
   ]
  },
  {
   "cell_type": "code",
   "execution_count": 26,
   "metadata": {},
   "outputs": [
    {
     "data": {
      "text/plain": [
       "{'clf__learning_rate': 0.8, 'clf__n_estimators': 100}"
      ]
     },
     "execution_count": 26,
     "metadata": {},
     "output_type": "execute_result"
    }
   ],
   "source": [
    "gs_ab.best_params_"
   ]
  },
  {
   "cell_type": "code",
   "execution_count": 27,
   "metadata": {},
   "outputs": [
    {
     "data": {
      "text/plain": [
       "0.635036496350365"
      ]
     },
     "execution_count": 27,
     "metadata": {},
     "output_type": "execute_result"
    }
   ],
   "source": [
    "gs_ab.best_score_"
   ]
  },
  {
   "cell_type": "code",
   "execution_count": 28,
   "metadata": {},
   "outputs": [],
   "source": [
    "\n",
    "if gs_ab.best_score_ > best_score:\n",
    "    best_model = gs_ab\n",
    "    best_score = gs_ab.best_score_"
   ]
  },
  {
   "cell_type": "code",
   "execution_count": 29,
   "metadata": {},
   "outputs": [
    {
     "name": "stdout",
     "output_type": "stream",
     "text": [
      "Feature ranking:\n",
      "1. feature 35 - Parea_ECG_II (0.070000)\n",
      "2. feature 34 - Parea_ECG_I (0.050000)\n",
      "3. feature 10 - PCarea (0.050000)\n",
      "4. feature 64 - Pfwhm_ECG_aVL (0.050000)\n",
      "5. feature 40 - Parea_ECG_V3R (0.050000)\n",
      "6. feature 45 - Parea_ECG_V8 (0.050000)\n",
      "7. feature 37 - Parea_ECG_V1 (0.040000)\n",
      "8. feature 62 - Pfwhm_ECG_V9 (0.040000)\n",
      "9. feature 59 - Pfwhm_ECG_V5 (0.040000)\n",
      "10. feature 39 - Parea_ECG_V3 (0.030000)\n",
      "11. feature 25 - Pdur_ECG_V4 (0.030000)\n",
      "12. feature 50 - Pfwhm_ECG_I (0.030000)\n",
      "13. feature 1 - QTm_old (0.030000)\n",
      "14. feature 2 - QR (0.030000)\n",
      "15. feature 61 - Pfwhm_ECG_V8 (0.030000)\n",
      "16. feature 55 - Pfwhm_ECG_V3 (0.020000)\n",
      "17. feature 54 - Pfwhm_ECG_V2 (0.020000)\n",
      "18. feature 32 - Pdur_ECG_aVL (0.020000)\n",
      "19. feature 30 - Pdur_ECG_V9 (0.020000)\n",
      "20. feature 3 - QTn (0.020000)\n",
      "21. feature 42 - Parea_ECG_V4R (0.020000)\n",
      "22. feature 44 - Parea_ECG_V6 (0.020000)\n",
      "23. feature 57 - Pfwhm_ECG_V4 (0.020000)\n",
      "24. feature 47 - Parea_ECG_aVF (0.020000)\n",
      "25. feature 23 - Pdur_ECG_V3 (0.020000)\n",
      "26. feature 0 - RR (0.020000)\n",
      "27. feature 4 - QRS (0.010000)\n",
      "28. feature 28 - Pdur_ECG_V6 (0.010000)\n",
      "29. feature 29 - Pdur_ECG_V8 (0.010000)\n",
      "30. feature 16 - Pdur16std (0.010000)\n",
      "31. feature 66 - patsex (0.010000)\n",
      "32. feature 6 - PCpos (0.010000)\n",
      "33. feature 9 - PCfwhm (0.010000)\n",
      "34. feature 7 - PCneg (0.010000)\n",
      "35. feature 67 - Age (0.010000)\n",
      "36. feature 33 - Pdur_ECG_aVR (0.010000)\n",
      "37. feature 58 - Pfwhm_ECG_V4R (0.010000)\n",
      "38. feature 52 - Pfwhm_ECG_III (0.010000)\n",
      "39. feature 53 - Pfwhm_ECG_V1 (0.010000)\n",
      "40. feature 48 - Parea_ECG_aVL (0.010000)\n",
      "41. feature 41 - Parea_ECG_V4 (0.010000)\n",
      "42. feature 38 - Parea_ECG_V2 (0.010000)\n",
      "43. feature 63 - Pfwhm_ECG_aVF (0.000000)\n",
      "44. feature 60 - Pfwhm_ECG_V6 (0.000000)\n",
      "45. feature 65 - Pfwhm_ECG_aVR (0.000000)\n",
      "46. feature 5 - PQ (0.000000)\n",
      "47. feature 14 - Pdur16min (0.000000)\n",
      "48. feature 56 - Pfwhm_ECG_V3R (0.000000)\n",
      "49. feature 8 - PCdur (0.000000)\n",
      "50. feature 51 - Pfwhm_ECG_II (0.000000)\n",
      "51. feature 11 - P_LoffEon (0.000000)\n",
      "52. feature 12 - Pdur16mean (0.000000)\n",
      "53. feature 13 - Pdur16median (0.000000)\n",
      "54. feature 36 - Parea_ECG_III (0.000000)\n",
      "55. feature 15 - Pdur16max (0.000000)\n",
      "56. feature 31 - Pdur_ECG_aVF (0.000000)\n",
      "57. feature 17 - Pdur16iqr (0.000000)\n",
      "58. feature 18 - Pdur_ECG_I (0.000000)\n",
      "59. feature 19 - Pdur_ECG_II (0.000000)\n",
      "60. feature 20 - Pdur_ECG_III (0.000000)\n",
      "61. feature 21 - Pdur_ECG_V1 (0.000000)\n",
      "62. feature 22 - Pdur_ECG_V2 (0.000000)\n",
      "63. feature 24 - Pdur_ECG_V3R (0.000000)\n",
      "64. feature 46 - Parea_ECG_V9 (0.000000)\n",
      "65. feature 26 - Pdur_ECG_V4R (0.000000)\n",
      "66. feature 27 - Pdur_ECG_V5 (0.000000)\n",
      "67. feature 43 - Parea_ECG_V5 (0.000000)\n",
      "68. feature 49 - Parea_ECG_aVR (0.000000)\n"
     ]
    }
   ],
   "source": [
    "show_f_importance(gs_ab.best_estimator_.named_steps['clf'],x_df)"
   ]
  },
  {
   "cell_type": "code",
   "execution_count": 30,
   "metadata": {},
   "outputs": [],
   "source": [
    "param_grid = {\"clf__max_depth\": [3,5,8,10,15,30],\n",
    "              \"clf__n_estimators\": [100,200,500,1000,1500],\n",
    "              \"clf__min_samples_leaf\": [1,3,5,10]}\n",
    "\n",
    "et = ExtraTreesClassifier(random_state=42)\n",
    "\n",
    "plist = []\n",
    "plist.append(('balancer', balancer))\n",
    "plist.append(('clf', et))\n",
    "pipeline = Pipeline(plist)\n",
    "\n",
    "gs_et = GridSearchCV(pipeline, param_grid=param_grid, cv=5, verbose=1,  scoring=myscorer, n_jobs=-1)"
   ]
  },
  {
   "cell_type": "code",
   "execution_count": 31,
   "metadata": {},
   "outputs": [
    {
     "name": "stdout",
     "output_type": "stream",
     "text": [
      "Fitting 5 folds for each of 120 candidates, totalling 600 fits\n"
     ]
    },
    {
     "name": "stderr",
     "output_type": "stream",
     "text": [
      "[Parallel(n_jobs=-1)]: Done  42 tasks      | elapsed:   43.1s\n",
      "[Parallel(n_jobs=-1)]: Done 192 tasks      | elapsed:  3.9min\n",
      "[Parallel(n_jobs=-1)]: Done 442 tasks      | elapsed:  9.1min\n",
      "[Parallel(n_jobs=-1)]: Done 600 out of 600 | elapsed: 12.0min finished\n"
     ]
    }
   ],
   "source": [
    "gs_et.fit(x_df, y_df);"
   ]
  },
  {
   "cell_type": "code",
   "execution_count": 32,
   "metadata": {},
   "outputs": [
    {
     "data": {
      "text/plain": [
       "{'clf__max_depth': 8, 'clf__min_samples_leaf': 1, 'clf__n_estimators': 100}"
      ]
     },
     "execution_count": 32,
     "metadata": {},
     "output_type": "execute_result"
    }
   ],
   "source": [
    "gs_et.best_params_"
   ]
  },
  {
   "cell_type": "code",
   "execution_count": 33,
   "metadata": {},
   "outputs": [
    {
     "data": {
      "text/plain": [
       "0.635036496350365"
      ]
     },
     "execution_count": 33,
     "metadata": {},
     "output_type": "execute_result"
    }
   ],
   "source": [
    "gs_et.best_score_"
   ]
  },
  {
   "cell_type": "code",
   "execution_count": 34,
   "metadata": {},
   "outputs": [],
   "source": [
    "if gs_et.best_score_ > best_score:\n",
    "    best_model = gs_et\n",
    "    best_score = gs_et.best_score_"
   ]
  },
  {
   "cell_type": "code",
   "execution_count": 35,
   "metadata": {},
   "outputs": [
    {
     "name": "stdout",
     "output_type": "stream",
     "text": [
      "Feature ranking:\n",
      "1. feature 1 - QTm_old (0.032112)\n",
      "2. feature 45 - Parea_ECG_V8 (0.028103)\n",
      "3. feature 25 - Pdur_ECG_V4 (0.024425)\n",
      "4. feature 23 - Pdur_ECG_V3 (0.022651)\n",
      "5. feature 34 - Parea_ECG_I (0.021396)\n",
      "6. feature 40 - Parea_ECG_V3R (0.020291)\n",
      "7. feature 3 - QTn (0.019453)\n",
      "8. feature 0 - RR (0.018263)\n",
      "9. feature 12 - Pdur16mean (0.017997)\n",
      "10. feature 18 - Pdur_ECG_I (0.017586)\n",
      "11. feature 55 - Pfwhm_ECG_V3 (0.017145)\n",
      "12. feature 42 - Parea_ECG_V4R (0.016893)\n",
      "13. feature 65 - Pfwhm_ECG_aVR (0.016867)\n",
      "14. feature 4 - QRS (0.016552)\n",
      "15. feature 11 - P_LoffEon (0.016088)\n",
      "16. feature 64 - Pfwhm_ECG_aVL (0.015925)\n",
      "17. feature 38 - Parea_ECG_V2 (0.015906)\n",
      "18. feature 66 - patsex (0.015845)\n",
      "19. feature 8 - PCdur (0.015764)\n",
      "20. feature 37 - Parea_ECG_V1 (0.015761)\n",
      "21. feature 46 - Parea_ECG_V9 (0.015641)\n",
      "22. feature 48 - Parea_ECG_aVL (0.015584)\n",
      "23. feature 51 - Pfwhm_ECG_II (0.015534)\n",
      "24. feature 28 - Pdur_ECG_V6 (0.015372)\n",
      "25. feature 39 - Parea_ECG_V3 (0.015268)\n",
      "26. feature 59 - Pfwhm_ECG_V5 (0.015158)\n",
      "27. feature 44 - Parea_ECG_V6 (0.014835)\n",
      "28. feature 32 - Pdur_ECG_aVL (0.014725)\n",
      "29. feature 2 - QR (0.014691)\n",
      "30. feature 35 - Parea_ECG_II (0.014619)\n",
      "31. feature 53 - Pfwhm_ECG_V1 (0.014506)\n",
      "32. feature 19 - Pdur_ECG_II (0.014385)\n",
      "33. feature 57 - Pfwhm_ECG_V4 (0.014254)\n",
      "34. feature 22 - Pdur_ECG_V2 (0.014244)\n",
      "35. feature 24 - Pdur_ECG_V3R (0.013830)\n",
      "36. feature 41 - Parea_ECG_V4 (0.013780)\n",
      "37. feature 15 - Pdur16max (0.013715)\n",
      "38. feature 52 - Pfwhm_ECG_III (0.013700)\n",
      "39. feature 10 - PCarea (0.013685)\n",
      "40. feature 54 - Pfwhm_ECG_V2 (0.013411)\n",
      "41. feature 16 - Pdur16std (0.013387)\n",
      "42. feature 33 - Pdur_ECG_aVR (0.013362)\n",
      "43. feature 67 - Age (0.013189)\n",
      "44. feature 47 - Parea_ECG_aVF (0.013056)\n",
      "45. feature 9 - PCfwhm (0.012990)\n",
      "46. feature 27 - Pdur_ECG_V5 (0.012965)\n",
      "47. feature 6 - PCpos (0.012964)\n",
      "48. feature 26 - Pdur_ECG_V4R (0.012936)\n",
      "49. feature 21 - Pdur_ECG_V1 (0.012819)\n",
      "50. feature 7 - PCneg (0.012595)\n",
      "51. feature 14 - Pdur16min (0.012503)\n",
      "52. feature 31 - Pdur_ECG_aVF (0.012337)\n",
      "53. feature 49 - Parea_ECG_aVR (0.012159)\n",
      "54. feature 62 - Pfwhm_ECG_V9 (0.011970)\n",
      "55. feature 43 - Parea_ECG_V5 (0.011605)\n",
      "56. feature 17 - Pdur16iqr (0.011410)\n",
      "57. feature 61 - Pfwhm_ECG_V8 (0.011391)\n",
      "58. feature 20 - Pdur_ECG_III (0.011135)\n",
      "59. feature 5 - PQ (0.010877)\n",
      "60. feature 63 - Pfwhm_ECG_aVF (0.010795)\n",
      "61. feature 60 - Pfwhm_ECG_V6 (0.010626)\n",
      "62. feature 30 - Pdur_ECG_V9 (0.010507)\n",
      "63. feature 29 - Pdur_ECG_V8 (0.010210)\n",
      "64. feature 13 - Pdur16median (0.009685)\n",
      "65. feature 36 - Parea_ECG_III (0.009460)\n",
      "66. feature 50 - Pfwhm_ECG_I (0.009260)\n",
      "67. feature 56 - Pfwhm_ECG_V3R (0.009181)\n",
      "68. feature 58 - Pfwhm_ECG_V4R (0.008667)\n"
     ]
    }
   ],
   "source": [
    "show_f_importance(gs_et.best_estimator_.named_steps['clf'],x_df)"
   ]
  },
  {
   "cell_type": "code",
   "execution_count": 36,
   "metadata": {},
   "outputs": [
    {
     "data": {
      "text/plain": [
       "(275, 73)"
      ]
     },
     "execution_count": 36,
     "metadata": {},
     "output_type": "execute_result"
    }
   ],
   "source": [
    "cdata = pd.read_csv('../data/central' +'_data.csv')\n",
    "cdata.shape"
   ]
  },
  {
   "cell_type": "code",
   "execution_count": 37,
   "metadata": {},
   "outputs": [
    {
     "name": "stdout",
     "output_type": "stream",
     "text": [
      "[MICE] Completing matrix with shape (270, 69)\n",
      "[MICE] Starting imputation round 1/110, elapsed time 0.003\n",
      "[MICE] Starting imputation round 2/110, elapsed time 0.045\n",
      "[MICE] Starting imputation round 3/110, elapsed time 0.091\n",
      "[MICE] Starting imputation round 4/110, elapsed time 0.143\n",
      "[MICE] Starting imputation round 5/110, elapsed time 0.195\n",
      "[MICE] Starting imputation round 6/110, elapsed time 0.243\n",
      "[MICE] Starting imputation round 7/110, elapsed time 0.288\n",
      "[MICE] Starting imputation round 8/110, elapsed time 0.342\n",
      "[MICE] Starting imputation round 9/110, elapsed time 0.386\n",
      "[MICE] Starting imputation round 10/110, elapsed time 0.432\n",
      "[MICE] Starting imputation round 11/110, elapsed time 0.496\n",
      "[MICE] Starting imputation round 12/110, elapsed time 0.541\n",
      "[MICE] Starting imputation round 13/110, elapsed time 0.608\n",
      "[MICE] Starting imputation round 14/110, elapsed time 0.654\n",
      "[MICE] Starting imputation round 15/110, elapsed time 0.702\n",
      "[MICE] Starting imputation round 16/110, elapsed time 0.746\n",
      "[MICE] Starting imputation round 17/110, elapsed time 0.800\n",
      "[MICE] Starting imputation round 18/110, elapsed time 0.849\n",
      "[MICE] Starting imputation round 19/110, elapsed time 0.898\n",
      "[MICE] Starting imputation round 20/110, elapsed time 0.945\n",
      "[MICE] Starting imputation round 21/110, elapsed time 0.992\n",
      "[MICE] Starting imputation round 22/110, elapsed time 1.037\n",
      "[MICE] Starting imputation round 23/110, elapsed time 1.086\n",
      "[MICE] Starting imputation round 24/110, elapsed time 1.144\n",
      "[MICE] Starting imputation round 25/110, elapsed time 1.198\n",
      "[MICE] Starting imputation round 26/110, elapsed time 1.251\n",
      "[MICE] Starting imputation round 27/110, elapsed time 1.304\n",
      "[MICE] Starting imputation round 28/110, elapsed time 1.357\n",
      "[MICE] Starting imputation round 29/110, elapsed time 1.423\n",
      "[MICE] Starting imputation round 30/110, elapsed time 1.480\n",
      "[MICE] Starting imputation round 31/110, elapsed time 1.538\n",
      "[MICE] Starting imputation round 32/110, elapsed time 1.600\n",
      "[MICE] Starting imputation round 33/110, elapsed time 1.648\n",
      "[MICE] Starting imputation round 34/110, elapsed time 1.697\n",
      "[MICE] Starting imputation round 35/110, elapsed time 1.759\n",
      "[MICE] Starting imputation round 36/110, elapsed time 1.804\n",
      "[MICE] Starting imputation round 37/110, elapsed time 1.855\n",
      "[MICE] Starting imputation round 38/110, elapsed time 1.908\n",
      "[MICE] Starting imputation round 39/110, elapsed time 1.962\n",
      "[MICE] Starting imputation round 40/110, elapsed time 2.011\n",
      "[MICE] Starting imputation round 41/110, elapsed time 2.065\n",
      "[MICE] Starting imputation round 42/110, elapsed time 2.112\n",
      "[MICE] Starting imputation round 43/110, elapsed time 2.161\n",
      "[MICE] Starting imputation round 44/110, elapsed time 2.212\n",
      "[MICE] Starting imputation round 45/110, elapsed time 2.268\n",
      "[MICE] Starting imputation round 46/110, elapsed time 2.318\n",
      "[MICE] Starting imputation round 47/110, elapsed time 2.375\n",
      "[MICE] Starting imputation round 48/110, elapsed time 2.423\n",
      "[MICE] Starting imputation round 49/110, elapsed time 2.477\n",
      "[MICE] Starting imputation round 50/110, elapsed time 2.530\n",
      "[MICE] Starting imputation round 51/110, elapsed time 2.579\n",
      "[MICE] Starting imputation round 52/110, elapsed time 2.628\n",
      "[MICE] Starting imputation round 53/110, elapsed time 2.676\n",
      "[MICE] Starting imputation round 54/110, elapsed time 2.728\n",
      "[MICE] Starting imputation round 55/110, elapsed time 2.781\n",
      "[MICE] Starting imputation round 56/110, elapsed time 2.840\n",
      "[MICE] Starting imputation round 57/110, elapsed time 2.894\n",
      "[MICE] Starting imputation round 58/110, elapsed time 2.939\n",
      "[MICE] Starting imputation round 59/110, elapsed time 2.984\n",
      "[MICE] Starting imputation round 60/110, elapsed time 3.035\n",
      "[MICE] Starting imputation round 61/110, elapsed time 3.097\n",
      "[MICE] Starting imputation round 62/110, elapsed time 3.140\n",
      "[MICE] Starting imputation round 63/110, elapsed time 3.193\n",
      "[MICE] Starting imputation round 64/110, elapsed time 3.241\n",
      "[MICE] Starting imputation round 65/110, elapsed time 3.289\n",
      "[MICE] Starting imputation round 66/110, elapsed time 3.347\n",
      "[MICE] Starting imputation round 67/110, elapsed time 3.394\n",
      "[MICE] Starting imputation round 68/110, elapsed time 3.443\n",
      "[MICE] Starting imputation round 69/110, elapsed time 3.493\n",
      "[MICE] Starting imputation round 70/110, elapsed time 3.545\n",
      "[MICE] Starting imputation round 71/110, elapsed time 3.600\n",
      "[MICE] Starting imputation round 72/110, elapsed time 3.645\n",
      "[MICE] Starting imputation round 73/110, elapsed time 3.694\n",
      "[MICE] Starting imputation round 74/110, elapsed time 3.744\n",
      "[MICE] Starting imputation round 75/110, elapsed time 3.795\n",
      "[MICE] Starting imputation round 76/110, elapsed time 3.862\n",
      "[MICE] Starting imputation round 77/110, elapsed time 3.909\n",
      "[MICE] Starting imputation round 78/110, elapsed time 3.957\n",
      "[MICE] Starting imputation round 79/110, elapsed time 4.007\n",
      "[MICE] Starting imputation round 80/110, elapsed time 4.050\n",
      "[MICE] Starting imputation round 81/110, elapsed time 4.096\n",
      "[MICE] Starting imputation round 82/110, elapsed time 4.142\n",
      "[MICE] Starting imputation round 83/110, elapsed time 4.195\n",
      "[MICE] Starting imputation round 84/110, elapsed time 4.250\n",
      "[MICE] Starting imputation round 85/110, elapsed time 4.299\n",
      "[MICE] Starting imputation round 86/110, elapsed time 4.348\n",
      "[MICE] Starting imputation round 87/110, elapsed time 4.402\n",
      "[MICE] Starting imputation round 88/110, elapsed time 4.448\n",
      "[MICE] Starting imputation round 89/110, elapsed time 4.498\n",
      "[MICE] Starting imputation round 90/110, elapsed time 4.560\n",
      "[MICE] Starting imputation round 91/110, elapsed time 4.607\n",
      "[MICE] Starting imputation round 92/110, elapsed time 4.651\n",
      "[MICE] Starting imputation round 93/110, elapsed time 4.698\n",
      "[MICE] Starting imputation round 94/110, elapsed time 4.753\n",
      "[MICE] Starting imputation round 95/110, elapsed time 4.810\n",
      "[MICE] Starting imputation round 96/110, elapsed time 4.855\n",
      "[MICE] Starting imputation round 97/110, elapsed time 4.905\n",
      "[MICE] Starting imputation round 98/110, elapsed time 4.949\n",
      "[MICE] Starting imputation round 99/110, elapsed time 4.996\n",
      "[MICE] Starting imputation round 100/110, elapsed time 5.043\n",
      "[MICE] Starting imputation round 101/110, elapsed time 5.093\n",
      "[MICE] Starting imputation round 102/110, elapsed time 5.138\n",
      "[MICE] Starting imputation round 103/110, elapsed time 5.185\n",
      "[MICE] Starting imputation round 104/110, elapsed time 5.233\n",
      "[MICE] Starting imputation round 105/110, elapsed time 5.281\n",
      "[MICE] Starting imputation round 106/110, elapsed time 5.330\n",
      "[MICE] Starting imputation round 107/110, elapsed time 5.376\n",
      "[MICE] Starting imputation round 108/110, elapsed time 5.424\n",
      "[MICE] Starting imputation round 109/110, elapsed time 5.474\n",
      "[MICE] Starting imputation round 110/110, elapsed time 5.520\n"
     ]
    }
   ],
   "source": [
    "data_e = cdata[cdata['IPG'] != 1]\n",
    "data_e = data_e.drop('IPG', axis = 1);\n",
    "data_e = data_e.drop('sbjBeatConsidered', axis = 1);\n",
    "data_e = data_e.drop('numRRaveraged', axis = 1);\n",
    "data_e = data_e.drop('Soggetti', axis = 1);\n",
    "# df_columns = data.columns.tolist()\n",
    "# matching_columns1 = [s for s in df_columns if \"Parea\" in s]\n",
    "# matching_columns2 = [s for s in df_columns if \"Pdur\" in s]\n",
    "# mc = matching_columns1 + matching_columns2\n",
    "# data_e = data_e.dropna(subset=mc)\n",
    "data_e['PCneg'].fillna(0, inplace=True)\n",
    "data_e['AFclass'].replace('persistierend (>7 Tage, EKV)', 1, inplace=True)\n",
    "data_e['AFclass'].replace('paroxysmal', 0, inplace=True)\n",
    "categorical_variables_mask = data_e.dtypes==object\n",
    "categorical_variables = data_e.columns[categorical_variables_mask]\n",
    "for v in categorical_variables:\n",
    "    data_e[v] = LabelEncoder().fit_transform(data_e[v])\n",
    "del categorical_variables_mask,categorical_variables\n",
    "data_e = pd.DataFrame(data=MICE(n_imputations=100, impute_type='col', n_nearest_columns=5).complete(data_e.as_matrix()), columns=data_e.columns, index=data_e.index);\n",
    "cy_df = data_e['AFclass'].copy()\n",
    "cx_df = data_e.drop('AFclass',axis=1, inplace=False)"
   ]
  },
  {
   "cell_type": "code",
   "execution_count": 38,
   "metadata": {},
   "outputs": [
    {
     "data": {
      "text/plain": [
       "0.6111111111111112"
      ]
     },
     "execution_count": 38,
     "metadata": {},
     "output_type": "execute_result"
    }
   ],
   "source": [
    "from sklearn.metrics import accuracy_score\n",
    "p = best_model.predict(cx_df);\n",
    "scores = pd.DataFrame({hospital_name: p})\n",
    "scores.to_csv('../data/' + hospital_name +'_predictions.csv', index=False)\n",
    "np.save('../data/' + hospital_name +'_acc',best_score)\n",
    "accuracy_score(cy_df, p)"
   ]
  },
  {
   "cell_type": "code",
   "execution_count": 39,
   "metadata": {},
   "outputs": [
    {
     "data": {
      "text/plain": [
       "0.6605839416058394"
      ]
     },
     "execution_count": 39,
     "metadata": {},
     "output_type": "execute_result"
    }
   ],
   "source": [
    "best_score"
   ]
  },
  {
   "cell_type": "code",
   "execution_count": null,
   "metadata": {},
   "outputs": [],
   "source": []
  }
 ],
 "metadata": {
  "kernelspec": {
   "display_name": "Python 3",
   "language": "python",
   "name": "python3"
  },
  "language_info": {
   "codemirror_mode": {
    "name": "ipython",
    "version": 3
   },
   "file_extension": ".py",
   "mimetype": "text/x-python",
   "name": "python",
   "nbconvert_exporter": "python",
   "pygments_lexer": "ipython3",
   "version": "3.6.5"
  },
  "toc": {
   "nav_menu": {},
   "number_sections": true,
   "sideBar": true,
   "skip_h1_title": false,
   "title_cell": "Table of Contents",
   "title_sidebar": "Contents",
   "toc_cell": false,
   "toc_position": {},
   "toc_section_display": true,
   "toc_window_display": false
  },
  "varInspector": {
   "cols": {
    "lenName": 16,
    "lenType": 16,
    "lenVar": 40
   },
   "kernels_config": {
    "python": {
     "delete_cmd_postfix": "",
     "delete_cmd_prefix": "del ",
     "library": "var_list.py",
     "varRefreshCmd": "print(var_dic_list())"
    },
    "r": {
     "delete_cmd_postfix": ") ",
     "delete_cmd_prefix": "rm(",
     "library": "var_list.r",
     "varRefreshCmd": "cat(var_dic_list()) "
    }
   },
   "types_to_exclude": [
    "module",
    "function",
    "builtin_function_or_method",
    "instance",
    "_Feature"
   ],
   "window_display": false
  }
 },
 "nbformat": 4,
 "nbformat_minor": 2
}
