{
 "cells": [
  {
   "cell_type": "code",
   "execution_count": 1,
   "metadata": {},
   "outputs": [],
   "source": [
    "import pandas as pd\n",
    "import numpy as np\n",
    "seed = np.random.seed(42)\n",
    "from matplotlib import pyplot as plt\n",
    "import seaborn as sns\n",
    "sns.set(style=\"ticks\", color_codes=True)\n",
    "\n",
    "pd.set_option('display.max_columns',500)\n",
    "pd.set_option('display.max_rows',50)\n",
    "\n",
    "%matplotlib inline"
   ]
  },
  {
   "cell_type": "code",
   "execution_count": 2,
   "metadata": {},
   "outputs": [],
   "source": [
    "data = pd.read_csv('../data/hospital' + str(1) + '_data.csv')"
   ]
  },
  {
   "cell_type": "code",
   "execution_count": 3,
   "metadata": {},
   "outputs": [
    {
     "name": "stderr",
     "output_type": "stream",
     "text": [
      "/Users/refikcanmalli/anaconda3/envs/vodafone/lib/python3.6/site-packages/h5py/__init__.py:36: FutureWarning: Conversion of the second argument of issubdtype from `float` to `np.floating` is deprecated. In future, it will be treated as `np.float64 == np.dtype(float).type`.\n",
      "  from ._conv import register_converters as _register_converters\n",
      "Using TensorFlow backend.\n"
     ]
    }
   ],
   "source": [
    "from sklearn.preprocessing import Imputer,StandardScaler,LabelEncoder\n",
    "from fancyimpute import BiScaler, KNN, NuclearNormMinimization, SoftImpute, MICE"
   ]
  },
  {
   "cell_type": "code",
   "execution_count": 4,
   "metadata": {},
   "outputs": [
    {
     "name": "stdout",
     "output_type": "stream",
     "text": [
      "[MICE] Completing matrix with shape (247, 69)\n",
      "[MICE] Starting imputation round 1/110, elapsed time 0.001\n",
      "[MICE] Starting imputation round 2/110, elapsed time 0.014\n",
      "[MICE] Starting imputation round 3/110, elapsed time 0.023\n",
      "[MICE] Starting imputation round 4/110, elapsed time 0.031\n",
      "[MICE] Starting imputation round 5/110, elapsed time 0.040\n",
      "[MICE] Starting imputation round 6/110, elapsed time 0.048\n",
      "[MICE] Starting imputation round 7/110, elapsed time 0.057\n",
      "[MICE] Starting imputation round 8/110, elapsed time 0.065\n",
      "[MICE] Starting imputation round 9/110, elapsed time 0.074\n",
      "[MICE] Starting imputation round 10/110, elapsed time 0.082\n",
      "[MICE] Starting imputation round 11/110, elapsed time 0.091\n",
      "[MICE] Starting imputation round 12/110, elapsed time 0.099\n",
      "[MICE] Starting imputation round 13/110, elapsed time 0.108\n",
      "[MICE] Starting imputation round 14/110, elapsed time 0.116\n",
      "[MICE] Starting imputation round 15/110, elapsed time 0.125\n",
      "[MICE] Starting imputation round 16/110, elapsed time 0.133\n",
      "[MICE] Starting imputation round 17/110, elapsed time 0.142\n",
      "[MICE] Starting imputation round 18/110, elapsed time 0.151\n",
      "[MICE] Starting imputation round 19/110, elapsed time 0.159\n",
      "[MICE] Starting imputation round 20/110, elapsed time 0.168\n",
      "[MICE] Starting imputation round 21/110, elapsed time 0.176\n",
      "[MICE] Starting imputation round 22/110, elapsed time 0.184\n",
      "[MICE] Starting imputation round 23/110, elapsed time 0.193\n",
      "[MICE] Starting imputation round 24/110, elapsed time 0.202\n",
      "[MICE] Starting imputation round 25/110, elapsed time 0.214\n",
      "[MICE] Starting imputation round 26/110, elapsed time 0.228\n",
      "[MICE] Starting imputation round 27/110, elapsed time 0.237\n",
      "[MICE] Starting imputation round 28/110, elapsed time 0.252\n",
      "[MICE] Starting imputation round 29/110, elapsed time 0.260\n",
      "[MICE] Starting imputation round 30/110, elapsed time 0.269\n",
      "[MICE] Starting imputation round 31/110, elapsed time 0.278\n",
      "[MICE] Starting imputation round 32/110, elapsed time 0.286\n",
      "[MICE] Starting imputation round 33/110, elapsed time 0.295\n",
      "[MICE] Starting imputation round 34/110, elapsed time 0.303\n",
      "[MICE] Starting imputation round 35/110, elapsed time 0.311\n",
      "[MICE] Starting imputation round 36/110, elapsed time 0.320\n",
      "[MICE] Starting imputation round 37/110, elapsed time 0.328\n",
      "[MICE] Starting imputation round 38/110, elapsed time 0.337\n",
      "[MICE] Starting imputation round 39/110, elapsed time 0.346\n",
      "[MICE] Starting imputation round 40/110, elapsed time 0.354\n",
      "[MICE] Starting imputation round 41/110, elapsed time 0.363\n",
      "[MICE] Starting imputation round 42/110, elapsed time 0.371\n",
      "[MICE] Starting imputation round 43/110, elapsed time 0.380\n",
      "[MICE] Starting imputation round 44/110, elapsed time 0.388\n",
      "[MICE] Starting imputation round 45/110, elapsed time 0.397\n",
      "[MICE] Starting imputation round 46/110, elapsed time 0.407\n",
      "[MICE] Starting imputation round 47/110, elapsed time 0.417\n",
      "[MICE] Starting imputation round 48/110, elapsed time 0.429\n",
      "[MICE] Starting imputation round 49/110, elapsed time 0.439\n",
      "[MICE] Starting imputation round 50/110, elapsed time 0.453\n",
      "[MICE] Starting imputation round 51/110, elapsed time 0.462\n",
      "[MICE] Starting imputation round 52/110, elapsed time 0.470\n",
      "[MICE] Starting imputation round 53/110, elapsed time 0.479\n",
      "[MICE] Starting imputation round 54/110, elapsed time 0.487\n",
      "[MICE] Starting imputation round 55/110, elapsed time 0.496\n",
      "[MICE] Starting imputation round 56/110, elapsed time 0.504\n",
      "[MICE] Starting imputation round 57/110, elapsed time 0.513\n",
      "[MICE] Starting imputation round 58/110, elapsed time 0.521\n",
      "[MICE] Starting imputation round 59/110, elapsed time 0.530\n",
      "[MICE] Starting imputation round 60/110, elapsed time 0.538\n",
      "[MICE] Starting imputation round 61/110, elapsed time 0.547\n",
      "[MICE] Starting imputation round 62/110, elapsed time 0.555\n",
      "[MICE] Starting imputation round 63/110, elapsed time 0.563\n",
      "[MICE] Starting imputation round 64/110, elapsed time 0.572\n",
      "[MICE] Starting imputation round 65/110, elapsed time 0.580\n",
      "[MICE] Starting imputation round 66/110, elapsed time 0.589\n",
      "[MICE] Starting imputation round 67/110, elapsed time 0.597\n",
      "[MICE] Starting imputation round 68/110, elapsed time 0.606\n",
      "[MICE] Starting imputation round 69/110, elapsed time 0.616\n",
      "[MICE] Starting imputation round 70/110, elapsed time 0.629\n",
      "[MICE] Starting imputation round 71/110, elapsed time 0.638\n",
      "[MICE] Starting imputation round 72/110, elapsed time 0.651\n",
      "[MICE] Starting imputation round 73/110, elapsed time 0.660\n",
      "[MICE] Starting imputation round 74/110, elapsed time 0.668\n",
      "[MICE] Starting imputation round 75/110, elapsed time 0.677\n",
      "[MICE] Starting imputation round 76/110, elapsed time 0.686\n",
      "[MICE] Starting imputation round 77/110, elapsed time 0.694\n",
      "[MICE] Starting imputation round 78/110, elapsed time 0.702\n",
      "[MICE] Starting imputation round 79/110, elapsed time 0.711\n",
      "[MICE] Starting imputation round 80/110, elapsed time 0.720\n",
      "[MICE] Starting imputation round 81/110, elapsed time 0.728\n",
      "[MICE] Starting imputation round 82/110, elapsed time 0.739\n",
      "[MICE] Starting imputation round 83/110, elapsed time 0.747\n",
      "[MICE] Starting imputation round 84/110, elapsed time 0.756\n",
      "[MICE] Starting imputation round 85/110, elapsed time 0.764\n",
      "[MICE] Starting imputation round 86/110, elapsed time 0.773\n",
      "[MICE] Starting imputation round 87/110, elapsed time 0.782\n",
      "[MICE] Starting imputation round 88/110, elapsed time 0.790\n",
      "[MICE] Starting imputation round 89/110, elapsed time 0.799\n",
      "[MICE] Starting imputation round 90/110, elapsed time 0.808\n",
      "[MICE] Starting imputation round 91/110, elapsed time 0.816\n",
      "[MICE] Starting imputation round 92/110, elapsed time 0.827\n",
      "[MICE] Starting imputation round 93/110, elapsed time 0.841\n",
      "[MICE] Starting imputation round 94/110, elapsed time 0.853\n",
      "[MICE] Starting imputation round 95/110, elapsed time 0.862\n",
      "[MICE] Starting imputation round 96/110, elapsed time 0.871\n",
      "[MICE] Starting imputation round 97/110, elapsed time 0.879\n",
      "[MICE] Starting imputation round 98/110, elapsed time 0.888\n",
      "[MICE] Starting imputation round 99/110, elapsed time 0.896\n",
      "[MICE] Starting imputation round 100/110, elapsed time 0.905\n",
      "[MICE] Starting imputation round 101/110, elapsed time 0.913\n",
      "[MICE] Starting imputation round 102/110, elapsed time 0.922\n",
      "[MICE] Starting imputation round 103/110, elapsed time 0.931\n",
      "[MICE] Starting imputation round 104/110, elapsed time 0.939\n",
      "[MICE] Starting imputation round 105/110, elapsed time 0.948\n",
      "[MICE] Starting imputation round 106/110, elapsed time 0.957\n",
      "[MICE] Starting imputation round 107/110, elapsed time 0.965\n",
      "[MICE] Starting imputation round 108/110, elapsed time 0.973\n",
      "[MICE] Starting imputation round 109/110, elapsed time 0.982\n",
      "[MICE] Starting imputation round 110/110, elapsed time 0.990\n"
     ]
    }
   ],
   "source": [
    "data_e = data[data['IPG'] != 1]\n",
    "data_e = data_e.drop('IPG', axis = 1);\n",
    "data_e = data_e.drop('sbjBeatConsidered', axis = 1);\n",
    "data_e = data_e.drop('numRRaveraged', axis = 1);\n",
    "data_e = data_e.drop('Soggetti', axis = 1);\n",
    "df_columns = data.columns.tolist()\n",
    "matching_columns1 = [s for s in df_columns if \"Parea\" in s]\n",
    "matching_columns2 = [s for s in df_columns if \"Pdur\" in s]\n",
    "mc = matching_columns1 + matching_columns2\n",
    "data_e = data_e.dropna(subset=mc)\n",
    "data_e['PCneg'].fillna(0, inplace=True)\n",
    "data_e['AFclass'].replace('persistierend (>7 Tage, EKV)', 1, inplace=True)\n",
    "data_e['AFclass'].replace('paroxysmal', 0, inplace=True)\n",
    "categorical_variables_mask = data_e.dtypes==object\n",
    "categorical_variables = data_e.columns[categorical_variables_mask]\n",
    "for v in categorical_variables:\n",
    "    data_e[v] = LabelEncoder().fit_transform(data_e[v])\n",
    "del categorical_variables_mask,categorical_variables\n",
    "data_e = pd.DataFrame(data=MICE(n_imputations=100, impute_type='col', n_nearest_columns=5).complete(data_e.as_matrix()), columns=data_e.columns, index=data_e.index);\n",
    "y_df = data_e['AFclass'].copy()\n",
    "x_df = data_e.drop('AFclass',axis=1, inplace=False)"
   ]
  },
  {
   "cell_type": "code",
   "execution_count": 6,
   "metadata": {},
   "outputs": [],
   "source": [
    "from sklearn.model_selection import cross_val_score\n",
    "from sklearn.pipeline import Pipeline\n",
    "from sklearn.ensemble import RandomForestClassifier,GradientBoostingClassifier,ExtraTreesClassifier,AdaBoostClassifier\n",
    "#from sklearn.pipeline import Pipeline\n",
    "from sklearn.model_selection import cross_val_score\n",
    "from sklearn.model_selection import train_test_split\n",
    "from sklearn.metrics import f1_score, make_scorer\n",
    "from sklearn.metrics import accuracy_score\n",
    "from sklearn.model_selection import GridSearchCV\n",
    "from sklearn.dummy import DummyClassifier\n",
    "from imblearn.over_sampling import SMOTE\n",
    "rom imblearn.pipeline import Pipeline\n",
    "\n",
    "#f1_scorer = make_scorer(f1_score, average='macro',labels=Y.unique().tolist())\n",
    "#myscorer = f1_scorer\n",
    "myscorer = 'roc_auc'"
   ]
  },
  {
   "cell_type": "code",
   "execution_count": 7,
   "metadata": {},
   "outputs": [],
   "source": [
    "balancer = SMOTE(random_state=42)"
   ]
  },
  {
   "cell_type": "code",
   "execution_count": 8,
   "metadata": {},
   "outputs": [],
   "source": [
    "def show_f_importance(estimator,train_data):\n",
    "    importances = estimator.feature_importances_\n",
    "    indices = np.argsort(importances)[::-1]\n",
    "    indices = np.argsort(importances)[::-1]\n",
    "    # Print the feature ranking\n",
    "    print(\"Feature ranking:\")\n",
    "\n",
    "    for f in range(train_data.shape[1]):\n",
    "        print(\"%d. feature %d - %s (%f)\" % (f + 1, indices[f],train_data.columns[indices[f]], importances[indices[f]]))\n"
   ]
  },
  {
   "cell_type": "code",
   "execution_count": 11,
   "metadata": {},
   "outputs": [
    {
     "ename": "TypeError",
     "evalue": "All intermediate steps should be transformers and implement fit and transform. 'SMOTE(k=None, k_neighbors=5, kind='regular', m=None, m_neighbors=10, n_jobs=1,\n   out_step=0.5, random_state=42, ratio='auto', svm_estimator=None)' (type <class 'imblearn.over_sampling.smote.SMOTE'>) doesn't",
     "output_type": "error",
     "traceback": [
      "\u001b[0;31m---------------------------------------------------------------------------\u001b[0m",
      "\u001b[0;31mTypeError\u001b[0m                                 Traceback (most recent call last)",
      "\u001b[0;32m<ipython-input-11-2601f8adac45>\u001b[0m in \u001b[0;36m<module>\u001b[0;34m()\u001b[0m\n\u001b[1;32m      5\u001b[0m \u001b[0mplist\u001b[0m\u001b[0;34m.\u001b[0m\u001b[0mappend\u001b[0m\u001b[0;34m(\u001b[0m\u001b[0;34m(\u001b[0m\u001b[0;34m'balancer'\u001b[0m\u001b[0;34m,\u001b[0m \u001b[0mbalancer\u001b[0m\u001b[0;34m)\u001b[0m\u001b[0;34m)\u001b[0m\u001b[0;34m\u001b[0m\u001b[0m\n\u001b[1;32m      6\u001b[0m \u001b[0mplist\u001b[0m\u001b[0;34m.\u001b[0m\u001b[0mappend\u001b[0m\u001b[0;34m(\u001b[0m\u001b[0;34m(\u001b[0m\u001b[0;34m'clf'\u001b[0m\u001b[0;34m,\u001b[0m \u001b[0mdummy\u001b[0m\u001b[0;34m)\u001b[0m\u001b[0;34m)\u001b[0m\u001b[0;34m\u001b[0m\u001b[0m\n\u001b[0;32m----> 7\u001b[0;31m \u001b[0mpipeline\u001b[0m \u001b[0;34m=\u001b[0m \u001b[0mPipeline\u001b[0m\u001b[0;34m(\u001b[0m\u001b[0mplist\u001b[0m\u001b[0;34m)\u001b[0m\u001b[0;34m\u001b[0m\u001b[0m\n\u001b[0m\u001b[1;32m      8\u001b[0m \u001b[0;34m\u001b[0m\u001b[0m\n\u001b[1;32m      9\u001b[0m \u001b[0mgs_dummy\u001b[0m \u001b[0;34m=\u001b[0m \u001b[0mGridSearchCV\u001b[0m\u001b[0;34m(\u001b[0m\u001b[0mpipeline\u001b[0m\u001b[0;34m,\u001b[0m \u001b[0mparam_grid\u001b[0m\u001b[0;34m=\u001b[0m\u001b[0mparam_grid\u001b[0m\u001b[0;34m,\u001b[0m \u001b[0mcv\u001b[0m\u001b[0;34m=\u001b[0m\u001b[0;36m5\u001b[0m\u001b[0;34m,\u001b[0m \u001b[0mverbose\u001b[0m\u001b[0;34m=\u001b[0m\u001b[0;36m1\u001b[0m\u001b[0;34m,\u001b[0m \u001b[0mscoring\u001b[0m\u001b[0;34m=\u001b[0m\u001b[0mmyscorer\u001b[0m\u001b[0;34m,\u001b[0m \u001b[0mn_jobs\u001b[0m\u001b[0;34m=\u001b[0m\u001b[0;34m-\u001b[0m\u001b[0;36m1\u001b[0m\u001b[0;34m)\u001b[0m\u001b[0;34m\u001b[0m\u001b[0m\n",
      "\u001b[0;32m~/anaconda3/envs/vodafone/lib/python3.6/site-packages/sklearn/pipeline.py\u001b[0m in \u001b[0;36m__init__\u001b[0;34m(self, steps, memory)\u001b[0m\n\u001b[1;32m    112\u001b[0m     \u001b[0;32mdef\u001b[0m \u001b[0m__init__\u001b[0m\u001b[0;34m(\u001b[0m\u001b[0mself\u001b[0m\u001b[0;34m,\u001b[0m \u001b[0msteps\u001b[0m\u001b[0;34m,\u001b[0m \u001b[0mmemory\u001b[0m\u001b[0;34m=\u001b[0m\u001b[0;32mNone\u001b[0m\u001b[0;34m)\u001b[0m\u001b[0;34m:\u001b[0m\u001b[0;34m\u001b[0m\u001b[0m\n\u001b[1;32m    113\u001b[0m         \u001b[0mself\u001b[0m\u001b[0;34m.\u001b[0m\u001b[0msteps\u001b[0m \u001b[0;34m=\u001b[0m \u001b[0msteps\u001b[0m\u001b[0;34m\u001b[0m\u001b[0m\n\u001b[0;32m--> 114\u001b[0;31m         \u001b[0mself\u001b[0m\u001b[0;34m.\u001b[0m\u001b[0m_validate_steps\u001b[0m\u001b[0;34m(\u001b[0m\u001b[0;34m)\u001b[0m\u001b[0;34m\u001b[0m\u001b[0m\n\u001b[0m\u001b[1;32m    115\u001b[0m         \u001b[0mself\u001b[0m\u001b[0;34m.\u001b[0m\u001b[0mmemory\u001b[0m \u001b[0;34m=\u001b[0m \u001b[0mmemory\u001b[0m\u001b[0;34m\u001b[0m\u001b[0m\n\u001b[1;32m    116\u001b[0m \u001b[0;34m\u001b[0m\u001b[0m\n",
      "\u001b[0;32m~/anaconda3/envs/vodafone/lib/python3.6/site-packages/sklearn/pipeline.py\u001b[0m in \u001b[0;36m_validate_steps\u001b[0;34m(self)\u001b[0m\n\u001b[1;32m    160\u001b[0m                 raise TypeError(\"All intermediate steps should be \"\n\u001b[1;32m    161\u001b[0m                                 \u001b[0;34m\"transformers and implement fit and transform.\"\u001b[0m\u001b[0;34m\u001b[0m\u001b[0m\n\u001b[0;32m--> 162\u001b[0;31m                                 \" '%s' (type %s) doesn't\" % (t, type(t)))\n\u001b[0m\u001b[1;32m    163\u001b[0m \u001b[0;34m\u001b[0m\u001b[0m\n\u001b[1;32m    164\u001b[0m         \u001b[0;31m# We allow last estimator to be None as an identity transformation\u001b[0m\u001b[0;34m\u001b[0m\u001b[0;34m\u001b[0m\u001b[0m\n",
      "\u001b[0;31mTypeError\u001b[0m: All intermediate steps should be transformers and implement fit and transform. 'SMOTE(k=None, k_neighbors=5, kind='regular', m=None, m_neighbors=10, n_jobs=1,\n   out_step=0.5, random_state=42, ratio='auto', svm_estimator=None)' (type <class 'imblearn.over_sampling.smote.SMOTE'>) doesn't"
     ]
    }
   ],
   "source": [
    "param_grid = {\"clf__strategy\": ['most_frequent','stratified','prior','uniform']}\n",
    "\n",
    "dummy = DummyClassifier(random_state=42)\n",
    "plist = []\n",
    "plist.append(('balancer', balancer))\n",
    "plist.append(('clf', dummy))\n",
    "pipeline = Pipeline(plist)\n",
    "\n",
    "gs_dummy = GridSearchCV(pipeline, param_grid=param_grid, cv=5, verbose=1, scoring=myscorer, n_jobs=-1)"
   ]
  },
  {
   "cell_type": "code",
   "execution_count": 8,
   "metadata": {},
   "outputs": [
    {
     "name": "stdout",
     "output_type": "stream",
     "text": [
      "Fitting 5 folds for each of 4 candidates, totalling 20 fits\n"
     ]
    },
    {
     "name": "stderr",
     "output_type": "stream",
     "text": [
      "[Parallel(n_jobs=-1)]: Done  20 out of  20 | elapsed:    0.1s finished\n"
     ]
    }
   ],
   "source": [
    "gs_dummy.fit(x_df, y_df);"
   ]
  },
  {
   "cell_type": "code",
   "execution_count": 9,
   "metadata": {},
   "outputs": [
    {
     "data": {
      "text/plain": [
       "{'strategy': 'stratified'}"
      ]
     },
     "execution_count": 9,
     "metadata": {},
     "output_type": "execute_result"
    }
   ],
   "source": [
    "gs_dummy.best_params_"
   ]
  },
  {
   "cell_type": "code",
   "execution_count": 10,
   "metadata": {},
   "outputs": [
    {
     "data": {
      "text/plain": [
       "0.5918292234081708"
      ]
     },
     "execution_count": 10,
     "metadata": {},
     "output_type": "execute_result"
    }
   ],
   "source": [
    "gs_dummy.best_score_"
   ]
  },
  {
   "cell_type": "code",
   "execution_count": 11,
   "metadata": {},
   "outputs": [],
   "source": [
    "param_grid = {\"max_depth\": [10,30,50],\n",
    "              \"criterion\": ['gini', 'entropy'],\n",
    "              \"n_estimators\": [100,200,500,1000],\n",
    "              \"random_state\": [42],\n",
    "              \"class_weight\" : ['balanced']}\n",
    "# param_grid = {\"classifier__max_depth\": [30],\n",
    "#               \"classifier__n_estimators\": [1000]}\n",
    "\n",
    "rf = RandomForestClassifier()\n",
    "gs_rf = GridSearchCV(rf, param_grid=param_grid, cv=5, verbose=1, scoring=myscorer, n_jobs=-1)"
   ]
  },
  {
   "cell_type": "code",
   "execution_count": 12,
   "metadata": {},
   "outputs": [
    {
     "name": "stdout",
     "output_type": "stream",
     "text": [
      "Fitting 5 folds for each of 24 candidates, totalling 120 fits\n"
     ]
    },
    {
     "name": "stderr",
     "output_type": "stream",
     "text": [
      "[Parallel(n_jobs=-1)]: Done  42 tasks      | elapsed:   14.4s\n",
      "[Parallel(n_jobs=-1)]: Done 120 out of 120 | elapsed:  3.0min finished\n"
     ]
    }
   ],
   "source": [
    "gs_rf.fit(x_df, y_df);"
   ]
  },
  {
   "cell_type": "code",
   "execution_count": 13,
   "metadata": {},
   "outputs": [
    {
     "data": {
      "text/plain": [
       "{'class_weight': 'balanced',\n",
       " 'criterion': 'entropy',\n",
       " 'max_depth': 30,\n",
       " 'n_estimators': 200,\n",
       " 'random_state': 42}"
      ]
     },
     "execution_count": 13,
     "metadata": {},
     "output_type": "execute_result"
    }
   ],
   "source": [
    "gs_rf.best_params_"
   ]
  },
  {
   "cell_type": "code",
   "execution_count": 14,
   "metadata": {},
   "outputs": [
    {
     "data": {
      "text/plain": [
       "0.5969876034698016"
      ]
     },
     "execution_count": 14,
     "metadata": {},
     "output_type": "execute_result"
    }
   ],
   "source": [
    "gs_rf.best_score_"
   ]
  },
  {
   "cell_type": "code",
   "execution_count": 15,
   "metadata": {},
   "outputs": [
    {
     "name": "stdout",
     "output_type": "stream",
     "text": [
      "Feature ranking:\n",
      "1. feature 53 - Pfwhm_ECG_V1 (0.030746)\n",
      "2. feature 46 - Parea_ECG_V9 (0.027979)\n",
      "3. feature 39 - Parea_ECG_V3 (0.027032)\n",
      "4. feature 45 - Parea_ECG_V8 (0.023360)\n",
      "5. feature 16 - Pdur16std (0.022333)\n",
      "6. feature 3 - QTn (0.021783)\n",
      "7. feature 56 - Pfwhm_ECG_V3R (0.021477)\n",
      "8. feature 0 - RR (0.020819)\n",
      "9. feature 1 - QTm_old (0.020461)\n",
      "10. feature 36 - Parea_ECG_III (0.020421)\n",
      "11. feature 55 - Pfwhm_ECG_V3 (0.020086)\n",
      "12. feature 40 - Parea_ECG_V3R (0.019993)\n",
      "13. feature 48 - Parea_ECG_aVL (0.019189)\n",
      "14. feature 54 - Pfwhm_ECG_V2 (0.019108)\n",
      "15. feature 41 - Parea_ECG_V4 (0.018331)\n",
      "16. feature 57 - Pfwhm_ECG_V4 (0.017986)\n",
      "17. feature 10 - PCarea (0.017047)\n",
      "18. feature 44 - Parea_ECG_V6 (0.016879)\n",
      "19. feature 42 - Parea_ECG_V4R (0.016751)\n",
      "20. feature 43 - Parea_ECG_V5 (0.016527)\n",
      "21. feature 67 - Age (0.016420)\n",
      "22. feature 5 - PQ (0.016112)\n",
      "23. feature 4 - QRS (0.016012)\n",
      "24. feature 35 - Parea_ECG_II (0.015933)\n",
      "25. feature 34 - Parea_ECG_I (0.015681)\n",
      "26. feature 9 - PCfwhm (0.015441)\n",
      "27. feature 38 - Parea_ECG_V2 (0.015344)\n",
      "28. feature 59 - Pfwhm_ECG_V5 (0.015302)\n",
      "29. feature 17 - Pdur16iqr (0.015291)\n",
      "30. feature 58 - Pfwhm_ECG_V4R (0.015173)\n",
      "31. feature 6 - PCpos (0.015062)\n",
      "32. feature 61 - Pfwhm_ECG_V8 (0.014797)\n",
      "33. feature 64 - Pfwhm_ECG_aVL (0.014503)\n",
      "34. feature 50 - Pfwhm_ECG_I (0.014193)\n",
      "35. feature 2 - QR (0.014138)\n",
      "36. feature 65 - Pfwhm_ECG_aVR (0.014079)\n",
      "37. feature 49 - Parea_ECG_aVR (0.013833)\n",
      "38. feature 60 - Pfwhm_ECG_V6 (0.013785)\n",
      "39. feature 25 - Pdur_ECG_V4 (0.013728)\n",
      "40. feature 52 - Pfwhm_ECG_III (0.013659)\n",
      "41. feature 30 - Pdur_ECG_V9 (0.013270)\n",
      "42. feature 63 - Pfwhm_ECG_aVF (0.013166)\n",
      "43. feature 21 - Pdur_ECG_V1 (0.012981)\n",
      "44. feature 18 - Pdur_ECG_I (0.012907)\n",
      "45. feature 62 - Pfwhm_ECG_V9 (0.012844)\n",
      "46. feature 37 - Parea_ECG_V1 (0.012774)\n",
      "47. feature 51 - Pfwhm_ECG_II (0.012330)\n",
      "48. feature 31 - Pdur_ECG_aVF (0.012265)\n",
      "49. feature 11 - P_LoffEon (0.011886)\n",
      "50. feature 26 - Pdur_ECG_V4R (0.011341)\n",
      "51. feature 47 - Parea_ECG_aVF (0.011160)\n",
      "52. feature 20 - Pdur_ECG_III (0.010631)\n",
      "53. feature 19 - Pdur_ECG_II (0.010113)\n",
      "54. feature 23 - Pdur_ECG_V3 (0.009923)\n",
      "55. feature 29 - Pdur_ECG_V8 (0.009675)\n",
      "56. feature 13 - Pdur16median (0.009355)\n",
      "57. feature 32 - Pdur_ECG_aVL (0.009301)\n",
      "58. feature 24 - Pdur_ECG_V3R (0.009252)\n",
      "59. feature 27 - Pdur_ECG_V5 (0.009063)\n",
      "60. feature 12 - Pdur16mean (0.009060)\n",
      "61. feature 8 - PCdur (0.009058)\n",
      "62. feature 22 - Pdur_ECG_V2 (0.009032)\n",
      "63. feature 28 - Pdur_ECG_V6 (0.008999)\n",
      "64. feature 14 - Pdur16min (0.008411)\n",
      "65. feature 15 - Pdur16max (0.007927)\n",
      "66. feature 33 - Pdur_ECG_aVR (0.007183)\n",
      "67. feature 66 - patsex (0.004884)\n",
      "68. feature 7 - PCneg (0.004416)\n"
     ]
    }
   ],
   "source": [
    "show_f_importance(gs_rf.best_estimator_,x_df)"
   ]
  },
  {
   "cell_type": "code",
   "execution_count": 16,
   "metadata": {},
   "outputs": [],
   "source": [
    "param_grid = {\"max_depth\": [3,5,8],\n",
    "              \"n_estimators\": [100,200,500,1000],\n",
    "              \"min_samples_leaf\": [1,3,5,10]}\n",
    "# param_grid = {\"classifier__n_estimators\": [50],\n",
    "#               \"classifier__max_depth\": [5],\n",
    "#            \n",
    "\n",
    "gb = GradientBoostingClassifier(random_state=42)\n",
    "gs_gb = GridSearchCV(gb, param_grid=param_grid, cv=5, verbose=1,  scoring=myscorer, n_jobs=-1)"
   ]
  },
  {
   "cell_type": "code",
   "execution_count": 17,
   "metadata": {},
   "outputs": [
    {
     "name": "stdout",
     "output_type": "stream",
     "text": [
      "Fitting 5 folds for each of 48 candidates, totalling 240 fits\n"
     ]
    },
    {
     "name": "stderr",
     "output_type": "stream",
     "text": [
      "[Parallel(n_jobs=-1)]: Done  42 tasks      | elapsed:   44.0s\n",
      "[Parallel(n_jobs=-1)]: Done 192 tasks      | elapsed:  2.5min\n",
      "[Parallel(n_jobs=-1)]: Done 240 out of 240 | elapsed:  3.4min finished\n"
     ]
    }
   ],
   "source": [
    "gs_gb.fit(x_df, y_df);"
   ]
  },
  {
   "cell_type": "code",
   "execution_count": 18,
   "metadata": {},
   "outputs": [
    {
     "data": {
      "text/plain": [
       "{'max_depth': 3, 'min_samples_leaf': 5, 'n_estimators': 500}"
      ]
     },
     "execution_count": 18,
     "metadata": {},
     "output_type": "execute_result"
    }
   ],
   "source": [
    "gs_gb.best_params_"
   ]
  },
  {
   "cell_type": "code",
   "execution_count": 19,
   "metadata": {},
   "outputs": [
    {
     "data": {
      "text/plain": [
       "0.558107269407579"
      ]
     },
     "execution_count": 19,
     "metadata": {},
     "output_type": "execute_result"
    }
   ],
   "source": [
    "gs_gb.best_score_"
   ]
  },
  {
   "cell_type": "code",
   "execution_count": 20,
   "metadata": {},
   "outputs": [
    {
     "name": "stdout",
     "output_type": "stream",
     "text": [
      "Feature ranking:\n",
      "1. feature 1 - QTm_old (0.040443)\n",
      "2. feature 67 - Age (0.036442)\n",
      "3. feature 46 - Parea_ECG_V9 (0.032061)\n",
      "4. feature 40 - Parea_ECG_V3R (0.031489)\n",
      "5. feature 16 - Pdur16std (0.031477)\n",
      "6. feature 53 - Pfwhm_ECG_V1 (0.030074)\n",
      "7. feature 2 - QR (0.029743)\n",
      "8. feature 54 - Pfwhm_ECG_V2 (0.029142)\n",
      "9. feature 0 - RR (0.027692)\n",
      "10. feature 64 - Pfwhm_ECG_aVL (0.026485)\n",
      "11. feature 43 - Parea_ECG_V5 (0.026139)\n",
      "12. feature 48 - Parea_ECG_aVL (0.024880)\n",
      "13. feature 21 - Pdur_ECG_V1 (0.023731)\n",
      "14. feature 39 - Parea_ECG_V3 (0.021949)\n",
      "15. feature 56 - Pfwhm_ECG_V3R (0.021740)\n",
      "16. feature 6 - PCpos (0.021155)\n",
      "17. feature 62 - Pfwhm_ECG_V9 (0.020805)\n",
      "18. feature 61 - Pfwhm_ECG_V8 (0.020418)\n",
      "19. feature 17 - Pdur16iqr (0.019120)\n",
      "20. feature 51 - Pfwhm_ECG_II (0.018844)\n",
      "21. feature 41 - Parea_ECG_V4 (0.018803)\n",
      "22. feature 52 - Pfwhm_ECG_III (0.017133)\n",
      "23. feature 19 - Pdur_ECG_II (0.016074)\n",
      "24. feature 3 - QTn (0.015870)\n",
      "25. feature 33 - Pdur_ECG_aVR (0.015773)\n",
      "26. feature 30 - Pdur_ECG_V9 (0.015197)\n",
      "27. feature 58 - Pfwhm_ECG_V4R (0.015083)\n",
      "28. feature 55 - Pfwhm_ECG_V3 (0.015032)\n",
      "29. feature 57 - Pfwhm_ECG_V4 (0.015012)\n",
      "30. feature 11 - P_LoffEon (0.014393)\n",
      "31. feature 38 - Parea_ECG_V2 (0.014331)\n",
      "32. feature 10 - PCarea (0.013895)\n",
      "33. feature 4 - QRS (0.013881)\n",
      "34. feature 44 - Parea_ECG_V6 (0.013174)\n",
      "35. feature 45 - Parea_ECG_V8 (0.012764)\n",
      "36. feature 18 - Pdur_ECG_I (0.012520)\n",
      "37. feature 36 - Parea_ECG_III (0.012519)\n",
      "38. feature 34 - Parea_ECG_I (0.012442)\n",
      "39. feature 20 - Pdur_ECG_III (0.012371)\n",
      "40. feature 63 - Pfwhm_ECG_aVF (0.012276)\n",
      "41. feature 42 - Parea_ECG_V4R (0.012259)\n",
      "42. feature 37 - Parea_ECG_V1 (0.012013)\n",
      "43. feature 50 - Pfwhm_ECG_I (0.010528)\n",
      "44. feature 59 - Pfwhm_ECG_V5 (0.010201)\n",
      "45. feature 31 - Pdur_ECG_aVF (0.009900)\n",
      "46. feature 25 - Pdur_ECG_V4 (0.009507)\n",
      "47. feature 35 - Parea_ECG_II (0.009185)\n",
      "48. feature 5 - PQ (0.008021)\n",
      "49. feature 26 - Pdur_ECG_V4R (0.007487)\n",
      "50. feature 32 - Pdur_ECG_aVL (0.007434)\n",
      "51. feature 47 - Parea_ECG_aVF (0.006818)\n",
      "52. feature 27 - Pdur_ECG_V5 (0.006781)\n",
      "53. feature 14 - Pdur16min (0.006069)\n",
      "54. feature 29 - Pdur_ECG_V8 (0.006061)\n",
      "55. feature 60 - Pfwhm_ECG_V6 (0.005998)\n",
      "56. feature 22 - Pdur_ECG_V2 (0.004957)\n",
      "57. feature 15 - Pdur16max (0.004435)\n",
      "58. feature 24 - Pdur_ECG_V3R (0.004332)\n",
      "59. feature 66 - patsex (0.003952)\n",
      "60. feature 28 - Pdur_ECG_V6 (0.002380)\n",
      "61. feature 13 - Pdur16median (0.002359)\n",
      "62. feature 23 - Pdur_ECG_V3 (0.002274)\n",
      "63. feature 9 - PCfwhm (0.001840)\n",
      "64. feature 65 - Pfwhm_ECG_aVR (0.001702)\n",
      "65. feature 12 - Pdur16mean (0.001142)\n",
      "66. feature 49 - Parea_ECG_aVR (0.001058)\n",
      "67. feature 7 - PCneg (0.000626)\n",
      "68. feature 8 - PCdur (0.000309)\n"
     ]
    }
   ],
   "source": [
    "show_f_importance(gs_gb.best_estimator_,x_df)"
   ]
  },
  {
   "cell_type": "code",
   "execution_count": 21,
   "metadata": {},
   "outputs": [],
   "source": [
    "param_grid = {\"learning_rate\": [0.01,0.1,0.3],\n",
    "              \"n_estimators\": [100,1000,1500,2000,2500,3000]}\n",
    "\n",
    "ab = AdaBoostClassifier(random_state=42)\n",
    "gs_ab = GridSearchCV(ab, param_grid=param_grid, cv=5, verbose=1, scoring=myscorer, n_jobs=-1)"
   ]
  },
  {
   "cell_type": "code",
   "execution_count": 22,
   "metadata": {},
   "outputs": [
    {
     "name": "stdout",
     "output_type": "stream",
     "text": [
      "Fitting 5 folds for each of 18 candidates, totalling 90 fits\n"
     ]
    },
    {
     "name": "stderr",
     "output_type": "stream",
     "text": [
      "[Parallel(n_jobs=-1)]: Done  42 tasks      | elapsed:  3.5min\n",
      "[Parallel(n_jobs=-1)]: Done  90 out of  90 | elapsed:  9.2min finished\n"
     ]
    }
   ],
   "source": [
    "gs_ab.fit(x_df, y_df);"
   ]
  },
  {
   "cell_type": "code",
   "execution_count": 23,
   "metadata": {},
   "outputs": [
    {
     "data": {
      "text/plain": [
       "{'learning_rate': 0.1, 'n_estimators': 3000}"
      ]
     },
     "execution_count": 23,
     "metadata": {},
     "output_type": "execute_result"
    }
   ],
   "source": [
    "gs_ab.best_params_"
   ]
  },
  {
   "cell_type": "code",
   "execution_count": 24,
   "metadata": {},
   "outputs": [
    {
     "data": {
      "text/plain": [
       "0.5904251192563886"
      ]
     },
     "execution_count": 24,
     "metadata": {},
     "output_type": "execute_result"
    }
   ],
   "source": [
    "gs_ab.best_score_"
   ]
  },
  {
   "cell_type": "code",
   "execution_count": 25,
   "metadata": {},
   "outputs": [
    {
     "name": "stdout",
     "output_type": "stream",
     "text": [
      "Feature ranking:\n",
      "1. feature 16 - Pdur16std (0.051000)\n",
      "2. feature 39 - Parea_ECG_V3 (0.044000)\n",
      "3. feature 6 - PCpos (0.039667)\n",
      "4. feature 40 - Parea_ECG_V3R (0.037667)\n",
      "5. feature 21 - Pdur_ECG_V1 (0.036667)\n",
      "6. feature 19 - Pdur_ECG_II (0.032667)\n",
      "7. feature 46 - Parea_ECG_V9 (0.030333)\n",
      "8. feature 52 - Pfwhm_ECG_III (0.030333)\n",
      "9. feature 38 - Parea_ECG_V2 (0.029667)\n",
      "10. feature 54 - Pfwhm_ECG_V2 (0.028667)\n",
      "11. feature 53 - Pfwhm_ECG_V1 (0.026333)\n",
      "12. feature 3 - QTn (0.024667)\n",
      "13. feature 63 - Pfwhm_ECG_aVF (0.024333)\n",
      "14. feature 61 - Pfwhm_ECG_V8 (0.024333)\n",
      "15. feature 17 - Pdur16iqr (0.024000)\n",
      "16. feature 11 - P_LoffEon (0.023000)\n",
      "17. feature 43 - Parea_ECG_V5 (0.023000)\n",
      "18. feature 48 - Parea_ECG_aVL (0.022667)\n",
      "19. feature 67 - Age (0.021333)\n",
      "20. feature 2 - QR (0.021000)\n",
      "21. feature 56 - Pfwhm_ECG_V3R (0.020667)\n",
      "22. feature 57 - Pfwhm_ECG_V4 (0.020333)\n",
      "23. feature 20 - Pdur_ECG_III (0.017667)\n",
      "24. feature 33 - Pdur_ECG_aVR (0.017000)\n",
      "25. feature 25 - Pdur_ECG_V4 (0.016667)\n",
      "26. feature 37 - Parea_ECG_V1 (0.016667)\n",
      "27. feature 58 - Pfwhm_ECG_V4R (0.016333)\n",
      "28. feature 36 - Parea_ECG_III (0.015000)\n",
      "29. feature 9 - PCfwhm (0.014667)\n",
      "30. feature 1 - QTm_old (0.014667)\n",
      "31. feature 34 - Parea_ECG_I (0.014667)\n",
      "32. feature 0 - RR (0.012667)\n",
      "33. feature 51 - Pfwhm_ECG_II (0.012667)\n",
      "34. feature 62 - Pfwhm_ECG_V9 (0.012667)\n",
      "35. feature 59 - Pfwhm_ECG_V5 (0.012667)\n",
      "36. feature 42 - Parea_ECG_V4R (0.012667)\n",
      "37. feature 18 - Pdur_ECG_I (0.012000)\n",
      "38. feature 5 - PQ (0.011667)\n",
      "39. feature 41 - Parea_ECG_V4 (0.011000)\n",
      "40. feature 10 - PCarea (0.010333)\n",
      "41. feature 60 - Pfwhm_ECG_V6 (0.009000)\n",
      "42. feature 32 - Pdur_ECG_aVL (0.009000)\n",
      "43. feature 55 - Pfwhm_ECG_V3 (0.008667)\n",
      "44. feature 35 - Parea_ECG_II (0.008000)\n",
      "45. feature 15 - Pdur16max (0.008000)\n",
      "46. feature 65 - Pfwhm_ECG_aVR (0.008000)\n",
      "47. feature 4 - QRS (0.007667)\n",
      "48. feature 28 - Pdur_ECG_V6 (0.007333)\n",
      "49. feature 64 - Pfwhm_ECG_aVL (0.006667)\n",
      "50. feature 29 - Pdur_ECG_V8 (0.006000)\n",
      "51. feature 30 - Pdur_ECG_V9 (0.003667)\n",
      "52. feature 12 - Pdur16mean (0.003667)\n",
      "53. feature 27 - Pdur_ECG_V5 (0.003000)\n",
      "54. feature 13 - Pdur16median (0.002667)\n",
      "55. feature 50 - Pfwhm_ECG_I (0.002667)\n",
      "56. feature 49 - Parea_ECG_aVR (0.002667)\n",
      "57. feature 26 - Pdur_ECG_V4R (0.002333)\n",
      "58. feature 14 - Pdur16min (0.002000)\n",
      "59. feature 24 - Pdur_ECG_V3R (0.002000)\n",
      "60. feature 45 - Parea_ECG_V8 (0.002000)\n",
      "61. feature 23 - Pdur_ECG_V3 (0.001667)\n",
      "62. feature 7 - PCneg (0.001667)\n",
      "63. feature 47 - Parea_ECG_aVF (0.001667)\n",
      "64. feature 31 - Pdur_ECG_aVF (0.000667)\n",
      "65. feature 66 - patsex (0.000667)\n",
      "66. feature 22 - Pdur_ECG_V2 (0.000333)\n",
      "67. feature 44 - Parea_ECG_V6 (0.000333)\n",
      "68. feature 8 - PCdur (0.000000)\n"
     ]
    }
   ],
   "source": [
    "show_f_importance(gs_ab.best_estimator_,x_df)"
   ]
  },
  {
   "cell_type": "code",
   "execution_count": 26,
   "metadata": {},
   "outputs": [],
   "source": [
    "param_grid = {\"max_depth\": [3,5,8,10,15,30],\n",
    "              \"n_estimators\": [100,200,500,1000,1500],\n",
    "              \"min_samples_leaf\": [1,3,5,10]}\n",
    "\n",
    "et = ExtraTreesClassifier(random_state=42)\n",
    "gs_et = GridSearchCV(et, param_grid=param_grid, cv=5, verbose=1,  scoring=myscorer, n_jobs=-1)"
   ]
  },
  {
   "cell_type": "code",
   "execution_count": 27,
   "metadata": {},
   "outputs": [
    {
     "name": "stdout",
     "output_type": "stream",
     "text": [
      "Fitting 5 folds for each of 120 candidates, totalling 600 fits\n"
     ]
    },
    {
     "name": "stderr",
     "output_type": "stream",
     "text": [
      "[Parallel(n_jobs=-1)]: Done  42 tasks      | elapsed:   14.5s\n",
      "[Parallel(n_jobs=-1)]: Done 192 tasks      | elapsed:  1.3min\n",
      "[Parallel(n_jobs=-1)]: Done 442 tasks      | elapsed:  2.9min\n",
      "[Parallel(n_jobs=-1)]: Done 600 out of 600 | elapsed:  3.9min finished\n"
     ]
    }
   ],
   "source": [
    "gs_et.fit(x_df, y_df);"
   ]
  },
  {
   "cell_type": "code",
   "execution_count": 28,
   "metadata": {},
   "outputs": [
    {
     "data": {
      "text/plain": [
       "{'max_depth': 8, 'min_samples_leaf': 5, 'n_estimators': 1000}"
      ]
     },
     "execution_count": 28,
     "metadata": {},
     "output_type": "execute_result"
    }
   ],
   "source": [
    "gs_et.best_params_"
   ]
  },
  {
   "cell_type": "code",
   "execution_count": 29,
   "metadata": {},
   "outputs": [
    {
     "data": {
      "text/plain": [
       "0.6311996182352221"
      ]
     },
     "execution_count": 29,
     "metadata": {},
     "output_type": "execute_result"
    }
   ],
   "source": [
    "gs_et.best_score_"
   ]
  },
  {
   "cell_type": "code",
   "execution_count": 30,
   "metadata": {},
   "outputs": [
    {
     "name": "stdout",
     "output_type": "stream",
     "text": [
      "Feature ranking:\n",
      "1. feature 66 - patsex (0.040856)\n",
      "2. feature 46 - Parea_ECG_V9 (0.033252)\n",
      "3. feature 45 - Parea_ECG_V8 (0.032705)\n",
      "4. feature 16 - Pdur16std (0.029778)\n",
      "5. feature 53 - Pfwhm_ECG_V1 (0.029042)\n",
      "6. feature 39 - Parea_ECG_V3 (0.028678)\n",
      "7. feature 67 - Age (0.024388)\n",
      "8. feature 1 - QTm_old (0.021374)\n",
      "9. feature 38 - Parea_ECG_V2 (0.020938)\n",
      "10. feature 41 - Parea_ECG_V4 (0.019993)\n",
      "11. feature 56 - Pfwhm_ECG_V3R (0.019915)\n",
      "12. feature 17 - Pdur16iqr (0.018506)\n",
      "13. feature 40 - Parea_ECG_V3R (0.018321)\n",
      "14. feature 54 - Pfwhm_ECG_V2 (0.018054)\n",
      "15. feature 35 - Parea_ECG_II (0.017170)\n",
      "16. feature 44 - Parea_ECG_V6 (0.016979)\n",
      "17. feature 48 - Parea_ECG_aVL (0.016960)\n",
      "18. feature 3 - QTn (0.016822)\n",
      "19. feature 43 - Parea_ECG_V5 (0.016207)\n",
      "20. feature 10 - PCarea (0.016166)\n",
      "21. feature 36 - Parea_ECG_III (0.016075)\n",
      "22. feature 49 - Parea_ECG_aVR (0.015841)\n",
      "23. feature 55 - Pfwhm_ECG_V3 (0.015611)\n",
      "24. feature 59 - Pfwhm_ECG_V5 (0.014696)\n",
      "25. feature 57 - Pfwhm_ECG_V4 (0.014307)\n",
      "26. feature 34 - Parea_ECG_I (0.014143)\n",
      "27. feature 2 - QR (0.014143)\n",
      "28. feature 27 - Pdur_ECG_V5 (0.014071)\n",
      "29. feature 25 - Pdur_ECG_V4 (0.014046)\n",
      "30. feature 52 - Pfwhm_ECG_III (0.013948)\n",
      "31. feature 33 - Pdur_ECG_aVR (0.013406)\n",
      "32. feature 47 - Parea_ECG_aVF (0.012789)\n",
      "33. feature 65 - Pfwhm_ECG_aVR (0.012706)\n",
      "34. feature 58 - Pfwhm_ECG_V4R (0.012692)\n",
      "35. feature 11 - P_LoffEon (0.012692)\n",
      "36. feature 37 - Parea_ECG_V1 (0.012398)\n",
      "37. feature 19 - Pdur_ECG_II (0.012131)\n",
      "38. feature 9 - PCfwhm (0.012087)\n",
      "39. feature 20 - Pdur_ECG_III (0.011917)\n",
      "40. feature 21 - Pdur_ECG_V1 (0.011511)\n",
      "41. feature 15 - Pdur16max (0.011424)\n",
      "42. feature 18 - Pdur_ECG_I (0.011422)\n",
      "43. feature 29 - Pdur_ECG_V8 (0.011250)\n",
      "44. feature 63 - Pfwhm_ECG_aVF (0.011104)\n",
      "45. feature 13 - Pdur16median (0.011035)\n",
      "46. feature 30 - Pdur_ECG_V9 (0.010998)\n",
      "47. feature 64 - Pfwhm_ECG_aVL (0.010973)\n",
      "48. feature 31 - Pdur_ECG_aVF (0.010864)\n",
      "49. feature 42 - Parea_ECG_V4R (0.010680)\n",
      "50. feature 14 - Pdur16min (0.010572)\n",
      "51. feature 8 - PCdur (0.010418)\n",
      "52. feature 60 - Pfwhm_ECG_V6 (0.010236)\n",
      "53. feature 4 - QRS (0.010035)\n",
      "54. feature 6 - PCpos (0.009930)\n",
      "55. feature 23 - Pdur_ECG_V3 (0.009885)\n",
      "56. feature 61 - Pfwhm_ECG_V8 (0.009737)\n",
      "57. feature 0 - RR (0.009651)\n",
      "58. feature 24 - Pdur_ECG_V3R (0.009582)\n",
      "59. feature 51 - Pfwhm_ECG_II (0.009552)\n",
      "60. feature 12 - Pdur16mean (0.009515)\n",
      "61. feature 28 - Pdur_ECG_V6 (0.009066)\n",
      "62. feature 32 - Pdur_ECG_aVL (0.008741)\n",
      "63. feature 26 - Pdur_ECG_V4R (0.008629)\n",
      "64. feature 50 - Pfwhm_ECG_I (0.008611)\n",
      "65. feature 5 - PQ (0.008436)\n",
      "66. feature 22 - Pdur_ECG_V2 (0.008254)\n",
      "67. feature 62 - Pfwhm_ECG_V9 (0.007105)\n",
      "68. feature 7 - PCneg (0.004978)\n"
     ]
    }
   ],
   "source": [
    "show_f_importance(gs_et.best_estimator_,x_df)"
   ]
  },
  {
   "cell_type": "code",
   "execution_count": null,
   "metadata": {},
   "outputs": [],
   "source": []
  }
 ],
 "metadata": {
  "kernelspec": {
   "display_name": "Python 3",
   "language": "python",
   "name": "python3"
  },
  "language_info": {
   "codemirror_mode": {
    "name": "ipython",
    "version": 3
   },
   "file_extension": ".py",
   "mimetype": "text/x-python",
   "name": "python",
   "nbconvert_exporter": "python",
   "pygments_lexer": "ipython3",
   "version": "3.6.5"
  },
  "toc": {
   "nav_menu": {},
   "number_sections": true,
   "sideBar": true,
   "skip_h1_title": false,
   "title_cell": "Table of Contents",
   "title_sidebar": "Contents",
   "toc_cell": false,
   "toc_position": {},
   "toc_section_display": true,
   "toc_window_display": false
  },
  "varInspector": {
   "cols": {
    "lenName": 16,
    "lenType": 16,
    "lenVar": 40
   },
   "kernels_config": {
    "python": {
     "delete_cmd_postfix": "",
     "delete_cmd_prefix": "del ",
     "library": "var_list.py",
     "varRefreshCmd": "print(var_dic_list())"
    },
    "r": {
     "delete_cmd_postfix": ") ",
     "delete_cmd_prefix": "rm(",
     "library": "var_list.r",
     "varRefreshCmd": "cat(var_dic_list()) "
    }
   },
   "types_to_exclude": [
    "module",
    "function",
    "builtin_function_or_method",
    "instance",
    "_Feature"
   ],
   "window_display": false
  }
 },
 "nbformat": 4,
 "nbformat_minor": 2
}
