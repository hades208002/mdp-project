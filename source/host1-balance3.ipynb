{
 "cells": [
  {
   "cell_type": "code",
   "execution_count": 1,
   "metadata": {},
   "outputs": [],
   "source": [
    "import pandas as pd\n",
    "import numpy as np\n",
    "seed = np.random.seed(42)\n",
    "from matplotlib import pyplot as plt\n",
    "import seaborn as sns\n",
    "sns.set(style=\"ticks\", color_codes=True)\n",
    "\n",
    "pd.set_option('display.max_columns',500)\n",
    "pd.set_option('display.max_rows',50)\n",
    "\n",
    "%matplotlib inline\n",
    "best_model = None\n",
    "best_score = 0\n",
    "hospital_name = 'host1'"
   ]
  },
  {
   "cell_type": "code",
   "execution_count": 2,
   "metadata": {},
   "outputs": [],
   "source": [
    "data = pd.read_csv('../data/hospital' + str(1) + '_data.csv')"
   ]
  },
  {
   "cell_type": "code",
   "execution_count": 3,
   "metadata": {},
   "outputs": [
    {
     "name": "stderr",
     "output_type": "stream",
     "text": [
      "/Users/refikcanmalli/anaconda3/envs/vodafone/lib/python3.6/site-packages/h5py/__init__.py:36: FutureWarning: Conversion of the second argument of issubdtype from `float` to `np.floating` is deprecated. In future, it will be treated as `np.float64 == np.dtype(float).type`.\n",
      "  from ._conv import register_converters as _register_converters\n",
      "Using TensorFlow backend.\n"
     ]
    }
   ],
   "source": [
    "from sklearn.preprocessing import Imputer,StandardScaler,LabelEncoder\n",
    "from fancyimpute import BiScaler, KNN, NuclearNormMinimization, SoftImpute, MICE"
   ]
  },
  {
   "cell_type": "code",
   "execution_count": 4,
   "metadata": {},
   "outputs": [
    {
     "name": "stdout",
     "output_type": "stream",
     "text": [
      "[MICE] Completing matrix with shape (270, 69)\n",
      "[MICE] Starting imputation round 1/110, elapsed time 0.004\n",
      "[MICE] Starting imputation round 2/110, elapsed time 0.033\n",
      "[MICE] Starting imputation round 3/110, elapsed time 0.056\n",
      "[MICE] Starting imputation round 4/110, elapsed time 0.079\n",
      "[MICE] Starting imputation round 5/110, elapsed time 0.102\n",
      "[MICE] Starting imputation round 6/110, elapsed time 0.125\n",
      "[MICE] Starting imputation round 7/110, elapsed time 0.148\n",
      "[MICE] Starting imputation round 8/110, elapsed time 0.171\n",
      "[MICE] Starting imputation round 9/110, elapsed time 0.193\n",
      "[MICE] Starting imputation round 10/110, elapsed time 0.230\n",
      "[MICE] Starting imputation round 11/110, elapsed time 0.258\n",
      "[MICE] Starting imputation round 12/110, elapsed time 0.281\n",
      "[MICE] Starting imputation round 13/110, elapsed time 0.304\n",
      "[MICE] Starting imputation round 14/110, elapsed time 0.327\n",
      "[MICE] Starting imputation round 15/110, elapsed time 0.349\n",
      "[MICE] Starting imputation round 16/110, elapsed time 0.372\n",
      "[MICE] Starting imputation round 17/110, elapsed time 0.395\n",
      "[MICE] Starting imputation round 18/110, elapsed time 0.419\n",
      "[MICE] Starting imputation round 19/110, elapsed time 0.445\n",
      "[MICE] Starting imputation round 20/110, elapsed time 0.480\n",
      "[MICE] Starting imputation round 21/110, elapsed time 0.503\n",
      "[MICE] Starting imputation round 22/110, elapsed time 0.526\n",
      "[MICE] Starting imputation round 23/110, elapsed time 0.549\n",
      "[MICE] Starting imputation round 24/110, elapsed time 0.572\n",
      "[MICE] Starting imputation round 25/110, elapsed time 0.595\n",
      "[MICE] Starting imputation round 26/110, elapsed time 0.617\n",
      "[MICE] Starting imputation round 27/110, elapsed time 0.640\n",
      "[MICE] Starting imputation round 28/110, elapsed time 0.673\n",
      "[MICE] Starting imputation round 29/110, elapsed time 0.701\n",
      "[MICE] Starting imputation round 30/110, elapsed time 0.724\n",
      "[MICE] Starting imputation round 31/110, elapsed time 0.748\n",
      "[MICE] Starting imputation round 32/110, elapsed time 0.771\n",
      "[MICE] Starting imputation round 33/110, elapsed time 0.794\n",
      "[MICE] Starting imputation round 34/110, elapsed time 0.820\n",
      "[MICE] Starting imputation round 35/110, elapsed time 0.843\n",
      "[MICE] Starting imputation round 36/110, elapsed time 0.866\n",
      "[MICE] Starting imputation round 37/110, elapsed time 0.896\n",
      "[MICE] Starting imputation round 38/110, elapsed time 0.927\n",
      "[MICE] Starting imputation round 39/110, elapsed time 0.949\n",
      "[MICE] Starting imputation round 40/110, elapsed time 0.972\n",
      "[MICE] Starting imputation round 41/110, elapsed time 0.996\n",
      "[MICE] Starting imputation round 42/110, elapsed time 1.018\n",
      "[MICE] Starting imputation round 43/110, elapsed time 1.041\n",
      "[MICE] Starting imputation round 44/110, elapsed time 1.064\n",
      "[MICE] Starting imputation round 45/110, elapsed time 1.086\n",
      "[MICE] Starting imputation round 46/110, elapsed time 1.111\n",
      "[MICE] Starting imputation round 47/110, elapsed time 1.147\n",
      "[MICE] Starting imputation round 48/110, elapsed time 1.170\n",
      "[MICE] Starting imputation round 49/110, elapsed time 1.192\n",
      "[MICE] Starting imputation round 50/110, elapsed time 1.215\n",
      "[MICE] Starting imputation round 51/110, elapsed time 1.238\n",
      "[MICE] Starting imputation round 52/110, elapsed time 1.262\n",
      "[MICE] Starting imputation round 53/110, elapsed time 1.284\n",
      "[MICE] Starting imputation round 54/110, elapsed time 1.307\n",
      "[MICE] Starting imputation round 55/110, elapsed time 1.341\n",
      "[MICE] Starting imputation round 56/110, elapsed time 1.368\n",
      "[MICE] Starting imputation round 57/110, elapsed time 1.391\n",
      "[MICE] Starting imputation round 58/110, elapsed time 1.414\n",
      "[MICE] Starting imputation round 59/110, elapsed time 1.437\n",
      "[MICE] Starting imputation round 60/110, elapsed time 1.459\n",
      "[MICE] Starting imputation round 61/110, elapsed time 1.482\n",
      "[MICE] Starting imputation round 62/110, elapsed time 1.505\n",
      "[MICE] Starting imputation round 63/110, elapsed time 1.528\n",
      "[MICE] Starting imputation round 64/110, elapsed time 1.553\n",
      "[MICE] Starting imputation round 65/110, elapsed time 1.589\n",
      "[MICE] Starting imputation round 66/110, elapsed time 1.618\n",
      "[MICE] Starting imputation round 67/110, elapsed time 1.641\n",
      "[MICE] Starting imputation round 68/110, elapsed time 1.665\n",
      "[MICE] Starting imputation round 69/110, elapsed time 1.689\n",
      "[MICE] Starting imputation round 70/110, elapsed time 1.712\n",
      "[MICE] Starting imputation round 71/110, elapsed time 1.735\n",
      "[MICE] Starting imputation round 72/110, elapsed time 1.760\n",
      "[MICE] Starting imputation round 73/110, elapsed time 1.792\n",
      "[MICE] Starting imputation round 74/110, elapsed time 1.821\n",
      "[MICE] Starting imputation round 75/110, elapsed time 1.851\n",
      "[MICE] Starting imputation round 76/110, elapsed time 1.875\n",
      "[MICE] Starting imputation round 77/110, elapsed time 1.898\n",
      "[MICE] Starting imputation round 78/110, elapsed time 1.921\n",
      "[MICE] Starting imputation round 79/110, elapsed time 1.944\n",
      "[MICE] Starting imputation round 80/110, elapsed time 1.968\n",
      "[MICE] Starting imputation round 81/110, elapsed time 2.006\n",
      "[MICE] Starting imputation round 82/110, elapsed time 2.029\n",
      "[MICE] Starting imputation round 83/110, elapsed time 2.052\n",
      "[MICE] Starting imputation round 84/110, elapsed time 2.075\n",
      "[MICE] Starting imputation round 85/110, elapsed time 2.098\n",
      "[MICE] Starting imputation round 86/110, elapsed time 2.122\n",
      "[MICE] Starting imputation round 87/110, elapsed time 2.144\n",
      "[MICE] Starting imputation round 88/110, elapsed time 2.167\n",
      "[MICE] Starting imputation round 89/110, elapsed time 2.205\n",
      "[MICE] Starting imputation round 90/110, elapsed time 2.228\n",
      "[MICE] Starting imputation round 91/110, elapsed time 2.252\n",
      "[MICE] Starting imputation round 92/110, elapsed time 2.274\n",
      "[MICE] Starting imputation round 93/110, elapsed time 2.297\n",
      "[MICE] Starting imputation round 94/110, elapsed time 2.320\n",
      "[MICE] Starting imputation round 95/110, elapsed time 2.343\n",
      "[MICE] Starting imputation round 96/110, elapsed time 2.365\n",
      "[MICE] Starting imputation round 97/110, elapsed time 2.388\n",
      "[MICE] Starting imputation round 98/110, elapsed time 2.412\n",
      "[MICE] Starting imputation round 99/110, elapsed time 2.446\n",
      "[MICE] Starting imputation round 100/110, elapsed time 2.473\n",
      "[MICE] Starting imputation round 101/110, elapsed time 2.496\n",
      "[MICE] Starting imputation round 102/110, elapsed time 2.519\n",
      "[MICE] Starting imputation round 103/110, elapsed time 2.542\n",
      "[MICE] Starting imputation round 104/110, elapsed time 2.565\n",
      "[MICE] Starting imputation round 105/110, elapsed time 2.588\n",
      "[MICE] Starting imputation round 106/110, elapsed time 2.611\n",
      "[MICE] Starting imputation round 107/110, elapsed time 2.653\n",
      "[MICE] Starting imputation round 108/110, elapsed time 2.687\n",
      "[MICE] Starting imputation round 109/110, elapsed time 2.710\n",
      "[MICE] Starting imputation round 110/110, elapsed time 2.733\n"
     ]
    }
   ],
   "source": [
    "data_e = data[data['IPG'] != 1]\n",
    "data_e = data_e.drop('IPG', axis = 1);\n",
    "data_e = data_e.drop('sbjBeatConsidered', axis = 1);\n",
    "data_e = data_e.drop('numRRaveraged', axis = 1);\n",
    "data_e = data_e.drop('Soggetti', axis = 1);\n",
    "# df_columns = data.columns.tolist()\n",
    "# matching_columns1 = [s for s in df_columns if \"Parea\" in s]\n",
    "# matching_columns2 = [s for s in df_columns if \"Pdur\" in s]\n",
    "# mc = matching_columns1 + matching_columns2\n",
    "# data_e = data_e.dropna(subset=mc)\n",
    "data_e['PCneg'].fillna(0, inplace=True)\n",
    "data_e['AFclass'].replace('persistierend (>7 Tage, EKV)', 1, inplace=True)\n",
    "data_e['AFclass'].replace('paroxysmal', 0, inplace=True)\n",
    "categorical_variables_mask = data_e.dtypes==object\n",
    "categorical_variables = data_e.columns[categorical_variables_mask]\n",
    "for v in categorical_variables:\n",
    "    data_e[v] = LabelEncoder().fit_transform(data_e[v])\n",
    "del categorical_variables_mask,categorical_variables\n",
    "data_e = pd.DataFrame(data=MICE(n_imputations=100, impute_type='col', n_nearest_columns=5).complete(data_e.as_matrix()), columns=data_e.columns, index=data_e.index);\n",
    "y_df = data_e['AFclass'].copy()\n",
    "x_df = data_e.drop('AFclass',axis=1, inplace=False)"
   ]
  },
  {
   "cell_type": "code",
   "execution_count": 5,
   "metadata": {},
   "outputs": [],
   "source": [
    "from sklearn.model_selection import cross_val_score\n",
    "from sklearn.pipeline import Pipeline\n",
    "from sklearn.ensemble import RandomForestClassifier,GradientBoostingClassifier,ExtraTreesClassifier,AdaBoostClassifier\n",
    "#from sklearn.pipeline import Pipeline\n",
    "from sklearn.model_selection import cross_val_score\n",
    "from sklearn.model_selection import train_test_split\n",
    "from sklearn.metrics import f1_score, make_scorer\n",
    "from sklearn.metrics import accuracy_score\n",
    "from sklearn.model_selection import GridSearchCV\n",
    "from sklearn.dummy import DummyClassifier\n",
    "from imblearn.over_sampling import SMOTE\n",
    "from imblearn.pipeline import Pipeline\n",
    "\n",
    "#f1_scorer = make_scorer(f1_score, average='macro',labels=Y.unique().tolist())\n",
    "#myscorer = f1_scorer\n",
    "myscorer = 'f1'"
   ]
  },
  {
   "cell_type": "code",
   "execution_count": 6,
   "metadata": {},
   "outputs": [],
   "source": [
    "balancer = SMOTE(random_state=42)"
   ]
  },
  {
   "cell_type": "code",
   "execution_count": 7,
   "metadata": {},
   "outputs": [],
   "source": [
    "def show_f_importance(estimator,train_data):\n",
    "    importances = estimator.feature_importances_\n",
    "    indices = np.argsort(importances)[::-1]\n",
    "    indices = np.argsort(importances)[::-1]\n",
    "    # Print the feature ranking\n",
    "    print(\"Feature ranking:\")\n",
    "\n",
    "    for f in range(train_data.shape[1]):\n",
    "        print(\"%d. feature %d - %s (%f)\" % (f + 1, indices[f],train_data.columns[indices[f]], importances[indices[f]]))\n"
   ]
  },
  {
   "cell_type": "code",
   "execution_count": 8,
   "metadata": {},
   "outputs": [],
   "source": [
    "param_grid = {\"clf__strategy\": ['most_frequent','stratified','prior','uniform']}\n",
    "\n",
    "dummy = DummyClassifier(random_state=42)\n",
    "plist = []\n",
    "plist.append(('balancer', balancer))\n",
    "plist.append(('clf', dummy))\n",
    "pipeline = Pipeline(plist)\n",
    "\n",
    "gs_dummy = GridSearchCV(pipeline, param_grid=param_grid, cv=5, verbose=1, scoring=myscorer, n_jobs=-1)"
   ]
  },
  {
   "cell_type": "code",
   "execution_count": 9,
   "metadata": {},
   "outputs": [
    {
     "name": "stdout",
     "output_type": "stream",
     "text": [
      "Fitting 5 folds for each of 4 candidates, totalling 20 fits\n"
     ]
    },
    {
     "name": "stderr",
     "output_type": "stream",
     "text": [
      "/Users/refikcanmalli/anaconda3/envs/vodafone/lib/python3.6/site-packages/sklearn/metrics/classification.py:1135: UndefinedMetricWarning: F-score is ill-defined and being set to 0.0 due to no predicted samples.\n",
      "  'precision', 'predicted', average, warn_for)\n",
      "/Users/refikcanmalli/anaconda3/envs/vodafone/lib/python3.6/site-packages/sklearn/metrics/classification.py:1135: UndefinedMetricWarning: F-score is ill-defined and being set to 0.0 due to no predicted samples.\n",
      "  'precision', 'predicted', average, warn_for)\n",
      "/Users/refikcanmalli/anaconda3/envs/vodafone/lib/python3.6/site-packages/sklearn/metrics/classification.py:1135: UndefinedMetricWarning: F-score is ill-defined and being set to 0.0 due to no predicted samples.\n",
      "  'precision', 'predicted', average, warn_for)\n",
      "/Users/refikcanmalli/anaconda3/envs/vodafone/lib/python3.6/site-packages/sklearn/metrics/classification.py:1135: UndefinedMetricWarning: F-score is ill-defined and being set to 0.0 due to no predicted samples.\n",
      "  'precision', 'predicted', average, warn_for)\n",
      "/Users/refikcanmalli/anaconda3/envs/vodafone/lib/python3.6/site-packages/sklearn/metrics/classification.py:1135: UndefinedMetricWarning: F-score is ill-defined and being set to 0.0 due to no predicted samples.\n",
      "  'precision', 'predicted', average, warn_for)\n",
      "/Users/refikcanmalli/anaconda3/envs/vodafone/lib/python3.6/site-packages/sklearn/metrics/classification.py:1135: UndefinedMetricWarning: F-score is ill-defined and being set to 0.0 due to no predicted samples.\n",
      "  'precision', 'predicted', average, warn_for)\n",
      "/Users/refikcanmalli/anaconda3/envs/vodafone/lib/python3.6/site-packages/sklearn/metrics/classification.py:1135: UndefinedMetricWarning: F-score is ill-defined and being set to 0.0 due to no predicted samples.\n",
      "  'precision', 'predicted', average, warn_for)\n",
      "/Users/refikcanmalli/anaconda3/envs/vodafone/lib/python3.6/site-packages/sklearn/metrics/classification.py:1135: UndefinedMetricWarning: F-score is ill-defined and being set to 0.0 due to no predicted samples.\n",
      "  'precision', 'predicted', average, warn_for)\n",
      "/Users/refikcanmalli/anaconda3/envs/vodafone/lib/python3.6/site-packages/sklearn/metrics/classification.py:1135: UndefinedMetricWarning: F-score is ill-defined and being set to 0.0 due to no predicted samples.\n",
      "  'precision', 'predicted', average, warn_for)\n",
      "/Users/refikcanmalli/anaconda3/envs/vodafone/lib/python3.6/site-packages/sklearn/metrics/classification.py:1135: UndefinedMetricWarning: F-score is ill-defined and being set to 0.0 due to no predicted samples.\n",
      "  'precision', 'predicted', average, warn_for)\n",
      "/Users/refikcanmalli/anaconda3/envs/vodafone/lib/python3.6/site-packages/sklearn/metrics/classification.py:1135: UndefinedMetricWarning: F-score is ill-defined and being set to 0.0 due to no predicted samples.\n",
      "  'precision', 'predicted', average, warn_for)\n",
      "/Users/refikcanmalli/anaconda3/envs/vodafone/lib/python3.6/site-packages/sklearn/metrics/classification.py:1135: UndefinedMetricWarning: F-score is ill-defined and being set to 0.0 due to no predicted samples.\n",
      "  'precision', 'predicted', average, warn_for)\n",
      "/Users/refikcanmalli/anaconda3/envs/vodafone/lib/python3.6/site-packages/sklearn/metrics/classification.py:1135: UndefinedMetricWarning: F-score is ill-defined and being set to 0.0 due to no predicted samples.\n",
      "  'precision', 'predicted', average, warn_for)\n",
      "/Users/refikcanmalli/anaconda3/envs/vodafone/lib/python3.6/site-packages/sklearn/metrics/classification.py:1135: UndefinedMetricWarning: F-score is ill-defined and being set to 0.0 due to no predicted samples.\n",
      "  'precision', 'predicted', average, warn_for)\n",
      "/Users/refikcanmalli/anaconda3/envs/vodafone/lib/python3.6/site-packages/sklearn/metrics/classification.py:1135: UndefinedMetricWarning: F-score is ill-defined and being set to 0.0 due to no predicted samples.\n",
      "  'precision', 'predicted', average, warn_for)\n",
      "/Users/refikcanmalli/anaconda3/envs/vodafone/lib/python3.6/site-packages/sklearn/metrics/classification.py:1135: UndefinedMetricWarning: F-score is ill-defined and being set to 0.0 due to no predicted samples.\n",
      "  'precision', 'predicted', average, warn_for)\n",
      "/Users/refikcanmalli/anaconda3/envs/vodafone/lib/python3.6/site-packages/sklearn/metrics/classification.py:1135: UndefinedMetricWarning: F-score is ill-defined and being set to 0.0 due to no predicted samples.\n",
      "  'precision', 'predicted', average, warn_for)\n",
      "/Users/refikcanmalli/anaconda3/envs/vodafone/lib/python3.6/site-packages/sklearn/metrics/classification.py:1135: UndefinedMetricWarning: F-score is ill-defined and being set to 0.0 due to no predicted samples.\n",
      "  'precision', 'predicted', average, warn_for)\n",
      "/Users/refikcanmalli/anaconda3/envs/vodafone/lib/python3.6/site-packages/sklearn/metrics/classification.py:1135: UndefinedMetricWarning: F-score is ill-defined and being set to 0.0 due to no predicted samples.\n",
      "  'precision', 'predicted', average, warn_for)\n",
      "/Users/refikcanmalli/anaconda3/envs/vodafone/lib/python3.6/site-packages/sklearn/metrics/classification.py:1135: UndefinedMetricWarning: F-score is ill-defined and being set to 0.0 due to no predicted samples.\n",
      "  'precision', 'predicted', average, warn_for)\n",
      "[Parallel(n_jobs=-1)]: Done  20 out of  20 | elapsed:    0.3s finished\n"
     ]
    }
   ],
   "source": [
    "gs_dummy.fit(x_df, y_df);"
   ]
  },
  {
   "cell_type": "code",
   "execution_count": 10,
   "metadata": {},
   "outputs": [
    {
     "data": {
      "text/plain": [
       "{'clf__strategy': 'stratified'}"
      ]
     },
     "execution_count": 10,
     "metadata": {},
     "output_type": "execute_result"
    }
   ],
   "source": [
    "gs_dummy.best_params_"
   ]
  },
  {
   "cell_type": "code",
   "execution_count": 11,
   "metadata": {},
   "outputs": [
    {
     "data": {
      "text/plain": [
       "0.39645732689210955"
      ]
     },
     "execution_count": 11,
     "metadata": {},
     "output_type": "execute_result"
    }
   ],
   "source": [
    "gs_dummy.best_score_"
   ]
  },
  {
   "cell_type": "code",
   "execution_count": 12,
   "metadata": {},
   "outputs": [],
   "source": [
    "param_grid = {\"clf__max_depth\": [10,30,50],\n",
    "              \"clf__criterion\": ['gini', 'entropy'],\n",
    "              \"clf__n_estimators\": [100,200,500,1000],\n",
    "              \"clf__random_state\": [42],\n",
    "              \"clf__class_weight\" : [None, 'balanced']}\n",
    "# param_grid = {\"classifier__max_depth\": [30],\n",
    "#               \"classifier__n_estimators\": [1000]}\n",
    "\n",
    "\n",
    "rf = RandomForestClassifier()\n",
    "\n",
    "plist = []\n",
    "plist.append(('balancer', balancer))\n",
    "plist.append(('clf', rf))\n",
    "pipeline = Pipeline(plist)\n",
    "\n",
    "gs_rf = GridSearchCV(pipeline, param_grid=param_grid, cv=5, verbose=1, scoring=myscorer, n_jobs=-1)"
   ]
  },
  {
   "cell_type": "code",
   "execution_count": 13,
   "metadata": {},
   "outputs": [
    {
     "name": "stdout",
     "output_type": "stream",
     "text": [
      "Fitting 5 folds for each of 48 candidates, totalling 240 fits\n"
     ]
    },
    {
     "name": "stderr",
     "output_type": "stream",
     "text": [
      "[Parallel(n_jobs=-1)]: Done  42 tasks      | elapsed:   18.3s\n",
      "[Parallel(n_jobs=-1)]: Done 192 tasks      | elapsed:  1.5min\n",
      "[Parallel(n_jobs=-1)]: Done 240 out of 240 | elapsed:  2.0min finished\n"
     ]
    }
   ],
   "source": [
    "gs_rf.fit(x_df, y_df);"
   ]
  },
  {
   "cell_type": "code",
   "execution_count": 14,
   "metadata": {},
   "outputs": [
    {
     "data": {
      "text/plain": [
       "{'clf__class_weight': None,\n",
       " 'clf__criterion': 'entropy',\n",
       " 'clf__max_depth': 10,\n",
       " 'clf__n_estimators': 100,\n",
       " 'clf__random_state': 42}"
      ]
     },
     "execution_count": 14,
     "metadata": {},
     "output_type": "execute_result"
    }
   ],
   "source": [
    "gs_rf.best_params_"
   ]
  },
  {
   "cell_type": "code",
   "execution_count": 15,
   "metadata": {},
   "outputs": [
    {
     "data": {
      "text/plain": [
       "0.46700112110862624"
      ]
     },
     "execution_count": 15,
     "metadata": {},
     "output_type": "execute_result"
    }
   ],
   "source": [
    "gs_rf.best_score_\n"
   ]
  },
  {
   "cell_type": "code",
   "execution_count": 16,
   "metadata": {},
   "outputs": [],
   "source": [
    "if gs_rf.best_score_ > best_score:\n",
    "    best_model = gs_rf\n",
    "    best_score = gs_rf.best_score_"
   ]
  },
  {
   "cell_type": "code",
   "execution_count": 17,
   "metadata": {},
   "outputs": [
    {
     "name": "stdout",
     "output_type": "stream",
     "text": [
      "Feature ranking:\n",
      "1. feature 45 - Parea_ECG_V8 (0.029742)\n",
      "2. feature 46 - Parea_ECG_V9 (0.029327)\n",
      "3. feature 1 - QTm_old (0.028393)\n",
      "4. feature 53 - Pfwhm_ECG_V1 (0.027602)\n",
      "5. feature 66 - patsex (0.027417)\n",
      "6. feature 40 - Parea_ECG_V3R (0.025721)\n",
      "7. feature 48 - Parea_ECG_aVL (0.023909)\n",
      "8. feature 34 - Parea_ECG_I (0.022841)\n",
      "9. feature 3 - QTn (0.022701)\n",
      "10. feature 56 - Pfwhm_ECG_V3R (0.022539)\n",
      "11. feature 43 - Parea_ECG_V5 (0.021343)\n",
      "12. feature 41 - Parea_ECG_V4 (0.019882)\n",
      "13. feature 67 - Age (0.019763)\n",
      "14. feature 58 - Pfwhm_ECG_V4R (0.019106)\n",
      "15. feature 36 - Parea_ECG_III (0.018968)\n",
      "16. feature 55 - Pfwhm_ECG_V3 (0.018048)\n",
      "17. feature 65 - Pfwhm_ECG_aVR (0.017986)\n",
      "18. feature 59 - Pfwhm_ECG_V5 (0.017255)\n",
      "19. feature 21 - Pdur_ECG_V1 (0.016202)\n",
      "20. feature 17 - Pdur16iqr (0.016162)\n",
      "21. feature 16 - Pdur16std (0.015909)\n",
      "22. feature 63 - Pfwhm_ECG_aVF (0.015360)\n",
      "23. feature 44 - Parea_ECG_V6 (0.015339)\n",
      "24. feature 30 - Pdur_ECG_V9 (0.015181)\n",
      "25. feature 18 - Pdur_ECG_I (0.014997)\n",
      "26. feature 25 - Pdur_ECG_V4 (0.014777)\n",
      "27. feature 50 - Pfwhm_ECG_I (0.014632)\n",
      "28. feature 0 - RR (0.014468)\n",
      "29. feature 39 - Parea_ECG_V3 (0.014376)\n",
      "30. feature 57 - Pfwhm_ECG_V4 (0.014352)\n",
      "31. feature 38 - Parea_ECG_V2 (0.014155)\n",
      "32. feature 5 - PQ (0.014078)\n",
      "33. feature 37 - Parea_ECG_V1 (0.013864)\n",
      "34. feature 42 - Parea_ECG_V4R (0.013683)\n",
      "35. feature 62 - Pfwhm_ECG_V9 (0.013410)\n",
      "36. feature 4 - QRS (0.013333)\n",
      "37. feature 49 - Parea_ECG_aVR (0.012862)\n",
      "38. feature 10 - PCarea (0.012495)\n",
      "39. feature 52 - Pfwhm_ECG_III (0.012212)\n",
      "40. feature 33 - Pdur_ECG_aVR (0.012123)\n",
      "41. feature 9 - PCfwhm (0.011923)\n",
      "42. feature 14 - Pdur16min (0.011913)\n",
      "43. feature 31 - Pdur_ECG_aVF (0.011889)\n",
      "44. feature 6 - PCpos (0.011880)\n",
      "45. feature 54 - Pfwhm_ECG_V2 (0.011780)\n",
      "46. feature 60 - Pfwhm_ECG_V6 (0.011480)\n",
      "47. feature 15 - Pdur16max (0.011422)\n",
      "48. feature 35 - Parea_ECG_II (0.011266)\n",
      "49. feature 61 - Pfwhm_ECG_V8 (0.011031)\n",
      "50. feature 64 - Pfwhm_ECG_aVL (0.010956)\n",
      "51. feature 20 - Pdur_ECG_III (0.010722)\n",
      "52. feature 12 - Pdur16mean (0.010622)\n",
      "53. feature 29 - Pdur_ECG_V8 (0.010593)\n",
      "54. feature 32 - Pdur_ECG_aVL (0.009999)\n",
      "55. feature 51 - Pfwhm_ECG_II (0.009903)\n",
      "56. feature 28 - Pdur_ECG_V6 (0.009732)\n",
      "57. feature 19 - Pdur_ECG_II (0.009708)\n",
      "58. feature 8 - PCdur (0.009390)\n",
      "59. feature 2 - QR (0.009356)\n",
      "60. feature 47 - Parea_ECG_aVF (0.009067)\n",
      "61. feature 27 - Pdur_ECG_V5 (0.008957)\n",
      "62. feature 23 - Pdur_ECG_V3 (0.008729)\n",
      "63. feature 11 - P_LoffEon (0.008371)\n",
      "64. feature 26 - Pdur_ECG_V4R (0.008234)\n",
      "65. feature 13 - Pdur16median (0.007472)\n",
      "66. feature 22 - Pdur_ECG_V2 (0.007312)\n",
      "67. feature 24 - Pdur_ECG_V3R (0.006154)\n",
      "68. feature 7 - PCneg (0.003622)\n"
     ]
    }
   ],
   "source": [
    "show_f_importance(gs_rf.best_estimator_.named_steps['clf'],x_df)"
   ]
  },
  {
   "cell_type": "code",
   "execution_count": 18,
   "metadata": {},
   "outputs": [],
   "source": [
    "param_grid = {\"clf__max_depth\": [3,5,8],\n",
    "              \"clf__n_estimators\": [100,200,500,1000],\n",
    "              \"clf__min_samples_leaf\": [1,3,5,10]}\n",
    "# param_grid = {\"classifier__n_estimators\": [50],\n",
    "#               \"classifier__max_depth\": [5],\n",
    "# \n",
    "\n",
    "gb = GradientBoostingClassifier(random_state=42)\n",
    "plist = []\n",
    "plist.append(('balancer', balancer))\n",
    "plist.append(('clf', gb))\n",
    "pipeline = Pipeline(plist)\n",
    "gs_gb = GridSearchCV(pipeline, param_grid=param_grid, cv=5, verbose=1,  scoring=myscorer, n_jobs=-1)"
   ]
  },
  {
   "cell_type": "code",
   "execution_count": 19,
   "metadata": {},
   "outputs": [
    {
     "name": "stdout",
     "output_type": "stream",
     "text": [
      "Fitting 5 folds for each of 48 candidates, totalling 240 fits\n"
     ]
    },
    {
     "name": "stderr",
     "output_type": "stream",
     "text": [
      "[Parallel(n_jobs=-1)]: Done  42 tasks      | elapsed:   11.9s\n",
      "[Parallel(n_jobs=-1)]: Done 192 tasks      | elapsed:   55.3s\n",
      "[Parallel(n_jobs=-1)]: Done 240 out of 240 | elapsed:  1.1min finished\n"
     ]
    }
   ],
   "source": [
    "gs_gb.fit(x_df, y_df);"
   ]
  },
  {
   "cell_type": "code",
   "execution_count": 20,
   "metadata": {},
   "outputs": [
    {
     "data": {
      "text/plain": [
       "{'clf__max_depth': 3, 'clf__min_samples_leaf': 1, 'clf__n_estimators': 200}"
      ]
     },
     "execution_count": 20,
     "metadata": {},
     "output_type": "execute_result"
    }
   ],
   "source": [
    "gs_gb.best_params_"
   ]
  },
  {
   "cell_type": "code",
   "execution_count": 21,
   "metadata": {},
   "outputs": [
    {
     "data": {
      "text/plain": [
       "0.43485860244480934"
      ]
     },
     "execution_count": 21,
     "metadata": {},
     "output_type": "execute_result"
    }
   ],
   "source": [
    "gs_gb.best_score_"
   ]
  },
  {
   "cell_type": "code",
   "execution_count": 22,
   "metadata": {},
   "outputs": [],
   "source": [
    "if gs_gb.best_score_ > best_score:\n",
    "    best_model = gs_gb\n",
    "    best_score = gs_gb.best_score_"
   ]
  },
  {
   "cell_type": "code",
   "execution_count": 23,
   "metadata": {},
   "outputs": [
    {
     "name": "stdout",
     "output_type": "stream",
     "text": [
      "Feature ranking:\n",
      "1. feature 67 - Age (0.047531)\n",
      "2. feature 40 - Parea_ECG_V3R (0.036437)\n",
      "3. feature 34 - Parea_ECG_I (0.034807)\n",
      "4. feature 1 - QTm_old (0.034795)\n",
      "5. feature 0 - RR (0.034542)\n",
      "6. feature 3 - QTn (0.034459)\n",
      "7. feature 53 - Pfwhm_ECG_V1 (0.030270)\n",
      "8. feature 21 - Pdur_ECG_V1 (0.028328)\n",
      "9. feature 50 - Pfwhm_ECG_I (0.026645)\n",
      "10. feature 59 - Pfwhm_ECG_V5 (0.025919)\n",
      "11. feature 46 - Parea_ECG_V9 (0.025903)\n",
      "12. feature 66 - patsex (0.025656)\n",
      "13. feature 10 - PCarea (0.025576)\n",
      "14. feature 64 - Pfwhm_ECG_aVL (0.025229)\n",
      "15. feature 39 - Parea_ECG_V3 (0.025185)\n",
      "16. feature 45 - Parea_ECG_V8 (0.023996)\n",
      "17. feature 54 - Pfwhm_ECG_V2 (0.023633)\n",
      "18. feature 58 - Pfwhm_ECG_V4R (0.023553)\n",
      "19. feature 2 - QR (0.021974)\n",
      "20. feature 42 - Parea_ECG_V4R (0.021241)\n",
      "21. feature 36 - Parea_ECG_III (0.021191)\n",
      "22. feature 38 - Parea_ECG_V2 (0.020172)\n",
      "23. feature 16 - Pdur16std (0.019473)\n",
      "24. feature 65 - Pfwhm_ECG_aVR (0.019442)\n",
      "25. feature 48 - Parea_ECG_aVL (0.018271)\n",
      "26. feature 55 - Pfwhm_ECG_V3 (0.018178)\n",
      "27. feature 4 - QRS (0.015771)\n",
      "28. feature 14 - Pdur16min (0.014752)\n",
      "29. feature 25 - Pdur_ECG_V4 (0.014610)\n",
      "30. feature 20 - Pdur_ECG_III (0.013941)\n",
      "31. feature 41 - Parea_ECG_V4 (0.013853)\n",
      "32. feature 56 - Pfwhm_ECG_V3R (0.013601)\n",
      "33. feature 43 - Parea_ECG_V5 (0.013399)\n",
      "34. feature 27 - Pdur_ECG_V5 (0.012585)\n",
      "35. feature 31 - Pdur_ECG_aVF (0.012565)\n",
      "36. feature 17 - Pdur16iqr (0.012138)\n",
      "37. feature 63 - Pfwhm_ECG_aVF (0.011632)\n",
      "38. feature 19 - Pdur_ECG_II (0.011237)\n",
      "39. feature 61 - Pfwhm_ECG_V8 (0.010608)\n",
      "40. feature 37 - Parea_ECG_V1 (0.010557)\n",
      "41. feature 57 - Pfwhm_ECG_V4 (0.008682)\n",
      "42. feature 6 - PCpos (0.008298)\n",
      "43. feature 18 - Pdur_ECG_I (0.008139)\n",
      "44. feature 52 - Pfwhm_ECG_III (0.007942)\n",
      "45. feature 24 - Pdur_ECG_V3R (0.006599)\n",
      "46. feature 5 - PQ (0.006454)\n",
      "47. feature 28 - Pdur_ECG_V6 (0.006270)\n",
      "48. feature 49 - Parea_ECG_aVR (0.006100)\n",
      "49. feature 51 - Pfwhm_ECG_II (0.006089)\n",
      "50. feature 44 - Parea_ECG_V6 (0.005212)\n",
      "51. feature 29 - Pdur_ECG_V8 (0.005037)\n",
      "52. feature 11 - P_LoffEon (0.004828)\n",
      "53. feature 33 - Pdur_ECG_aVR (0.004820)\n",
      "54. feature 32 - Pdur_ECG_aVL (0.004677)\n",
      "55. feature 26 - Pdur_ECG_V4R (0.004431)\n",
      "56. feature 35 - Parea_ECG_II (0.004112)\n",
      "57. feature 23 - Pdur_ECG_V3 (0.003780)\n",
      "58. feature 62 - Pfwhm_ECG_V9 (0.003697)\n",
      "59. feature 47 - Parea_ECG_aVF (0.003632)\n",
      "60. feature 30 - Pdur_ECG_V9 (0.003406)\n",
      "61. feature 9 - PCfwhm (0.002390)\n",
      "62. feature 12 - Pdur16mean (0.002282)\n",
      "63. feature 60 - Pfwhm_ECG_V6 (0.002271)\n",
      "64. feature 22 - Pdur_ECG_V2 (0.002016)\n",
      "65. feature 7 - PCneg (0.001624)\n",
      "66. feature 15 - Pdur16max (0.001622)\n",
      "67. feature 8 - PCdur (0.001251)\n",
      "68. feature 13 - Pdur16median (0.000684)\n"
     ]
    }
   ],
   "source": [
    "show_f_importance(gs_gb.best_estimator_.named_steps['clf'],x_df)"
   ]
  },
  {
   "cell_type": "code",
   "execution_count": 24,
   "metadata": {},
   "outputs": [],
   "source": [
    "param_grid = {\"clf__learning_rate\": [0.1,0.3,0.7,0.8],\n",
    "              \"clf__n_estimators\": [100,1000,2000,2500,3000,5000]}\n",
    "\n",
    "ab = AdaBoostClassifier(random_state=42)\n",
    "\n",
    "plist = []\n",
    "plist.append(('balancer', balancer))\n",
    "plist.append(('clf', ab))\n",
    "pipeline = Pipeline(plist)\n",
    "\n",
    "gs_ab = GridSearchCV(pipeline, param_grid=param_grid, cv=5, verbose=1, scoring=myscorer, n_jobs=-1)"
   ]
  },
  {
   "cell_type": "code",
   "execution_count": 25,
   "metadata": {},
   "outputs": [
    {
     "name": "stdout",
     "output_type": "stream",
     "text": [
      "Fitting 5 folds for each of 24 candidates, totalling 120 fits\n"
     ]
    },
    {
     "name": "stderr",
     "output_type": "stream",
     "text": [
      "[Parallel(n_jobs=-1)]: Done  42 tasks      | elapsed:  1.8min\n",
      "[Parallel(n_jobs=-1)]: Done 120 out of 120 | elapsed:  6.3min finished\n"
     ]
    }
   ],
   "source": [
    "gs_ab.fit(x_df, y_df);"
   ]
  },
  {
   "cell_type": "code",
   "execution_count": 26,
   "metadata": {},
   "outputs": [
    {
     "data": {
      "text/plain": [
       "{'clf__learning_rate': 0.3, 'clf__n_estimators': 3000}"
      ]
     },
     "execution_count": 26,
     "metadata": {},
     "output_type": "execute_result"
    }
   ],
   "source": [
    "gs_ab.best_params_"
   ]
  },
  {
   "cell_type": "code",
   "execution_count": 27,
   "metadata": {},
   "outputs": [
    {
     "data": {
      "text/plain": [
       "0.43961434023543317"
      ]
     },
     "execution_count": 27,
     "metadata": {},
     "output_type": "execute_result"
    }
   ],
   "source": [
    "gs_ab.best_score_"
   ]
  },
  {
   "cell_type": "code",
   "execution_count": 28,
   "metadata": {},
   "outputs": [],
   "source": [
    "\n",
    "if gs_ab.best_score_ > best_score:\n",
    "    best_model = gs_ab\n",
    "    best_score = gs_ab.best_score_"
   ]
  },
  {
   "cell_type": "code",
   "execution_count": 29,
   "metadata": {},
   "outputs": [
    {
     "name": "stdout",
     "output_type": "stream",
     "text": [
      "Feature ranking:\n",
      "1. feature 21 - Pdur_ECG_V1 (0.043667)\n",
      "2. feature 14 - Pdur16min (0.037333)\n",
      "3. feature 34 - Parea_ECG_I (0.036333)\n",
      "4. feature 57 - Pfwhm_ECG_V4 (0.032000)\n",
      "5. feature 10 - PCarea (0.030667)\n",
      "6. feature 46 - Parea_ECG_V9 (0.030000)\n",
      "7. feature 1 - QTm_old (0.029333)\n",
      "8. feature 40 - Parea_ECG_V3R (0.029333)\n",
      "9. feature 33 - Pdur_ECG_aVR (0.028000)\n",
      "10. feature 39 - Parea_ECG_V3 (0.027000)\n",
      "11. feature 51 - Pfwhm_ECG_II (0.025667)\n",
      "12. feature 67 - Age (0.025000)\n",
      "13. feature 52 - Pfwhm_ECG_III (0.024667)\n",
      "14. feature 43 - Parea_ECG_V5 (0.024333)\n",
      "15. feature 16 - Pdur16std (0.024000)\n",
      "16. feature 63 - Pfwhm_ECG_aVF (0.023667)\n",
      "17. feature 45 - Parea_ECG_V8 (0.023333)\n",
      "18. feature 0 - RR (0.023000)\n",
      "19. feature 36 - Parea_ECG_III (0.022667)\n",
      "20. feature 65 - Pfwhm_ECG_aVR (0.022000)\n",
      "21. feature 3 - QTn (0.020667)\n",
      "22. feature 58 - Pfwhm_ECG_V4R (0.020333)\n",
      "23. feature 53 - Pfwhm_ECG_V1 (0.020000)\n",
      "24. feature 27 - Pdur_ECG_V5 (0.019000)\n",
      "25. feature 48 - Parea_ECG_aVL (0.018667)\n",
      "26. feature 2 - QR (0.018333)\n",
      "27. feature 25 - Pdur_ECG_V4 (0.018333)\n",
      "28. feature 9 - PCfwhm (0.017333)\n",
      "29. feature 6 - PCpos (0.017333)\n",
      "30. feature 56 - Pfwhm_ECG_V3R (0.016667)\n",
      "31. feature 66 - patsex (0.016333)\n",
      "32. feature 55 - Pfwhm_ECG_V3 (0.014667)\n",
      "33. feature 47 - Parea_ECG_aVF (0.014333)\n",
      "34. feature 32 - Pdur_ECG_aVL (0.014000)\n",
      "35. feature 17 - Pdur16iqr (0.013667)\n",
      "36. feature 60 - Pfwhm_ECG_V6 (0.013000)\n",
      "37. feature 59 - Pfwhm_ECG_V5 (0.013000)\n",
      "38. feature 38 - Parea_ECG_V2 (0.012667)\n",
      "39. feature 37 - Parea_ECG_V1 (0.011333)\n",
      "40. feature 41 - Parea_ECG_V4 (0.011000)\n",
      "41. feature 61 - Pfwhm_ECG_V8 (0.009333)\n",
      "42. feature 42 - Parea_ECG_V4R (0.009000)\n",
      "43. feature 5 - PQ (0.008333)\n",
      "44. feature 50 - Pfwhm_ECG_I (0.008000)\n",
      "45. feature 54 - Pfwhm_ECG_V2 (0.008000)\n",
      "46. feature 64 - Pfwhm_ECG_aVL (0.007333)\n",
      "47. feature 11 - P_LoffEon (0.007333)\n",
      "48. feature 19 - Pdur_ECG_II (0.007000)\n",
      "49. feature 62 - Pfwhm_ECG_V9 (0.006667)\n",
      "50. feature 29 - Pdur_ECG_V8 (0.006333)\n",
      "51. feature 22 - Pdur_ECG_V2 (0.005333)\n",
      "52. feature 31 - Pdur_ECG_aVF (0.005000)\n",
      "53. feature 35 - Parea_ECG_II (0.004667)\n",
      "54. feature 7 - PCneg (0.004667)\n",
      "55. feature 24 - Pdur_ECG_V3R (0.004667)\n",
      "56. feature 18 - Pdur_ECG_I (0.003333)\n",
      "57. feature 20 - Pdur_ECG_III (0.001667)\n",
      "58. feature 4 - QRS (0.001667)\n",
      "59. feature 26 - Pdur_ECG_V4R (0.001667)\n",
      "60. feature 12 - Pdur16mean (0.001333)\n",
      "61. feature 30 - Pdur_ECG_V9 (0.001333)\n",
      "62. feature 13 - Pdur16median (0.001000)\n",
      "63. feature 15 - Pdur16max (0.001000)\n",
      "64. feature 8 - PCdur (0.000667)\n",
      "65. feature 23 - Pdur_ECG_V3 (0.000667)\n",
      "66. feature 49 - Parea_ECG_aVR (0.000667)\n",
      "67. feature 44 - Parea_ECG_V6 (0.000667)\n",
      "68. feature 28 - Pdur_ECG_V6 (0.000000)\n"
     ]
    }
   ],
   "source": [
    "show_f_importance(gs_ab.best_estimator_.named_steps['clf'],x_df)"
   ]
  },
  {
   "cell_type": "code",
   "execution_count": 30,
   "metadata": {},
   "outputs": [],
   "source": [
    "param_grid = {\"clf__max_depth\": [3,5,8,10,15,30],\n",
    "              \"clf__n_estimators\": [100,200,500,1000,1500],\n",
    "              \"clf__min_samples_leaf\": [1,3,5,10]}\n",
    "\n",
    "et = ExtraTreesClassifier(random_state=42)\n",
    "\n",
    "plist = []\n",
    "plist.append(('balancer', balancer))\n",
    "plist.append(('clf', et))\n",
    "pipeline = Pipeline(plist)\n",
    "\n",
    "gs_et = GridSearchCV(pipeline, param_grid=param_grid, cv=5, verbose=1,  scoring=myscorer, n_jobs=-1)"
   ]
  },
  {
   "cell_type": "code",
   "execution_count": 31,
   "metadata": {},
   "outputs": [
    {
     "name": "stdout",
     "output_type": "stream",
     "text": [
      "Fitting 5 folds for each of 120 candidates, totalling 600 fits\n"
     ]
    },
    {
     "name": "stderr",
     "output_type": "stream",
     "text": [
      "[Parallel(n_jobs=-1)]: Done  42 tasks      | elapsed:   13.6s\n",
      "[Parallel(n_jobs=-1)]: Done 192 tasks      | elapsed:  1.4min\n",
      "[Parallel(n_jobs=-1)]: Done 442 tasks      | elapsed:  3.3min\n",
      "[Parallel(n_jobs=-1)]: Done 600 out of 600 | elapsed:  4.6min finished\n"
     ]
    }
   ],
   "source": [
    "gs_et.fit(x_df, y_df);"
   ]
  },
  {
   "cell_type": "code",
   "execution_count": 32,
   "metadata": {},
   "outputs": [
    {
     "data": {
      "text/plain": [
       "{'clf__max_depth': 3, 'clf__min_samples_leaf': 5, 'clf__n_estimators': 1000}"
      ]
     },
     "execution_count": 32,
     "metadata": {},
     "output_type": "execute_result"
    }
   ],
   "source": [
    "gs_et.best_params_"
   ]
  },
  {
   "cell_type": "code",
   "execution_count": 33,
   "metadata": {},
   "outputs": [
    {
     "data": {
      "text/plain": [
       "0.4845598434487323"
      ]
     },
     "execution_count": 33,
     "metadata": {},
     "output_type": "execute_result"
    }
   ],
   "source": [
    "gs_et.best_score_"
   ]
  },
  {
   "cell_type": "code",
   "execution_count": 34,
   "metadata": {},
   "outputs": [],
   "source": [
    "if gs_et.best_score_ > best_score:\n",
    "    best_model = gs_et\n",
    "    best_score = gs_et.best_score_"
   ]
  },
  {
   "cell_type": "code",
   "execution_count": 35,
   "metadata": {},
   "outputs": [
    {
     "name": "stdout",
     "output_type": "stream",
     "text": [
      "Feature ranking:\n",
      "1. feature 66 - patsex (0.097806)\n",
      "2. feature 45 - Parea_ECG_V8 (0.067732)\n",
      "3. feature 46 - Parea_ECG_V9 (0.066875)\n",
      "4. feature 53 - Pfwhm_ECG_V1 (0.047826)\n",
      "5. feature 67 - Age (0.044778)\n",
      "6. feature 1 - QTm_old (0.032894)\n",
      "7. feature 59 - Pfwhm_ECG_V5 (0.028630)\n",
      "8. feature 55 - Pfwhm_ECG_V3 (0.026778)\n",
      "9. feature 36 - Parea_ECG_III (0.025097)\n",
      "10. feature 34 - Parea_ECG_I (0.023361)\n",
      "11. feature 58 - Pfwhm_ECG_V4R (0.019812)\n",
      "12. feature 54 - Pfwhm_ECG_V2 (0.019494)\n",
      "13. feature 60 - Pfwhm_ECG_V6 (0.018900)\n",
      "14. feature 39 - Parea_ECG_V3 (0.018274)\n",
      "15. feature 44 - Parea_ECG_V6 (0.018165)\n",
      "16. feature 9 - PCfwhm (0.018140)\n",
      "17. feature 48 - Parea_ECG_aVL (0.016595)\n",
      "18. feature 3 - QTn (0.016209)\n",
      "19. feature 49 - Parea_ECG_aVR (0.016124)\n",
      "20. feature 56 - Pfwhm_ECG_V3R (0.015881)\n",
      "21. feature 35 - Parea_ECG_II (0.014404)\n",
      "22. feature 40 - Parea_ECG_V3R (0.013273)\n",
      "23. feature 57 - Pfwhm_ECG_V4 (0.013215)\n",
      "24. feature 0 - RR (0.012981)\n",
      "25. feature 10 - PCarea (0.012636)\n",
      "26. feature 61 - Pfwhm_ECG_V8 (0.012278)\n",
      "27. feature 47 - Parea_ECG_aVF (0.011154)\n",
      "28. feature 43 - Parea_ECG_V5 (0.010923)\n",
      "29. feature 27 - Pdur_ECG_V5 (0.010013)\n",
      "30. feature 65 - Pfwhm_ECG_aVR (0.009973)\n",
      "31. feature 31 - Pdur_ECG_aVF (0.009758)\n",
      "32. feature 19 - Pdur_ECG_II (0.009691)\n",
      "33. feature 42 - Parea_ECG_V4R (0.009283)\n",
      "34. feature 16 - Pdur16std (0.009129)\n",
      "35. feature 38 - Parea_ECG_V2 (0.008783)\n",
      "36. feature 6 - PCpos (0.008557)\n",
      "37. feature 50 - Pfwhm_ECG_I (0.008501)\n",
      "38. feature 11 - P_LoffEon (0.008473)\n",
      "39. feature 17 - Pdur16iqr (0.008110)\n",
      "40. feature 41 - Parea_ECG_V4 (0.008078)\n",
      "41. feature 25 - Pdur_ECG_V4 (0.007733)\n",
      "42. feature 21 - Pdur_ECG_V1 (0.007504)\n",
      "43. feature 33 - Pdur_ECG_aVR (0.007311)\n",
      "44. feature 4 - QRS (0.006903)\n",
      "45. feature 18 - Pdur_ECG_I (0.006748)\n",
      "46. feature 20 - Pdur_ECG_III (0.006730)\n",
      "47. feature 64 - Pfwhm_ECG_aVL (0.006561)\n",
      "48. feature 30 - Pdur_ECG_V9 (0.006519)\n",
      "49. feature 32 - Pdur_ECG_aVL (0.006186)\n",
      "50. feature 2 - QR (0.006009)\n",
      "51. feature 62 - Pfwhm_ECG_V9 (0.005966)\n",
      "52. feature 52 - Pfwhm_ECG_III (0.005900)\n",
      "53. feature 37 - Parea_ECG_V1 (0.005778)\n",
      "54. feature 28 - Pdur_ECG_V6 (0.005774)\n",
      "55. feature 13 - Pdur16median (0.005580)\n",
      "56. feature 15 - Pdur16max (0.005502)\n",
      "57. feature 29 - Pdur_ECG_V8 (0.005080)\n",
      "58. feature 8 - PCdur (0.004875)\n",
      "59. feature 26 - Pdur_ECG_V4R (0.004760)\n",
      "60. feature 23 - Pdur_ECG_V3 (0.004526)\n",
      "61. feature 14 - Pdur16min (0.004507)\n",
      "62. feature 51 - Pfwhm_ECG_II (0.004311)\n",
      "63. feature 63 - Pfwhm_ECG_aVF (0.003960)\n",
      "64. feature 12 - Pdur16mean (0.003862)\n",
      "65. feature 5 - PQ (0.003729)\n",
      "66. feature 22 - Pdur_ECG_V2 (0.003616)\n",
      "67. feature 24 - Pdur_ECG_V3R (0.003029)\n",
      "68. feature 7 - PCneg (0.002455)\n"
     ]
    }
   ],
   "source": [
    "show_f_importance(gs_et.best_estimator_.named_steps['clf'],x_df)"
   ]
  },
  {
   "cell_type": "code",
   "execution_count": 36,
   "metadata": {},
   "outputs": [
    {
     "data": {
      "text/plain": [
       "(275, 73)"
      ]
     },
     "execution_count": 36,
     "metadata": {},
     "output_type": "execute_result"
    }
   ],
   "source": [
    "cdata = pd.read_csv('../data/central' +'_data.csv')\n",
    "cdata.shape"
   ]
  },
  {
   "cell_type": "code",
   "execution_count": 37,
   "metadata": {},
   "outputs": [
    {
     "name": "stdout",
     "output_type": "stream",
     "text": [
      "[MICE] Completing matrix with shape (270, 69)\n",
      "[MICE] Starting imputation round 1/110, elapsed time 0.002\n",
      "[MICE] Starting imputation round 2/110, elapsed time 0.030\n",
      "[MICE] Starting imputation round 3/110, elapsed time 0.054\n",
      "[MICE] Starting imputation round 4/110, elapsed time 0.077\n",
      "[MICE] Starting imputation round 5/110, elapsed time 0.100\n",
      "[MICE] Starting imputation round 6/110, elapsed time 0.123\n",
      "[MICE] Starting imputation round 7/110, elapsed time 0.149\n",
      "[MICE] Starting imputation round 8/110, elapsed time 0.181\n",
      "[MICE] Starting imputation round 9/110, elapsed time 0.211\n",
      "[MICE] Starting imputation round 10/110, elapsed time 0.238\n",
      "[MICE] Starting imputation round 11/110, elapsed time 0.263\n",
      "[MICE] Starting imputation round 12/110, elapsed time 0.290\n",
      "[MICE] Starting imputation round 13/110, elapsed time 0.313\n",
      "[MICE] Starting imputation round 14/110, elapsed time 0.337\n",
      "[MICE] Starting imputation round 15/110, elapsed time 0.363\n",
      "[MICE] Starting imputation round 16/110, elapsed time 0.399\n",
      "[MICE] Starting imputation round 17/110, elapsed time 0.425\n",
      "[MICE] Starting imputation round 18/110, elapsed time 0.453\n",
      "[MICE] Starting imputation round 19/110, elapsed time 0.478\n",
      "[MICE] Starting imputation round 20/110, elapsed time 0.504\n",
      "[MICE] Starting imputation round 21/110, elapsed time 0.527\n",
      "[MICE] Starting imputation round 22/110, elapsed time 0.552\n",
      "[MICE] Starting imputation round 23/110, elapsed time 0.580\n",
      "[MICE] Starting imputation round 24/110, elapsed time 0.606\n",
      "[MICE] Starting imputation round 25/110, elapsed time 0.635\n",
      "[MICE] Starting imputation round 26/110, elapsed time 0.659\n",
      "[MICE] Starting imputation round 27/110, elapsed time 0.686\n",
      "[MICE] Starting imputation round 28/110, elapsed time 0.709\n",
      "[MICE] Starting imputation round 29/110, elapsed time 0.737\n",
      "[MICE] Starting imputation round 30/110, elapsed time 0.760\n",
      "[MICE] Starting imputation round 31/110, elapsed time 0.787\n",
      "[MICE] Starting imputation round 32/110, elapsed time 0.811\n",
      "[MICE] Starting imputation round 33/110, elapsed time 0.835\n",
      "[MICE] Starting imputation round 34/110, elapsed time 0.859\n",
      "[MICE] Starting imputation round 35/110, elapsed time 0.883\n",
      "[MICE] Starting imputation round 36/110, elapsed time 0.906\n",
      "[MICE] Starting imputation round 37/110, elapsed time 0.932\n",
      "[MICE] Starting imputation round 38/110, elapsed time 0.955\n",
      "[MICE] Starting imputation round 39/110, elapsed time 0.978\n",
      "[MICE] Starting imputation round 40/110, elapsed time 1.002\n",
      "[MICE] Starting imputation round 41/110, elapsed time 1.025\n",
      "[MICE] Starting imputation round 42/110, elapsed time 1.051\n",
      "[MICE] Starting imputation round 43/110, elapsed time 1.076\n",
      "[MICE] Starting imputation round 44/110, elapsed time 1.099\n",
      "[MICE] Starting imputation round 45/110, elapsed time 1.122\n",
      "[MICE] Starting imputation round 46/110, elapsed time 1.145\n",
      "[MICE] Starting imputation round 47/110, elapsed time 1.168\n",
      "[MICE] Starting imputation round 48/110, elapsed time 1.192\n",
      "[MICE] Starting imputation round 49/110, elapsed time 1.216\n",
      "[MICE] Starting imputation round 50/110, elapsed time 1.239\n",
      "[MICE] Starting imputation round 51/110, elapsed time 1.262\n",
      "[MICE] Starting imputation round 52/110, elapsed time 1.287\n",
      "[MICE] Starting imputation round 53/110, elapsed time 1.310\n",
      "[MICE] Starting imputation round 54/110, elapsed time 1.333\n",
      "[MICE] Starting imputation round 55/110, elapsed time 1.356\n",
      "[MICE] Starting imputation round 56/110, elapsed time 1.378\n",
      "[MICE] Starting imputation round 57/110, elapsed time 1.401\n",
      "[MICE] Starting imputation round 58/110, elapsed time 1.427\n",
      "[MICE] Starting imputation round 59/110, elapsed time 1.450\n",
      "[MICE] Starting imputation round 60/110, elapsed time 1.473\n",
      "[MICE] Starting imputation round 61/110, elapsed time 1.498\n",
      "[MICE] Starting imputation round 62/110, elapsed time 1.521\n",
      "[MICE] Starting imputation round 63/110, elapsed time 1.545\n",
      "[MICE] Starting imputation round 64/110, elapsed time 1.568\n",
      "[MICE] Starting imputation round 65/110, elapsed time 1.591\n",
      "[MICE] Starting imputation round 66/110, elapsed time 1.614\n",
      "[MICE] Starting imputation round 67/110, elapsed time 1.638\n",
      "[MICE] Starting imputation round 68/110, elapsed time 1.661\n",
      "[MICE] Starting imputation round 69/110, elapsed time 1.684\n",
      "[MICE] Starting imputation round 70/110, elapsed time 1.708\n",
      "[MICE] Starting imputation round 71/110, elapsed time 1.732\n",
      "[MICE] Starting imputation round 72/110, elapsed time 1.755\n",
      "[MICE] Starting imputation round 73/110, elapsed time 1.778\n",
      "[MICE] Starting imputation round 74/110, elapsed time 1.801\n",
      "[MICE] Starting imputation round 75/110, elapsed time 1.824\n",
      "[MICE] Starting imputation round 76/110, elapsed time 1.849\n",
      "[MICE] Starting imputation round 77/110, elapsed time 1.872\n",
      "[MICE] Starting imputation round 78/110, elapsed time 1.895\n",
      "[MICE] Starting imputation round 79/110, elapsed time 1.919\n",
      "[MICE] Starting imputation round 80/110, elapsed time 1.943\n",
      "[MICE] Starting imputation round 81/110, elapsed time 1.966\n",
      "[MICE] Starting imputation round 82/110, elapsed time 1.988\n",
      "[MICE] Starting imputation round 83/110, elapsed time 2.012\n",
      "[MICE] Starting imputation round 84/110, elapsed time 2.035\n",
      "[MICE] Starting imputation round 85/110, elapsed time 2.061\n",
      "[MICE] Starting imputation round 86/110, elapsed time 2.085\n",
      "[MICE] Starting imputation round 87/110, elapsed time 2.108\n",
      "[MICE] Starting imputation round 88/110, elapsed time 2.132\n",
      "[MICE] Starting imputation round 89/110, elapsed time 2.155\n",
      "[MICE] Starting imputation round 90/110, elapsed time 2.178\n",
      "[MICE] Starting imputation round 91/110, elapsed time 2.201\n",
      "[MICE] Starting imputation round 92/110, elapsed time 2.225\n",
      "[MICE] Starting imputation round 93/110, elapsed time 2.248\n",
      "[MICE] Starting imputation round 94/110, elapsed time 2.272\n",
      "[MICE] Starting imputation round 95/110, elapsed time 2.295\n",
      "[MICE] Starting imputation round 96/110, elapsed time 2.318\n",
      "[MICE] Starting imputation round 97/110, elapsed time 2.343\n",
      "[MICE] Starting imputation round 98/110, elapsed time 2.366\n",
      "[MICE] Starting imputation round 99/110, elapsed time 2.389\n",
      "[MICE] Starting imputation round 100/110, elapsed time 2.412\n",
      "[MICE] Starting imputation round 101/110, elapsed time 2.435\n",
      "[MICE] Starting imputation round 102/110, elapsed time 2.458\n",
      "[MICE] Starting imputation round 103/110, elapsed time 2.483\n",
      "[MICE] Starting imputation round 104/110, elapsed time 2.507\n",
      "[MICE] Starting imputation round 105/110, elapsed time 2.529\n",
      "[MICE] Starting imputation round 106/110, elapsed time 2.554\n",
      "[MICE] Starting imputation round 107/110, elapsed time 2.578\n",
      "[MICE] Starting imputation round 108/110, elapsed time 2.601\n",
      "[MICE] Starting imputation round 109/110, elapsed time 2.624\n",
      "[MICE] Starting imputation round 110/110, elapsed time 2.647\n"
     ]
    }
   ],
   "source": [
    "data_e = cdata[cdata['IPG'] != 1]\n",
    "data_e = data_e.drop('IPG', axis = 1);\n",
    "data_e = data_e.drop('sbjBeatConsidered', axis = 1);\n",
    "data_e = data_e.drop('numRRaveraged', axis = 1);\n",
    "data_e = data_e.drop('Soggetti', axis = 1);\n",
    "# df_columns = data.columns.tolist()\n",
    "# matching_columns1 = [s for s in df_columns if \"Parea\" in s]\n",
    "# matching_columns2 = [s for s in df_columns if \"Pdur\" in s]\n",
    "# mc = matching_columns1 + matching_columns2\n",
    "# data_e = data_e.dropna(subset=mc)\n",
    "data_e['PCneg'].fillna(0, inplace=True)\n",
    "data_e['AFclass'].replace('persistierend (>7 Tage, EKV)', 1, inplace=True)\n",
    "data_e['AFclass'].replace('paroxysmal', 0, inplace=True)\n",
    "categorical_variables_mask = data_e.dtypes==object\n",
    "categorical_variables = data_e.columns[categorical_variables_mask]\n",
    "for v in categorical_variables:\n",
    "    data_e[v] = LabelEncoder().fit_transform(data_e[v])\n",
    "del categorical_variables_mask,categorical_variables\n",
    "data_e = pd.DataFrame(data=MICE(n_imputations=100, impute_type='col', n_nearest_columns=5).complete(data_e.as_matrix()), columns=data_e.columns, index=data_e.index);\n",
    "cy_df = data_e['AFclass'].copy()\n",
    "cx_df = data_e.drop('AFclass',axis=1, inplace=False)"
   ]
  },
  {
   "cell_type": "code",
   "execution_count": 38,
   "metadata": {},
   "outputs": [
    {
     "data": {
      "text/plain": [
       "0.5589787073676276"
      ]
     },
     "execution_count": 38,
     "metadata": {},
     "output_type": "execute_result"
    }
   ],
   "source": [
    "from sklearn.metrics import roc_auc_score\n",
    "p = best_model.predict(cx_df);\n",
    "scores = pd.DataFrame({hospital_name: p})\n",
    "scores.to_csv('../data/' + hospital_name +'_predictions.csv', index=False)\n",
    "np.save('../data/' + hospital_name +'_acc',best_score)\n",
    "roc_auc_score(cy_df, p)"
   ]
  },
  {
   "cell_type": "code",
   "execution_count": 39,
   "metadata": {},
   "outputs": [
    {
     "data": {
      "text/plain": [
       "GridSearchCV(cv=5, error_score='raise',\n",
       "       estimator=Pipeline(memory=None,\n",
       "     steps=[('balancer', SMOTE(k=None, k_neighbors=5, kind='regular', m=None, m_neighbors=10, n_jobs=1,\n",
       "   out_step=0.5, random_state=42, ratio='auto', svm_estimator=None)), ('clf', ExtraTreesClassifier(bootstrap=False, class_weight=None, criterion='gini',\n",
       "           max_depth=None, max_features='auto', ...estimators=10, n_jobs=1,\n",
       "           oob_score=False, random_state=42, verbose=0, warm_start=False))]),\n",
       "       fit_params=None, iid=True, n_jobs=-1,\n",
       "       param_grid={'clf__max_depth': [3, 5, 8, 10, 15, 30], 'clf__n_estimators': [100, 200, 500, 1000, 1500], 'clf__min_samples_leaf': [1, 3, 5, 10]},\n",
       "       pre_dispatch='2*n_jobs', refit=True, return_train_score='warn',\n",
       "       scoring='f1', verbose=1)"
      ]
     },
     "execution_count": 39,
     "metadata": {},
     "output_type": "execute_result"
    }
   ],
   "source": [
    "best_model"
   ]
  },
  {
   "cell_type": "code",
   "execution_count": 40,
   "metadata": {
    "scrolled": true
   },
   "outputs": [
    {
     "data": {
      "text/plain": [
       "0.4845598434487323"
      ]
     },
     "execution_count": 40,
     "metadata": {},
     "output_type": "execute_result"
    }
   ],
   "source": [
    "best_score"
   ]
  },
  {
   "cell_type": "code",
   "execution_count": 41,
   "metadata": {},
   "outputs": [
    {
     "data": {
      "text/plain": [
       "['../data/host1_model.pkl']"
      ]
     },
     "execution_count": 41,
     "metadata": {},
     "output_type": "execute_result"
    }
   ],
   "source": [
    "from sklearn.externals import joblib\n",
    "joblib.dump(best_model.best_estimator_, '../data/' + hospital_name + '_model.pkl')"
   ]
  },
  {
   "cell_type": "code",
   "execution_count": null,
   "metadata": {},
   "outputs": [],
   "source": []
  }
 ],
 "metadata": {
  "kernelspec": {
   "display_name": "Python 3",
   "language": "python",
   "name": "python3"
  },
  "language_info": {
   "codemirror_mode": {
    "name": "ipython",
    "version": 3
   },
   "file_extension": ".py",
   "mimetype": "text/x-python",
   "name": "python",
   "nbconvert_exporter": "python",
   "pygments_lexer": "ipython3",
   "version": "3.6.5"
  },
  "toc": {
   "nav_menu": {},
   "number_sections": true,
   "sideBar": true,
   "skip_h1_title": false,
   "title_cell": "Table of Contents",
   "title_sidebar": "Contents",
   "toc_cell": false,
   "toc_position": {},
   "toc_section_display": true,
   "toc_window_display": false
  },
  "varInspector": {
   "cols": {
    "lenName": 16,
    "lenType": 16,
    "lenVar": 40
   },
   "kernels_config": {
    "python": {
     "delete_cmd_postfix": "",
     "delete_cmd_prefix": "del ",
     "library": "var_list.py",
     "varRefreshCmd": "print(var_dic_list())"
    },
    "r": {
     "delete_cmd_postfix": ") ",
     "delete_cmd_prefix": "rm(",
     "library": "var_list.r",
     "varRefreshCmd": "cat(var_dic_list()) "
    }
   },
   "types_to_exclude": [
    "module",
    "function",
    "builtin_function_or_method",
    "instance",
    "_Feature"
   ],
   "window_display": false
  }
 },
 "nbformat": 4,
 "nbformat_minor": 2
}
