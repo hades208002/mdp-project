{
 "cells": [
  {
   "cell_type": "code",
   "execution_count": 1,
   "metadata": {},
   "outputs": [],
   "source": [
    "import pandas as pd\n",
    "import numpy as np\n",
    "seed = np.random.seed(42)\n",
    "from matplotlib import pyplot as plt\n",
    "import seaborn as sns\n",
    "sns.set(style=\"ticks\", color_codes=True)\n",
    "\n",
    "pd.set_option('display.max_columns',500)\n",
    "pd.set_option('display.max_rows',50)\n",
    "\n",
    "%matplotlib inline\n",
    "best_model = None\n",
    "best_score = 0\n",
    "hospital_name = 'host3'"
   ]
  },
  {
   "cell_type": "code",
   "execution_count": 2,
   "metadata": {},
   "outputs": [],
   "source": [
    "data = pd.read_csv('../data/hospital' + str(3) + '_data.csv')"
   ]
  },
  {
   "cell_type": "code",
   "execution_count": 3,
   "metadata": {},
   "outputs": [
    {
     "name": "stderr",
     "output_type": "stream",
     "text": [
      "/Users/refikcanmalli/anaconda3/envs/vodafone/lib/python3.6/site-packages/h5py/__init__.py:36: FutureWarning: Conversion of the second argument of issubdtype from `float` to `np.floating` is deprecated. In future, it will be treated as `np.float64 == np.dtype(float).type`.\n",
      "  from ._conv import register_converters as _register_converters\n",
      "Using TensorFlow backend.\n"
     ]
    }
   ],
   "source": [
    "from sklearn.preprocessing import Imputer,StandardScaler,LabelEncoder\n",
    "from fancyimpute import BiScaler, KNN, NuclearNormMinimization, SoftImpute, MICE"
   ]
  },
  {
   "cell_type": "code",
   "execution_count": 4,
   "metadata": {},
   "outputs": [
    {
     "name": "stdout",
     "output_type": "stream",
     "text": [
      "[MICE] Completing matrix with shape (274, 69)\n",
      "[MICE] Starting imputation round 1/110, elapsed time 0.014\n",
      "[MICE] Starting imputation round 2/110, elapsed time 0.098\n",
      "[MICE] Starting imputation round 3/110, elapsed time 0.194\n",
      "[MICE] Starting imputation round 4/110, elapsed time 0.327\n",
      "[MICE] Starting imputation round 5/110, elapsed time 0.396\n",
      "[MICE] Starting imputation round 6/110, elapsed time 0.483\n",
      "[MICE] Starting imputation round 7/110, elapsed time 0.597\n",
      "[MICE] Starting imputation round 8/110, elapsed time 0.675\n",
      "[MICE] Starting imputation round 9/110, elapsed time 0.757\n",
      "[MICE] Starting imputation round 10/110, elapsed time 0.856\n",
      "[MICE] Starting imputation round 11/110, elapsed time 0.934\n",
      "[MICE] Starting imputation round 12/110, elapsed time 1.019\n",
      "[MICE] Starting imputation round 13/110, elapsed time 1.083\n",
      "[MICE] Starting imputation round 14/110, elapsed time 1.222\n",
      "[MICE] Starting imputation round 15/110, elapsed time 1.315\n",
      "[MICE] Starting imputation round 16/110, elapsed time 1.398\n",
      "[MICE] Starting imputation round 17/110, elapsed time 1.471\n",
      "[MICE] Starting imputation round 18/110, elapsed time 1.573\n",
      "[MICE] Starting imputation round 19/110, elapsed time 1.656\n",
      "[MICE] Starting imputation round 20/110, elapsed time 1.741\n",
      "[MICE] Starting imputation round 21/110, elapsed time 1.845\n",
      "[MICE] Starting imputation round 22/110, elapsed time 1.928\n",
      "[MICE] Starting imputation round 23/110, elapsed time 2.012\n",
      "[MICE] Starting imputation round 24/110, elapsed time 2.120\n",
      "[MICE] Starting imputation round 25/110, elapsed time 2.209\n",
      "[MICE] Starting imputation round 26/110, elapsed time 2.297\n",
      "[MICE] Starting imputation round 27/110, elapsed time 2.405\n",
      "[MICE] Starting imputation round 28/110, elapsed time 2.483\n",
      "[MICE] Starting imputation round 29/110, elapsed time 2.570\n",
      "[MICE] Starting imputation round 30/110, elapsed time 2.668\n",
      "[MICE] Starting imputation round 31/110, elapsed time 2.754\n",
      "[MICE] Starting imputation round 32/110, elapsed time 2.832\n",
      "[MICE] Starting imputation round 33/110, elapsed time 2.948\n",
      "[MICE] Starting imputation round 34/110, elapsed time 3.041\n",
      "[MICE] Starting imputation round 35/110, elapsed time 3.120\n",
      "[MICE] Starting imputation round 36/110, elapsed time 3.228\n",
      "[MICE] Starting imputation round 37/110, elapsed time 3.305\n",
      "[MICE] Starting imputation round 38/110, elapsed time 3.385\n",
      "[MICE] Starting imputation round 39/110, elapsed time 3.493\n",
      "[MICE] Starting imputation round 40/110, elapsed time 3.573\n",
      "[MICE] Starting imputation round 41/110, elapsed time 3.660\n",
      "[MICE] Starting imputation round 42/110, elapsed time 3.758\n",
      "[MICE] Starting imputation round 43/110, elapsed time 3.840\n",
      "[MICE] Starting imputation round 44/110, elapsed time 3.918\n",
      "[MICE] Starting imputation round 45/110, elapsed time 4.030\n",
      "[MICE] Starting imputation round 46/110, elapsed time 4.111\n",
      "[MICE] Starting imputation round 47/110, elapsed time 4.200\n",
      "[MICE] Starting imputation round 48/110, elapsed time 4.288\n",
      "[MICE] Starting imputation round 49/110, elapsed time 4.368\n",
      "[MICE] Starting imputation round 50/110, elapsed time 4.466\n",
      "[MICE] Starting imputation round 51/110, elapsed time 4.575\n",
      "[MICE] Starting imputation round 52/110, elapsed time 4.655\n",
      "[MICE] Starting imputation round 53/110, elapsed time 4.738\n",
      "[MICE] Starting imputation round 54/110, elapsed time 4.837\n",
      "[MICE] Starting imputation round 55/110, elapsed time 4.914\n",
      "[MICE] Starting imputation round 56/110, elapsed time 4.993\n",
      "[MICE] Starting imputation round 57/110, elapsed time 5.091\n",
      "[MICE] Starting imputation round 58/110, elapsed time 5.188\n",
      "[MICE] Starting imputation round 59/110, elapsed time 5.292\n",
      "[MICE] Starting imputation round 60/110, elapsed time 5.376\n",
      "[MICE] Starting imputation round 61/110, elapsed time 5.465\n",
      "[MICE] Starting imputation round 62/110, elapsed time 5.554\n",
      "[MICE] Starting imputation round 63/110, elapsed time 5.650\n",
      "[MICE] Starting imputation round 64/110, elapsed time 5.731\n",
      "[MICE] Starting imputation round 65/110, elapsed time 5.831\n",
      "[MICE] Starting imputation round 66/110, elapsed time 5.913\n",
      "[MICE] Starting imputation round 67/110, elapsed time 6.005\n",
      "[MICE] Starting imputation round 68/110, elapsed time 6.085\n",
      "[MICE] Starting imputation round 69/110, elapsed time 6.187\n",
      "[MICE] Starting imputation round 70/110, elapsed time 6.278\n",
      "[MICE] Starting imputation round 71/110, elapsed time 6.359\n",
      "[MICE] Starting imputation round 72/110, elapsed time 6.460\n",
      "[MICE] Starting imputation round 73/110, elapsed time 6.540\n",
      "[MICE] Starting imputation round 74/110, elapsed time 6.622\n",
      "[MICE] Starting imputation round 75/110, elapsed time 6.734\n",
      "[MICE] Starting imputation round 76/110, elapsed time 6.813\n",
      "[MICE] Starting imputation round 77/110, elapsed time 6.890\n",
      "[MICE] Starting imputation round 78/110, elapsed time 6.984\n",
      "[MICE] Starting imputation round 79/110, elapsed time 7.068\n",
      "[MICE] Starting imputation round 80/110, elapsed time 7.160\n",
      "[MICE] Starting imputation round 81/110, elapsed time 7.257\n",
      "[MICE] Starting imputation round 82/110, elapsed time 7.333\n",
      "[MICE] Starting imputation round 83/110, elapsed time 7.409\n",
      "[MICE] Starting imputation round 84/110, elapsed time 7.518\n",
      "[MICE] Starting imputation round 85/110, elapsed time 7.594\n",
      "[MICE] Starting imputation round 86/110, elapsed time 7.671\n",
      "[MICE] Starting imputation round 87/110, elapsed time 7.792\n",
      "[MICE] Starting imputation round 88/110, elapsed time 7.861\n",
      "[MICE] Starting imputation round 89/110, elapsed time 7.950\n",
      "[MICE] Starting imputation round 90/110, elapsed time 8.052\n",
      "[MICE] Starting imputation round 91/110, elapsed time 8.132\n",
      "[MICE] Starting imputation round 92/110, elapsed time 8.222\n",
      "[MICE] Starting imputation round 93/110, elapsed time 8.322\n",
      "[MICE] Starting imputation round 94/110, elapsed time 8.392\n",
      "[MICE] Starting imputation round 95/110, elapsed time 8.490\n",
      "[MICE] Starting imputation round 96/110, elapsed time 8.597\n",
      "[MICE] Starting imputation round 97/110, elapsed time 8.674\n",
      "[MICE] Starting imputation round 98/110, elapsed time 8.757\n",
      "[MICE] Starting imputation round 99/110, elapsed time 8.862\n",
      "[MICE] Starting imputation round 100/110, elapsed time 8.939\n",
      "[MICE] Starting imputation round 101/110, elapsed time 9.026\n",
      "[MICE] Starting imputation round 102/110, elapsed time 9.119\n",
      "[MICE] Starting imputation round 103/110, elapsed time 9.209\n",
      "[MICE] Starting imputation round 104/110, elapsed time 9.285\n",
      "[MICE] Starting imputation round 105/110, elapsed time 9.388\n",
      "[MICE] Starting imputation round 106/110, elapsed time 9.469\n",
      "[MICE] Starting imputation round 107/110, elapsed time 9.550\n",
      "[MICE] Starting imputation round 108/110, elapsed time 9.679\n",
      "[MICE] Starting imputation round 109/110, elapsed time 9.767\n",
      "[MICE] Starting imputation round 110/110, elapsed time 9.851\n"
     ]
    }
   ],
   "source": [
    "data_e = data[data['IPG'] != 1]\n",
    "data_e = data_e.drop('IPG', axis = 1);\n",
    "data_e = data_e.drop('sbjBeatConsidered', axis = 1);\n",
    "data_e = data_e.drop('numRRaveraged', axis = 1);\n",
    "data_e = data_e.drop('Soggetti', axis = 1);\n",
    "# df_columns = data.columns.tolist()\n",
    "# matching_columns1 = [s for s in df_columns if \"Parea\" in s]\n",
    "# matching_columns2 = [s for s in df_columns if \"Pdur\" in s]\n",
    "# mc = matching_columns1 + matching_columns2\n",
    "# data_e = data_e.dropna(subset=mc)\n",
    "data_e['PCneg'].fillna(0, inplace=True)\n",
    "data_e['AFclass'].replace('persistierend (>7 Tage, EKV)', 1, inplace=True)\n",
    "data_e['AFclass'].replace('paroxysmal', 0, inplace=True)\n",
    "categorical_variables_mask = data_e.dtypes==object\n",
    "categorical_variables = data_e.columns[categorical_variables_mask]\n",
    "for v in categorical_variables:\n",
    "    data_e[v] = LabelEncoder().fit_transform(data_e[v])\n",
    "del categorical_variables_mask,categorical_variables\n",
    "data_e = pd.DataFrame(data=MICE(n_imputations=100, impute_type='col', n_nearest_columns=5).complete(data_e.as_matrix()), columns=data_e.columns, index=data_e.index);\n",
    "y_df = data_e['AFclass'].copy()\n",
    "x_df = data_e.drop('AFclass',axis=1, inplace=False)"
   ]
  },
  {
   "cell_type": "code",
   "execution_count": 5,
   "metadata": {},
   "outputs": [],
   "source": [
    "from sklearn.model_selection import cross_val_score\n",
    "from sklearn.pipeline import Pipeline\n",
    "from sklearn.ensemble import RandomForestClassifier,GradientBoostingClassifier,ExtraTreesClassifier,AdaBoostClassifier\n",
    "#from sklearn.pipeline import Pipeline\n",
    "from sklearn.model_selection import cross_val_score\n",
    "from sklearn.model_selection import train_test_split\n",
    "from sklearn.metrics import f1_score, make_scorer\n",
    "from sklearn.metrics import accuracy_score\n",
    "from sklearn.model_selection import GridSearchCV\n",
    "from sklearn.dummy import DummyClassifier\n",
    "from imblearn.over_sampling import SMOTE\n",
    "from imblearn.pipeline import Pipeline\n",
    "\n",
    "#f1_scorer = make_scorer(f1_score, average='macro',labels=Y.unique().tolist())\n",
    "#myscorer = f1_scorer\n",
    "myscorer = 'accuracy'"
   ]
  },
  {
   "cell_type": "code",
   "execution_count": 6,
   "metadata": {},
   "outputs": [],
   "source": [
    "balancer = SMOTE(random_state=42)"
   ]
  },
  {
   "cell_type": "code",
   "execution_count": 7,
   "metadata": {},
   "outputs": [],
   "source": [
    "def show_f_importance(estimator,train_data):\n",
    "    importances = estimator.feature_importances_\n",
    "    indices = np.argsort(importances)[::-1]\n",
    "    # Print the feature ranking\n",
    "    print(\"Feature ranking:\")\n",
    "\n",
    "    for f in range(train_data.shape[1]):\n",
    "        print(\"%d. feature %d - %s (%f)\" % (f + 1, indices[f],train_data.columns[indices[f]], importances[indices[f]]))\n"
   ]
  },
  {
   "cell_type": "code",
   "execution_count": 8,
   "metadata": {},
   "outputs": [],
   "source": [
    "param_grid = {\"clf__strategy\": ['most_frequent','stratified','prior','uniform']}\n",
    "\n",
    "dummy = DummyClassifier(random_state=42)\n",
    "plist = []\n",
    "plist.append(('balancer', balancer))\n",
    "plist.append(('clf', dummy))\n",
    "pipeline = Pipeline(plist)\n",
    "\n",
    "gs_dummy = GridSearchCV(pipeline, param_grid=param_grid, cv=5, verbose=1, scoring=myscorer, n_jobs=-1)"
   ]
  },
  {
   "cell_type": "code",
   "execution_count": 9,
   "metadata": {},
   "outputs": [
    {
     "name": "stdout",
     "output_type": "stream",
     "text": [
      "Fitting 5 folds for each of 4 candidates, totalling 20 fits\n"
     ]
    },
    {
     "name": "stderr",
     "output_type": "stream",
     "text": [
      "[Parallel(n_jobs=-1)]: Done  20 out of  20 | elapsed:    0.2s finished\n"
     ]
    }
   ],
   "source": [
    "gs_dummy.fit(x_df, y_df);"
   ]
  },
  {
   "cell_type": "code",
   "execution_count": 10,
   "metadata": {},
   "outputs": [
    {
     "data": {
      "text/plain": [
       "{'clf__strategy': 'most_frequent'}"
      ]
     },
     "execution_count": 10,
     "metadata": {},
     "output_type": "execute_result"
    }
   ],
   "source": [
    "gs_dummy.best_params_"
   ]
  },
  {
   "cell_type": "code",
   "execution_count": 11,
   "metadata": {},
   "outputs": [
    {
     "data": {
      "text/plain": [
       "0.6824817518248175"
      ]
     },
     "execution_count": 11,
     "metadata": {},
     "output_type": "execute_result"
    }
   ],
   "source": [
    "gs_dummy.best_score_"
   ]
  },
  {
   "cell_type": "code",
   "execution_count": 12,
   "metadata": {},
   "outputs": [],
   "source": [
    "param_grid = {\"clf__max_depth\": [10,30,50],\n",
    "              \"clf__criterion\": ['gini', 'entropy'],\n",
    "              \"clf__n_estimators\": [100,200,500,1000],\n",
    "              \"clf__random_state\": [42],\n",
    "              \"clf__class_weight\" : [None, 'balanced']}\n",
    "# param_grid = {\"classifier__max_depth\": [30],\n",
    "#               \"classifier__n_estimators\": [1000]}\n",
    "\n",
    "\n",
    "rf = RandomForestClassifier()\n",
    "\n",
    "plist = []\n",
    "plist.append(('balancer', balancer))\n",
    "plist.append(('clf', rf))\n",
    "pipeline = Pipeline(plist)\n",
    "gs_rf = GridSearchCV(pipeline, param_grid=param_grid, cv=5, verbose=1, scoring=myscorer, n_jobs=-1)"
   ]
  },
  {
   "cell_type": "code",
   "execution_count": 13,
   "metadata": {},
   "outputs": [
    {
     "name": "stdout",
     "output_type": "stream",
     "text": [
      "Fitting 5 folds for each of 48 candidates, totalling 240 fits\n"
     ]
    },
    {
     "name": "stderr",
     "output_type": "stream",
     "text": [
      "[Parallel(n_jobs=-1)]: Done  42 tasks      | elapsed:   51.9s\n",
      "[Parallel(n_jobs=-1)]: Done 192 tasks      | elapsed:  4.5min\n",
      "[Parallel(n_jobs=-1)]: Done 240 out of 240 | elapsed:  6.1min finished\n"
     ]
    }
   ],
   "source": [
    "gs_rf.fit(x_df, y_df);"
   ]
  },
  {
   "cell_type": "code",
   "execution_count": 14,
   "metadata": {},
   "outputs": [
    {
     "data": {
      "text/plain": [
       "{'clf__class_weight': None,\n",
       " 'clf__criterion': 'gini',\n",
       " 'clf__max_depth': 10,\n",
       " 'clf__n_estimators': 500,\n",
       " 'clf__random_state': 42}"
      ]
     },
     "execution_count": 14,
     "metadata": {},
     "output_type": "execute_result"
    }
   ],
   "source": [
    "gs_rf.best_params_"
   ]
  },
  {
   "cell_type": "code",
   "execution_count": 15,
   "metadata": {},
   "outputs": [
    {
     "data": {
      "text/plain": [
       "0.6313868613138686"
      ]
     },
     "execution_count": 15,
     "metadata": {},
     "output_type": "execute_result"
    }
   ],
   "source": [
    "gs_rf.best_score_\n"
   ]
  },
  {
   "cell_type": "code",
   "execution_count": 16,
   "metadata": {},
   "outputs": [],
   "source": [
    "if gs_rf.best_score_ > best_score:\n",
    "    best_model = gs_rf\n",
    "    best_score = gs_rf.best_score_"
   ]
  },
  {
   "cell_type": "code",
   "execution_count": 17,
   "metadata": {},
   "outputs": [
    {
     "name": "stdout",
     "output_type": "stream",
     "text": [
      "Feature ranking:\n",
      "1. feature 66 - patsex (0.040571)\n",
      "2. feature 48 - Parea_ECG_aVL (0.030863)\n",
      "3. feature 4 - QRS (0.029480)\n",
      "4. feature 5 - PQ (0.027213)\n",
      "5. feature 55 - Pfwhm_ECG_V3 (0.027117)\n",
      "6. feature 39 - Parea_ECG_V3 (0.025027)\n",
      "7. feature 3 - QTn (0.024097)\n",
      "8. feature 50 - Pfwhm_ECG_I (0.022645)\n",
      "9. feature 62 - Pfwhm_ECG_V9 (0.021918)\n",
      "10. feature 36 - Parea_ECG_III (0.021754)\n",
      "11. feature 63 - Pfwhm_ECG_aVF (0.020380)\n",
      "12. feature 40 - Parea_ECG_V3R (0.018565)\n",
      "13. feature 56 - Pfwhm_ECG_V3R (0.018163)\n",
      "14. feature 6 - PCpos (0.018089)\n",
      "15. feature 57 - Pfwhm_ECG_V4 (0.017235)\n",
      "16. feature 41 - Parea_ECG_V4 (0.017031)\n",
      "17. feature 44 - Parea_ECG_V6 (0.016763)\n",
      "18. feature 45 - Parea_ECG_V8 (0.016672)\n",
      "19. feature 2 - QR (0.016559)\n",
      "20. feature 54 - Pfwhm_ECG_V2 (0.016495)\n",
      "21. feature 17 - Pdur16iqr (0.016399)\n",
      "22. feature 42 - Parea_ECG_V4R (0.016058)\n",
      "23. feature 34 - Parea_ECG_I (0.016053)\n",
      "24. feature 16 - Pdur16std (0.016041)\n",
      "25. feature 43 - Parea_ECG_V5 (0.015978)\n",
      "26. feature 46 - Parea_ECG_V9 (0.015790)\n",
      "27. feature 64 - Pfwhm_ECG_aVL (0.015708)\n",
      "28. feature 37 - Parea_ECG_V1 (0.015604)\n",
      "29. feature 38 - Parea_ECG_V2 (0.015198)\n",
      "30. feature 10 - PCarea (0.015015)\n",
      "31. feature 0 - RR (0.014731)\n",
      "32. feature 9 - PCfwhm (0.014683)\n",
      "33. feature 1 - QTm_old (0.014682)\n",
      "34. feature 58 - Pfwhm_ECG_V4R (0.013333)\n",
      "35. feature 67 - Age (0.013281)\n",
      "36. feature 18 - Pdur_ECG_I (0.012918)\n",
      "37. feature 53 - Pfwhm_ECG_V1 (0.012620)\n",
      "38. feature 47 - Parea_ECG_aVF (0.012594)\n",
      "39. feature 61 - Pfwhm_ECG_V8 (0.012413)\n",
      "40. feature 65 - Pfwhm_ECG_aVR (0.012383)\n",
      "41. feature 52 - Pfwhm_ECG_III (0.012103)\n",
      "42. feature 51 - Pfwhm_ECG_II (0.012027)\n",
      "43. feature 60 - Pfwhm_ECG_V6 (0.011533)\n",
      "44. feature 35 - Parea_ECG_II (0.011411)\n",
      "45. feature 19 - Pdur_ECG_II (0.011088)\n",
      "46. feature 49 - Parea_ECG_aVR (0.010901)\n",
      "47. feature 25 - Pdur_ECG_V4 (0.010859)\n",
      "48. feature 33 - Pdur_ECG_aVR (0.010712)\n",
      "49. feature 20 - Pdur_ECG_III (0.010659)\n",
      "50. feature 31 - Pdur_ECG_aVF (0.010233)\n",
      "51. feature 24 - Pdur_ECG_V3R (0.010003)\n",
      "52. feature 21 - Pdur_ECG_V1 (0.009927)\n",
      "53. feature 22 - Pdur_ECG_V2 (0.009923)\n",
      "54. feature 26 - Pdur_ECG_V4R (0.009675)\n",
      "55. feature 30 - Pdur_ECG_V9 (0.009302)\n",
      "56. feature 27 - Pdur_ECG_V5 (0.009191)\n",
      "57. feature 59 - Pfwhm_ECG_V5 (0.009140)\n",
      "58. feature 29 - Pdur_ECG_V8 (0.008936)\n",
      "59. feature 23 - Pdur_ECG_V3 (0.008586)\n",
      "60. feature 11 - P_LoffEon (0.008564)\n",
      "61. feature 14 - Pdur16min (0.008051)\n",
      "62. feature 32 - Pdur_ECG_aVL (0.007610)\n",
      "63. feature 15 - Pdur16max (0.007609)\n",
      "64. feature 8 - PCdur (0.007591)\n",
      "65. feature 28 - Pdur_ECG_V6 (0.007463)\n",
      "66. feature 12 - Pdur16mean (0.007217)\n",
      "67. feature 13 - Pdur16median (0.007176)\n",
      "68. feature 7 - PCneg (0.004395)\n"
     ]
    }
   ],
   "source": [
    "show_f_importance(gs_rf.best_estimator_.named_steps['clf'],x_df)"
   ]
  },
  {
   "cell_type": "code",
   "execution_count": 18,
   "metadata": {},
   "outputs": [],
   "source": [
    "param_grid = {\"clf__max_depth\": [3,5,8],\n",
    "              \"clf__n_estimators\": [100,200,500,1000],\n",
    "              \"clf__min_samples_leaf\": [1,3,5,10]}\n",
    "# param_grid = {\"classifier__n_estimators\": [50],\n",
    "#               \"classifier__max_depth\": [5],\n",
    "# \n",
    "\n",
    "gb = GradientBoostingClassifier(random_state=42)\n",
    "plist = []\n",
    "plist.append(('balancer', balancer))\n",
    "plist.append(('clf', gb))\n",
    "pipeline = Pipeline(plist)\n",
    "gs_gb = GridSearchCV(pipeline, param_grid=param_grid, cv=5, verbose=1,  scoring=myscorer, n_jobs=-1)"
   ]
  },
  {
   "cell_type": "code",
   "execution_count": 19,
   "metadata": {},
   "outputs": [
    {
     "name": "stdout",
     "output_type": "stream",
     "text": [
      "Fitting 5 folds for each of 48 candidates, totalling 240 fits\n"
     ]
    },
    {
     "name": "stderr",
     "output_type": "stream",
     "text": [
      "[Parallel(n_jobs=-1)]: Done  42 tasks      | elapsed:   47.3s\n",
      "[Parallel(n_jobs=-1)]: Done 192 tasks      | elapsed:  3.4min\n",
      "[Parallel(n_jobs=-1)]: Done 240 out of 240 | elapsed:  4.3min finished\n"
     ]
    }
   ],
   "source": [
    "gs_gb.fit(x_df, y_df);"
   ]
  },
  {
   "cell_type": "code",
   "execution_count": 20,
   "metadata": {},
   "outputs": [
    {
     "data": {
      "text/plain": [
       "{'clf__max_depth': 8, 'clf__min_samples_leaf': 5, 'clf__n_estimators': 200}"
      ]
     },
     "execution_count": 20,
     "metadata": {},
     "output_type": "execute_result"
    }
   ],
   "source": [
    "gs_gb.best_params_"
   ]
  },
  {
   "cell_type": "code",
   "execution_count": 21,
   "metadata": {},
   "outputs": [
    {
     "data": {
      "text/plain": [
       "0.635036496350365"
      ]
     },
     "execution_count": 21,
     "metadata": {},
     "output_type": "execute_result"
    }
   ],
   "source": [
    "gs_gb.best_score_"
   ]
  },
  {
   "cell_type": "code",
   "execution_count": 22,
   "metadata": {},
   "outputs": [],
   "source": [
    "if gs_gb.best_score_ > best_score:\n",
    "    best_model = gs_gb\n",
    "    best_score = gs_gb.best_score_"
   ]
  },
  {
   "cell_type": "code",
   "execution_count": 23,
   "metadata": {},
   "outputs": [
    {
     "name": "stdout",
     "output_type": "stream",
     "text": [
      "Feature ranking:\n",
      "1. feature 48 - Parea_ECG_aVL (0.025212)\n",
      "2. feature 66 - patsex (0.023294)\n",
      "3. feature 5 - PQ (0.023003)\n",
      "4. feature 55 - Pfwhm_ECG_V3 (0.020932)\n",
      "5. feature 50 - Pfwhm_ECG_I (0.020516)\n",
      "6. feature 3 - QTn (0.019531)\n",
      "7. feature 39 - Parea_ECG_V3 (0.017993)\n",
      "8. feature 4 - QRS (0.017889)\n",
      "9. feature 64 - Pfwhm_ECG_aVL (0.016608)\n",
      "10. feature 54 - Pfwhm_ECG_V2 (0.014943)\n",
      "11. feature 17 - Pdur16iqr (0.014734)\n",
      "12. feature 41 - Parea_ECG_V4 (0.014088)\n",
      "13. feature 37 - Parea_ECG_V1 (0.013891)\n",
      "14. feature 56 - Pfwhm_ECG_V3R (0.012591)\n",
      "15. feature 63 - Pfwhm_ECG_aVF (0.012512)\n",
      "16. feature 38 - Parea_ECG_V2 (0.012348)\n",
      "17. feature 2 - QR (0.012146)\n",
      "18. feature 40 - Parea_ECG_V3R (0.011563)\n",
      "19. feature 45 - Parea_ECG_V8 (0.010967)\n",
      "20. feature 62 - Pfwhm_ECG_V9 (0.010739)\n",
      "21. feature 36 - Parea_ECG_III (0.010439)\n",
      "22. feature 67 - Age (0.010358)\n",
      "23. feature 57 - Pfwhm_ECG_V4 (0.009840)\n",
      "24. feature 0 - RR (0.009526)\n",
      "25. feature 46 - Parea_ECG_V9 (0.009318)\n",
      "26. feature 53 - Pfwhm_ECG_V1 (0.009167)\n",
      "27. feature 16 - Pdur16std (0.008998)\n",
      "28. feature 47 - Parea_ECG_aVF (0.008875)\n",
      "29. feature 21 - Pdur_ECG_V1 (0.008692)\n",
      "30. feature 6 - PCpos (0.008331)\n",
      "31. feature 43 - Parea_ECG_V5 (0.008227)\n",
      "32. feature 34 - Parea_ECG_I (0.008105)\n",
      "33. feature 18 - Pdur_ECG_I (0.008046)\n",
      "34. feature 58 - Pfwhm_ECG_V4R (0.007775)\n",
      "35. feature 22 - Pdur_ECG_V2 (0.006717)\n",
      "36. feature 25 - Pdur_ECG_V4 (0.006552)\n",
      "37. feature 61 - Pfwhm_ECG_V8 (0.006493)\n",
      "38. feature 52 - Pfwhm_ECG_III (0.006386)\n",
      "39. feature 60 - Pfwhm_ECG_V6 (0.006152)\n",
      "40. feature 65 - Pfwhm_ECG_aVR (0.005983)\n",
      "41. feature 44 - Parea_ECG_V6 (0.005767)\n",
      "42. feature 9 - PCfwhm (0.005667)\n",
      "43. feature 51 - Pfwhm_ECG_II (0.005571)\n",
      "44. feature 10 - PCarea (0.005134)\n",
      "45. feature 1 - QTm_old (0.005115)\n",
      "46. feature 42 - Parea_ECG_V4R (0.005101)\n",
      "47. feature 20 - Pdur_ECG_III (0.005071)\n",
      "48. feature 15 - Pdur16max (0.004435)\n",
      "49. feature 31 - Pdur_ECG_aVF (0.004375)\n",
      "50. feature 23 - Pdur_ECG_V3 (0.004373)\n",
      "51. feature 26 - Pdur_ECG_V4R (0.004336)\n",
      "52. feature 33 - Pdur_ECG_aVR (0.004074)\n",
      "53. feature 19 - Pdur_ECG_II (0.003708)\n",
      "54. feature 11 - P_LoffEon (0.003265)\n",
      "55. feature 35 - Parea_ECG_II (0.003175)\n",
      "56. feature 49 - Parea_ECG_aVR (0.002833)\n",
      "57. feature 14 - Pdur16min (0.002522)\n",
      "58. feature 32 - Pdur_ECG_aVL (0.002520)\n",
      "59. feature 7 - PCneg (0.002494)\n",
      "60. feature 59 - Pfwhm_ECG_V5 (0.002396)\n",
      "61. feature 8 - PCdur (0.002387)\n",
      "62. feature 28 - Pdur_ECG_V6 (0.001981)\n",
      "63. feature 30 - Pdur_ECG_V9 (0.001904)\n",
      "64. feature 24 - Pdur_ECG_V3R (0.001816)\n",
      "65. feature 29 - Pdur_ECG_V8 (0.001702)\n",
      "66. feature 13 - Pdur16median (0.001699)\n",
      "67. feature 27 - Pdur_ECG_V5 (0.001371)\n",
      "68. feature 12 - Pdur16mean (0.000724)\n"
     ]
    }
   ],
   "source": [
    "show_f_importance(gs_gb.best_estimator_.named_steps['clf'],x_df)"
   ]
  },
  {
   "cell_type": "code",
   "execution_count": 24,
   "metadata": {},
   "outputs": [],
   "source": [
    "param_grid = {\"clf__learning_rate\": [0.1,0.3,0.7,0.8],\n",
    "              \"clf__n_estimators\": [100,1000,2000,2500,3000,5000]}\n",
    "\n",
    "ab = AdaBoostClassifier(random_state=42)\n",
    "\n",
    "plist = []\n",
    "plist.append(('balancer', balancer))\n",
    "plist.append(('clf', ab))\n",
    "pipeline = Pipeline(plist)\n",
    "\n",
    "gs_ab = GridSearchCV(pipeline, param_grid=param_grid, cv=5, verbose=1, scoring=myscorer, n_jobs=-1)"
   ]
  },
  {
   "cell_type": "code",
   "execution_count": 25,
   "metadata": {},
   "outputs": [
    {
     "name": "stdout",
     "output_type": "stream",
     "text": [
      "Fitting 5 folds for each of 24 candidates, totalling 120 fits\n"
     ]
    },
    {
     "name": "stderr",
     "output_type": "stream",
     "text": [
      "[Parallel(n_jobs=-1)]: Done  42 tasks      | elapsed:  6.1min\n",
      "[Parallel(n_jobs=-1)]: Done 120 out of 120 | elapsed: 21.5min finished\n"
     ]
    }
   ],
   "source": [
    "gs_ab.fit(x_df, y_df);"
   ]
  },
  {
   "cell_type": "code",
   "execution_count": 26,
   "metadata": {},
   "outputs": [
    {
     "data": {
      "text/plain": [
       "{'clf__learning_rate': 0.1, 'clf__n_estimators': 1000}"
      ]
     },
     "execution_count": 26,
     "metadata": {},
     "output_type": "execute_result"
    }
   ],
   "source": [
    "gs_ab.best_params_"
   ]
  },
  {
   "cell_type": "code",
   "execution_count": 27,
   "metadata": {},
   "outputs": [
    {
     "data": {
      "text/plain": [
       "0.5875912408759124"
      ]
     },
     "execution_count": 27,
     "metadata": {},
     "output_type": "execute_result"
    }
   ],
   "source": [
    "gs_ab.best_score_"
   ]
  },
  {
   "cell_type": "code",
   "execution_count": 28,
   "metadata": {},
   "outputs": [],
   "source": [
    "\n",
    "if gs_ab.best_score_ > best_score:\n",
    "    best_model = gs_ab\n",
    "    best_score = gs_ab.best_score_"
   ]
  },
  {
   "cell_type": "code",
   "execution_count": 29,
   "metadata": {},
   "outputs": [
    {
     "name": "stdout",
     "output_type": "stream",
     "text": [
      "Feature ranking:\n",
      "1. feature 5 - PQ (0.072000)\n",
      "2. feature 63 - Pfwhm_ECG_aVF (0.060000)\n",
      "3. feature 44 - Parea_ECG_V6 (0.056000)\n",
      "4. feature 18 - Pdur_ECG_I (0.056000)\n",
      "5. feature 50 - Pfwhm_ECG_I (0.050000)\n",
      "6. feature 38 - Parea_ECG_V2 (0.039000)\n",
      "7. feature 48 - Parea_ECG_aVL (0.038000)\n",
      "8. feature 3 - QTn (0.033000)\n",
      "9. feature 54 - Pfwhm_ECG_V2 (0.033000)\n",
      "10. feature 4 - QRS (0.032000)\n",
      "11. feature 55 - Pfwhm_ECG_V3 (0.032000)\n",
      "12. feature 39 - Parea_ECG_V3 (0.029000)\n",
      "13. feature 66 - patsex (0.027000)\n",
      "14. feature 37 - Parea_ECG_V1 (0.026000)\n",
      "15. feature 62 - Pfwhm_ECG_V9 (0.026000)\n",
      "16. feature 23 - Pdur_ECG_V3 (0.024000)\n",
      "17. feature 45 - Parea_ECG_V8 (0.022000)\n",
      "18. feature 36 - Parea_ECG_III (0.020000)\n",
      "19. feature 1 - QTm_old (0.019000)\n",
      "20. feature 22 - Pdur_ECG_V2 (0.019000)\n",
      "21. feature 64 - Pfwhm_ECG_aVL (0.019000)\n",
      "22. feature 51 - Pfwhm_ECG_II (0.018000)\n",
      "23. feature 16 - Pdur16std (0.018000)\n",
      "24. feature 25 - Pdur_ECG_V4 (0.017000)\n",
      "25. feature 46 - Parea_ECG_V9 (0.017000)\n",
      "26. feature 29 - Pdur_ECG_V8 (0.015000)\n",
      "27. feature 57 - Pfwhm_ECG_V4 (0.015000)\n",
      "28. feature 40 - Parea_ECG_V3R (0.014000)\n",
      "29. feature 41 - Parea_ECG_V4 (0.013000)\n",
      "30. feature 0 - RR (0.012000)\n",
      "31. feature 58 - Pfwhm_ECG_V4R (0.012000)\n",
      "32. feature 6 - PCpos (0.011000)\n",
      "33. feature 12 - Pdur16mean (0.010000)\n",
      "34. feature 24 - Pdur_ECG_V3R (0.010000)\n",
      "35. feature 52 - Pfwhm_ECG_III (0.008000)\n",
      "36. feature 17 - Pdur16iqr (0.007000)\n",
      "37. feature 61 - Pfwhm_ECG_V8 (0.007000)\n",
      "38. feature 60 - Pfwhm_ECG_V6 (0.007000)\n",
      "39. feature 56 - Pfwhm_ECG_V3R (0.007000)\n",
      "40. feature 34 - Parea_ECG_I (0.007000)\n",
      "41. feature 26 - Pdur_ECG_V4R (0.006000)\n",
      "42. feature 42 - Parea_ECG_V4R (0.006000)\n",
      "43. feature 27 - Pdur_ECG_V5 (0.005000)\n",
      "44. feature 49 - Parea_ECG_aVR (0.005000)\n",
      "45. feature 65 - Pfwhm_ECG_aVR (0.004000)\n",
      "46. feature 8 - PCdur (0.003000)\n",
      "47. feature 43 - Parea_ECG_V5 (0.003000)\n",
      "48. feature 10 - PCarea (0.003000)\n",
      "49. feature 53 - Pfwhm_ECG_V1 (0.002000)\n",
      "50. feature 30 - Pdur_ECG_V9 (0.002000)\n",
      "51. feature 2 - QR (0.002000)\n",
      "52. feature 7 - PCneg (0.001000)\n",
      "53. feature 20 - Pdur_ECG_III (0.001000)\n",
      "54. feature 9 - PCfwhm (0.000000)\n",
      "55. feature 11 - P_LoffEon (0.000000)\n",
      "56. feature 67 - Age (0.000000)\n",
      "57. feature 13 - Pdur16median (0.000000)\n",
      "58. feature 14 - Pdur16min (0.000000)\n",
      "59. feature 15 - Pdur16max (0.000000)\n",
      "60. feature 19 - Pdur_ECG_II (0.000000)\n",
      "61. feature 21 - Pdur_ECG_V1 (0.000000)\n",
      "62. feature 28 - Pdur_ECG_V6 (0.000000)\n",
      "63. feature 31 - Pdur_ECG_aVF (0.000000)\n",
      "64. feature 32 - Pdur_ECG_aVL (0.000000)\n",
      "65. feature 35 - Parea_ECG_II (0.000000)\n",
      "66. feature 47 - Parea_ECG_aVF (0.000000)\n",
      "67. feature 59 - Pfwhm_ECG_V5 (0.000000)\n",
      "68. feature 33 - Pdur_ECG_aVR (0.000000)\n"
     ]
    }
   ],
   "source": [
    "show_f_importance(gs_ab.best_estimator_.named_steps['clf'],x_df)"
   ]
  },
  {
   "cell_type": "code",
   "execution_count": 30,
   "metadata": {},
   "outputs": [],
   "source": [
    "param_grid = {\"clf__max_depth\": [3,5,8,10,15,30],\n",
    "              \"clf__n_estimators\": [100,200,500,1000,1500],\n",
    "              \"clf__min_samples_leaf\": [1,3,5,10]}\n",
    "\n",
    "et = ExtraTreesClassifier(random_state=42)\n",
    "\n",
    "plist = []\n",
    "plist.append(('balancer', balancer))\n",
    "plist.append(('clf', et))\n",
    "pipeline = Pipeline(plist)\n",
    "\n",
    "gs_et = GridSearchCV(pipeline, param_grid=param_grid, cv=5, verbose=1,  scoring=myscorer, n_jobs=-1)"
   ]
  },
  {
   "cell_type": "code",
   "execution_count": 31,
   "metadata": {},
   "outputs": [
    {
     "name": "stdout",
     "output_type": "stream",
     "text": [
      "Fitting 5 folds for each of 120 candidates, totalling 600 fits\n"
     ]
    },
    {
     "name": "stderr",
     "output_type": "stream",
     "text": [
      "[Parallel(n_jobs=-1)]: Done  42 tasks      | elapsed:   48.9s\n",
      "[Parallel(n_jobs=-1)]: Done 192 tasks      | elapsed:  3.9min\n",
      "[Parallel(n_jobs=-1)]: Done 442 tasks      | elapsed:  9.0min\n",
      "[Parallel(n_jobs=-1)]: Done 600 out of 600 | elapsed: 11.0min finished\n"
     ]
    }
   ],
   "source": [
    "gs_et.fit(x_df, y_df);"
   ]
  },
  {
   "cell_type": "code",
   "execution_count": 32,
   "metadata": {},
   "outputs": [
    {
     "data": {
      "text/plain": [
       "{'clf__max_depth': 30, 'clf__min_samples_leaf': 1, 'clf__n_estimators': 100}"
      ]
     },
     "execution_count": 32,
     "metadata": {},
     "output_type": "execute_result"
    }
   ],
   "source": [
    "gs_et.best_params_"
   ]
  },
  {
   "cell_type": "code",
   "execution_count": 33,
   "metadata": {},
   "outputs": [
    {
     "data": {
      "text/plain": [
       "0.656934306569343"
      ]
     },
     "execution_count": 33,
     "metadata": {},
     "output_type": "execute_result"
    }
   ],
   "source": [
    "gs_et.best_score_"
   ]
  },
  {
   "cell_type": "code",
   "execution_count": 34,
   "metadata": {},
   "outputs": [],
   "source": [
    "if gs_et.best_score_ > best_score:\n",
    "    best_model = gs_et\n",
    "    best_score = gs_et.best_score_"
   ]
  },
  {
   "cell_type": "code",
   "execution_count": 35,
   "metadata": {},
   "outputs": [
    {
     "name": "stdout",
     "output_type": "stream",
     "text": [
      "Feature ranking:\n",
      "1. feature 66 - patsex (0.053928)\n",
      "2. feature 5 - PQ (0.021919)\n",
      "3. feature 50 - Pfwhm_ECG_I (0.021834)\n",
      "4. feature 4 - QRS (0.019984)\n",
      "5. feature 40 - Parea_ECG_V3R (0.019242)\n",
      "6. feature 48 - Parea_ECG_aVL (0.018773)\n",
      "7. feature 6 - PCpos (0.018446)\n",
      "8. feature 55 - Pfwhm_ECG_V3 (0.017925)\n",
      "9. feature 47 - Parea_ECG_aVF (0.017737)\n",
      "10. feature 57 - Pfwhm_ECG_V4 (0.017678)\n",
      "11. feature 3 - QTn (0.017459)\n",
      "12. feature 54 - Pfwhm_ECG_V2 (0.017098)\n",
      "13. feature 39 - Parea_ECG_V3 (0.016816)\n",
      "14. feature 62 - Pfwhm_ECG_V9 (0.016613)\n",
      "15. feature 43 - Parea_ECG_V5 (0.016586)\n",
      "16. feature 34 - Parea_ECG_I (0.016546)\n",
      "17. feature 36 - Parea_ECG_III (0.016414)\n",
      "18. feature 16 - Pdur16std (0.016135)\n",
      "19. feature 56 - Pfwhm_ECG_V3R (0.016042)\n",
      "20. feature 63 - Pfwhm_ECG_aVF (0.015928)\n",
      "21. feature 41 - Parea_ECG_V4 (0.015902)\n",
      "22. feature 2 - QR (0.015419)\n",
      "23. feature 42 - Parea_ECG_V4R (0.015170)\n",
      "24. feature 64 - Pfwhm_ECG_aVL (0.015079)\n",
      "25. feature 0 - RR (0.014912)\n",
      "26. feature 17 - Pdur16iqr (0.014830)\n",
      "27. feature 45 - Parea_ECG_V8 (0.014783)\n",
      "28. feature 22 - Pdur_ECG_V2 (0.014205)\n",
      "29. feature 37 - Parea_ECG_V1 (0.014142)\n",
      "30. feature 52 - Pfwhm_ECG_III (0.014122)\n",
      "31. feature 65 - Pfwhm_ECG_aVR (0.014107)\n",
      "32. feature 67 - Age (0.014049)\n",
      "33. feature 1 - QTm_old (0.013949)\n",
      "34. feature 10 - PCarea (0.013689)\n",
      "35. feature 11 - P_LoffEon (0.013636)\n",
      "36. feature 58 - Pfwhm_ECG_V4R (0.013617)\n",
      "37. feature 9 - PCfwhm (0.013587)\n",
      "38. feature 35 - Parea_ECG_II (0.013467)\n",
      "39. feature 46 - Parea_ECG_V9 (0.013369)\n",
      "40. feature 27 - Pdur_ECG_V5 (0.012849)\n",
      "41. feature 32 - Pdur_ECG_aVL (0.012720)\n",
      "42. feature 51 - Pfwhm_ECG_II (0.012574)\n",
      "43. feature 44 - Parea_ECG_V6 (0.012530)\n",
      "44. feature 38 - Parea_ECG_V2 (0.012394)\n",
      "45. feature 18 - Pdur_ECG_I (0.012360)\n",
      "46. feature 26 - Pdur_ECG_V4R (0.012308)\n",
      "47. feature 20 - Pdur_ECG_III (0.012306)\n",
      "48. feature 21 - Pdur_ECG_V1 (0.012297)\n",
      "49. feature 15 - Pdur16max (0.012190)\n",
      "50. feature 61 - Pfwhm_ECG_V8 (0.012116)\n",
      "51. feature 49 - Parea_ECG_aVR (0.012089)\n",
      "52. feature 24 - Pdur_ECG_V3R (0.012003)\n",
      "53. feature 60 - Pfwhm_ECG_V6 (0.011998)\n",
      "54. feature 33 - Pdur_ECG_aVR (0.011971)\n",
      "55. feature 19 - Pdur_ECG_II (0.011680)\n",
      "56. feature 23 - Pdur_ECG_V3 (0.011574)\n",
      "57. feature 31 - Pdur_ECG_aVF (0.011477)\n",
      "58. feature 25 - Pdur_ECG_V4 (0.011365)\n",
      "59. feature 53 - Pfwhm_ECG_V1 (0.011164)\n",
      "60. feature 59 - Pfwhm_ECG_V5 (0.011130)\n",
      "61. feature 29 - Pdur_ECG_V8 (0.010883)\n",
      "62. feature 7 - PCneg (0.010778)\n",
      "63. feature 12 - Pdur16mean (0.010518)\n",
      "64. feature 8 - PCdur (0.010419)\n",
      "65. feature 14 - Pdur16min (0.009961)\n",
      "66. feature 13 - Pdur16median (0.009896)\n",
      "67. feature 28 - Pdur_ECG_V6 (0.009828)\n",
      "68. feature 30 - Pdur_ECG_V9 (0.009487)\n"
     ]
    }
   ],
   "source": [
    "show_f_importance(gs_et.best_estimator_.named_steps['clf'],x_df)"
   ]
  },
  {
   "cell_type": "code",
   "execution_count": 36,
   "metadata": {},
   "outputs": [
    {
     "data": {
      "text/plain": [
       "(275, 73)"
      ]
     },
     "execution_count": 36,
     "metadata": {},
     "output_type": "execute_result"
    }
   ],
   "source": [
    "cdata = pd.read_csv('../data/central' +'_data.csv')\n",
    "cdata.shape"
   ]
  },
  {
   "cell_type": "code",
   "execution_count": 37,
   "metadata": {},
   "outputs": [
    {
     "name": "stdout",
     "output_type": "stream",
     "text": [
      "[MICE] Completing matrix with shape (270, 69)\n",
      "[MICE] Starting imputation round 1/110, elapsed time 0.003\n",
      "[MICE] Starting imputation round 2/110, elapsed time 0.031\n",
      "[MICE] Starting imputation round 3/110, elapsed time 0.079\n",
      "[MICE] Starting imputation round 4/110, elapsed time 0.181\n",
      "[MICE] Starting imputation round 5/110, elapsed time 0.258\n",
      "[MICE] Starting imputation round 6/110, elapsed time 0.354\n",
      "[MICE] Starting imputation round 7/110, elapsed time 0.448\n",
      "[MICE] Starting imputation round 8/110, elapsed time 0.560\n",
      "[MICE] Starting imputation round 9/110, elapsed time 0.671\n",
      "[MICE] Starting imputation round 10/110, elapsed time 0.739\n",
      "[MICE] Starting imputation round 11/110, elapsed time 0.763\n",
      "[MICE] Starting imputation round 12/110, elapsed time 0.787\n",
      "[MICE] Starting imputation round 13/110, elapsed time 0.812\n",
      "[MICE] Starting imputation round 14/110, elapsed time 0.853\n",
      "[MICE] Starting imputation round 15/110, elapsed time 0.878\n",
      "[MICE] Starting imputation round 16/110, elapsed time 0.902\n",
      "[MICE] Starting imputation round 17/110, elapsed time 0.926\n",
      "[MICE] Starting imputation round 18/110, elapsed time 0.949\n",
      "[MICE] Starting imputation round 19/110, elapsed time 0.971\n",
      "[MICE] Starting imputation round 20/110, elapsed time 0.995\n",
      "[MICE] Starting imputation round 21/110, elapsed time 1.019\n",
      "[MICE] Starting imputation round 22/110, elapsed time 1.042\n",
      "[MICE] Starting imputation round 23/110, elapsed time 1.064\n",
      "[MICE] Starting imputation round 24/110, elapsed time 1.090\n",
      "[MICE] Starting imputation round 25/110, elapsed time 1.112\n",
      "[MICE] Starting imputation round 26/110, elapsed time 1.135\n",
      "[MICE] Starting imputation round 27/110, elapsed time 1.158\n",
      "[MICE] Starting imputation round 28/110, elapsed time 1.181\n",
      "[MICE] Starting imputation round 29/110, elapsed time 1.205\n",
      "[MICE] Starting imputation round 30/110, elapsed time 1.228\n",
      "[MICE] Starting imputation round 31/110, elapsed time 1.250\n",
      "[MICE] Starting imputation round 32/110, elapsed time 1.272\n",
      "[MICE] Starting imputation round 33/110, elapsed time 1.296\n",
      "[MICE] Starting imputation round 34/110, elapsed time 1.319\n",
      "[MICE] Starting imputation round 35/110, elapsed time 1.342\n",
      "[MICE] Starting imputation round 36/110, elapsed time 1.365\n",
      "[MICE] Starting imputation round 37/110, elapsed time 1.387\n",
      "[MICE] Starting imputation round 38/110, elapsed time 1.411\n",
      "[MICE] Starting imputation round 39/110, elapsed time 1.434\n",
      "[MICE] Starting imputation round 40/110, elapsed time 1.456\n",
      "[MICE] Starting imputation round 41/110, elapsed time 1.479\n",
      "[MICE] Starting imputation round 42/110, elapsed time 1.504\n",
      "[MICE] Starting imputation round 43/110, elapsed time 1.528\n",
      "[MICE] Starting imputation round 44/110, elapsed time 1.550\n",
      "[MICE] Starting imputation round 45/110, elapsed time 1.573\n",
      "[MICE] Starting imputation round 46/110, elapsed time 1.595\n",
      "[MICE] Starting imputation round 47/110, elapsed time 1.620\n",
      "[MICE] Starting imputation round 48/110, elapsed time 1.642\n",
      "[MICE] Starting imputation round 49/110, elapsed time 1.665\n",
      "[MICE] Starting imputation round 50/110, elapsed time 1.688\n",
      "[MICE] Starting imputation round 51/110, elapsed time 1.712\n",
      "[MICE] Starting imputation round 52/110, elapsed time 1.734\n",
      "[MICE] Starting imputation round 53/110, elapsed time 1.757\n",
      "[MICE] Starting imputation round 54/110, elapsed time 1.780\n",
      "[MICE] Starting imputation round 55/110, elapsed time 1.803\n",
      "[MICE] Starting imputation round 56/110, elapsed time 1.828\n",
      "[MICE] Starting imputation round 57/110, elapsed time 1.852\n",
      "[MICE] Starting imputation round 58/110, elapsed time 1.874\n",
      "[MICE] Starting imputation round 59/110, elapsed time 1.897\n",
      "[MICE] Starting imputation round 60/110, elapsed time 1.922\n",
      "[MICE] Starting imputation round 61/110, elapsed time 1.944\n",
      "[MICE] Starting imputation round 62/110, elapsed time 1.967\n",
      "[MICE] Starting imputation round 63/110, elapsed time 1.990\n",
      "[MICE] Starting imputation round 64/110, elapsed time 2.012\n",
      "[MICE] Starting imputation round 65/110, elapsed time 2.036\n",
      "[MICE] Starting imputation round 66/110, elapsed time 2.059\n",
      "[MICE] Starting imputation round 67/110, elapsed time 2.082\n",
      "[MICE] Starting imputation round 68/110, elapsed time 2.105\n",
      "[MICE] Starting imputation round 69/110, elapsed time 2.128\n",
      "[MICE] Starting imputation round 70/110, elapsed time 2.152\n",
      "[MICE] Starting imputation round 71/110, elapsed time 2.174\n",
      "[MICE] Starting imputation round 72/110, elapsed time 2.197\n",
      "[MICE] Starting imputation round 73/110, elapsed time 2.219\n",
      "[MICE] Starting imputation round 74/110, elapsed time 2.243\n",
      "[MICE] Starting imputation round 75/110, elapsed time 2.266\n",
      "[MICE] Starting imputation round 76/110, elapsed time 2.289\n",
      "[MICE] Starting imputation round 77/110, elapsed time 2.311\n",
      "[MICE] Starting imputation round 78/110, elapsed time 2.336\n",
      "[MICE] Starting imputation round 79/110, elapsed time 2.359\n",
      "[MICE] Starting imputation round 80/110, elapsed time 2.382\n",
      "[MICE] Starting imputation round 81/110, elapsed time 2.404\n",
      "[MICE] Starting imputation round 82/110, elapsed time 2.427\n",
      "[MICE] Starting imputation round 83/110, elapsed time 2.452\n",
      "[MICE] Starting imputation round 84/110, elapsed time 2.477\n",
      "[MICE] Starting imputation round 85/110, elapsed time 2.500\n",
      "[MICE] Starting imputation round 86/110, elapsed time 2.523\n",
      "[MICE] Starting imputation round 87/110, elapsed time 2.547\n",
      "[MICE] Starting imputation round 88/110, elapsed time 2.571\n",
      "[MICE] Starting imputation round 89/110, elapsed time 2.593\n",
      "[MICE] Starting imputation round 90/110, elapsed time 2.616\n",
      "[MICE] Starting imputation round 91/110, elapsed time 2.638\n",
      "[MICE] Starting imputation round 92/110, elapsed time 2.663\n",
      "[MICE] Starting imputation round 93/110, elapsed time 2.686\n",
      "[MICE] Starting imputation round 94/110, elapsed time 2.708\n",
      "[MICE] Starting imputation round 95/110, elapsed time 2.731\n",
      "[MICE] Starting imputation round 96/110, elapsed time 2.754\n",
      "[MICE] Starting imputation round 97/110, elapsed time 2.777\n",
      "[MICE] Starting imputation round 98/110, elapsed time 2.800\n",
      "[MICE] Starting imputation round 99/110, elapsed time 2.822\n",
      "[MICE] Starting imputation round 100/110, elapsed time 2.845\n",
      "[MICE] Starting imputation round 101/110, elapsed time 2.869\n",
      "[MICE] Starting imputation round 102/110, elapsed time 2.892\n",
      "[MICE] Starting imputation round 103/110, elapsed time 2.914\n",
      "[MICE] Starting imputation round 104/110, elapsed time 2.937\n",
      "[MICE] Starting imputation round 105/110, elapsed time 2.960\n",
      "[MICE] Starting imputation round 106/110, elapsed time 2.983\n",
      "[MICE] Starting imputation round 107/110, elapsed time 3.006\n",
      "[MICE] Starting imputation round 108/110, elapsed time 3.030\n",
      "[MICE] Starting imputation round 109/110, elapsed time 3.052\n",
      "[MICE] Starting imputation round 110/110, elapsed time 3.076\n"
     ]
    }
   ],
   "source": [
    "data_e = cdata[cdata['IPG'] != 1]\n",
    "data_e = data_e.drop('IPG', axis = 1);\n",
    "data_e = data_e.drop('sbjBeatConsidered', axis = 1);\n",
    "data_e = data_e.drop('numRRaveraged', axis = 1);\n",
    "data_e = data_e.drop('Soggetti', axis = 1);\n",
    "# df_columns = data.columns.tolist()\n",
    "# matching_columns1 = [s for s in df_columns if \"Parea\" in s]\n",
    "# matching_columns2 = [s for s in df_columns if \"Pdur\" in s]\n",
    "# mc = matching_columns1 + matching_columns2\n",
    "# data_e = data_e.dropna(subset=mc)\n",
    "data_e['PCneg'].fillna(0, inplace=True)\n",
    "data_e['AFclass'].replace('persistierend (>7 Tage, EKV)', 1, inplace=True)\n",
    "data_e['AFclass'].replace('paroxysmal', 0, inplace=True)\n",
    "categorical_variables_mask = data_e.dtypes==object\n",
    "categorical_variables = data_e.columns[categorical_variables_mask]\n",
    "for v in categorical_variables:\n",
    "    data_e[v] = LabelEncoder().fit_transform(data_e[v])\n",
    "del categorical_variables_mask,categorical_variables\n",
    "data_e = pd.DataFrame(data=MICE(n_imputations=100, impute_type='col', n_nearest_columns=5).complete(data_e.as_matrix()), columns=data_e.columns, index=data_e.index);\n",
    "cy_df = data_e['AFclass'].copy()\n",
    "cx_df = data_e.drop('AFclass',axis=1, inplace=False)"
   ]
  },
  {
   "cell_type": "code",
   "execution_count": 38,
   "metadata": {},
   "outputs": [
    {
     "data": {
      "text/plain": [
       "0.6481481481481481"
      ]
     },
     "execution_count": 38,
     "metadata": {},
     "output_type": "execute_result"
    }
   ],
   "source": [
    "from sklearn.metrics import accuracy_score\n",
    "p = best_model.predict(cx_df);\n",
    "scores = pd.DataFrame({hospital_name: p})\n",
    "scores.to_csv('../data/' + hospital_name +'_predictions.csv', index=False)\n",
    "np.save('../data/' + hospital_name +'_acc',best_score)\n",
    "accuracy_score(cy_df, p)"
   ]
  },
  {
   "cell_type": "code",
   "execution_count": 39,
   "metadata": {},
   "outputs": [
    {
     "data": {
      "text/plain": [
       "0.656934306569343"
      ]
     },
     "execution_count": 39,
     "metadata": {},
     "output_type": "execute_result"
    }
   ],
   "source": [
    "best_score"
   ]
  },
  {
   "cell_type": "code",
   "execution_count": null,
   "metadata": {},
   "outputs": [],
   "source": []
  }
 ],
 "metadata": {
  "kernelspec": {
   "display_name": "Python 3",
   "language": "python",
   "name": "python3"
  },
  "language_info": {
   "codemirror_mode": {
    "name": "ipython",
    "version": 3
   },
   "file_extension": ".py",
   "mimetype": "text/x-python",
   "name": "python",
   "nbconvert_exporter": "python",
   "pygments_lexer": "ipython3",
   "version": "3.6.5"
  },
  "toc": {
   "nav_menu": {},
   "number_sections": true,
   "sideBar": true,
   "skip_h1_title": false,
   "title_cell": "Table of Contents",
   "title_sidebar": "Contents",
   "toc_cell": false,
   "toc_position": {},
   "toc_section_display": true,
   "toc_window_display": false
  },
  "varInspector": {
   "cols": {
    "lenName": 16,
    "lenType": 16,
    "lenVar": 40
   },
   "kernels_config": {
    "python": {
     "delete_cmd_postfix": "",
     "delete_cmd_prefix": "del ",
     "library": "var_list.py",
     "varRefreshCmd": "print(var_dic_list())"
    },
    "r": {
     "delete_cmd_postfix": ") ",
     "delete_cmd_prefix": "rm(",
     "library": "var_list.r",
     "varRefreshCmd": "cat(var_dic_list()) "
    }
   },
   "types_to_exclude": [
    "module",
    "function",
    "builtin_function_or_method",
    "instance",
    "_Feature"
   ],
   "window_display": false
  }
 },
 "nbformat": 4,
 "nbformat_minor": 2
}
