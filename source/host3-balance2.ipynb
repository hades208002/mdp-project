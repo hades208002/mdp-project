{
 "cells": [
  {
   "cell_type": "code",
   "execution_count": 1,
   "metadata": {},
   "outputs": [],
   "source": [
    "import pandas as pd\n",
    "import numpy as np\n",
    "seed = np.random.seed(42)\n",
    "from matplotlib import pyplot as plt\n",
    "import seaborn as sns\n",
    "sns.set(style=\"ticks\", color_codes=True)\n",
    "\n",
    "pd.set_option('display.max_columns',500)\n",
    "pd.set_option('display.max_rows',50)\n",
    "\n",
    "%matplotlib inline\n",
    "best_model = None\n",
    "best_score = 0\n",
    "hospital_name = 'host3'"
   ]
  },
  {
   "cell_type": "code",
   "execution_count": 2,
   "metadata": {},
   "outputs": [],
   "source": [
    "data = pd.read_csv('../data/hospital' + str(3) + '_data.csv')"
   ]
  },
  {
   "cell_type": "code",
   "execution_count": 3,
   "metadata": {},
   "outputs": [
    {
     "name": "stderr",
     "output_type": "stream",
     "text": [
      "/Users/refikcanmalli/anaconda3/envs/vodafone/lib/python3.6/site-packages/h5py/__init__.py:36: FutureWarning: Conversion of the second argument of issubdtype from `float` to `np.floating` is deprecated. In future, it will be treated as `np.float64 == np.dtype(float).type`.\n",
      "  from ._conv import register_converters as _register_converters\n",
      "Using TensorFlow backend.\n"
     ]
    }
   ],
   "source": [
    "from sklearn.preprocessing import Imputer,StandardScaler,LabelEncoder\n",
    "from fancyimpute import BiScaler, KNN, NuclearNormMinimization, SoftImpute, MICE"
   ]
  },
  {
   "cell_type": "code",
   "execution_count": 4,
   "metadata": {},
   "outputs": [
    {
     "name": "stdout",
     "output_type": "stream",
     "text": [
      "[MICE] Completing matrix with shape (274, 69)\n",
      "[MICE] Starting imputation round 1/110, elapsed time 0.005\n",
      "[MICE] Starting imputation round 2/110, elapsed time 0.033\n",
      "[MICE] Starting imputation round 3/110, elapsed time 0.056\n",
      "[MICE] Starting imputation round 4/110, elapsed time 0.081\n",
      "[MICE] Starting imputation round 5/110, elapsed time 0.104\n",
      "[MICE] Starting imputation round 6/110, elapsed time 0.128\n",
      "[MICE] Starting imputation round 7/110, elapsed time 0.151\n",
      "[MICE] Starting imputation round 8/110, elapsed time 0.174\n",
      "[MICE] Starting imputation round 9/110, elapsed time 0.197\n",
      "[MICE] Starting imputation round 10/110, elapsed time 0.232\n",
      "[MICE] Starting imputation round 11/110, elapsed time 0.260\n",
      "[MICE] Starting imputation round 12/110, elapsed time 0.284\n",
      "[MICE] Starting imputation round 13/110, elapsed time 0.308\n",
      "[MICE] Starting imputation round 14/110, elapsed time 0.331\n",
      "[MICE] Starting imputation round 15/110, elapsed time 0.354\n",
      "[MICE] Starting imputation round 16/110, elapsed time 0.378\n",
      "[MICE] Starting imputation round 17/110, elapsed time 0.401\n",
      "[MICE] Starting imputation round 18/110, elapsed time 0.425\n",
      "[MICE] Starting imputation round 19/110, elapsed time 0.458\n",
      "[MICE] Starting imputation round 20/110, elapsed time 0.488\n",
      "[MICE] Starting imputation round 21/110, elapsed time 0.512\n",
      "[MICE] Starting imputation round 22/110, elapsed time 0.536\n",
      "[MICE] Starting imputation round 23/110, elapsed time 0.560\n",
      "[MICE] Starting imputation round 24/110, elapsed time 0.584\n",
      "[MICE] Starting imputation round 25/110, elapsed time 0.608\n",
      "[MICE] Starting imputation round 26/110, elapsed time 0.633\n",
      "[MICE] Starting imputation round 27/110, elapsed time 0.660\n",
      "[MICE] Starting imputation round 28/110, elapsed time 0.700\n",
      "[MICE] Starting imputation round 29/110, elapsed time 0.723\n",
      "[MICE] Starting imputation round 30/110, elapsed time 0.749\n",
      "[MICE] Starting imputation round 31/110, elapsed time 0.772\n",
      "[MICE] Starting imputation round 32/110, elapsed time 0.795\n",
      "[MICE] Starting imputation round 33/110, elapsed time 0.819\n",
      "[MICE] Starting imputation round 34/110, elapsed time 0.842\n",
      "[MICE] Starting imputation round 35/110, elapsed time 0.869\n",
      "[MICE] Starting imputation round 36/110, elapsed time 0.905\n",
      "[MICE] Starting imputation round 37/110, elapsed time 0.929\n",
      "[MICE] Starting imputation round 38/110, elapsed time 0.954\n",
      "[MICE] Starting imputation round 39/110, elapsed time 0.984\n",
      "[MICE] Starting imputation round 40/110, elapsed time 1.008\n",
      "[MICE] Starting imputation round 41/110, elapsed time 1.032\n",
      "[MICE] Starting imputation round 42/110, elapsed time 1.055\n",
      "[MICE] Starting imputation round 43/110, elapsed time 1.082\n",
      "[MICE] Starting imputation round 44/110, elapsed time 1.117\n",
      "[MICE] Starting imputation round 45/110, elapsed time 1.140\n",
      "[MICE] Starting imputation round 46/110, elapsed time 1.163\n",
      "[MICE] Starting imputation round 47/110, elapsed time 1.186\n",
      "[MICE] Starting imputation round 48/110, elapsed time 1.210\n",
      "[MICE] Starting imputation round 49/110, elapsed time 1.233\n",
      "[MICE] Starting imputation round 50/110, elapsed time 1.256\n",
      "[MICE] Starting imputation round 51/110, elapsed time 1.280\n",
      "[MICE] Starting imputation round 52/110, elapsed time 1.313\n",
      "[MICE] Starting imputation round 53/110, elapsed time 1.341\n",
      "[MICE] Starting imputation round 54/110, elapsed time 1.364\n",
      "[MICE] Starting imputation round 55/110, elapsed time 1.387\n",
      "[MICE] Starting imputation round 56/110, elapsed time 1.411\n",
      "[MICE] Starting imputation round 57/110, elapsed time 1.434\n",
      "[MICE] Starting imputation round 58/110, elapsed time 1.458\n",
      "[MICE] Starting imputation round 59/110, elapsed time 1.481\n",
      "[MICE] Starting imputation round 60/110, elapsed time 1.505\n",
      "[MICE] Starting imputation round 61/110, elapsed time 1.535\n",
      "[MICE] Starting imputation round 62/110, elapsed time 1.566\n",
      "[MICE] Starting imputation round 63/110, elapsed time 1.590\n",
      "[MICE] Starting imputation round 64/110, elapsed time 1.614\n",
      "[MICE] Starting imputation round 65/110, elapsed time 1.637\n",
      "[MICE] Starting imputation round 66/110, elapsed time 1.661\n",
      "[MICE] Starting imputation round 67/110, elapsed time 1.684\n",
      "[MICE] Starting imputation round 68/110, elapsed time 1.708\n",
      "[MICE] Starting imputation round 69/110, elapsed time 1.731\n",
      "[MICE] Starting imputation round 70/110, elapsed time 1.765\n",
      "[MICE] Starting imputation round 71/110, elapsed time 1.798\n",
      "[MICE] Starting imputation round 72/110, elapsed time 1.824\n",
      "[MICE] Starting imputation round 73/110, elapsed time 1.848\n",
      "[MICE] Starting imputation round 74/110, elapsed time 1.871\n",
      "[MICE] Starting imputation round 75/110, elapsed time 1.900\n",
      "[MICE] Starting imputation round 76/110, elapsed time 1.923\n",
      "[MICE] Starting imputation round 77/110, elapsed time 1.947\n",
      "[MICE] Starting imputation round 78/110, elapsed time 1.970\n",
      "[MICE] Starting imputation round 79/110, elapsed time 2.009\n",
      "[MICE] Starting imputation round 80/110, elapsed time 2.032\n",
      "[MICE] Starting imputation round 81/110, elapsed time 2.056\n",
      "[MICE] Starting imputation round 82/110, elapsed time 2.079\n",
      "[MICE] Starting imputation round 83/110, elapsed time 2.102\n",
      "[MICE] Starting imputation round 84/110, elapsed time 2.126\n",
      "[MICE] Starting imputation round 85/110, elapsed time 2.149\n",
      "[MICE] Starting imputation round 86/110, elapsed time 2.173\n",
      "[MICE] Starting imputation round 87/110, elapsed time 2.196\n",
      "[MICE] Starting imputation round 88/110, elapsed time 2.222\n",
      "[MICE] Starting imputation round 89/110, elapsed time 2.257\n",
      "[MICE] Starting imputation round 90/110, elapsed time 2.281\n",
      "[MICE] Starting imputation round 91/110, elapsed time 2.305\n",
      "[MICE] Starting imputation round 92/110, elapsed time 2.328\n",
      "[MICE] Starting imputation round 93/110, elapsed time 2.351\n",
      "[MICE] Starting imputation round 94/110, elapsed time 2.375\n",
      "[MICE] Starting imputation round 95/110, elapsed time 2.399\n",
      "[MICE] Starting imputation round 96/110, elapsed time 2.422\n",
      "[MICE] Starting imputation round 97/110, elapsed time 2.460\n",
      "[MICE] Starting imputation round 98/110, elapsed time 2.485\n",
      "[MICE] Starting imputation round 99/110, elapsed time 2.509\n",
      "[MICE] Starting imputation round 100/110, elapsed time 2.532\n",
      "[MICE] Starting imputation round 101/110, elapsed time 2.556\n",
      "[MICE] Starting imputation round 102/110, elapsed time 2.580\n",
      "[MICE] Starting imputation round 103/110, elapsed time 2.604\n",
      "[MICE] Starting imputation round 104/110, elapsed time 2.627\n",
      "[MICE] Starting imputation round 105/110, elapsed time 2.651\n",
      "[MICE] Starting imputation round 106/110, elapsed time 2.678\n",
      "[MICE] Starting imputation round 107/110, elapsed time 2.727\n",
      "[MICE] Starting imputation round 108/110, elapsed time 2.751\n",
      "[MICE] Starting imputation round 109/110, elapsed time 2.774\n",
      "[MICE] Starting imputation round 110/110, elapsed time 2.797\n"
     ]
    }
   ],
   "source": [
    "data_e = data[data['IPG'] != 1]\n",
    "data_e = data_e.drop('IPG', axis = 1);\n",
    "data_e = data_e.drop('sbjBeatConsidered', axis = 1);\n",
    "data_e = data_e.drop('numRRaveraged', axis = 1);\n",
    "data_e = data_e.drop('Soggetti', axis = 1);\n",
    "# df_columns = data.columns.tolist()\n",
    "# matching_columns1 = [s for s in df_columns if \"Parea\" in s]\n",
    "# matching_columns2 = [s for s in df_columns if \"Pdur\" in s]\n",
    "# mc = matching_columns1 + matching_columns2\n",
    "# data_e = data_e.dropna(subset=mc)\n",
    "data_e['PCneg'].fillna(0, inplace=True)\n",
    "data_e['AFclass'].replace('persistierend (>7 Tage, EKV)', 1, inplace=True)\n",
    "data_e['AFclass'].replace('paroxysmal', 0, inplace=True)\n",
    "categorical_variables_mask = data_e.dtypes==object\n",
    "categorical_variables = data_e.columns[categorical_variables_mask]\n",
    "for v in categorical_variables:\n",
    "    data_e[v] = LabelEncoder().fit_transform(data_e[v])\n",
    "del categorical_variables_mask,categorical_variables\n",
    "data_e = pd.DataFrame(data=MICE(n_imputations=100, impute_type='col', n_nearest_columns=5).complete(data_e.as_matrix()), columns=data_e.columns, index=data_e.index);\n",
    "y_df = data_e['AFclass'].copy()\n",
    "x_df = data_e.drop('AFclass',axis=1, inplace=False)"
   ]
  },
  {
   "cell_type": "code",
   "execution_count": 5,
   "metadata": {},
   "outputs": [],
   "source": [
    "from sklearn.model_selection import cross_val_score\n",
    "from sklearn.pipeline import Pipeline\n",
    "from sklearn.ensemble import RandomForestClassifier,GradientBoostingClassifier,ExtraTreesClassifier,AdaBoostClassifier\n",
    "#from sklearn.pipeline import Pipeline\n",
    "from sklearn.model_selection import cross_val_score\n",
    "from sklearn.model_selection import train_test_split\n",
    "from sklearn.metrics import f1_score, make_scorer\n",
    "from sklearn.metrics import accuracy_score\n",
    "from sklearn.model_selection import GridSearchCV\n",
    "from sklearn.dummy import DummyClassifier\n",
    "from imblearn.over_sampling import SMOTE\n",
    "from imblearn.pipeline import Pipeline\n",
    "\n",
    "#f1_scorer = make_scorer(f1_score, average='macro',labels=Y.unique().tolist())\n",
    "#myscorer = f1_scorer\n",
    "myscorer = 'roc_auc'"
   ]
  },
  {
   "cell_type": "code",
   "execution_count": 6,
   "metadata": {},
   "outputs": [],
   "source": [
    "balancer = SMOTE(random_state=42)"
   ]
  },
  {
   "cell_type": "code",
   "execution_count": 7,
   "metadata": {},
   "outputs": [],
   "source": [
    "def show_f_importance(estimator,train_data):\n",
    "    importances = estimator.feature_importances_\n",
    "    indices = np.argsort(importances)[::-1]\n",
    "    indices = np.argsort(importances)[::-1]\n",
    "    # Print the feature ranking\n",
    "    print(\"Feature ranking:\")\n",
    "\n",
    "    for f in range(train_data.shape[1]):\n",
    "        print(\"%d. feature %d - %s (%f)\" % (f + 1, indices[f],train_data.columns[indices[f]], importances[indices[f]]))\n"
   ]
  },
  {
   "cell_type": "code",
   "execution_count": 8,
   "metadata": {},
   "outputs": [],
   "source": [
    "param_grid = {\"clf__strategy\": ['most_frequent','stratified','prior','uniform']}\n",
    "\n",
    "dummy = DummyClassifier(random_state=42)\n",
    "plist = []\n",
    "plist.append(('balancer', balancer))\n",
    "plist.append(('clf', dummy))\n",
    "pipeline = Pipeline(plist)\n",
    "\n",
    "gs_dummy = GridSearchCV(pipeline, param_grid=param_grid, cv=5, verbose=1, scoring=myscorer, n_jobs=-1)"
   ]
  },
  {
   "cell_type": "code",
   "execution_count": 9,
   "metadata": {},
   "outputs": [
    {
     "name": "stdout",
     "output_type": "stream",
     "text": [
      "Fitting 5 folds for each of 4 candidates, totalling 20 fits\n"
     ]
    },
    {
     "name": "stderr",
     "output_type": "stream",
     "text": [
      "[Parallel(n_jobs=-1)]: Done  20 out of  20 | elapsed:    0.2s finished\n"
     ]
    }
   ],
   "source": [
    "gs_dummy.fit(x_df, y_df);"
   ]
  },
  {
   "cell_type": "code",
   "execution_count": 10,
   "metadata": {},
   "outputs": [
    {
     "data": {
      "text/plain": [
       "{'clf__strategy': 'stratified'}"
      ]
     },
     "execution_count": 10,
     "metadata": {},
     "output_type": "execute_result"
    }
   ],
   "source": [
    "gs_dummy.best_params_"
   ]
  },
  {
   "cell_type": "code",
   "execution_count": 11,
   "metadata": {},
   "outputs": [
    {
     "data": {
      "text/plain": [
       "0.5046998479802258"
      ]
     },
     "execution_count": 11,
     "metadata": {},
     "output_type": "execute_result"
    }
   ],
   "source": [
    "gs_dummy.best_score_"
   ]
  },
  {
   "cell_type": "code",
   "execution_count": 12,
   "metadata": {},
   "outputs": [],
   "source": [
    "param_grid = {\"clf__max_depth\": [10,30,50],\n",
    "              \"clf__criterion\": ['gini', 'entropy'],\n",
    "              \"clf__n_estimators\": [100,200,500,1000],\n",
    "              \"clf__random_state\": [42],\n",
    "              \"clf__class_weight\" : [None, 'balanced']}\n",
    "# param_grid = {\"classifier__max_depth\": [30],\n",
    "#               \"classifier__n_estimators\": [1000]}\n",
    "\n",
    "\n",
    "rf = RandomForestClassifier()\n",
    "\n",
    "plist = []\n",
    "plist.append(('balancer', balancer))\n",
    "plist.append(('clf', rf))\n",
    "pipeline = Pipeline(plist)\n",
    "\n",
    "gs_rf = GridSearchCV(pipeline, param_grid=param_grid, cv=5, verbose=1, scoring=myscorer, n_jobs=-1)"
   ]
  },
  {
   "cell_type": "code",
   "execution_count": 13,
   "metadata": {},
   "outputs": [
    {
     "name": "stdout",
     "output_type": "stream",
     "text": [
      "Fitting 5 folds for each of 48 candidates, totalling 240 fits\n"
     ]
    },
    {
     "name": "stderr",
     "output_type": "stream",
     "text": [
      "[Parallel(n_jobs=-1)]: Done  42 tasks      | elapsed:   18.4s\n",
      "[Parallel(n_jobs=-1)]: Done 192 tasks      | elapsed:  1.7min\n",
      "[Parallel(n_jobs=-1)]: Done 240 out of 240 | elapsed:  2.3min finished\n"
     ]
    }
   ],
   "source": [
    "gs_rf.fit(x_df, y_df);"
   ]
  },
  {
   "cell_type": "code",
   "execution_count": 14,
   "metadata": {},
   "outputs": [
    {
     "data": {
      "text/plain": [
       "{'clf__class_weight': None,\n",
       " 'clf__criterion': 'entropy',\n",
       " 'clf__max_depth': 30,\n",
       " 'clf__n_estimators': 200,\n",
       " 'clf__random_state': 42}"
      ]
     },
     "execution_count": 14,
     "metadata": {},
     "output_type": "execute_result"
    }
   ],
   "source": [
    "gs_rf.best_params_"
   ]
  },
  {
   "cell_type": "code",
   "execution_count": 15,
   "metadata": {},
   "outputs": [
    {
     "data": {
      "text/plain": [
       "0.5301850289873158"
      ]
     },
     "execution_count": 15,
     "metadata": {},
     "output_type": "execute_result"
    }
   ],
   "source": [
    "gs_rf.best_score_\n"
   ]
  },
  {
   "cell_type": "code",
   "execution_count": 16,
   "metadata": {},
   "outputs": [],
   "source": [
    "if gs_rf.best_score_ > best_score:\n",
    "    best_model = gs_rf\n",
    "    best_score = gs_rf.best_score_"
   ]
  },
  {
   "cell_type": "code",
   "execution_count": 17,
   "metadata": {},
   "outputs": [
    {
     "name": "stdout",
     "output_type": "stream",
     "text": [
      "Feature ranking:\n",
      "1. feature 66 - patsex (0.032525)\n",
      "2. feature 48 - Parea_ECG_aVL (0.028793)\n",
      "3. feature 4 - QRS (0.027798)\n",
      "4. feature 62 - Pfwhm_ECG_V9 (0.026390)\n",
      "5. feature 3 - QTn (0.024675)\n",
      "6. feature 5 - PQ (0.023805)\n",
      "7. feature 55 - Pfwhm_ECG_V3 (0.023344)\n",
      "8. feature 39 - Parea_ECG_V3 (0.022000)\n",
      "9. feature 50 - Pfwhm_ECG_I (0.021586)\n",
      "10. feature 57 - Pfwhm_ECG_V4 (0.020048)\n",
      "11. feature 36 - Parea_ECG_III (0.020038)\n",
      "12. feature 40 - Parea_ECG_V3R (0.019083)\n",
      "13. feature 34 - Parea_ECG_I (0.018291)\n",
      "14. feature 56 - Pfwhm_ECG_V3R (0.018213)\n",
      "15. feature 41 - Parea_ECG_V4 (0.018015)\n",
      "16. feature 44 - Parea_ECG_V6 (0.017827)\n",
      "17. feature 10 - PCarea (0.017625)\n",
      "18. feature 54 - Pfwhm_ECG_V2 (0.017600)\n",
      "19. feature 63 - Pfwhm_ECG_aVF (0.017132)\n",
      "20. feature 16 - Pdur16std (0.017085)\n",
      "21. feature 6 - PCpos (0.017073)\n",
      "22. feature 38 - Parea_ECG_V2 (0.016587)\n",
      "23. feature 43 - Parea_ECG_V5 (0.016273)\n",
      "24. feature 1 - QTm_old (0.016241)\n",
      "25. feature 17 - Pdur16iqr (0.015792)\n",
      "26. feature 45 - Parea_ECG_V8 (0.015769)\n",
      "27. feature 2 - QR (0.015768)\n",
      "28. feature 37 - Parea_ECG_V1 (0.015072)\n",
      "29. feature 9 - PCfwhm (0.014268)\n",
      "30. feature 25 - Pdur_ECG_V4 (0.014202)\n",
      "31. feature 42 - Parea_ECG_V4R (0.014066)\n",
      "32. feature 0 - RR (0.014010)\n",
      "33. feature 58 - Pfwhm_ECG_V4R (0.013864)\n",
      "34. feature 61 - Pfwhm_ECG_V8 (0.013718)\n",
      "35. feature 18 - Pdur_ECG_I (0.013610)\n",
      "36. feature 64 - Pfwhm_ECG_aVL (0.013436)\n",
      "37. feature 51 - Pfwhm_ECG_II (0.013229)\n",
      "38. feature 60 - Pfwhm_ECG_V6 (0.013229)\n",
      "39. feature 46 - Parea_ECG_V9 (0.013214)\n",
      "40. feature 47 - Parea_ECG_aVF (0.012858)\n",
      "41. feature 53 - Pfwhm_ECG_V1 (0.012809)\n",
      "42. feature 52 - Pfwhm_ECG_III (0.012671)\n",
      "43. feature 67 - Age (0.012642)\n",
      "44. feature 20 - Pdur_ECG_III (0.012115)\n",
      "45. feature 65 - Pfwhm_ECG_aVR (0.011938)\n",
      "46. feature 23 - Pdur_ECG_V3 (0.011782)\n",
      "47. feature 49 - Parea_ECG_aVR (0.011548)\n",
      "48. feature 22 - Pdur_ECG_V2 (0.010908)\n",
      "49. feature 29 - Pdur_ECG_V8 (0.010884)\n",
      "50. feature 19 - Pdur_ECG_II (0.010755)\n",
      "51. feature 33 - Pdur_ECG_aVR (0.010475)\n",
      "52. feature 26 - Pdur_ECG_V4R (0.009957)\n",
      "53. feature 59 - Pfwhm_ECG_V5 (0.009801)\n",
      "54. feature 30 - Pdur_ECG_V9 (0.009684)\n",
      "55. feature 35 - Parea_ECG_II (0.009629)\n",
      "56. feature 11 - P_LoffEon (0.009602)\n",
      "57. feature 31 - Pdur_ECG_aVF (0.009400)\n",
      "58. feature 14 - Pdur16min (0.009389)\n",
      "59. feature 24 - Pdur_ECG_V3R (0.009314)\n",
      "60. feature 8 - PCdur (0.009011)\n",
      "61. feature 12 - Pdur16mean (0.008966)\n",
      "62. feature 27 - Pdur_ECG_V5 (0.008757)\n",
      "63. feature 21 - Pdur_ECG_V1 (0.008521)\n",
      "64. feature 32 - Pdur_ECG_aVL (0.008392)\n",
      "65. feature 13 - Pdur16median (0.007965)\n",
      "66. feature 15 - Pdur16max (0.007836)\n",
      "67. feature 28 - Pdur_ECG_V6 (0.007371)\n",
      "68. feature 7 - PCneg (0.003729)\n"
     ]
    }
   ],
   "source": [
    "show_f_importance(gs_rf.best_estimator_.named_steps['clf'],x_df)"
   ]
  },
  {
   "cell_type": "code",
   "execution_count": 18,
   "metadata": {},
   "outputs": [],
   "source": [
    "param_grid = {\"clf__max_depth\": [3,5,8],\n",
    "              \"clf__n_estimators\": [100,200,500,1000],\n",
    "              \"clf__min_samples_leaf\": [1,3,5,10]}\n",
    "# param_grid = {\"classifier__n_estimators\": [50],\n",
    "#               \"classifier__max_depth\": [5],\n",
    "# \n",
    "\n",
    "gb = GradientBoostingClassifier(random_state=42)\n",
    "plist = []\n",
    "plist.append(('balancer', balancer))\n",
    "plist.append(('clf', gb))\n",
    "pipeline = Pipeline(plist)\n",
    "gs_gb = GridSearchCV(pipeline, param_grid=param_grid, cv=5, verbose=1,  scoring=myscorer, n_jobs=-1)"
   ]
  },
  {
   "cell_type": "code",
   "execution_count": 19,
   "metadata": {},
   "outputs": [
    {
     "name": "stdout",
     "output_type": "stream",
     "text": [
      "Fitting 5 folds for each of 48 candidates, totalling 240 fits\n"
     ]
    },
    {
     "name": "stderr",
     "output_type": "stream",
     "text": [
      "[Parallel(n_jobs=-1)]: Done  42 tasks      | elapsed:   13.9s\n",
      "[Parallel(n_jobs=-1)]: Done 192 tasks      | elapsed:  1.0min\n",
      "[Parallel(n_jobs=-1)]: Done 240 out of 240 | elapsed:  1.3min finished\n"
     ]
    }
   ],
   "source": [
    "gs_gb.fit(x_df, y_df);"
   ]
  },
  {
   "cell_type": "code",
   "execution_count": 20,
   "metadata": {},
   "outputs": [
    {
     "data": {
      "text/plain": [
       "{'clf__max_depth': 8, 'clf__min_samples_leaf': 1, 'clf__n_estimators': 100}"
      ]
     },
     "execution_count": 20,
     "metadata": {},
     "output_type": "execute_result"
    }
   ],
   "source": [
    "gs_gb.best_params_"
   ]
  },
  {
   "cell_type": "code",
   "execution_count": 21,
   "metadata": {},
   "outputs": [
    {
     "data": {
      "text/plain": [
       "0.5321862392550061"
      ]
     },
     "execution_count": 21,
     "metadata": {},
     "output_type": "execute_result"
    }
   ],
   "source": [
    "gs_gb.best_score_"
   ]
  },
  {
   "cell_type": "code",
   "execution_count": 22,
   "metadata": {},
   "outputs": [],
   "source": [
    "if gs_gb.best_score_ > best_score:\n",
    "    best_model = gs_gb\n",
    "    best_score = gs_gb.best_score_"
   ]
  },
  {
   "cell_type": "code",
   "execution_count": 23,
   "metadata": {},
   "outputs": [
    {
     "name": "stdout",
     "output_type": "stream",
     "text": [
      "Feature ranking:\n",
      "1. feature 48 - Parea_ECG_aVL (0.072476)\n",
      "2. feature 66 - patsex (0.053093)\n",
      "3. feature 55 - Pfwhm_ECG_V3 (0.042382)\n",
      "4. feature 64 - Pfwhm_ECG_aVL (0.035687)\n",
      "5. feature 54 - Pfwhm_ECG_V2 (0.034804)\n",
      "6. feature 4 - QRS (0.030267)\n",
      "7. feature 17 - Pdur16iqr (0.027897)\n",
      "8. feature 16 - Pdur16std (0.027349)\n",
      "9. feature 3 - QTn (0.027027)\n",
      "10. feature 50 - Pfwhm_ECG_I (0.022879)\n",
      "11. feature 67 - Age (0.021286)\n",
      "12. feature 39 - Parea_ECG_V3 (0.018795)\n",
      "13. feature 38 - Parea_ECG_V2 (0.017829)\n",
      "14. feature 57 - Pfwhm_ECG_V4 (0.017121)\n",
      "15. feature 63 - Pfwhm_ECG_aVF (0.016730)\n",
      "16. feature 25 - Pdur_ECG_V4 (0.016650)\n",
      "17. feature 47 - Parea_ECG_aVF (0.016050)\n",
      "18. feature 0 - RR (0.015743)\n",
      "19. feature 21 - Pdur_ECG_V1 (0.014747)\n",
      "20. feature 37 - Parea_ECG_V1 (0.014234)\n",
      "21. feature 53 - Pfwhm_ECG_V1 (0.013998)\n",
      "22. feature 42 - Parea_ECG_V4R (0.013938)\n",
      "23. feature 5 - PQ (0.013177)\n",
      "24. feature 46 - Parea_ECG_V9 (0.013035)\n",
      "25. feature 2 - QR (0.012984)\n",
      "26. feature 44 - Parea_ECG_V6 (0.012414)\n",
      "27. feature 40 - Parea_ECG_V3R (0.012257)\n",
      "28. feature 51 - Pfwhm_ECG_II (0.012112)\n",
      "29. feature 10 - PCarea (0.011985)\n",
      "30. feature 56 - Pfwhm_ECG_V3R (0.011885)\n",
      "31. feature 58 - Pfwhm_ECG_V4R (0.011565)\n",
      "32. feature 62 - Pfwhm_ECG_V9 (0.011446)\n",
      "33. feature 34 - Parea_ECG_I (0.011393)\n",
      "34. feature 22 - Pdur_ECG_V2 (0.011379)\n",
      "35. feature 61 - Pfwhm_ECG_V8 (0.011302)\n",
      "36. feature 18 - Pdur_ECG_I (0.011168)\n",
      "37. feature 45 - Parea_ECG_V8 (0.010656)\n",
      "38. feature 6 - PCpos (0.010610)\n",
      "39. feature 35 - Parea_ECG_II (0.010513)\n",
      "40. feature 36 - Parea_ECG_III (0.010479)\n",
      "41. feature 60 - Pfwhm_ECG_V6 (0.010452)\n",
      "42. feature 49 - Parea_ECG_aVR (0.008667)\n",
      "43. feature 41 - Parea_ECG_V4 (0.007835)\n",
      "44. feature 1 - QTm_old (0.007273)\n",
      "45. feature 43 - Parea_ECG_V5 (0.007007)\n",
      "46. feature 52 - Pfwhm_ECG_III (0.006832)\n",
      "47. feature 26 - Pdur_ECG_V4R (0.006333)\n",
      "48. feature 9 - PCfwhm (0.006302)\n",
      "49. feature 23 - Pdur_ECG_V3 (0.006232)\n",
      "50. feature 31 - Pdur_ECG_aVF (0.005961)\n",
      "51. feature 24 - Pdur_ECG_V3R (0.005163)\n",
      "52. feature 33 - Pdur_ECG_aVR (0.004704)\n",
      "53. feature 29 - Pdur_ECG_V8 (0.004579)\n",
      "54. feature 7 - PCneg (0.004564)\n",
      "55. feature 11 - P_LoffEon (0.004050)\n",
      "56. feature 32 - Pdur_ECG_aVL (0.003541)\n",
      "57. feature 8 - PCdur (0.003497)\n",
      "58. feature 65 - Pfwhm_ECG_aVR (0.003456)\n",
      "59. feature 59 - Pfwhm_ECG_V5 (0.003390)\n",
      "60. feature 20 - Pdur_ECG_III (0.002686)\n",
      "61. feature 27 - Pdur_ECG_V5 (0.002359)\n",
      "62. feature 15 - Pdur16max (0.002258)\n",
      "63. feature 30 - Pdur_ECG_V9 (0.002162)\n",
      "64. feature 12 - Pdur16mean (0.002048)\n",
      "65. feature 13 - Pdur16median (0.001944)\n",
      "66. feature 14 - Pdur16min (0.001872)\n",
      "67. feature 28 - Pdur_ECG_V6 (0.001772)\n",
      "68. feature 19 - Pdur_ECG_II (0.001723)\n"
     ]
    }
   ],
   "source": [
    "show_f_importance(gs_gb.best_estimator_.named_steps['clf'],x_df)"
   ]
  },
  {
   "cell_type": "code",
   "execution_count": 24,
   "metadata": {},
   "outputs": [],
   "source": [
    "param_grid = {\"clf__learning_rate\": [0.1,0.3,0.7,0.8],\n",
    "              \"clf__n_estimators\": [100,1000,2000,2500,3000,5000]}\n",
    "\n",
    "ab = AdaBoostClassifier(random_state=42)\n",
    "\n",
    "plist = []\n",
    "plist.append(('balancer', balancer))\n",
    "plist.append(('clf', ab))\n",
    "pipeline = Pipeline(plist)\n",
    "\n",
    "gs_ab = GridSearchCV(pipeline, param_grid=param_grid, cv=5, verbose=1, scoring=myscorer, n_jobs=-1)"
   ]
  },
  {
   "cell_type": "code",
   "execution_count": 25,
   "metadata": {},
   "outputs": [
    {
     "name": "stdout",
     "output_type": "stream",
     "text": [
      "Fitting 5 folds for each of 24 candidates, totalling 120 fits\n"
     ]
    },
    {
     "name": "stderr",
     "output_type": "stream",
     "text": [
      "[Parallel(n_jobs=-1)]: Done  42 tasks      | elapsed:  1.9min\n",
      "[Parallel(n_jobs=-1)]: Done 120 out of 120 | elapsed:  6.4min finished\n"
     ]
    }
   ],
   "source": [
    "gs_ab.fit(x_df, y_df);"
   ]
  },
  {
   "cell_type": "code",
   "execution_count": 26,
   "metadata": {},
   "outputs": [
    {
     "data": {
      "text/plain": [
       "{'clf__learning_rate': 0.1, 'clf__n_estimators': 100}"
      ]
     },
     "execution_count": 26,
     "metadata": {},
     "output_type": "execute_result"
    }
   ],
   "source": [
    "gs_ab.best_params_"
   ]
  },
  {
   "cell_type": "code",
   "execution_count": 27,
   "metadata": {},
   "outputs": [
    {
     "data": {
      "text/plain": [
       "0.555679473285855"
      ]
     },
     "execution_count": 27,
     "metadata": {},
     "output_type": "execute_result"
    }
   ],
   "source": [
    "gs_ab.best_score_"
   ]
  },
  {
   "cell_type": "code",
   "execution_count": 28,
   "metadata": {},
   "outputs": [],
   "source": [
    "\n",
    "if gs_ab.best_score_ > best_score:\n",
    "    best_model = gs_ab\n",
    "    best_score = gs_ab.best_score_"
   ]
  },
  {
   "cell_type": "code",
   "execution_count": 29,
   "metadata": {},
   "outputs": [
    {
     "name": "stdout",
     "output_type": "stream",
     "text": [
      "Feature ranking:\n",
      "1. feature 66 - patsex (0.110000)\n",
      "2. feature 5 - PQ (0.100000)\n",
      "3. feature 55 - Pfwhm_ECG_V3 (0.080000)\n",
      "4. feature 4 - QRS (0.080000)\n",
      "5. feature 50 - Pfwhm_ECG_I (0.070000)\n",
      "6. feature 62 - Pfwhm_ECG_V9 (0.070000)\n",
      "7. feature 63 - Pfwhm_ECG_aVF (0.060000)\n",
      "8. feature 48 - Parea_ECG_aVL (0.050000)\n",
      "9. feature 44 - Parea_ECG_V6 (0.050000)\n",
      "10. feature 40 - Parea_ECG_V3R (0.050000)\n",
      "11. feature 3 - QTn (0.050000)\n",
      "12. feature 37 - Parea_ECG_V1 (0.040000)\n",
      "13. feature 54 - Pfwhm_ECG_V2 (0.030000)\n",
      "14. feature 38 - Parea_ECG_V2 (0.030000)\n",
      "15. feature 16 - Pdur16std (0.030000)\n",
      "16. feature 6 - PCpos (0.030000)\n",
      "17. feature 34 - Parea_ECG_I (0.020000)\n",
      "18. feature 18 - Pdur_ECG_I (0.010000)\n",
      "19. feature 43 - Parea_ECG_V5 (0.010000)\n",
      "20. feature 45 - Parea_ECG_V8 (0.010000)\n",
      "21. feature 1 - QTm_old (0.010000)\n",
      "22. feature 36 - Parea_ECG_III (0.010000)\n",
      "23. feature 67 - Age (0.000000)\n",
      "24. feature 19 - Pdur_ECG_II (0.000000)\n",
      "25. feature 21 - Pdur_ECG_V1 (0.000000)\n",
      "26. feature 22 - Pdur_ECG_V2 (0.000000)\n",
      "27. feature 23 - Pdur_ECG_V3 (0.000000)\n",
      "28. feature 20 - Pdur_ECG_III (0.000000)\n",
      "29. feature 13 - Pdur16median (0.000000)\n",
      "30. feature 17 - Pdur16iqr (0.000000)\n",
      "31. feature 15 - Pdur16max (0.000000)\n",
      "32. feature 14 - Pdur16min (0.000000)\n",
      "33. feature 25 - Pdur_ECG_V4 (0.000000)\n",
      "34. feature 12 - Pdur16mean (0.000000)\n",
      "35. feature 11 - P_LoffEon (0.000000)\n",
      "36. feature 10 - PCarea (0.000000)\n",
      "37. feature 9 - PCfwhm (0.000000)\n",
      "38. feature 8 - PCdur (0.000000)\n",
      "39. feature 7 - PCneg (0.000000)\n",
      "40. feature 2 - QR (0.000000)\n",
      "41. feature 24 - Pdur_ECG_V3R (0.000000)\n",
      "42. feature 33 - Pdur_ECG_aVR (0.000000)\n",
      "43. feature 26 - Pdur_ECG_V4R (0.000000)\n",
      "44. feature 27 - Pdur_ECG_V5 (0.000000)\n",
      "45. feature 65 - Pfwhm_ECG_aVR (0.000000)\n",
      "46. feature 64 - Pfwhm_ECG_aVL (0.000000)\n",
      "47. feature 61 - Pfwhm_ECG_V8 (0.000000)\n",
      "48. feature 60 - Pfwhm_ECG_V6 (0.000000)\n",
      "49. feature 59 - Pfwhm_ECG_V5 (0.000000)\n",
      "50. feature 58 - Pfwhm_ECG_V4R (0.000000)\n",
      "51. feature 57 - Pfwhm_ECG_V4 (0.000000)\n",
      "52. feature 56 - Pfwhm_ECG_V3R (0.000000)\n",
      "53. feature 53 - Pfwhm_ECG_V1 (0.000000)\n",
      "54. feature 52 - Pfwhm_ECG_III (0.000000)\n",
      "55. feature 51 - Pfwhm_ECG_II (0.000000)\n",
      "56. feature 49 - Parea_ECG_aVR (0.000000)\n",
      "57. feature 47 - Parea_ECG_aVF (0.000000)\n",
      "58. feature 46 - Parea_ECG_V9 (0.000000)\n",
      "59. feature 42 - Parea_ECG_V4R (0.000000)\n",
      "60. feature 41 - Parea_ECG_V4 (0.000000)\n",
      "61. feature 39 - Parea_ECG_V3 (0.000000)\n",
      "62. feature 35 - Parea_ECG_II (0.000000)\n",
      "63. feature 32 - Pdur_ECG_aVL (0.000000)\n",
      "64. feature 31 - Pdur_ECG_aVF (0.000000)\n",
      "65. feature 30 - Pdur_ECG_V9 (0.000000)\n",
      "66. feature 29 - Pdur_ECG_V8 (0.000000)\n",
      "67. feature 28 - Pdur_ECG_V6 (0.000000)\n",
      "68. feature 0 - RR (0.000000)\n"
     ]
    }
   ],
   "source": [
    "show_f_importance(gs_ab.best_estimator_.named_steps['clf'],x_df)"
   ]
  },
  {
   "cell_type": "code",
   "execution_count": 30,
   "metadata": {},
   "outputs": [],
   "source": [
    "param_grid = {\"clf__max_depth\": [3,5,8,10,15,30],\n",
    "              \"clf__n_estimators\": [100,200,500,1000,1500],\n",
    "              \"clf__min_samples_leaf\": [1,3,5,10]}\n",
    "\n",
    "et = ExtraTreesClassifier(random_state=42)\n",
    "\n",
    "plist = []\n",
    "plist.append(('balancer', balancer))\n",
    "plist.append(('clf', et))\n",
    "pipeline = Pipeline(plist)\n",
    "\n",
    "gs_et = GridSearchCV(pipeline, param_grid=param_grid, cv=5, verbose=1,  scoring=myscorer, n_jobs=-1)"
   ]
  },
  {
   "cell_type": "code",
   "execution_count": 31,
   "metadata": {},
   "outputs": [
    {
     "name": "stdout",
     "output_type": "stream",
     "text": [
      "Fitting 5 folds for each of 120 candidates, totalling 600 fits\n"
     ]
    },
    {
     "name": "stderr",
     "output_type": "stream",
     "text": [
      "[Parallel(n_jobs=-1)]: Done  42 tasks      | elapsed:   14.1s\n",
      "[Parallel(n_jobs=-1)]: Done 192 tasks      | elapsed:  1.2min\n",
      "[Parallel(n_jobs=-1)]: Done 442 tasks      | elapsed:  2.9min\n",
      "[Parallel(n_jobs=-1)]: Done 600 out of 600 | elapsed:  4.1min finished\n"
     ]
    }
   ],
   "source": [
    "gs_et.fit(x_df, y_df);"
   ]
  },
  {
   "cell_type": "code",
   "execution_count": 32,
   "metadata": {},
   "outputs": [
    {
     "data": {
      "text/plain": [
       "{'clf__max_depth': 3, 'clf__min_samples_leaf': 10, 'clf__n_estimators': 200}"
      ]
     },
     "execution_count": 32,
     "metadata": {},
     "output_type": "execute_result"
    }
   ],
   "source": [
    "gs_et.best_params_"
   ]
  },
  {
   "cell_type": "code",
   "execution_count": 33,
   "metadata": {},
   "outputs": [
    {
     "data": {
      "text/plain": [
       "0.5831128636036998"
      ]
     },
     "execution_count": 33,
     "metadata": {},
     "output_type": "execute_result"
    }
   ],
   "source": [
    "gs_et.best_score_"
   ]
  },
  {
   "cell_type": "code",
   "execution_count": 34,
   "metadata": {},
   "outputs": [],
   "source": [
    "if gs_et.best_score_ > best_score:\n",
    "    best_model = gs_et\n",
    "    best_score = gs_et.best_score_"
   ]
  },
  {
   "cell_type": "code",
   "execution_count": 35,
   "metadata": {},
   "outputs": [
    {
     "name": "stdout",
     "output_type": "stream",
     "text": [
      "Feature ranking:\n",
      "1. feature 66 - patsex (0.154331)\n",
      "2. feature 48 - Parea_ECG_aVL (0.055500)\n",
      "3. feature 4 - QRS (0.032543)\n",
      "4. feature 5 - PQ (0.030863)\n",
      "5. feature 50 - Pfwhm_ECG_I (0.028651)\n",
      "6. feature 34 - Parea_ECG_I (0.027617)\n",
      "7. feature 56 - Pfwhm_ECG_V3R (0.025312)\n",
      "8. feature 6 - PCpos (0.022897)\n",
      "9. feature 62 - Pfwhm_ECG_V9 (0.022698)\n",
      "10. feature 57 - Pfwhm_ECG_V4 (0.021910)\n",
      "11. feature 45 - Parea_ECG_V8 (0.020363)\n",
      "12. feature 41 - Parea_ECG_V4 (0.019226)\n",
      "13. feature 55 - Pfwhm_ECG_V3 (0.018942)\n",
      "14. feature 39 - Parea_ECG_V3 (0.018583)\n",
      "15. feature 46 - Parea_ECG_V9 (0.017015)\n",
      "16. feature 38 - Parea_ECG_V2 (0.016769)\n",
      "17. feature 16 - Pdur16std (0.016675)\n",
      "18. feature 3 - QTn (0.016306)\n",
      "19. feature 63 - Pfwhm_ECG_aVF (0.014977)\n",
      "20. feature 17 - Pdur16iqr (0.014626)\n",
      "21. feature 11 - P_LoffEon (0.014469)\n",
      "22. feature 26 - Pdur_ECG_V4R (0.013659)\n",
      "23. feature 31 - Pdur_ECG_aVF (0.013528)\n",
      "24. feature 42 - Parea_ECG_V4R (0.012920)\n",
      "25. feature 40 - Parea_ECG_V3R (0.012894)\n",
      "26. feature 44 - Parea_ECG_V6 (0.012844)\n",
      "27. feature 18 - Pdur_ECG_I (0.012193)\n",
      "28. feature 15 - Pdur16max (0.012025)\n",
      "29. feature 43 - Parea_ECG_V5 (0.011679)\n",
      "30. feature 19 - Pdur_ECG_II (0.011645)\n",
      "31. feature 10 - PCarea (0.011521)\n",
      "32. feature 27 - Pdur_ECG_V5 (0.011429)\n",
      "33. feature 13 - Pdur16median (0.011419)\n",
      "34. feature 25 - Pdur_ECG_V4 (0.011278)\n",
      "35. feature 36 - Parea_ECG_III (0.011202)\n",
      "36. feature 22 - Pdur_ECG_V2 (0.010839)\n",
      "37. feature 2 - QR (0.010834)\n",
      "38. feature 20 - Pdur_ECG_III (0.010688)\n",
      "39. feature 47 - Parea_ECG_aVF (0.010430)\n",
      "40. feature 54 - Pfwhm_ECG_V2 (0.009408)\n",
      "41. feature 0 - RR (0.008977)\n",
      "42. feature 30 - Pdur_ECG_V9 (0.008959)\n",
      "43. feature 24 - Pdur_ECG_V3R (0.008873)\n",
      "44. feature 33 - Pdur_ECG_aVR (0.008808)\n",
      "45. feature 9 - PCfwhm (0.008722)\n",
      "46. feature 60 - Pfwhm_ECG_V6 (0.008294)\n",
      "47. feature 52 - Pfwhm_ECG_III (0.008003)\n",
      "48. feature 23 - Pdur_ECG_V3 (0.007339)\n",
      "49. feature 21 - Pdur_ECG_V1 (0.007133)\n",
      "50. feature 37 - Parea_ECG_V1 (0.006789)\n",
      "51. feature 28 - Pdur_ECG_V6 (0.006194)\n",
      "52. feature 32 - Pdur_ECG_aVL (0.006145)\n",
      "53. feature 59 - Pfwhm_ECG_V5 (0.006051)\n",
      "54. feature 49 - Parea_ECG_aVR (0.005971)\n",
      "55. feature 7 - PCneg (0.005779)\n",
      "56. feature 8 - PCdur (0.005678)\n",
      "57. feature 64 - Pfwhm_ECG_aVL (0.005507)\n",
      "58. feature 12 - Pdur16mean (0.005506)\n",
      "59. feature 58 - Pfwhm_ECG_V4R (0.005367)\n",
      "60. feature 65 - Pfwhm_ECG_aVR (0.005200)\n",
      "61. feature 1 - QTm_old (0.004455)\n",
      "62. feature 61 - Pfwhm_ECG_V8 (0.004334)\n",
      "63. feature 35 - Parea_ECG_II (0.004203)\n",
      "64. feature 53 - Pfwhm_ECG_V1 (0.004091)\n",
      "65. feature 14 - Pdur16min (0.003276)\n",
      "66. feature 67 - Age (0.002926)\n",
      "67. feature 51 - Pfwhm_ECG_II (0.002726)\n",
      "68. feature 29 - Pdur_ECG_V8 (0.001985)\n"
     ]
    }
   ],
   "source": [
    "show_f_importance(gs_et.best_estimator_.named_steps['clf'],x_df)"
   ]
  },
  {
   "cell_type": "code",
   "execution_count": 36,
   "metadata": {},
   "outputs": [
    {
     "data": {
      "text/plain": [
       "(275, 73)"
      ]
     },
     "execution_count": 36,
     "metadata": {},
     "output_type": "execute_result"
    }
   ],
   "source": [
    "cdata = pd.read_csv('../data/central' +'_data.csv')\n",
    "cdata.shape"
   ]
  },
  {
   "cell_type": "code",
   "execution_count": 37,
   "metadata": {},
   "outputs": [
    {
     "name": "stdout",
     "output_type": "stream",
     "text": [
      "[MICE] Completing matrix with shape (270, 69)\n",
      "[MICE] Starting imputation round 1/110, elapsed time 0.002\n",
      "[MICE] Starting imputation round 2/110, elapsed time 0.067\n",
      "[MICE] Starting imputation round 3/110, elapsed time 0.103\n",
      "[MICE] Starting imputation round 4/110, elapsed time 0.147\n",
      "[MICE] Starting imputation round 5/110, elapsed time 0.173\n",
      "[MICE] Starting imputation round 6/110, elapsed time 0.221\n",
      "[MICE] Starting imputation round 7/110, elapsed time 0.272\n",
      "[MICE] Starting imputation round 8/110, elapsed time 0.296\n",
      "[MICE] Starting imputation round 9/110, elapsed time 0.323\n",
      "[MICE] Starting imputation round 10/110, elapsed time 0.383\n",
      "[MICE] Starting imputation round 11/110, elapsed time 0.419\n",
      "[MICE] Starting imputation round 12/110, elapsed time 0.484\n",
      "[MICE] Starting imputation round 13/110, elapsed time 0.520\n",
      "[MICE] Starting imputation round 14/110, elapsed time 0.583\n",
      "[MICE] Starting imputation round 15/110, elapsed time 0.608\n",
      "[MICE] Starting imputation round 16/110, elapsed time 0.632\n",
      "[MICE] Starting imputation round 17/110, elapsed time 0.669\n",
      "[MICE] Starting imputation round 18/110, elapsed time 0.736\n",
      "[MICE] Starting imputation round 19/110, elapsed time 0.781\n",
      "[MICE] Starting imputation round 20/110, elapsed time 0.841\n",
      "[MICE] Starting imputation round 21/110, elapsed time 0.874\n",
      "[MICE] Starting imputation round 22/110, elapsed time 0.912\n",
      "[MICE] Starting imputation round 23/110, elapsed time 0.952\n",
      "[MICE] Starting imputation round 24/110, elapsed time 0.981\n",
      "[MICE] Starting imputation round 25/110, elapsed time 1.027\n",
      "[MICE] Starting imputation round 26/110, elapsed time 1.058\n",
      "[MICE] Starting imputation round 27/110, elapsed time 1.098\n",
      "[MICE] Starting imputation round 28/110, elapsed time 1.126\n",
      "[MICE] Starting imputation round 29/110, elapsed time 1.151\n",
      "[MICE] Starting imputation round 30/110, elapsed time 1.201\n",
      "[MICE] Starting imputation round 31/110, elapsed time 1.236\n",
      "[MICE] Starting imputation round 32/110, elapsed time 1.273\n",
      "[MICE] Starting imputation round 33/110, elapsed time 1.304\n",
      "[MICE] Starting imputation round 34/110, elapsed time 1.332\n",
      "[MICE] Starting imputation round 35/110, elapsed time 1.357\n",
      "[MICE] Starting imputation round 36/110, elapsed time 1.392\n",
      "[MICE] Starting imputation round 37/110, elapsed time 1.423\n",
      "[MICE] Starting imputation round 38/110, elapsed time 1.463\n",
      "[MICE] Starting imputation round 39/110, elapsed time 1.496\n",
      "[MICE] Starting imputation round 40/110, elapsed time 1.529\n",
      "[MICE] Starting imputation round 41/110, elapsed time 1.554\n",
      "[MICE] Starting imputation round 42/110, elapsed time 1.576\n",
      "[MICE] Starting imputation round 43/110, elapsed time 1.601\n",
      "[MICE] Starting imputation round 44/110, elapsed time 1.624\n",
      "[MICE] Starting imputation round 45/110, elapsed time 1.656\n",
      "[MICE] Starting imputation round 46/110, elapsed time 1.697\n",
      "[MICE] Starting imputation round 47/110, elapsed time 1.737\n",
      "[MICE] Starting imputation round 48/110, elapsed time 1.767\n",
      "[MICE] Starting imputation round 49/110, elapsed time 1.790\n",
      "[MICE] Starting imputation round 50/110, elapsed time 1.817\n",
      "[MICE] Starting imputation round 51/110, elapsed time 1.842\n",
      "[MICE] Starting imputation round 52/110, elapsed time 1.868\n",
      "[MICE] Starting imputation round 53/110, elapsed time 1.914\n",
      "[MICE] Starting imputation round 54/110, elapsed time 1.958\n",
      "[MICE] Starting imputation round 55/110, elapsed time 2.012\n",
      "[MICE] Starting imputation round 56/110, elapsed time 2.042\n",
      "[MICE] Starting imputation round 57/110, elapsed time 2.086\n",
      "[MICE] Starting imputation round 58/110, elapsed time 2.135\n",
      "[MICE] Starting imputation round 59/110, elapsed time 2.159\n",
      "[MICE] Starting imputation round 60/110, elapsed time 2.189\n",
      "[MICE] Starting imputation round 61/110, elapsed time 2.251\n",
      "[MICE] Starting imputation round 62/110, elapsed time 2.302\n",
      "[MICE] Starting imputation round 63/110, elapsed time 2.370\n",
      "[MICE] Starting imputation round 64/110, elapsed time 2.426\n",
      "[MICE] Starting imputation round 65/110, elapsed time 2.471\n",
      "[MICE] Starting imputation round 66/110, elapsed time 2.506\n",
      "[MICE] Starting imputation round 67/110, elapsed time 2.552\n",
      "[MICE] Starting imputation round 68/110, elapsed time 2.576\n",
      "[MICE] Starting imputation round 69/110, elapsed time 2.599\n",
      "[MICE] Starting imputation round 70/110, elapsed time 2.623\n",
      "[MICE] Starting imputation round 71/110, elapsed time 2.651\n",
      "[MICE] Starting imputation round 72/110, elapsed time 2.688\n",
      "[MICE] Starting imputation round 73/110, elapsed time 2.715\n",
      "[MICE] Starting imputation round 74/110, elapsed time 2.741\n",
      "[MICE] Starting imputation round 75/110, elapsed time 2.778\n",
      "[MICE] Starting imputation round 76/110, elapsed time 2.802\n",
      "[MICE] Starting imputation round 77/110, elapsed time 2.829\n",
      "[MICE] Starting imputation round 78/110, elapsed time 2.854\n",
      "[MICE] Starting imputation round 79/110, elapsed time 2.889\n",
      "[MICE] Starting imputation round 80/110, elapsed time 2.921\n",
      "[MICE] Starting imputation round 81/110, elapsed time 2.966\n",
      "[MICE] Starting imputation round 82/110, elapsed time 2.989\n",
      "[MICE] Starting imputation round 83/110, elapsed time 3.013\n",
      "[MICE] Starting imputation round 84/110, elapsed time 3.037\n",
      "[MICE] Starting imputation round 85/110, elapsed time 3.070\n",
      "[MICE] Starting imputation round 86/110, elapsed time 3.113\n",
      "[MICE] Starting imputation round 87/110, elapsed time 3.154\n",
      "[MICE] Starting imputation round 88/110, elapsed time 3.191\n",
      "[MICE] Starting imputation round 89/110, elapsed time 3.214\n",
      "[MICE] Starting imputation round 90/110, elapsed time 3.237\n",
      "[MICE] Starting imputation round 91/110, elapsed time 3.260\n",
      "[MICE] Starting imputation round 92/110, elapsed time 3.284\n",
      "[MICE] Starting imputation round 93/110, elapsed time 3.307\n",
      "[MICE] Starting imputation round 94/110, elapsed time 3.334\n",
      "[MICE] Starting imputation round 95/110, elapsed time 3.374\n",
      "[MICE] Starting imputation round 96/110, elapsed time 3.410\n",
      "[MICE] Starting imputation round 97/110, elapsed time 3.437\n",
      "[MICE] Starting imputation round 98/110, elapsed time 3.461\n",
      "[MICE] Starting imputation round 99/110, elapsed time 3.484\n",
      "[MICE] Starting imputation round 100/110, elapsed time 3.508\n",
      "[MICE] Starting imputation round 101/110, elapsed time 3.532\n",
      "[MICE] Starting imputation round 102/110, elapsed time 3.563\n",
      "[MICE] Starting imputation round 103/110, elapsed time 3.602\n",
      "[MICE] Starting imputation round 104/110, elapsed time 3.643\n",
      "[MICE] Starting imputation round 105/110, elapsed time 3.667\n",
      "[MICE] Starting imputation round 106/110, elapsed time 3.691\n",
      "[MICE] Starting imputation round 107/110, elapsed time 3.715\n",
      "[MICE] Starting imputation round 108/110, elapsed time 3.739\n",
      "[MICE] Starting imputation round 109/110, elapsed time 3.763\n",
      "[MICE] Starting imputation round 110/110, elapsed time 3.791\n"
     ]
    }
   ],
   "source": [
    "data_e = cdata[cdata['IPG'] != 1]\n",
    "data_e = data_e.drop('IPG', axis = 1);\n",
    "data_e = data_e.drop('sbjBeatConsidered', axis = 1);\n",
    "data_e = data_e.drop('numRRaveraged', axis = 1);\n",
    "data_e = data_e.drop('Soggetti', axis = 1);\n",
    "# df_columns = data.columns.tolist()\n",
    "# matching_columns1 = [s for s in df_columns if \"Parea\" in s]\n",
    "# matching_columns2 = [s for s in df_columns if \"Pdur\" in s]\n",
    "# mc = matching_columns1 + matching_columns2\n",
    "# data_e = data_e.dropna(subset=mc)\n",
    "data_e['PCneg'].fillna(0, inplace=True)\n",
    "data_e['AFclass'].replace('persistierend (>7 Tage, EKV)', 1, inplace=True)\n",
    "data_e['AFclass'].replace('paroxysmal', 0, inplace=True)\n",
    "categorical_variables_mask = data_e.dtypes==object\n",
    "categorical_variables = data_e.columns[categorical_variables_mask]\n",
    "for v in categorical_variables:\n",
    "    data_e[v] = LabelEncoder().fit_transform(data_e[v])\n",
    "del categorical_variables_mask,categorical_variables\n",
    "data_e = pd.DataFrame(data=MICE(n_imputations=100, impute_type='col', n_nearest_columns=5).complete(data_e.as_matrix()), columns=data_e.columns, index=data_e.index);\n",
    "cy_df = data_e['AFclass'].copy()\n",
    "cx_df = data_e.drop('AFclass',axis=1, inplace=False)"
   ]
  },
  {
   "cell_type": "code",
   "execution_count": 40,
   "metadata": {},
   "outputs": [
    {
     "data": {
      "text/plain": [
       "0.47211230450348596"
      ]
     },
     "execution_count": 40,
     "metadata": {},
     "output_type": "execute_result"
    }
   ],
   "source": [
    "from sklearn.metrics import roc_auc_score\n",
    "p = best_model.predict(cx_df);\n",
    "scores = pd.DataFrame({hospital_name: p})\n",
    "scores.to_csv('../data/' + hospital_name +'_predictions.csv', index=False)\n",
    "np.save('../data/' + hospital_name +'_acc',best_score)\n",
    "roc_auc_score(cy_df, p)"
   ]
  },
  {
   "cell_type": "code",
   "execution_count": 41,
   "metadata": {},
   "outputs": [
    {
     "data": {
      "text/plain": [
       "0.5831128636036998"
      ]
     },
     "execution_count": 41,
     "metadata": {},
     "output_type": "execute_result"
    }
   ],
   "source": [
    "best_score"
   ]
  },
  {
   "cell_type": "code",
   "execution_count": 39,
   "metadata": {},
   "outputs": [
    {
     "data": {
      "text/plain": [
       "['../data/host3_model.pkl']"
      ]
     },
     "execution_count": 39,
     "metadata": {},
     "output_type": "execute_result"
    }
   ],
   "source": [
    "from sklearn.externals import joblib\n",
    "joblib.dump(best_model.best_estimator_, '../data/' + hospital_name + '_model.pkl')"
   ]
  },
  {
   "cell_type": "code",
   "execution_count": null,
   "metadata": {},
   "outputs": [],
   "source": []
  }
 ],
 "metadata": {
  "kernelspec": {
   "display_name": "Python 3",
   "language": "python",
   "name": "python3"
  },
  "language_info": {
   "codemirror_mode": {
    "name": "ipython",
    "version": 3
   },
   "file_extension": ".py",
   "mimetype": "text/x-python",
   "name": "python",
   "nbconvert_exporter": "python",
   "pygments_lexer": "ipython3",
   "version": "3.6.5"
  },
  "toc": {
   "nav_menu": {},
   "number_sections": true,
   "sideBar": true,
   "skip_h1_title": false,
   "title_cell": "Table of Contents",
   "title_sidebar": "Contents",
   "toc_cell": false,
   "toc_position": {},
   "toc_section_display": true,
   "toc_window_display": false
  },
  "varInspector": {
   "cols": {
    "lenName": 16,
    "lenType": 16,
    "lenVar": 40
   },
   "kernels_config": {
    "python": {
     "delete_cmd_postfix": "",
     "delete_cmd_prefix": "del ",
     "library": "var_list.py",
     "varRefreshCmd": "print(var_dic_list())"
    },
    "r": {
     "delete_cmd_postfix": ") ",
     "delete_cmd_prefix": "rm(",
     "library": "var_list.r",
     "varRefreshCmd": "cat(var_dic_list()) "
    }
   },
   "types_to_exclude": [
    "module",
    "function",
    "builtin_function_or_method",
    "instance",
    "_Feature"
   ],
   "window_display": false
  }
 },
 "nbformat": 4,
 "nbformat_minor": 2
}
