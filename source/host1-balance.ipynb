{
 "cells": [
  {
   "cell_type": "code",
   "execution_count": 1,
   "metadata": {},
   "outputs": [],
   "source": [
    "import pandas as pd\n",
    "import numpy as np\n",
    "seed = np.random.seed(42)\n",
    "from matplotlib import pyplot as plt\n",
    "import seaborn as sns\n",
    "sns.set(style=\"ticks\", color_codes=True)\n",
    "\n",
    "pd.set_option('display.max_columns',500)\n",
    "pd.set_option('display.max_rows',50)\n",
    "\n",
    "%matplotlib inline\n",
    "best_model = None\n",
    "best_score = 0\n",
    "hospital_name = 'host1'"
   ]
  },
  {
   "cell_type": "code",
   "execution_count": 2,
   "metadata": {},
   "outputs": [],
   "source": [
    "data = pd.read_csv('../data/hospital' + str(1) + '_data.csv')"
   ]
  },
  {
   "cell_type": "code",
   "execution_count": 3,
   "metadata": {},
   "outputs": [
    {
     "name": "stderr",
     "output_type": "stream",
     "text": [
      "/Users/refikcanmalli/anaconda3/envs/vodafone/lib/python3.6/site-packages/h5py/__init__.py:36: FutureWarning: Conversion of the second argument of issubdtype from `float` to `np.floating` is deprecated. In future, it will be treated as `np.float64 == np.dtype(float).type`.\n",
      "  from ._conv import register_converters as _register_converters\n",
      "Using TensorFlow backend.\n"
     ]
    }
   ],
   "source": [
    "from sklearn.preprocessing import Imputer,StandardScaler,LabelEncoder\n",
    "from fancyimpute import BiScaler, KNN, NuclearNormMinimization, SoftImpute, MICE"
   ]
  },
  {
   "cell_type": "code",
   "execution_count": 4,
   "metadata": {
    "slideshow": {
     "slide_type": "slide"
    }
   },
   "outputs": [
    {
     "name": "stdout",
     "output_type": "stream",
     "text": [
      "[MICE] Completing matrix with shape (270, 69)\n",
      "[MICE] Starting imputation round 1/110, elapsed time 0.006\n",
      "[MICE] Starting imputation round 2/110, elapsed time 0.040\n",
      "[MICE] Starting imputation round 3/110, elapsed time 0.067\n",
      "[MICE] Starting imputation round 4/110, elapsed time 0.096\n",
      "[MICE] Starting imputation round 5/110, elapsed time 0.128\n",
      "[MICE] Starting imputation round 6/110, elapsed time 0.154\n",
      "[MICE] Starting imputation round 7/110, elapsed time 0.192\n",
      "[MICE] Starting imputation round 8/110, elapsed time 0.223\n",
      "[MICE] Starting imputation round 9/110, elapsed time 0.256\n",
      "[MICE] Starting imputation round 10/110, elapsed time 0.279\n",
      "[MICE] Starting imputation round 11/110, elapsed time 0.301\n",
      "[MICE] Starting imputation round 12/110, elapsed time 0.324\n",
      "[MICE] Starting imputation round 13/110, elapsed time 0.346\n",
      "[MICE] Starting imputation round 14/110, elapsed time 0.369\n",
      "[MICE] Starting imputation round 15/110, elapsed time 0.391\n",
      "[MICE] Starting imputation round 16/110, elapsed time 0.414\n",
      "[MICE] Starting imputation round 17/110, elapsed time 0.443\n",
      "[MICE] Starting imputation round 18/110, elapsed time 0.475\n",
      "[MICE] Starting imputation round 19/110, elapsed time 0.498\n",
      "[MICE] Starting imputation round 20/110, elapsed time 0.526\n",
      "[MICE] Starting imputation round 21/110, elapsed time 0.563\n",
      "[MICE] Starting imputation round 22/110, elapsed time 0.599\n",
      "[MICE] Starting imputation round 23/110, elapsed time 0.630\n",
      "[MICE] Starting imputation round 24/110, elapsed time 0.660\n",
      "[MICE] Starting imputation round 25/110, elapsed time 0.701\n",
      "[MICE] Starting imputation round 26/110, elapsed time 0.725\n",
      "[MICE] Starting imputation round 27/110, elapsed time 0.749\n",
      "[MICE] Starting imputation round 28/110, elapsed time 0.774\n",
      "[MICE] Starting imputation round 29/110, elapsed time 0.799\n",
      "[MICE] Starting imputation round 30/110, elapsed time 0.823\n",
      "[MICE] Starting imputation round 31/110, elapsed time 0.848\n",
      "[MICE] Starting imputation round 32/110, elapsed time 0.876\n",
      "[MICE] Starting imputation round 33/110, elapsed time 0.915\n",
      "[MICE] Starting imputation round 34/110, elapsed time 0.942\n",
      "[MICE] Starting imputation round 35/110, elapsed time 0.966\n",
      "[MICE] Starting imputation round 36/110, elapsed time 0.991\n",
      "[MICE] Starting imputation round 37/110, elapsed time 1.015\n",
      "[MICE] Starting imputation round 38/110, elapsed time 1.040\n",
      "[MICE] Starting imputation round 39/110, elapsed time 1.063\n",
      "[MICE] Starting imputation round 40/110, elapsed time 1.090\n",
      "[MICE] Starting imputation round 41/110, elapsed time 1.122\n",
      "[MICE] Starting imputation round 42/110, elapsed time 1.145\n",
      "[MICE] Starting imputation round 43/110, elapsed time 1.168\n",
      "[MICE] Starting imputation round 44/110, elapsed time 1.191\n",
      "[MICE] Starting imputation round 45/110, elapsed time 1.214\n",
      "[MICE] Starting imputation round 46/110, elapsed time 1.237\n",
      "[MICE] Starting imputation round 47/110, elapsed time 1.261\n",
      "[MICE] Starting imputation round 48/110, elapsed time 1.284\n",
      "[MICE] Starting imputation round 49/110, elapsed time 1.312\n",
      "[MICE] Starting imputation round 50/110, elapsed time 1.345\n",
      "[MICE] Starting imputation round 51/110, elapsed time 1.369\n",
      "[MICE] Starting imputation round 52/110, elapsed time 1.394\n",
      "[MICE] Starting imputation round 53/110, elapsed time 1.419\n",
      "[MICE] Starting imputation round 54/110, elapsed time 1.446\n",
      "[MICE] Starting imputation round 55/110, elapsed time 1.472\n",
      "[MICE] Starting imputation round 56/110, elapsed time 1.497\n",
      "[MICE] Starting imputation round 57/110, elapsed time 1.525\n",
      "[MICE] Starting imputation round 58/110, elapsed time 1.554\n",
      "[MICE] Starting imputation round 59/110, elapsed time 1.580\n",
      "[MICE] Starting imputation round 60/110, elapsed time 1.602\n",
      "[MICE] Starting imputation round 61/110, elapsed time 1.624\n",
      "[MICE] Starting imputation round 62/110, elapsed time 1.647\n",
      "[MICE] Starting imputation round 63/110, elapsed time 1.670\n",
      "[MICE] Starting imputation round 64/110, elapsed time 1.694\n",
      "[MICE] Starting imputation round 65/110, elapsed time 1.717\n",
      "[MICE] Starting imputation round 66/110, elapsed time 1.754\n",
      "[MICE] Starting imputation round 67/110, elapsed time 1.789\n",
      "[MICE] Starting imputation round 68/110, elapsed time 1.812\n",
      "[MICE] Starting imputation round 69/110, elapsed time 1.834\n",
      "[MICE] Starting imputation round 70/110, elapsed time 1.857\n",
      "[MICE] Starting imputation round 71/110, elapsed time 1.879\n",
      "[MICE] Starting imputation round 72/110, elapsed time 1.901\n",
      "[MICE] Starting imputation round 73/110, elapsed time 1.924\n",
      "[MICE] Starting imputation round 74/110, elapsed time 1.947\n",
      "[MICE] Starting imputation round 75/110, elapsed time 1.972\n",
      "[MICE] Starting imputation round 76/110, elapsed time 2.004\n",
      "[MICE] Starting imputation round 77/110, elapsed time 2.026\n",
      "[MICE] Starting imputation round 78/110, elapsed time 2.051\n",
      "[MICE] Starting imputation round 79/110, elapsed time 2.073\n",
      "[MICE] Starting imputation round 80/110, elapsed time 2.096\n",
      "[MICE] Starting imputation round 81/110, elapsed time 2.118\n",
      "[MICE] Starting imputation round 82/110, elapsed time 2.141\n",
      "[MICE] Starting imputation round 83/110, elapsed time 2.164\n",
      "[MICE] Starting imputation round 84/110, elapsed time 2.190\n",
      "[MICE] Starting imputation round 85/110, elapsed time 2.222\n",
      "[MICE] Starting imputation round 86/110, elapsed time 2.245\n",
      "[MICE] Starting imputation round 87/110, elapsed time 2.268\n",
      "[MICE] Starting imputation round 88/110, elapsed time 2.291\n",
      "[MICE] Starting imputation round 89/110, elapsed time 2.314\n",
      "[MICE] Starting imputation round 90/110, elapsed time 2.337\n",
      "[MICE] Starting imputation round 91/110, elapsed time 2.360\n",
      "[MICE] Starting imputation round 92/110, elapsed time 2.383\n",
      "[MICE] Starting imputation round 93/110, elapsed time 2.427\n",
      "[MICE] Starting imputation round 94/110, elapsed time 2.462\n",
      "[MICE] Starting imputation round 95/110, elapsed time 2.489\n",
      "[MICE] Starting imputation round 96/110, elapsed time 2.515\n",
      "[MICE] Starting imputation round 97/110, elapsed time 2.540\n",
      "[MICE] Starting imputation round 98/110, elapsed time 2.565\n",
      "[MICE] Starting imputation round 99/110, elapsed time 2.588\n",
      "[MICE] Starting imputation round 100/110, elapsed time 2.611\n",
      "[MICE] Starting imputation round 101/110, elapsed time 2.634\n",
      "[MICE] Starting imputation round 102/110, elapsed time 2.670\n",
      "[MICE] Starting imputation round 103/110, elapsed time 2.693\n",
      "[MICE] Starting imputation round 104/110, elapsed time 2.717\n",
      "[MICE] Starting imputation round 105/110, elapsed time 2.750\n",
      "[MICE] Starting imputation round 106/110, elapsed time 2.796\n",
      "[MICE] Starting imputation round 107/110, elapsed time 2.828\n",
      "[MICE] Starting imputation round 108/110, elapsed time 2.868\n",
      "[MICE] Starting imputation round 109/110, elapsed time 2.923\n",
      "[MICE] Starting imputation round 110/110, elapsed time 2.947\n"
     ]
    }
   ],
   "source": [
    "data_e = data[data['IPG'] != 1]\n",
    "data_e = data_e.drop('IPG', axis = 1);\n",
    "data_e = data_e.drop('sbjBeatConsidered', axis = 1);\n",
    "data_e = data_e.drop('numRRaveraged', axis = 1);\n",
    "data_e = data_e.drop('Soggetti', axis = 1);\n",
    "# df_columns = data.columns.tolist()\n",
    "# matching_columns1 = [s for s in df_columns if \"Parea\" in s]\n",
    "# matching_columns2 = [s for s in df_columns if \"Pdur\" in s]\n",
    "# mc = matching_columns1 + matching_columns2\n",
    "# data_e = data_e.dropna(subset=mc)\n",
    "data_e['PCneg'].fillna(0, inplace=True)\n",
    "data_e['AFclass'].replace('persistierend (>7 Tage, EKV)', 1, inplace=True)\n",
    "data_e['AFclass'].replace('paroxysmal', 0, inplace=True)\n",
    "categorical_variables_mask = data_e.dtypes==object\n",
    "categorical_variables = data_e.columns[categorical_variables_mask]\n",
    "for v in categorical_variables:\n",
    "    data_e[v] = LabelEncoder().fit_transform(data_e[v])\n",
    "del categorical_variables_mask,categorical_variables\n",
    "data_e = pd.DataFrame(data=MICE(n_imputations=100, impute_type='col', n_nearest_columns=5).complete(data_e.as_matrix()), columns=data_e.columns, index=data_e.index);\n",
    "y_df = data_e['AFclass'].copy()\n",
    "x_df = data_e.drop('AFclass',axis=1, inplace=False)"
   ]
  },
  {
   "cell_type": "code",
   "execution_count": 5,
   "metadata": {},
   "outputs": [],
   "source": [
    "from sklearn.model_selection import cross_val_score\n",
    "from sklearn.pipeline import Pipeline\n",
    "from sklearn.ensemble import RandomForestClassifier,GradientBoostingClassifier,ExtraTreesClassifier,AdaBoostClassifier\n",
    "#from sklearn.pipeline import Pipeline\n",
    "from sklearn.model_selection import cross_val_score\n",
    "from sklearn.model_selection import train_test_split\n",
    "from sklearn.metrics import f1_score, make_scorer\n",
    "from sklearn.metrics import accuracy_score\n",
    "from sklearn.model_selection import GridSearchCV\n",
    "from sklearn.dummy import DummyClassifier\n",
    "from imblearn.over_sampling import SMOTE\n",
    "from imblearn.pipeline import Pipeline\n",
    "\n",
    "#f1_scorer = make_scorer(f1_score, average='macro',labels=Y.unique().tolist())\n",
    "#myscorer = f1_scorer\n",
    "myscorer = 'accuracy'"
   ]
  },
  {
   "cell_type": "code",
   "execution_count": 6,
   "metadata": {},
   "outputs": [],
   "source": [
    "balancer = SMOTE(random_state=42)"
   ]
  },
  {
   "cell_type": "code",
   "execution_count": 7,
   "metadata": {},
   "outputs": [],
   "source": [
    "def show_f_importance(estimator,train_data):\n",
    "    importances = estimator.feature_importances_\n",
    "    indices = np.argsort(importances)[::-1]\n",
    "    # Print the feature ranking\n",
    "    print(\"Feature ranking:\")\n",
    "\n",
    "    for f in range(train_data.shape[1]):\n",
    "        print(\"%d. feature %d - %s (%f)\" % (f + 1, indices[f],train_data.columns[indices[f]], importances[indices[f]]))\n"
   ]
  },
  {
   "cell_type": "code",
   "execution_count": 8,
   "metadata": {},
   "outputs": [],
   "source": [
    "param_grid = {\"clf__strategy\": ['most_frequent','stratified','prior','uniform']}\n",
    "\n",
    "dummy = DummyClassifier(random_state=42)\n",
    "plist = []\n",
    "plist.append(('balancer', balancer))\n",
    "plist.append(('clf', dummy))\n",
    "pipeline = Pipeline(plist)\n",
    "\n",
    "gs_dummy = GridSearchCV(pipeline, param_grid=param_grid, cv=5, verbose=1, scoring=myscorer, n_jobs=-1)"
   ]
  },
  {
   "cell_type": "code",
   "execution_count": 9,
   "metadata": {},
   "outputs": [
    {
     "name": "stdout",
     "output_type": "stream",
     "text": [
      "Fitting 5 folds for each of 4 candidates, totalling 20 fits\n"
     ]
    },
    {
     "name": "stderr",
     "output_type": "stream",
     "text": [
      "[Parallel(n_jobs=-1)]: Done  20 out of  20 | elapsed:    0.1s finished\n"
     ]
    }
   ],
   "source": [
    "gs_dummy.fit(x_df, y_df);"
   ]
  },
  {
   "cell_type": "code",
   "execution_count": 10,
   "metadata": {},
   "outputs": [
    {
     "data": {
      "text/plain": [
       "{'clf__strategy': 'most_frequent'}"
      ]
     },
     "execution_count": 10,
     "metadata": {},
     "output_type": "execute_result"
    }
   ],
   "source": [
    "gs_dummy.best_params_"
   ]
  },
  {
   "cell_type": "code",
   "execution_count": 11,
   "metadata": {},
   "outputs": [
    {
     "data": {
      "text/plain": [
       "0.6777777777777778"
      ]
     },
     "execution_count": 11,
     "metadata": {},
     "output_type": "execute_result"
    }
   ],
   "source": [
    "gs_dummy.best_score_"
   ]
  },
  {
   "cell_type": "code",
   "execution_count": 12,
   "metadata": {
    "slideshow": {
     "slide_type": "slide"
    }
   },
   "outputs": [],
   "source": [
    "param_grid = {\"clf__max_depth\": [10,30,50],\n",
    "              \"clf__criterion\": ['gini', 'entropy'],\n",
    "              \"clf__n_estimators\": [100,200,500,1000],\n",
    "              \"clf__random_state\": [42],\n",
    "              \"clf__class_weight\" : [None, 'balanced']}\n",
    "# param_grid = {\"classifier__max_depth\": [30],\n",
    "#               \"classifier__n_estimators\": [1000]}\n",
    "\n",
    "\n",
    "rf = RandomForestClassifier()\n",
    "\n",
    "plist = []\n",
    "plist.append(('balancer', balancer))\n",
    "plist.append(('clf', rf))\n",
    "pipeline = Pipeline(plist)\n",
    "gs_rf = GridSearchCV(pipeline, param_grid=param_grid, cv=5, verbose=1, scoring=myscorer, n_jobs=-1)"
   ]
  },
  {
   "cell_type": "code",
   "execution_count": 13,
   "metadata": {},
   "outputs": [
    {
     "name": "stdout",
     "output_type": "stream",
     "text": [
      "Fitting 5 folds for each of 48 candidates, totalling 240 fits\n"
     ]
    },
    {
     "name": "stderr",
     "output_type": "stream",
     "text": [
      "[Parallel(n_jobs=-1)]: Done  42 tasks      | elapsed:   23.0s\n",
      "[Parallel(n_jobs=-1)]: Done 192 tasks      | elapsed:  2.8min\n",
      "[Parallel(n_jobs=-1)]: Done 240 out of 240 | elapsed:  4.3min finished\n"
     ]
    }
   ],
   "source": [
    "gs_rf.fit(x_df, y_df);"
   ]
  },
  {
   "cell_type": "code",
   "execution_count": 14,
   "metadata": {},
   "outputs": [
    {
     "data": {
      "text/plain": [
       "{'clf__class_weight': None,\n",
       " 'clf__criterion': 'entropy',\n",
       " 'clf__max_depth': 10,\n",
       " 'clf__n_estimators': 100,\n",
       " 'clf__random_state': 42}"
      ]
     },
     "execution_count": 14,
     "metadata": {},
     "output_type": "execute_result"
    }
   ],
   "source": [
    "gs_rf.best_params_"
   ]
  },
  {
   "cell_type": "code",
   "execution_count": 15,
   "metadata": {},
   "outputs": [
    {
     "data": {
      "text/plain": [
       "0.6888888888888889"
      ]
     },
     "execution_count": 15,
     "metadata": {},
     "output_type": "execute_result"
    }
   ],
   "source": [
    "gs_rf.best_score_\n"
   ]
  },
  {
   "cell_type": "code",
   "execution_count": 16,
   "metadata": {},
   "outputs": [],
   "source": [
    "if gs_rf.best_score_ > best_score:\n",
    "    best_model = gs_rf\n",
    "    best_score = gs_rf.best_score_"
   ]
  },
  {
   "cell_type": "code",
   "execution_count": 17,
   "metadata": {},
   "outputs": [
    {
     "name": "stdout",
     "output_type": "stream",
     "text": [
      "Feature ranking:\n",
      "1. feature 45 - Parea_ECG_V8 (0.029742)\n",
      "2. feature 46 - Parea_ECG_V9 (0.029327)\n",
      "3. feature 1 - QTm_old (0.028393)\n",
      "4. feature 53 - Pfwhm_ECG_V1 (0.027602)\n",
      "5. feature 66 - patsex (0.027417)\n",
      "6. feature 40 - Parea_ECG_V3R (0.025721)\n",
      "7. feature 48 - Parea_ECG_aVL (0.023909)\n",
      "8. feature 34 - Parea_ECG_I (0.022841)\n",
      "9. feature 3 - QTn (0.022701)\n",
      "10. feature 56 - Pfwhm_ECG_V3R (0.022539)\n",
      "11. feature 43 - Parea_ECG_V5 (0.021343)\n",
      "12. feature 41 - Parea_ECG_V4 (0.019882)\n",
      "13. feature 67 - Age (0.019763)\n",
      "14. feature 58 - Pfwhm_ECG_V4R (0.019106)\n",
      "15. feature 36 - Parea_ECG_III (0.018968)\n",
      "16. feature 55 - Pfwhm_ECG_V3 (0.018048)\n",
      "17. feature 65 - Pfwhm_ECG_aVR (0.017986)\n",
      "18. feature 59 - Pfwhm_ECG_V5 (0.017255)\n",
      "19. feature 21 - Pdur_ECG_V1 (0.016202)\n",
      "20. feature 17 - Pdur16iqr (0.016162)\n",
      "21. feature 16 - Pdur16std (0.015909)\n",
      "22. feature 63 - Pfwhm_ECG_aVF (0.015360)\n",
      "23. feature 44 - Parea_ECG_V6 (0.015339)\n",
      "24. feature 30 - Pdur_ECG_V9 (0.015181)\n",
      "25. feature 18 - Pdur_ECG_I (0.014997)\n",
      "26. feature 25 - Pdur_ECG_V4 (0.014777)\n",
      "27. feature 50 - Pfwhm_ECG_I (0.014632)\n",
      "28. feature 0 - RR (0.014468)\n",
      "29. feature 39 - Parea_ECG_V3 (0.014376)\n",
      "30. feature 57 - Pfwhm_ECG_V4 (0.014352)\n",
      "31. feature 38 - Parea_ECG_V2 (0.014155)\n",
      "32. feature 5 - PQ (0.014078)\n",
      "33. feature 37 - Parea_ECG_V1 (0.013864)\n",
      "34. feature 42 - Parea_ECG_V4R (0.013683)\n",
      "35. feature 62 - Pfwhm_ECG_V9 (0.013410)\n",
      "36. feature 4 - QRS (0.013333)\n",
      "37. feature 49 - Parea_ECG_aVR (0.012862)\n",
      "38. feature 10 - PCarea (0.012495)\n",
      "39. feature 52 - Pfwhm_ECG_III (0.012212)\n",
      "40. feature 33 - Pdur_ECG_aVR (0.012123)\n",
      "41. feature 9 - PCfwhm (0.011923)\n",
      "42. feature 14 - Pdur16min (0.011913)\n",
      "43. feature 31 - Pdur_ECG_aVF (0.011889)\n",
      "44. feature 6 - PCpos (0.011880)\n",
      "45. feature 54 - Pfwhm_ECG_V2 (0.011780)\n",
      "46. feature 60 - Pfwhm_ECG_V6 (0.011480)\n",
      "47. feature 15 - Pdur16max (0.011422)\n",
      "48. feature 35 - Parea_ECG_II (0.011266)\n",
      "49. feature 61 - Pfwhm_ECG_V8 (0.011031)\n",
      "50. feature 64 - Pfwhm_ECG_aVL (0.010956)\n",
      "51. feature 20 - Pdur_ECG_III (0.010722)\n",
      "52. feature 12 - Pdur16mean (0.010622)\n",
      "53. feature 29 - Pdur_ECG_V8 (0.010593)\n",
      "54. feature 32 - Pdur_ECG_aVL (0.009999)\n",
      "55. feature 51 - Pfwhm_ECG_II (0.009903)\n",
      "56. feature 28 - Pdur_ECG_V6 (0.009732)\n",
      "57. feature 19 - Pdur_ECG_II (0.009708)\n",
      "58. feature 8 - PCdur (0.009390)\n",
      "59. feature 2 - QR (0.009356)\n",
      "60. feature 47 - Parea_ECG_aVF (0.009067)\n",
      "61. feature 27 - Pdur_ECG_V5 (0.008957)\n",
      "62. feature 23 - Pdur_ECG_V3 (0.008729)\n",
      "63. feature 11 - P_LoffEon (0.008371)\n",
      "64. feature 26 - Pdur_ECG_V4R (0.008234)\n",
      "65. feature 13 - Pdur16median (0.007472)\n",
      "66. feature 22 - Pdur_ECG_V2 (0.007312)\n",
      "67. feature 24 - Pdur_ECG_V3R (0.006154)\n",
      "68. feature 7 - PCneg (0.003622)\n"
     ]
    }
   ],
   "source": [
    "show_f_importance(gs_rf.best_estimator_.named_steps['clf'],x_df)"
   ]
  },
  {
   "cell_type": "code",
   "execution_count": 18,
   "metadata": {
    "slideshow": {
     "slide_type": "-"
    }
   },
   "outputs": [],
   "source": [
    "param_grid = {\"clf__max_depth\": [3,5,8],\n",
    "              \"clf__n_estimators\": [100,200,500,1000],\n",
    "              \"clf__min_samples_leaf\": [1,3,5,10]}\n",
    "# param_grid = {\"classifier__n_estimators\": [50],\n",
    "#               \"classifier__max_depth\": [5],\n",
    "# \n",
    "\n",
    "gb = GradientBoostingClassifier(random_state=42)\n",
    "plist = []\n",
    "plist.append(('balancer', balancer))\n",
    "plist.append(('clf', gb))\n",
    "pipeline = Pipeline(plist)\n",
    "gs_gb = GridSearchCV(pipeline, param_grid=param_grid, cv=5, verbose=1,  scoring=myscorer, n_jobs=-1)"
   ]
  },
  {
   "cell_type": "code",
   "execution_count": 19,
   "metadata": {},
   "outputs": [
    {
     "name": "stdout",
     "output_type": "stream",
     "text": [
      "Fitting 5 folds for each of 48 candidates, totalling 240 fits\n"
     ]
    },
    {
     "name": "stderr",
     "output_type": "stream",
     "text": [
      "[Parallel(n_jobs=-1)]: Done  42 tasks      | elapsed:   36.2s\n",
      "[Parallel(n_jobs=-1)]: Done 192 tasks      | elapsed:  2.8min\n",
      "[Parallel(n_jobs=-1)]: Done 240 out of 240 | elapsed:  3.5min finished\n"
     ]
    }
   ],
   "source": [
    "gs_gb.fit(x_df, y_df);"
   ]
  },
  {
   "cell_type": "code",
   "execution_count": 20,
   "metadata": {},
   "outputs": [
    {
     "data": {
      "text/plain": [
       "{'clf__max_depth': 5, 'clf__min_samples_leaf': 3, 'clf__n_estimators': 200}"
      ]
     },
     "execution_count": 20,
     "metadata": {},
     "output_type": "execute_result"
    }
   ],
   "source": [
    "gs_gb.best_params_"
   ]
  },
  {
   "cell_type": "code",
   "execution_count": 21,
   "metadata": {},
   "outputs": [
    {
     "data": {
      "text/plain": [
       "0.6592592592592592"
      ]
     },
     "execution_count": 21,
     "metadata": {},
     "output_type": "execute_result"
    }
   ],
   "source": [
    "gs_gb.best_score_"
   ]
  },
  {
   "cell_type": "code",
   "execution_count": 22,
   "metadata": {},
   "outputs": [],
   "source": [
    "if gs_gb.best_score_ > best_score:\n",
    "    best_model = gs_gb\n",
    "    best_score = gs_gb.best_score_"
   ]
  },
  {
   "cell_type": "code",
   "execution_count": 23,
   "metadata": {},
   "outputs": [
    {
     "name": "stdout",
     "output_type": "stream",
     "text": [
      "Feature ranking:\n",
      "1. feature 67 - Age (0.038138)\n",
      "2. feature 66 - patsex (0.033553)\n",
      "3. feature 59 - Pfwhm_ECG_V5 (0.031943)\n",
      "4. feature 1 - QTm_old (0.031718)\n",
      "5. feature 39 - Parea_ECG_V3 (0.031050)\n",
      "6. feature 46 - Parea_ECG_V9 (0.029890)\n",
      "7. feature 40 - Parea_ECG_V3R (0.029402)\n",
      "8. feature 36 - Parea_ECG_III (0.028798)\n",
      "9. feature 53 - Pfwhm_ECG_V1 (0.028487)\n",
      "10. feature 16 - Pdur16std (0.025455)\n",
      "11. feature 3 - QTn (0.024687)\n",
      "12. feature 34 - Parea_ECG_I (0.024430)\n",
      "13. feature 0 - RR (0.023933)\n",
      "14. feature 45 - Parea_ECG_V8 (0.023195)\n",
      "15. feature 64 - Pfwhm_ECG_aVL (0.021622)\n",
      "16. feature 57 - Pfwhm_ECG_V4 (0.021042)\n",
      "17. feature 48 - Parea_ECG_aVL (0.020303)\n",
      "18. feature 50 - Pfwhm_ECG_I (0.019463)\n",
      "19. feature 55 - Pfwhm_ECG_V3 (0.019402)\n",
      "20. feature 2 - QR (0.018588)\n",
      "21. feature 17 - Pdur16iqr (0.018520)\n",
      "22. feature 21 - Pdur_ECG_V1 (0.018322)\n",
      "23. feature 63 - Pfwhm_ECG_aVF (0.017638)\n",
      "24. feature 25 - Pdur_ECG_V4 (0.016798)\n",
      "25. feature 38 - Parea_ECG_V2 (0.016108)\n",
      "26. feature 65 - Pfwhm_ECG_aVR (0.015606)\n",
      "27. feature 58 - Pfwhm_ECG_V4R (0.015285)\n",
      "28. feature 27 - Pdur_ECG_V5 (0.013927)\n",
      "29. feature 52 - Pfwhm_ECG_III (0.013633)\n",
      "30. feature 56 - Pfwhm_ECG_V3R (0.013357)\n",
      "31. feature 41 - Parea_ECG_V4 (0.013327)\n",
      "32. feature 54 - Pfwhm_ECG_V2 (0.011941)\n",
      "33. feature 14 - Pdur16min (0.011797)\n",
      "34. feature 49 - Parea_ECG_aVR (0.011282)\n",
      "35. feature 61 - Pfwhm_ECG_V8 (0.010635)\n",
      "36. feature 20 - Pdur_ECG_III (0.010520)\n",
      "37. feature 31 - Pdur_ECG_aVF (0.010495)\n",
      "38. feature 4 - QRS (0.010222)\n",
      "39. feature 6 - PCpos (0.010031)\n",
      "40. feature 19 - Pdur_ECG_II (0.009979)\n",
      "41. feature 10 - PCarea (0.009608)\n",
      "42. feature 43 - Parea_ECG_V5 (0.009455)\n",
      "43. feature 42 - Parea_ECG_V4R (0.009427)\n",
      "44. feature 23 - Pdur_ECG_V3 (0.008874)\n",
      "45. feature 18 - Pdur_ECG_I (0.007975)\n",
      "46. feature 44 - Parea_ECG_V6 (0.007718)\n",
      "47. feature 51 - Pfwhm_ECG_II (0.006638)\n",
      "48. feature 11 - P_LoffEon (0.005967)\n",
      "49. feature 5 - PQ (0.005817)\n",
      "50. feature 35 - Parea_ECG_II (0.005414)\n",
      "51. feature 9 - PCfwhm (0.005367)\n",
      "52. feature 32 - Pdur_ECG_aVL (0.005328)\n",
      "53. feature 62 - Pfwhm_ECG_V9 (0.005264)\n",
      "54. feature 24 - Pdur_ECG_V3R (0.005117)\n",
      "55. feature 37 - Parea_ECG_V1 (0.005072)\n",
      "56. feature 22 - Pdur_ECG_V2 (0.004315)\n",
      "57. feature 7 - PCneg (0.004284)\n",
      "58. feature 29 - Pdur_ECG_V8 (0.004028)\n",
      "59. feature 33 - Pdur_ECG_aVR (0.003585)\n",
      "60. feature 47 - Parea_ECG_aVF (0.003570)\n",
      "61. feature 30 - Pdur_ECG_V9 (0.003317)\n",
      "62. feature 60 - Pfwhm_ECG_V6 (0.003168)\n",
      "63. feature 26 - Pdur_ECG_V4R (0.002823)\n",
      "64. feature 28 - Pdur_ECG_V6 (0.002384)\n",
      "65. feature 15 - Pdur16max (0.002038)\n",
      "66. feature 13 - Pdur16median (0.001600)\n",
      "67. feature 8 - PCdur (0.001486)\n",
      "68. feature 12 - Pdur16mean (0.000843)\n"
     ]
    }
   ],
   "source": [
    "show_f_importance(gs_gb.best_estimator_.named_steps['clf'],x_df)"
   ]
  },
  {
   "cell_type": "code",
   "execution_count": 24,
   "metadata": {},
   "outputs": [],
   "source": [
    "param_grid = {\"clf__learning_rate\": [0.1,0.3,0.7,0.8],\n",
    "              \"clf__n_estimators\": [100,1000,2000,2500,3000,5000]}\n",
    "\n",
    "ab = AdaBoostClassifier(random_state=42)\n",
    "\n",
    "plist = []\n",
    "plist.append(('balancer', balancer))\n",
    "plist.append(('clf', ab))\n",
    "pipeline = Pipeline(plist)\n",
    "\n",
    "gs_ab = GridSearchCV(pipeline, param_grid=param_grid, cv=5, verbose=1, scoring=myscorer, n_jobs=-1)"
   ]
  },
  {
   "cell_type": "code",
   "execution_count": 25,
   "metadata": {},
   "outputs": [
    {
     "name": "stdout",
     "output_type": "stream",
     "text": [
      "Fitting 5 folds for each of 24 candidates, totalling 120 fits\n"
     ]
    },
    {
     "name": "stderr",
     "output_type": "stream",
     "text": [
      "[Parallel(n_jobs=-1)]: Done  42 tasks      | elapsed:  6.6min\n",
      "[Parallel(n_jobs=-1)]: Done 120 out of 120 | elapsed: 22.0min finished\n"
     ]
    }
   ],
   "source": [
    "gs_ab.fit(x_df, y_df);"
   ]
  },
  {
   "cell_type": "code",
   "execution_count": 26,
   "metadata": {},
   "outputs": [
    {
     "data": {
      "text/plain": [
       "{'clf__learning_rate': 0.3, 'clf__n_estimators': 3000}"
      ]
     },
     "execution_count": 26,
     "metadata": {},
     "output_type": "execute_result"
    }
   ],
   "source": [
    "gs_ab.best_params_"
   ]
  },
  {
   "cell_type": "code",
   "execution_count": 27,
   "metadata": {},
   "outputs": [
    {
     "data": {
      "text/plain": [
       "0.6333333333333333"
      ]
     },
     "execution_count": 27,
     "metadata": {},
     "output_type": "execute_result"
    }
   ],
   "source": [
    "gs_ab.best_score_"
   ]
  },
  {
   "cell_type": "code",
   "execution_count": 28,
   "metadata": {},
   "outputs": [],
   "source": [
    "\n",
    "if gs_ab.best_score_ > best_score:\n",
    "    best_model = gs_ab\n",
    "    best_score = gs_ab.best_score_"
   ]
  },
  {
   "cell_type": "code",
   "execution_count": 29,
   "metadata": {},
   "outputs": [
    {
     "name": "stdout",
     "output_type": "stream",
     "text": [
      "Feature ranking:\n",
      "1. feature 21 - Pdur_ECG_V1 (0.043667)\n",
      "2. feature 14 - Pdur16min (0.037333)\n",
      "3. feature 34 - Parea_ECG_I (0.036333)\n",
      "4. feature 57 - Pfwhm_ECG_V4 (0.032000)\n",
      "5. feature 10 - PCarea (0.030667)\n",
      "6. feature 46 - Parea_ECG_V9 (0.030000)\n",
      "7. feature 1 - QTm_old (0.029333)\n",
      "8. feature 40 - Parea_ECG_V3R (0.029333)\n",
      "9. feature 33 - Pdur_ECG_aVR (0.028000)\n",
      "10. feature 39 - Parea_ECG_V3 (0.027000)\n",
      "11. feature 51 - Pfwhm_ECG_II (0.025667)\n",
      "12. feature 67 - Age (0.025000)\n",
      "13. feature 52 - Pfwhm_ECG_III (0.024667)\n",
      "14. feature 43 - Parea_ECG_V5 (0.024333)\n",
      "15. feature 16 - Pdur16std (0.024000)\n",
      "16. feature 63 - Pfwhm_ECG_aVF (0.023667)\n",
      "17. feature 45 - Parea_ECG_V8 (0.023333)\n",
      "18. feature 0 - RR (0.023000)\n",
      "19. feature 36 - Parea_ECG_III (0.022667)\n",
      "20. feature 65 - Pfwhm_ECG_aVR (0.022000)\n",
      "21. feature 3 - QTn (0.020667)\n",
      "22. feature 58 - Pfwhm_ECG_V4R (0.020333)\n",
      "23. feature 53 - Pfwhm_ECG_V1 (0.020000)\n",
      "24. feature 27 - Pdur_ECG_V5 (0.019000)\n",
      "25. feature 48 - Parea_ECG_aVL (0.018667)\n",
      "26. feature 2 - QR (0.018333)\n",
      "27. feature 25 - Pdur_ECG_V4 (0.018333)\n",
      "28. feature 9 - PCfwhm (0.017333)\n",
      "29. feature 6 - PCpos (0.017333)\n",
      "30. feature 56 - Pfwhm_ECG_V3R (0.016667)\n",
      "31. feature 66 - patsex (0.016333)\n",
      "32. feature 55 - Pfwhm_ECG_V3 (0.014667)\n",
      "33. feature 47 - Parea_ECG_aVF (0.014333)\n",
      "34. feature 32 - Pdur_ECG_aVL (0.014000)\n",
      "35. feature 17 - Pdur16iqr (0.013667)\n",
      "36. feature 60 - Pfwhm_ECG_V6 (0.013000)\n",
      "37. feature 59 - Pfwhm_ECG_V5 (0.013000)\n",
      "38. feature 38 - Parea_ECG_V2 (0.012667)\n",
      "39. feature 37 - Parea_ECG_V1 (0.011333)\n",
      "40. feature 41 - Parea_ECG_V4 (0.011000)\n",
      "41. feature 61 - Pfwhm_ECG_V8 (0.009333)\n",
      "42. feature 42 - Parea_ECG_V4R (0.009000)\n",
      "43. feature 5 - PQ (0.008333)\n",
      "44. feature 50 - Pfwhm_ECG_I (0.008000)\n",
      "45. feature 54 - Pfwhm_ECG_V2 (0.008000)\n",
      "46. feature 64 - Pfwhm_ECG_aVL (0.007333)\n",
      "47. feature 11 - P_LoffEon (0.007333)\n",
      "48. feature 19 - Pdur_ECG_II (0.007000)\n",
      "49. feature 62 - Pfwhm_ECG_V9 (0.006667)\n",
      "50. feature 29 - Pdur_ECG_V8 (0.006333)\n",
      "51. feature 22 - Pdur_ECG_V2 (0.005333)\n",
      "52. feature 31 - Pdur_ECG_aVF (0.005000)\n",
      "53. feature 35 - Parea_ECG_II (0.004667)\n",
      "54. feature 7 - PCneg (0.004667)\n",
      "55. feature 24 - Pdur_ECG_V3R (0.004667)\n",
      "56. feature 18 - Pdur_ECG_I (0.003333)\n",
      "57. feature 20 - Pdur_ECG_III (0.001667)\n",
      "58. feature 4 - QRS (0.001667)\n",
      "59. feature 26 - Pdur_ECG_V4R (0.001667)\n",
      "60. feature 12 - Pdur16mean (0.001333)\n",
      "61. feature 30 - Pdur_ECG_V9 (0.001333)\n",
      "62. feature 13 - Pdur16median (0.001000)\n",
      "63. feature 15 - Pdur16max (0.001000)\n",
      "64. feature 8 - PCdur (0.000667)\n",
      "65. feature 23 - Pdur_ECG_V3 (0.000667)\n",
      "66. feature 49 - Parea_ECG_aVR (0.000667)\n",
      "67. feature 44 - Parea_ECG_V6 (0.000667)\n",
      "68. feature 28 - Pdur_ECG_V6 (0.000000)\n"
     ]
    }
   ],
   "source": [
    "show_f_importance(gs_ab.best_estimator_.named_steps['clf'],x_df)"
   ]
  },
  {
   "cell_type": "code",
   "execution_count": 30,
   "metadata": {
    "slideshow": {
     "slide_type": "-"
    }
   },
   "outputs": [],
   "source": [
    "param_grid = {\"clf__max_depth\": [3,5,8,10,15,30],\n",
    "              \"clf__n_estimators\": [100,200,500,1000,1500],\n",
    "              \"clf__min_samples_leaf\": [1,3,5,10]}\n",
    "\n",
    "et = ExtraTreesClassifier(random_state=42)\n",
    "\n",
    "plist = []\n",
    "plist.append(('balancer', balancer))\n",
    "plist.append(('clf', et))\n",
    "pipeline = Pipeline(plist)\n",
    "\n",
    "gs_et = GridSearchCV(pipeline, param_grid=param_grid, cv=5, verbose=1,  scoring=myscorer, n_jobs=-1)"
   ]
  },
  {
   "cell_type": "code",
   "execution_count": 31,
   "metadata": {},
   "outputs": [
    {
     "name": "stdout",
     "output_type": "stream",
     "text": [
      "Fitting 5 folds for each of 120 candidates, totalling 600 fits\n"
     ]
    },
    {
     "name": "stderr",
     "output_type": "stream",
     "text": [
      "[Parallel(n_jobs=-1)]: Done  42 tasks      | elapsed:   52.5s\n",
      "[Parallel(n_jobs=-1)]: Done 192 tasks      | elapsed:  3.9min\n",
      "[Parallel(n_jobs=-1)]: Done 442 tasks      | elapsed:  9.3min\n",
      "[Parallel(n_jobs=-1)]: Done 600 out of 600 | elapsed: 12.8min finished\n"
     ]
    }
   ],
   "source": [
    "gs_et.fit(x_df, y_df);"
   ]
  },
  {
   "cell_type": "code",
   "execution_count": 32,
   "metadata": {},
   "outputs": [
    {
     "data": {
      "text/plain": [
       "{'clf__max_depth': 8, 'clf__min_samples_leaf': 1, 'clf__n_estimators': 500}"
      ]
     },
     "execution_count": 32,
     "metadata": {},
     "output_type": "execute_result"
    }
   ],
   "source": [
    "gs_et.best_params_"
   ]
  },
  {
   "cell_type": "code",
   "execution_count": 33,
   "metadata": {},
   "outputs": [
    {
     "data": {
      "text/plain": [
       "0.674074074074074"
      ]
     },
     "execution_count": 33,
     "metadata": {},
     "output_type": "execute_result"
    }
   ],
   "source": [
    "gs_et.best_score_"
   ]
  },
  {
   "cell_type": "code",
   "execution_count": 34,
   "metadata": {},
   "outputs": [],
   "source": [
    "if gs_et.best_score_ > best_score:\n",
    "    best_model = gs_et\n",
    "    best_score = gs_et.best_score_"
   ]
  },
  {
   "cell_type": "code",
   "execution_count": 35,
   "metadata": {},
   "outputs": [
    {
     "name": "stdout",
     "output_type": "stream",
     "text": [
      "Feature ranking:\n",
      "1. feature 66 - patsex (0.056190)\n",
      "2. feature 46 - Parea_ECG_V9 (0.036677)\n",
      "3. feature 45 - Parea_ECG_V8 (0.036004)\n",
      "4. feature 53 - Pfwhm_ECG_V1 (0.028440)\n",
      "5. feature 67 - Age (0.026144)\n",
      "6. feature 1 - QTm_old (0.023607)\n",
      "7. feature 59 - Pfwhm_ECG_V5 (0.019408)\n",
      "8. feature 34 - Parea_ECG_I (0.019173)\n",
      "9. feature 39 - Parea_ECG_V3 (0.018663)\n",
      "10. feature 55 - Pfwhm_ECG_V3 (0.018223)\n",
      "11. feature 36 - Parea_ECG_III (0.017862)\n",
      "12. feature 3 - QTn (0.016891)\n",
      "13. feature 44 - Parea_ECG_V6 (0.016801)\n",
      "14. feature 54 - Pfwhm_ECG_V2 (0.016787)\n",
      "15. feature 49 - Parea_ECG_aVR (0.016738)\n",
      "16. feature 41 - Parea_ECG_V4 (0.016469)\n",
      "17. feature 58 - Pfwhm_ECG_V4R (0.016335)\n",
      "18. feature 60 - Pfwhm_ECG_V6 (0.016165)\n",
      "19. feature 40 - Parea_ECG_V3R (0.016065)\n",
      "20. feature 10 - PCarea (0.015744)\n",
      "21. feature 0 - RR (0.015447)\n",
      "22. feature 56 - Pfwhm_ECG_V3R (0.014931)\n",
      "23. feature 48 - Parea_ECG_aVL (0.014475)\n",
      "24. feature 16 - Pdur16std (0.014153)\n",
      "25. feature 38 - Parea_ECG_V2 (0.013936)\n",
      "26. feature 57 - Pfwhm_ECG_V4 (0.013730)\n",
      "27. feature 35 - Parea_ECG_II (0.013702)\n",
      "28. feature 27 - Pdur_ECG_V5 (0.013436)\n",
      "29. feature 65 - Pfwhm_ECG_aVR (0.013350)\n",
      "30. feature 19 - Pdur_ECG_II (0.013334)\n",
      "31. feature 9 - PCfwhm (0.013107)\n",
      "32. feature 25 - Pdur_ECG_V4 (0.013103)\n",
      "33. feature 6 - PCpos (0.012739)\n",
      "34. feature 18 - Pdur_ECG_I (0.012533)\n",
      "35. feature 61 - Pfwhm_ECG_V8 (0.012473)\n",
      "36. feature 4 - QRS (0.012441)\n",
      "37. feature 21 - Pdur_ECG_V1 (0.012323)\n",
      "38. feature 2 - QR (0.012149)\n",
      "39. feature 43 - Parea_ECG_V5 (0.012087)\n",
      "40. feature 11 - P_LoffEon (0.012065)\n",
      "41. feature 20 - Pdur_ECG_III (0.012020)\n",
      "42. feature 37 - Parea_ECG_V1 (0.012003)\n",
      "43. feature 30 - Pdur_ECG_V9 (0.011645)\n",
      "44. feature 62 - Pfwhm_ECG_V9 (0.011637)\n",
      "45. feature 50 - Pfwhm_ECG_I (0.011324)\n",
      "46. feature 17 - Pdur16iqr (0.011219)\n",
      "47. feature 52 - Pfwhm_ECG_III (0.011189)\n",
      "48. feature 47 - Parea_ECG_aVF (0.010942)\n",
      "49. feature 31 - Pdur_ECG_aVF (0.010779)\n",
      "50. feature 29 - Pdur_ECG_V8 (0.010766)\n",
      "51. feature 42 - Parea_ECG_V4R (0.010648)\n",
      "52. feature 63 - Pfwhm_ECG_aVF (0.010512)\n",
      "53. feature 64 - Pfwhm_ECG_aVL (0.010479)\n",
      "54. feature 26 - Pdur_ECG_V4R (0.010348)\n",
      "55. feature 13 - Pdur16median (0.010211)\n",
      "56. feature 15 - Pdur16max (0.010133)\n",
      "57. feature 33 - Pdur_ECG_aVR (0.010071)\n",
      "58. feature 28 - Pdur_ECG_V6 (0.010050)\n",
      "59. feature 5 - PQ (0.009741)\n",
      "60. feature 23 - Pdur_ECG_V3 (0.009734)\n",
      "61. feature 22 - Pdur_ECG_V2 (0.009609)\n",
      "62. feature 8 - PCdur (0.009355)\n",
      "63. feature 51 - Pfwhm_ECG_II (0.009325)\n",
      "64. feature 12 - Pdur16mean (0.008997)\n",
      "65. feature 14 - Pdur16min (0.008976)\n",
      "66. feature 32 - Pdur_ECG_aVL (0.008558)\n",
      "67. feature 24 - Pdur_ECG_V3R (0.008183)\n",
      "68. feature 7 - PCneg (0.007643)\n"
     ]
    }
   ],
   "source": [
    "show_f_importance(gs_et.best_estimator_.named_steps['clf'],x_df)"
   ]
  },
  {
   "cell_type": "code",
   "execution_count": 36,
   "metadata": {},
   "outputs": [
    {
     "data": {
      "text/plain": [
       "(275, 73)"
      ]
     },
     "execution_count": 36,
     "metadata": {},
     "output_type": "execute_result"
    }
   ],
   "source": [
    "cdata = pd.read_csv('../data/central' +'_data.csv')\n",
    "cdata.shape"
   ]
  },
  {
   "cell_type": "code",
   "execution_count": 37,
   "metadata": {},
   "outputs": [
    {
     "name": "stdout",
     "output_type": "stream",
     "text": [
      "[MICE] Completing matrix with shape (270, 69)\n",
      "[MICE] Starting imputation round 1/110, elapsed time 0.003\n",
      "[MICE] Starting imputation round 2/110, elapsed time 0.095\n",
      "[MICE] Starting imputation round 3/110, elapsed time 0.179\n",
      "[MICE] Starting imputation round 4/110, elapsed time 0.286\n",
      "[MICE] Starting imputation round 5/110, elapsed time 0.369\n",
      "[MICE] Starting imputation round 6/110, elapsed time 0.455\n",
      "[MICE] Starting imputation round 7/110, elapsed time 0.573\n",
      "[MICE] Starting imputation round 8/110, elapsed time 0.669\n",
      "[MICE] Starting imputation round 9/110, elapsed time 0.770\n",
      "[MICE] Starting imputation round 10/110, elapsed time 0.864\n",
      "[MICE] Starting imputation round 11/110, elapsed time 0.957\n",
      "[MICE] Starting imputation round 12/110, elapsed time 1.056\n",
      "[MICE] Starting imputation round 13/110, elapsed time 1.143\n",
      "[MICE] Starting imputation round 14/110, elapsed time 1.224\n",
      "[MICE] Starting imputation round 15/110, elapsed time 1.330\n",
      "[MICE] Starting imputation round 16/110, elapsed time 1.424\n",
      "[MICE] Starting imputation round 17/110, elapsed time 1.541\n",
      "[MICE] Starting imputation round 18/110, elapsed time 1.619\n",
      "[MICE] Starting imputation round 19/110, elapsed time 1.707\n",
      "[MICE] Starting imputation round 20/110, elapsed time 1.809\n",
      "[MICE] Starting imputation round 21/110, elapsed time 1.898\n",
      "[MICE] Starting imputation round 22/110, elapsed time 2.005\n",
      "[MICE] Starting imputation round 23/110, elapsed time 2.096\n",
      "[MICE] Starting imputation round 24/110, elapsed time 2.186\n",
      "[MICE] Starting imputation round 25/110, elapsed time 2.292\n",
      "[MICE] Starting imputation round 26/110, elapsed time 2.387\n",
      "[MICE] Starting imputation round 27/110, elapsed time 2.460\n",
      "[MICE] Starting imputation round 28/110, elapsed time 2.564\n",
      "[MICE] Starting imputation round 29/110, elapsed time 2.657\n",
      "[MICE] Starting imputation round 30/110, elapsed time 2.748\n",
      "[MICE] Starting imputation round 31/110, elapsed time 2.842\n",
      "[MICE] Starting imputation round 32/110, elapsed time 2.933\n",
      "[MICE] Starting imputation round 33/110, elapsed time 3.038\n",
      "[MICE] Starting imputation round 34/110, elapsed time 3.133\n",
      "[MICE] Starting imputation round 35/110, elapsed time 3.215\n",
      "[MICE] Starting imputation round 36/110, elapsed time 3.299\n",
      "[MICE] Starting imputation round 37/110, elapsed time 3.402\n",
      "[MICE] Starting imputation round 38/110, elapsed time 3.488\n",
      "[MICE] Starting imputation round 39/110, elapsed time 3.579\n",
      "[MICE] Starting imputation round 40/110, elapsed time 3.681\n",
      "[MICE] Starting imputation round 41/110, elapsed time 3.776\n",
      "[MICE] Starting imputation round 42/110, elapsed time 3.859\n",
      "[MICE] Starting imputation round 43/110, elapsed time 3.975\n",
      "[MICE] Starting imputation round 44/110, elapsed time 4.057\n",
      "[MICE] Starting imputation round 45/110, elapsed time 4.151\n",
      "[MICE] Starting imputation round 46/110, elapsed time 4.242\n",
      "[MICE] Starting imputation round 47/110, elapsed time 4.338\n",
      "[MICE] Starting imputation round 48/110, elapsed time 4.432\n",
      "[MICE] Starting imputation round 49/110, elapsed time 4.537\n",
      "[MICE] Starting imputation round 50/110, elapsed time 4.631\n",
      "[MICE] Starting imputation round 51/110, elapsed time 4.727\n",
      "[MICE] Starting imputation round 52/110, elapsed time 4.823\n",
      "[MICE] Starting imputation round 53/110, elapsed time 4.955\n",
      "[MICE] Starting imputation round 54/110, elapsed time 5.036\n",
      "[MICE] Starting imputation round 55/110, elapsed time 5.158\n",
      "[MICE] Starting imputation round 56/110, elapsed time 5.252\n",
      "[MICE] Starting imputation round 57/110, elapsed time 5.345\n",
      "[MICE] Starting imputation round 58/110, elapsed time 5.450\n",
      "[MICE] Starting imputation round 59/110, elapsed time 5.534\n",
      "[MICE] Starting imputation round 60/110, elapsed time 5.651\n",
      "[MICE] Starting imputation round 61/110, elapsed time 5.732\n",
      "[MICE] Starting imputation round 62/110, elapsed time 5.835\n",
      "[MICE] Starting imputation round 63/110, elapsed time 5.959\n",
      "[MICE] Starting imputation round 64/110, elapsed time 6.036\n",
      "[MICE] Starting imputation round 65/110, elapsed time 6.143\n",
      "[MICE] Starting imputation round 66/110, elapsed time 6.223\n",
      "[MICE] Starting imputation round 67/110, elapsed time 6.310\n",
      "[MICE] Starting imputation round 68/110, elapsed time 6.425\n",
      "[MICE] Starting imputation round 69/110, elapsed time 6.509\n",
      "[MICE] Starting imputation round 70/110, elapsed time 6.602\n",
      "[MICE] Starting imputation round 71/110, elapsed time 6.680\n",
      "[MICE] Starting imputation round 72/110, elapsed time 6.771\n",
      "[MICE] Starting imputation round 73/110, elapsed time 6.858\n",
      "[MICE] Starting imputation round 74/110, elapsed time 6.967\n",
      "[MICE] Starting imputation round 75/110, elapsed time 7.046\n",
      "[MICE] Starting imputation round 76/110, elapsed time 7.139\n",
      "[MICE] Starting imputation round 77/110, elapsed time 7.236\n",
      "[MICE] Starting imputation round 78/110, elapsed time 7.331\n",
      "[MICE] Starting imputation round 79/110, elapsed time 7.410\n",
      "[MICE] Starting imputation round 80/110, elapsed time 7.504\n",
      "[MICE] Starting imputation round 81/110, elapsed time 7.598\n",
      "[MICE] Starting imputation round 82/110, elapsed time 7.673\n",
      "[MICE] Starting imputation round 83/110, elapsed time 7.764\n",
      "[MICE] Starting imputation round 84/110, elapsed time 7.848\n",
      "[MICE] Starting imputation round 85/110, elapsed time 7.955\n",
      "[MICE] Starting imputation round 86/110, elapsed time 8.034\n",
      "[MICE] Starting imputation round 87/110, elapsed time 8.121\n",
      "[MICE] Starting imputation round 88/110, elapsed time 8.220\n",
      "[MICE] Starting imputation round 89/110, elapsed time 8.303\n",
      "[MICE] Starting imputation round 90/110, elapsed time 8.387\n",
      "[MICE] Starting imputation round 91/110, elapsed time 8.466\n",
      "[MICE] Starting imputation round 92/110, elapsed time 8.554\n",
      "[MICE] Starting imputation round 93/110, elapsed time 8.644\n",
      "[MICE] Starting imputation round 94/110, elapsed time 8.732\n",
      "[MICE] Starting imputation round 95/110, elapsed time 8.811\n",
      "[MICE] Starting imputation round 96/110, elapsed time 8.899\n",
      "[MICE] Starting imputation round 97/110, elapsed time 8.988\n",
      "[MICE] Starting imputation round 98/110, elapsed time 9.072\n",
      "[MICE] Starting imputation round 99/110, elapsed time 9.155\n",
      "[MICE] Starting imputation round 100/110, elapsed time 9.237\n",
      "[MICE] Starting imputation round 101/110, elapsed time 9.329\n",
      "[MICE] Starting imputation round 102/110, elapsed time 9.435\n",
      "[MICE] Starting imputation round 103/110, elapsed time 9.518\n",
      "[MICE] Starting imputation round 104/110, elapsed time 9.608\n",
      "[MICE] Starting imputation round 105/110, elapsed time 9.689\n",
      "[MICE] Starting imputation round 106/110, elapsed time 9.768\n",
      "[MICE] Starting imputation round 107/110, elapsed time 9.851\n",
      "[MICE] Starting imputation round 108/110, elapsed time 9.942\n",
      "[MICE] Starting imputation round 109/110, elapsed time 10.032\n",
      "[MICE] Starting imputation round 110/110, elapsed time 10.110\n"
     ]
    }
   ],
   "source": [
    "data_e = cdata[cdata['IPG'] != 1]\n",
    "data_e = data_e.drop('IPG', axis = 1);\n",
    "data_e = data_e.drop('sbjBeatConsidered', axis = 1);\n",
    "data_e = data_e.drop('numRRaveraged', axis = 1);\n",
    "data_e = data_e.drop('Soggetti', axis = 1);\n",
    "# df_columns = data.columns.tolist()\n",
    "# matching_columns1 = [s for s in df_columns if \"Parea\" in s]\n",
    "# matching_columns2 = [s for s in df_columns if \"Pdur\" in s]\n",
    "# mc = matching_columns1 + matching_columns2\n",
    "# data_e = data_e.dropna(subset=mc)\n",
    "data_e['PCneg'].fillna(0, inplace=True)\n",
    "data_e['AFclass'].replace('persistierend (>7 Tage, EKV)', 1, inplace=True)\n",
    "data_e['AFclass'].replace('paroxysmal', 0, inplace=True)\n",
    "categorical_variables_mask = data_e.dtypes==object\n",
    "categorical_variables = data_e.columns[categorical_variables_mask]\n",
    "for v in categorical_variables:\n",
    "    data_e[v] = LabelEncoder().fit_transform(data_e[v])\n",
    "del categorical_variables_mask,categorical_variables\n",
    "data_e = pd.DataFrame(data=MICE(n_imputations=100, impute_type='col', n_nearest_columns=5).complete(data_e.as_matrix()), columns=data_e.columns, index=data_e.index);\n",
    "cy_df = data_e['AFclass'].copy()\n",
    "cx_df = data_e.drop('AFclass',axis=1, inplace=False)"
   ]
  },
  {
   "cell_type": "code",
   "execution_count": 38,
   "metadata": {
    "slideshow": {
     "slide_type": "slide"
    }
   },
   "outputs": [
    {
     "data": {
      "text/plain": [
       "0.6518518518518519"
      ]
     },
     "execution_count": 38,
     "metadata": {},
     "output_type": "execute_result"
    }
   ],
   "source": [
    "from sklearn.metrics import accuracy_score\n",
    "p = best_model.predict(cx_df);\n",
    "scores = pd.DataFrame({hospital_name: p})\n",
    "scores.to_csv('../data/' + hospital_name +'_predictions.csv', index=False)\n",
    "np.save('../data/' + hospital_name +'_acc',best_score)\n",
    "accuracy_score(cy_df, p)"
   ]
  },
  {
   "cell_type": "code",
   "execution_count": 39,
   "metadata": {},
   "outputs": [
    {
     "data": {
      "text/plain": [
       "0.6888888888888889"
      ]
     },
     "execution_count": 39,
     "metadata": {},
     "output_type": "execute_result"
    }
   ],
   "source": [
    "best_score"
   ]
  },
  {
   "cell_type": "code",
   "execution_count": null,
   "metadata": {},
   "outputs": [],
   "source": []
  }
 ],
 "metadata": {
  "celltoolbar": "Slideshow",
  "kernelspec": {
   "display_name": "Python 3",
   "language": "python",
   "name": "python3"
  },
  "language_info": {
   "codemirror_mode": {
    "name": "ipython",
    "version": 3
   },
   "file_extension": ".py",
   "mimetype": "text/x-python",
   "name": "python",
   "nbconvert_exporter": "python",
   "pygments_lexer": "ipython3",
   "version": "3.6.5"
  },
  "toc": {
   "nav_menu": {},
   "number_sections": true,
   "sideBar": true,
   "skip_h1_title": false,
   "title_cell": "Table of Contents",
   "title_sidebar": "Contents",
   "toc_cell": false,
   "toc_position": {},
   "toc_section_display": true,
   "toc_window_display": false
  },
  "varInspector": {
   "cols": {
    "lenName": 16,
    "lenType": 16,
    "lenVar": 40
   },
   "kernels_config": {
    "python": {
     "delete_cmd_postfix": "",
     "delete_cmd_prefix": "del ",
     "library": "var_list.py",
     "varRefreshCmd": "print(var_dic_list())"
    },
    "r": {
     "delete_cmd_postfix": ") ",
     "delete_cmd_prefix": "rm(",
     "library": "var_list.r",
     "varRefreshCmd": "cat(var_dic_list()) "
    }
   },
   "types_to_exclude": [
    "module",
    "function",
    "builtin_function_or_method",
    "instance",
    "_Feature"
   ],
   "window_display": false
  }
 },
 "nbformat": 4,
 "nbformat_minor": 2
}
