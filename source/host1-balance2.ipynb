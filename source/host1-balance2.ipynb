{
 "cells": [
  {
   "cell_type": "code",
   "execution_count": 1,
   "metadata": {},
   "outputs": [],
   "source": [
    "import pandas as pd\n",
    "import numpy as np\n",
    "seed = np.random.seed(42)\n",
    "from matplotlib import pyplot as plt\n",
    "import seaborn as sns\n",
    "sns.set(style=\"ticks\", color_codes=True)\n",
    "\n",
    "pd.set_option('display.max_columns',500)\n",
    "pd.set_option('display.max_rows',50)\n",
    "\n",
    "%matplotlib inline\n",
    "best_model = None\n",
    "best_score = 0\n",
    "hospital_name = 'host1'"
   ]
  },
  {
   "cell_type": "code",
   "execution_count": 2,
   "metadata": {},
   "outputs": [],
   "source": [
    "data = pd.read_csv('../data/hospital' + str(1) + '_data.csv')"
   ]
  },
  {
   "cell_type": "code",
   "execution_count": 3,
   "metadata": {},
   "outputs": [
    {
     "name": "stderr",
     "output_type": "stream",
     "text": [
      "/Users/refikcanmalli/anaconda3/envs/vodafone/lib/python3.6/site-packages/h5py/__init__.py:36: FutureWarning: Conversion of the second argument of issubdtype from `float` to `np.floating` is deprecated. In future, it will be treated as `np.float64 == np.dtype(float).type`.\n",
      "  from ._conv import register_converters as _register_converters\n",
      "Using TensorFlow backend.\n"
     ]
    }
   ],
   "source": [
    "from sklearn.preprocessing import Imputer,StandardScaler,LabelEncoder\n",
    "from fancyimpute import BiScaler, KNN, NuclearNormMinimization, SoftImpute, MICE"
   ]
  },
  {
   "cell_type": "code",
   "execution_count": 4,
   "metadata": {},
   "outputs": [
    {
     "name": "stdout",
     "output_type": "stream",
     "text": [
      "[MICE] Completing matrix with shape (270, 69)\n",
      "[MICE] Starting imputation round 1/110, elapsed time 0.002\n",
      "[MICE] Starting imputation round 2/110, elapsed time 0.028\n",
      "[MICE] Starting imputation round 3/110, elapsed time 0.055\n",
      "[MICE] Starting imputation round 4/110, elapsed time 0.080\n",
      "[MICE] Starting imputation round 5/110, elapsed time 0.106\n",
      "[MICE] Starting imputation round 6/110, elapsed time 0.131\n",
      "[MICE] Starting imputation round 7/110, elapsed time 0.157\n",
      "[MICE] Starting imputation round 8/110, elapsed time 0.182\n",
      "[MICE] Starting imputation round 9/110, elapsed time 0.209\n",
      "[MICE] Starting imputation round 10/110, elapsed time 0.238\n",
      "[MICE] Starting imputation round 11/110, elapsed time 0.264\n",
      "[MICE] Starting imputation round 12/110, elapsed time 0.289\n",
      "[MICE] Starting imputation round 13/110, elapsed time 0.314\n",
      "[MICE] Starting imputation round 14/110, elapsed time 0.340\n",
      "[MICE] Starting imputation round 15/110, elapsed time 0.366\n",
      "[MICE] Starting imputation round 16/110, elapsed time 0.393\n",
      "[MICE] Starting imputation round 17/110, elapsed time 0.421\n",
      "[MICE] Starting imputation round 18/110, elapsed time 0.447\n",
      "[MICE] Starting imputation round 19/110, elapsed time 0.472\n",
      "[MICE] Starting imputation round 20/110, elapsed time 0.500\n",
      "[MICE] Starting imputation round 21/110, elapsed time 0.530\n",
      "[MICE] Starting imputation round 22/110, elapsed time 0.558\n",
      "[MICE] Starting imputation round 23/110, elapsed time 0.590\n",
      "[MICE] Starting imputation round 24/110, elapsed time 0.615\n",
      "[MICE] Starting imputation round 25/110, elapsed time 0.644\n",
      "[MICE] Starting imputation round 26/110, elapsed time 0.670\n",
      "[MICE] Starting imputation round 27/110, elapsed time 0.696\n",
      "[MICE] Starting imputation round 28/110, elapsed time 0.722\n",
      "[MICE] Starting imputation round 29/110, elapsed time 0.746\n",
      "[MICE] Starting imputation round 30/110, elapsed time 0.773\n",
      "[MICE] Starting imputation round 31/110, elapsed time 0.799\n",
      "[MICE] Starting imputation round 32/110, elapsed time 0.826\n",
      "[MICE] Starting imputation round 33/110, elapsed time 0.852\n",
      "[MICE] Starting imputation round 34/110, elapsed time 0.879\n",
      "[MICE] Starting imputation round 35/110, elapsed time 0.905\n",
      "[MICE] Starting imputation round 36/110, elapsed time 0.932\n",
      "[MICE] Starting imputation round 37/110, elapsed time 0.958\n",
      "[MICE] Starting imputation round 38/110, elapsed time 0.983\n",
      "[MICE] Starting imputation round 39/110, elapsed time 1.009\n",
      "[MICE] Starting imputation round 40/110, elapsed time 1.037\n",
      "[MICE] Starting imputation round 41/110, elapsed time 1.070\n",
      "[MICE] Starting imputation round 42/110, elapsed time 1.100\n",
      "[MICE] Starting imputation round 43/110, elapsed time 1.131\n",
      "[MICE] Starting imputation round 44/110, elapsed time 1.158\n",
      "[MICE] Starting imputation round 45/110, elapsed time 1.185\n",
      "[MICE] Starting imputation round 46/110, elapsed time 1.212\n",
      "[MICE] Starting imputation round 47/110, elapsed time 1.238\n",
      "[MICE] Starting imputation round 48/110, elapsed time 1.267\n",
      "[MICE] Starting imputation round 49/110, elapsed time 1.301\n",
      "[MICE] Starting imputation round 50/110, elapsed time 1.329\n",
      "[MICE] Starting imputation round 51/110, elapsed time 1.357\n",
      "[MICE] Starting imputation round 52/110, elapsed time 1.383\n",
      "[MICE] Starting imputation round 53/110, elapsed time 1.409\n",
      "[MICE] Starting imputation round 54/110, elapsed time 1.435\n",
      "[MICE] Starting imputation round 55/110, elapsed time 1.461\n",
      "[MICE] Starting imputation round 56/110, elapsed time 1.487\n",
      "[MICE] Starting imputation round 57/110, elapsed time 1.515\n",
      "[MICE] Starting imputation round 58/110, elapsed time 1.540\n",
      "[MICE] Starting imputation round 59/110, elapsed time 1.567\n",
      "[MICE] Starting imputation round 60/110, elapsed time 1.593\n",
      "[MICE] Starting imputation round 61/110, elapsed time 1.618\n",
      "[MICE] Starting imputation round 62/110, elapsed time 1.643\n",
      "[MICE] Starting imputation round 63/110, elapsed time 1.674\n",
      "[MICE] Starting imputation round 64/110, elapsed time 1.703\n",
      "[MICE] Starting imputation round 65/110, elapsed time 1.734\n",
      "[MICE] Starting imputation round 66/110, elapsed time 1.760\n",
      "[MICE] Starting imputation round 67/110, elapsed time 1.786\n",
      "[MICE] Starting imputation round 68/110, elapsed time 1.812\n",
      "[MICE] Starting imputation round 69/110, elapsed time 1.841\n",
      "[MICE] Starting imputation round 70/110, elapsed time 1.867\n",
      "[MICE] Starting imputation round 71/110, elapsed time 1.901\n",
      "[MICE] Starting imputation round 72/110, elapsed time 1.928\n",
      "[MICE] Starting imputation round 73/110, elapsed time 1.958\n",
      "[MICE] Starting imputation round 74/110, elapsed time 1.984\n",
      "[MICE] Starting imputation round 75/110, elapsed time 2.011\n",
      "[MICE] Starting imputation round 76/110, elapsed time 2.038\n",
      "[MICE] Starting imputation round 77/110, elapsed time 2.065\n",
      "[MICE] Starting imputation round 78/110, elapsed time 2.094\n",
      "[MICE] Starting imputation round 79/110, elapsed time 2.127\n",
      "[MICE] Starting imputation round 80/110, elapsed time 2.153\n",
      "[MICE] Starting imputation round 81/110, elapsed time 2.184\n",
      "[MICE] Starting imputation round 82/110, elapsed time 2.211\n",
      "[MICE] Starting imputation round 83/110, elapsed time 2.238\n",
      "[MICE] Starting imputation round 84/110, elapsed time 2.264\n",
      "[MICE] Starting imputation round 85/110, elapsed time 2.294\n",
      "[MICE] Starting imputation round 86/110, elapsed time 2.324\n",
      "[MICE] Starting imputation round 87/110, elapsed time 2.349\n",
      "[MICE] Starting imputation round 88/110, elapsed time 2.375\n",
      "[MICE] Starting imputation round 89/110, elapsed time 2.404\n",
      "[MICE] Starting imputation round 90/110, elapsed time 2.430\n",
      "[MICE] Starting imputation round 91/110, elapsed time 2.462\n",
      "[MICE] Starting imputation round 92/110, elapsed time 2.489\n",
      "[MICE] Starting imputation round 93/110, elapsed time 2.514\n",
      "[MICE] Starting imputation round 94/110, elapsed time 2.539\n",
      "[MICE] Starting imputation round 95/110, elapsed time 2.566\n",
      "[MICE] Starting imputation round 96/110, elapsed time 2.595\n",
      "[MICE] Starting imputation round 97/110, elapsed time 2.627\n",
      "[MICE] Starting imputation round 98/110, elapsed time 2.653\n",
      "[MICE] Starting imputation round 99/110, elapsed time 2.679\n",
      "[MICE] Starting imputation round 100/110, elapsed time 2.704\n",
      "[MICE] Starting imputation round 101/110, elapsed time 2.730\n",
      "[MICE] Starting imputation round 102/110, elapsed time 2.758\n",
      "[MICE] Starting imputation round 103/110, elapsed time 2.783\n",
      "[MICE] Starting imputation round 104/110, elapsed time 2.810\n",
      "[MICE] Starting imputation round 105/110, elapsed time 2.838\n",
      "[MICE] Starting imputation round 106/110, elapsed time 2.864\n",
      "[MICE] Starting imputation round 107/110, elapsed time 2.889\n",
      "[MICE] Starting imputation round 108/110, elapsed time 2.917\n",
      "[MICE] Starting imputation round 109/110, elapsed time 2.943\n",
      "[MICE] Starting imputation round 110/110, elapsed time 2.970\n"
     ]
    }
   ],
   "source": [
    "data_e = data[data['IPG'] != 1]\n",
    "data_e = data_e.drop('IPG', axis = 1);\n",
    "data_e = data_e.drop('sbjBeatConsidered', axis = 1);\n",
    "data_e = data_e.drop('numRRaveraged', axis = 1);\n",
    "data_e = data_e.drop('Soggetti', axis = 1);\n",
    "# df_columns = data.columns.tolist()\n",
    "# matching_columns1 = [s for s in df_columns if \"Parea\" in s]\n",
    "# matching_columns2 = [s for s in df_columns if \"Pdur\" in s]\n",
    "# mc = matching_columns1 + matching_columns2\n",
    "# data_e = data_e.dropna(subset=mc)\n",
    "data_e['PCneg'].fillna(0, inplace=True)\n",
    "data_e['AFclass'].replace('persistierend (>7 Tage, EKV)', 1, inplace=True)\n",
    "data_e['AFclass'].replace('paroxysmal', 0, inplace=True)\n",
    "categorical_variables_mask = data_e.dtypes==object\n",
    "categorical_variables = data_e.columns[categorical_variables_mask]\n",
    "for v in categorical_variables:\n",
    "    data_e[v] = LabelEncoder().fit_transform(data_e[v])\n",
    "del categorical_variables_mask,categorical_variables\n",
    "data_e = pd.DataFrame(data=MICE(n_imputations=100, impute_type='col', n_nearest_columns=5).complete(data_e.as_matrix()), columns=data_e.columns, index=data_e.index);\n",
    "y_df = data_e['AFclass'].copy()\n",
    "x_df = data_e.drop('AFclass',axis=1, inplace=False)"
   ]
  },
  {
   "cell_type": "code",
   "execution_count": 5,
   "metadata": {},
   "outputs": [],
   "source": [
    "from sklearn.model_selection import cross_val_score\n",
    "from sklearn.pipeline import Pipeline\n",
    "from sklearn.ensemble import RandomForestClassifier,GradientBoostingClassifier,ExtraTreesClassifier,AdaBoostClassifier\n",
    "#from sklearn.pipeline import Pipeline\n",
    "from sklearn.model_selection import cross_val_score\n",
    "from sklearn.model_selection import train_test_split\n",
    "from sklearn.metrics import f1_score, make_scorer\n",
    "from sklearn.metrics import accuracy_score\n",
    "from sklearn.model_selection import GridSearchCV\n",
    "from sklearn.dummy import DummyClassifier\n",
    "from imblearn.over_sampling import SMOTE\n",
    "from imblearn.pipeline import Pipeline\n",
    "\n",
    "#f1_scorer = make_scorer(f1_score, average='macro',labels=Y.unique().tolist())\n",
    "#myscorer = f1_scorer\n",
    "myscorer = 'roc_auc'"
   ]
  },
  {
   "cell_type": "code",
   "execution_count": 6,
   "metadata": {},
   "outputs": [],
   "source": [
    "balancer = SMOTE(random_state=42)"
   ]
  },
  {
   "cell_type": "code",
   "execution_count": 7,
   "metadata": {},
   "outputs": [],
   "source": [
    "def show_f_importance(estimator,train_data):\n",
    "    importances = estimator.feature_importances_\n",
    "    indices = np.argsort(importances)[::-1]\n",
    "    indices = np.argsort(importances)[::-1]\n",
    "    # Print the feature ranking\n",
    "    print(\"Feature ranking:\")\n",
    "\n",
    "    for f in range(train_data.shape[1]):\n",
    "        print(\"%d. feature %d - %s (%f)\" % (f + 1, indices[f],train_data.columns[indices[f]], importances[indices[f]]))\n"
   ]
  },
  {
   "cell_type": "code",
   "execution_count": 8,
   "metadata": {},
   "outputs": [],
   "source": [
    "param_grid = {\"clf__strategy\": ['most_frequent','stratified','prior','uniform']}\n",
    "\n",
    "dummy = DummyClassifier(random_state=42)\n",
    "plist = []\n",
    "plist.append(('balancer', balancer))\n",
    "plist.append(('clf', dummy))\n",
    "pipeline = Pipeline(plist)\n",
    "\n",
    "gs_dummy = GridSearchCV(pipeline, param_grid=param_grid, cv=5, verbose=1, scoring=myscorer, n_jobs=-1)"
   ]
  },
  {
   "cell_type": "code",
   "execution_count": 9,
   "metadata": {},
   "outputs": [
    {
     "name": "stdout",
     "output_type": "stream",
     "text": [
      "Fitting 5 folds for each of 4 candidates, totalling 20 fits\n"
     ]
    },
    {
     "name": "stderr",
     "output_type": "stream",
     "text": [
      "[Parallel(n_jobs=-1)]: Done  20 out of  20 | elapsed:    0.2s finished\n"
     ]
    }
   ],
   "source": [
    "gs_dummy.fit(x_df, y_df);"
   ]
  },
  {
   "cell_type": "code",
   "execution_count": 10,
   "metadata": {},
   "outputs": [
    {
     "data": {
      "text/plain": [
       "{'clf__strategy': 'most_frequent'}"
      ]
     },
     "execution_count": 10,
     "metadata": {},
     "output_type": "execute_result"
    }
   ],
   "source": [
    "gs_dummy.best_params_"
   ]
  },
  {
   "cell_type": "code",
   "execution_count": 11,
   "metadata": {},
   "outputs": [
    {
     "data": {
      "text/plain": [
       "0.5"
      ]
     },
     "execution_count": 11,
     "metadata": {},
     "output_type": "execute_result"
    }
   ],
   "source": [
    "gs_dummy.best_score_"
   ]
  },
  {
   "cell_type": "code",
   "execution_count": 12,
   "metadata": {},
   "outputs": [],
   "source": [
    "param_grid = {\"clf__max_depth\": [10,30,50],\n",
    "              \"clf__criterion\": ['gini', 'entropy'],\n",
    "              \"clf__n_estimators\": [100,200,500,1000],\n",
    "              \"clf__random_state\": [42],\n",
    "              \"clf__class_weight\" : [None, 'balanced']}\n",
    "# param_grid = {\"classifier__max_depth\": [30],\n",
    "#               \"classifier__n_estimators\": [1000]}\n",
    "\n",
    "\n",
    "rf = RandomForestClassifier()\n",
    "\n",
    "plist = []\n",
    "plist.append(('balancer', balancer))\n",
    "plist.append(('clf', rf))\n",
    "pipeline = Pipeline(plist)\n",
    "\n",
    "gs_rf = GridSearchCV(pipeline, param_grid=param_grid, cv=5, verbose=1, scoring=myscorer, n_jobs=-1)"
   ]
  },
  {
   "cell_type": "code",
   "execution_count": 13,
   "metadata": {},
   "outputs": [
    {
     "name": "stdout",
     "output_type": "stream",
     "text": [
      "Fitting 5 folds for each of 48 candidates, totalling 240 fits\n"
     ]
    },
    {
     "name": "stderr",
     "output_type": "stream",
     "text": [
      "[Parallel(n_jobs=-1)]: Done  42 tasks      | elapsed:   22.7s\n",
      "[Parallel(n_jobs=-1)]: Done 192 tasks      | elapsed:  2.0min\n",
      "[Parallel(n_jobs=-1)]: Done 240 out of 240 | elapsed:  2.6min finished\n"
     ]
    }
   ],
   "source": [
    "gs_rf.fit(x_df, y_df);"
   ]
  },
  {
   "cell_type": "code",
   "execution_count": 14,
   "metadata": {},
   "outputs": [
    {
     "data": {
      "text/plain": [
       "{'clf__class_weight': None,\n",
       " 'clf__criterion': 'entropy',\n",
       " 'clf__max_depth': 30,\n",
       " 'clf__n_estimators': 100,\n",
       " 'clf__random_state': 42}"
      ]
     },
     "execution_count": 14,
     "metadata": {},
     "output_type": "execute_result"
    }
   ],
   "source": [
    "gs_rf.best_params_"
   ]
  },
  {
   "cell_type": "code",
   "execution_count": 15,
   "metadata": {},
   "outputs": [
    {
     "data": {
      "text/plain": [
       "0.6331911159525538"
      ]
     },
     "execution_count": 15,
     "metadata": {},
     "output_type": "execute_result"
    }
   ],
   "source": [
    "gs_rf.best_score_\n"
   ]
  },
  {
   "cell_type": "code",
   "execution_count": 16,
   "metadata": {},
   "outputs": [],
   "source": [
    "if gs_rf.best_score_ > best_score:\n",
    "    best_model = gs_rf\n",
    "    best_score = gs_rf.best_score_"
   ]
  },
  {
   "cell_type": "code",
   "execution_count": 17,
   "metadata": {},
   "outputs": [
    {
     "name": "stdout",
     "output_type": "stream",
     "text": [
      "Feature ranking:\n",
      "1. feature 46 - Parea_ECG_V9 (0.030345)\n",
      "2. feature 45 - Parea_ECG_V8 (0.030091)\n",
      "3. feature 1 - QTm_old (0.027915)\n",
      "4. feature 66 - patsex (0.026401)\n",
      "5. feature 40 - Parea_ECG_V3R (0.025775)\n",
      "6. feature 53 - Pfwhm_ECG_V1 (0.025503)\n",
      "7. feature 48 - Parea_ECG_aVL (0.023022)\n",
      "8. feature 3 - QTn (0.022637)\n",
      "9. feature 56 - Pfwhm_ECG_V3R (0.022247)\n",
      "10. feature 67 - Age (0.022064)\n",
      "11. feature 36 - Parea_ECG_III (0.020283)\n",
      "12. feature 16 - Pdur16std (0.019592)\n",
      "13. feature 43 - Parea_ECG_V5 (0.019194)\n",
      "14. feature 58 - Pfwhm_ECG_V4R (0.019092)\n",
      "15. feature 55 - Pfwhm_ECG_V3 (0.018418)\n",
      "16. feature 41 - Parea_ECG_V4 (0.018188)\n",
      "17. feature 34 - Parea_ECG_I (0.018050)\n",
      "18. feature 59 - Pfwhm_ECG_V5 (0.018016)\n",
      "19. feature 65 - Pfwhm_ECG_aVR (0.017172)\n",
      "20. feature 17 - Pdur16iqr (0.016138)\n",
      "21. feature 39 - Parea_ECG_V3 (0.016064)\n",
      "22. feature 0 - RR (0.015684)\n",
      "23. feature 30 - Pdur_ECG_V9 (0.015630)\n",
      "24. feature 57 - Pfwhm_ECG_V4 (0.015179)\n",
      "25. feature 4 - QRS (0.015147)\n",
      "26. feature 25 - Pdur_ECG_V4 (0.015128)\n",
      "27. feature 49 - Parea_ECG_aVR (0.014592)\n",
      "28. feature 52 - Pfwhm_ECG_III (0.014525)\n",
      "29. feature 33 - Pdur_ECG_aVR (0.014408)\n",
      "30. feature 42 - Parea_ECG_V4R (0.014234)\n",
      "31. feature 10 - PCarea (0.014210)\n",
      "32. feature 38 - Parea_ECG_V2 (0.014045)\n",
      "33. feature 62 - Pfwhm_ECG_V9 (0.013946)\n",
      "34. feature 63 - Pfwhm_ECG_aVF (0.013851)\n",
      "35. feature 21 - Pdur_ECG_V1 (0.013778)\n",
      "36. feature 18 - Pdur_ECG_I (0.013636)\n",
      "37. feature 50 - Pfwhm_ECG_I (0.013326)\n",
      "38. feature 9 - PCfwhm (0.012864)\n",
      "39. feature 6 - PCpos (0.012626)\n",
      "40. feature 35 - Parea_ECG_II (0.012317)\n",
      "41. feature 5 - PQ (0.012257)\n",
      "42. feature 37 - Parea_ECG_V1 (0.012188)\n",
      "43. feature 60 - Pfwhm_ECG_V6 (0.012044)\n",
      "44. feature 64 - Pfwhm_ECG_aVL (0.011887)\n",
      "45. feature 54 - Pfwhm_ECG_V2 (0.011455)\n",
      "46. feature 44 - Parea_ECG_V6 (0.011073)\n",
      "47. feature 47 - Parea_ECG_aVF (0.011046)\n",
      "48. feature 2 - QR (0.010997)\n",
      "49. feature 20 - Pdur_ECG_III (0.010824)\n",
      "50. feature 11 - P_LoffEon (0.010767)\n",
      "51. feature 31 - Pdur_ECG_aVF (0.010697)\n",
      "52. feature 15 - Pdur16max (0.010668)\n",
      "53. feature 61 - Pfwhm_ECG_V8 (0.010630)\n",
      "54. feature 22 - Pdur_ECG_V2 (0.010605)\n",
      "55. feature 14 - Pdur16min (0.010321)\n",
      "56. feature 26 - Pdur_ECG_V4R (0.009721)\n",
      "57. feature 27 - Pdur_ECG_V5 (0.009671)\n",
      "58. feature 23 - Pdur_ECG_V3 (0.009638)\n",
      "59. feature 8 - PCdur (0.009277)\n",
      "60. feature 32 - Pdur_ECG_aVL (0.009151)\n",
      "61. feature 12 - Pdur16mean (0.009098)\n",
      "62. feature 51 - Pfwhm_ECG_II (0.009094)\n",
      "63. feature 19 - Pdur_ECG_II (0.008266)\n",
      "64. feature 29 - Pdur_ECG_V8 (0.008209)\n",
      "65. feature 13 - Pdur16median (0.007727)\n",
      "66. feature 28 - Pdur_ECG_V6 (0.007513)\n",
      "67. feature 24 - Pdur_ECG_V3R (0.006151)\n",
      "68. feature 7 - PCneg (0.003692)\n"
     ]
    }
   ],
   "source": [
    "show_f_importance(gs_rf.best_estimator_.named_steps['clf'],x_df)"
   ]
  },
  {
   "cell_type": "code",
   "execution_count": 18,
   "metadata": {},
   "outputs": [],
   "source": [
    "param_grid = {\"clf__max_depth\": [3,5,8],\n",
    "              \"clf__n_estimators\": [100,200,500,1000],\n",
    "              \"clf__min_samples_leaf\": [1,3,5,10]}\n",
    "# param_grid = {\"classifier__n_estimators\": [50],\n",
    "#               \"classifier__max_depth\": [5],\n",
    "# \n",
    "\n",
    "gb = GradientBoostingClassifier(random_state=42)\n",
    "plist = []\n",
    "plist.append(('balancer', balancer))\n",
    "plist.append(('clf', gb))\n",
    "pipeline = Pipeline(plist)\n",
    "gs_gb = GridSearchCV(pipeline, param_grid=param_grid, cv=5, verbose=1,  scoring=myscorer, n_jobs=-1)"
   ]
  },
  {
   "cell_type": "code",
   "execution_count": 19,
   "metadata": {},
   "outputs": [
    {
     "name": "stdout",
     "output_type": "stream",
     "text": [
      "Fitting 5 folds for each of 48 candidates, totalling 240 fits\n"
     ]
    },
    {
     "name": "stderr",
     "output_type": "stream",
     "text": [
      "[Parallel(n_jobs=-1)]: Done  42 tasks      | elapsed:   15.4s\n",
      "[Parallel(n_jobs=-1)]: Done 192 tasks      | elapsed:  1.1min\n",
      "[Parallel(n_jobs=-1)]: Done 240 out of 240 | elapsed:  1.4min finished\n"
     ]
    }
   ],
   "source": [
    "gs_gb.fit(x_df, y_df);"
   ]
  },
  {
   "cell_type": "code",
   "execution_count": 20,
   "metadata": {},
   "outputs": [
    {
     "data": {
      "text/plain": [
       "{'clf__max_depth': 3, 'clf__min_samples_leaf': 1, 'clf__n_estimators': 200}"
      ]
     },
     "execution_count": 20,
     "metadata": {},
     "output_type": "execute_result"
    }
   ],
   "source": [
    "gs_gb.best_params_"
   ]
  },
  {
   "cell_type": "code",
   "execution_count": 21,
   "metadata": {},
   "outputs": [
    {
     "data": {
      "text/plain": [
       "0.624298481488024"
      ]
     },
     "execution_count": 21,
     "metadata": {},
     "output_type": "execute_result"
    }
   ],
   "source": [
    "gs_gb.best_score_"
   ]
  },
  {
   "cell_type": "code",
   "execution_count": 22,
   "metadata": {},
   "outputs": [],
   "source": [
    "if gs_gb.best_score_ > best_score:\n",
    "    best_model = gs_gb\n",
    "    best_score = gs_gb.best_score_"
   ]
  },
  {
   "cell_type": "code",
   "execution_count": 23,
   "metadata": {},
   "outputs": [
    {
     "name": "stdout",
     "output_type": "stream",
     "text": [
      "Feature ranking:\n",
      "1. feature 67 - Age (0.047531)\n",
      "2. feature 40 - Parea_ECG_V3R (0.036437)\n",
      "3. feature 34 - Parea_ECG_I (0.034807)\n",
      "4. feature 1 - QTm_old (0.034795)\n",
      "5. feature 0 - RR (0.034542)\n",
      "6. feature 3 - QTn (0.034459)\n",
      "7. feature 53 - Pfwhm_ECG_V1 (0.030270)\n",
      "8. feature 21 - Pdur_ECG_V1 (0.028328)\n",
      "9. feature 50 - Pfwhm_ECG_I (0.026645)\n",
      "10. feature 59 - Pfwhm_ECG_V5 (0.025919)\n",
      "11. feature 46 - Parea_ECG_V9 (0.025903)\n",
      "12. feature 66 - patsex (0.025656)\n",
      "13. feature 10 - PCarea (0.025576)\n",
      "14. feature 64 - Pfwhm_ECG_aVL (0.025229)\n",
      "15. feature 39 - Parea_ECG_V3 (0.025185)\n",
      "16. feature 45 - Parea_ECG_V8 (0.023996)\n",
      "17. feature 54 - Pfwhm_ECG_V2 (0.023633)\n",
      "18. feature 58 - Pfwhm_ECG_V4R (0.023553)\n",
      "19. feature 2 - QR (0.021974)\n",
      "20. feature 42 - Parea_ECG_V4R (0.021241)\n",
      "21. feature 36 - Parea_ECG_III (0.021191)\n",
      "22. feature 38 - Parea_ECG_V2 (0.020172)\n",
      "23. feature 16 - Pdur16std (0.019473)\n",
      "24. feature 65 - Pfwhm_ECG_aVR (0.019442)\n",
      "25. feature 48 - Parea_ECG_aVL (0.018271)\n",
      "26. feature 55 - Pfwhm_ECG_V3 (0.018178)\n",
      "27. feature 4 - QRS (0.015771)\n",
      "28. feature 14 - Pdur16min (0.014752)\n",
      "29. feature 25 - Pdur_ECG_V4 (0.014610)\n",
      "30. feature 20 - Pdur_ECG_III (0.013941)\n",
      "31. feature 41 - Parea_ECG_V4 (0.013853)\n",
      "32. feature 56 - Pfwhm_ECG_V3R (0.013601)\n",
      "33. feature 43 - Parea_ECG_V5 (0.013399)\n",
      "34. feature 27 - Pdur_ECG_V5 (0.012585)\n",
      "35. feature 31 - Pdur_ECG_aVF (0.012565)\n",
      "36. feature 17 - Pdur16iqr (0.012138)\n",
      "37. feature 63 - Pfwhm_ECG_aVF (0.011632)\n",
      "38. feature 19 - Pdur_ECG_II (0.011237)\n",
      "39. feature 61 - Pfwhm_ECG_V8 (0.010608)\n",
      "40. feature 37 - Parea_ECG_V1 (0.010557)\n",
      "41. feature 57 - Pfwhm_ECG_V4 (0.008682)\n",
      "42. feature 6 - PCpos (0.008298)\n",
      "43. feature 18 - Pdur_ECG_I (0.008139)\n",
      "44. feature 52 - Pfwhm_ECG_III (0.007942)\n",
      "45. feature 24 - Pdur_ECG_V3R (0.006599)\n",
      "46. feature 5 - PQ (0.006454)\n",
      "47. feature 28 - Pdur_ECG_V6 (0.006270)\n",
      "48. feature 49 - Parea_ECG_aVR (0.006100)\n",
      "49. feature 51 - Pfwhm_ECG_II (0.006089)\n",
      "50. feature 44 - Parea_ECG_V6 (0.005212)\n",
      "51. feature 29 - Pdur_ECG_V8 (0.005037)\n",
      "52. feature 11 - P_LoffEon (0.004828)\n",
      "53. feature 33 - Pdur_ECG_aVR (0.004820)\n",
      "54. feature 32 - Pdur_ECG_aVL (0.004677)\n",
      "55. feature 26 - Pdur_ECG_V4R (0.004431)\n",
      "56. feature 35 - Parea_ECG_II (0.004112)\n",
      "57. feature 23 - Pdur_ECG_V3 (0.003780)\n",
      "58. feature 62 - Pfwhm_ECG_V9 (0.003697)\n",
      "59. feature 47 - Parea_ECG_aVF (0.003632)\n",
      "60. feature 30 - Pdur_ECG_V9 (0.003406)\n",
      "61. feature 9 - PCfwhm (0.002390)\n",
      "62. feature 12 - Pdur16mean (0.002282)\n",
      "63. feature 60 - Pfwhm_ECG_V6 (0.002271)\n",
      "64. feature 22 - Pdur_ECG_V2 (0.002016)\n",
      "65. feature 7 - PCneg (0.001624)\n",
      "66. feature 15 - Pdur16max (0.001622)\n",
      "67. feature 8 - PCdur (0.001251)\n",
      "68. feature 13 - Pdur16median (0.000684)\n"
     ]
    }
   ],
   "source": [
    "show_f_importance(gs_gb.best_estimator_.named_steps['clf'],x_df)"
   ]
  },
  {
   "cell_type": "code",
   "execution_count": 24,
   "metadata": {},
   "outputs": [],
   "source": [
    "param_grid = {\"clf__learning_rate\": [0.1,0.3,0.7,0.8],\n",
    "              \"clf__n_estimators\": [100,1000,2000,2500,3000,5000]}\n",
    "\n",
    "ab = AdaBoostClassifier(random_state=42)\n",
    "\n",
    "plist = []\n",
    "plist.append(('balancer', balancer))\n",
    "plist.append(('clf', ab))\n",
    "pipeline = Pipeline(plist)\n",
    "\n",
    "gs_ab = GridSearchCV(pipeline, param_grid=param_grid, cv=5, verbose=1, scoring=myscorer, n_jobs=-1)"
   ]
  },
  {
   "cell_type": "code",
   "execution_count": 25,
   "metadata": {},
   "outputs": [
    {
     "name": "stdout",
     "output_type": "stream",
     "text": [
      "Fitting 5 folds for each of 24 candidates, totalling 120 fits\n"
     ]
    },
    {
     "name": "stderr",
     "output_type": "stream",
     "text": [
      "[Parallel(n_jobs=-1)]: Done  42 tasks      | elapsed:  2.2min\n",
      "[Parallel(n_jobs=-1)]: Done 120 out of 120 | elapsed:  8.0min finished\n"
     ]
    }
   ],
   "source": [
    "gs_ab.fit(x_df, y_df);"
   ]
  },
  {
   "cell_type": "code",
   "execution_count": 26,
   "metadata": {},
   "outputs": [
    {
     "data": {
      "text/plain": [
       "{'clf__learning_rate': 0.3, 'clf__n_estimators': 1000}"
      ]
     },
     "execution_count": 26,
     "metadata": {},
     "output_type": "execute_result"
    }
   ],
   "source": [
    "gs_ab.best_params_"
   ]
  },
  {
   "cell_type": "code",
   "execution_count": 27,
   "metadata": {},
   "outputs": [
    {
     "data": {
      "text/plain": [
       "0.6087965416396789"
      ]
     },
     "execution_count": 27,
     "metadata": {},
     "output_type": "execute_result"
    }
   ],
   "source": [
    "gs_ab.best_score_"
   ]
  },
  {
   "cell_type": "code",
   "execution_count": 28,
   "metadata": {},
   "outputs": [],
   "source": [
    "\n",
    "if gs_ab.best_score_ > best_score:\n",
    "    best_model = gs_ab\n",
    "    best_score = gs_ab.best_score_"
   ]
  },
  {
   "cell_type": "code",
   "execution_count": 29,
   "metadata": {},
   "outputs": [
    {
     "name": "stdout",
     "output_type": "stream",
     "text": [
      "Feature ranking:\n",
      "1. feature 21 - Pdur_ECG_V1 (0.052000)\n",
      "2. feature 40 - Parea_ECG_V3R (0.039000)\n",
      "3. feature 14 - Pdur16min (0.035000)\n",
      "4. feature 34 - Parea_ECG_I (0.035000)\n",
      "5. feature 46 - Parea_ECG_V9 (0.033000)\n",
      "6. feature 39 - Parea_ECG_V3 (0.030000)\n",
      "7. feature 6 - PCpos (0.029000)\n",
      "8. feature 57 - Pfwhm_ECG_V4 (0.029000)\n",
      "9. feature 67 - Age (0.028000)\n",
      "10. feature 1 - QTm_old (0.028000)\n",
      "11. feature 51 - Pfwhm_ECG_II (0.027000)\n",
      "12. feature 53 - Pfwhm_ECG_V1 (0.024000)\n",
      "13. feature 52 - Pfwhm_ECG_III (0.024000)\n",
      "14. feature 3 - QTn (0.023000)\n",
      "15. feature 36 - Parea_ECG_III (0.023000)\n",
      "16. feature 43 - Parea_ECG_V5 (0.022000)\n",
      "17. feature 33 - Pdur_ECG_aVR (0.022000)\n",
      "18. feature 65 - Pfwhm_ECG_aVR (0.022000)\n",
      "19. feature 0 - RR (0.021000)\n",
      "20. feature 27 - Pdur_ECG_V5 (0.021000)\n",
      "21. feature 63 - Pfwhm_ECG_aVF (0.021000)\n",
      "22. feature 10 - PCarea (0.021000)\n",
      "23. feature 16 - Pdur16std (0.021000)\n",
      "24. feature 17 - Pdur16iqr (0.021000)\n",
      "25. feature 25 - Pdur_ECG_V4 (0.020000)\n",
      "26. feature 48 - Parea_ECG_aVL (0.020000)\n",
      "27. feature 2 - QR (0.018000)\n",
      "28. feature 45 - Parea_ECG_V8 (0.018000)\n",
      "29. feature 56 - Pfwhm_ECG_V3R (0.016000)\n",
      "30. feature 38 - Parea_ECG_V2 (0.016000)\n",
      "31. feature 66 - patsex (0.015000)\n",
      "32. feature 9 - PCfwhm (0.014000)\n",
      "33. feature 61 - Pfwhm_ECG_V8 (0.013000)\n",
      "34. feature 58 - Pfwhm_ECG_V4R (0.013000)\n",
      "35. feature 55 - Pfwhm_ECG_V3 (0.013000)\n",
      "36. feature 60 - Pfwhm_ECG_V6 (0.013000)\n",
      "37. feature 32 - Pdur_ECG_aVL (0.011000)\n",
      "38. feature 41 - Parea_ECG_V4 (0.011000)\n",
      "39. feature 59 - Pfwhm_ECG_V5 (0.011000)\n",
      "40. feature 64 - Pfwhm_ECG_aVL (0.010000)\n",
      "41. feature 62 - Pfwhm_ECG_V9 (0.010000)\n",
      "42. feature 19 - Pdur_ECG_II (0.010000)\n",
      "43. feature 5 - PQ (0.009000)\n",
      "44. feature 54 - Pfwhm_ECG_V2 (0.008000)\n",
      "45. feature 37 - Parea_ECG_V1 (0.008000)\n",
      "46. feature 42 - Parea_ECG_V4R (0.007000)\n",
      "47. feature 35 - Parea_ECG_II (0.007000)\n",
      "48. feature 31 - Pdur_ECG_aVF (0.007000)\n",
      "49. feature 11 - P_LoffEon (0.006000)\n",
      "50. feature 47 - Parea_ECG_aVF (0.006000)\n",
      "51. feature 22 - Pdur_ECG_V2 (0.005000)\n",
      "52. feature 29 - Pdur_ECG_V8 (0.005000)\n",
      "53. feature 24 - Pdur_ECG_V3R (0.005000)\n",
      "54. feature 7 - PCneg (0.005000)\n",
      "55. feature 50 - Pfwhm_ECG_I (0.004000)\n",
      "56. feature 18 - Pdur_ECG_I (0.004000)\n",
      "57. feature 20 - Pdur_ECG_III (0.003000)\n",
      "58. feature 4 - QRS (0.002000)\n",
      "59. feature 26 - Pdur_ECG_V4R (0.002000)\n",
      "60. feature 13 - Pdur16median (0.001000)\n",
      "61. feature 44 - Parea_ECG_V6 (0.001000)\n",
      "62. feature 30 - Pdur_ECG_V9 (0.001000)\n",
      "63. feature 23 - Pdur_ECG_V3 (0.001000)\n",
      "64. feature 12 - Pdur16mean (0.000000)\n",
      "65. feature 28 - Pdur_ECG_V6 (0.000000)\n",
      "66. feature 8 - PCdur (0.000000)\n",
      "67. feature 49 - Parea_ECG_aVR (0.000000)\n",
      "68. feature 15 - Pdur16max (0.000000)\n"
     ]
    }
   ],
   "source": [
    "show_f_importance(gs_ab.best_estimator_.named_steps['clf'],x_df)"
   ]
  },
  {
   "cell_type": "code",
   "execution_count": 30,
   "metadata": {},
   "outputs": [],
   "source": [
    "param_grid = {\"clf__max_depth\": [3,5,8,10,15,30],\n",
    "              \"clf__n_estimators\": [100,200,500,1000,1500],\n",
    "              \"clf__min_samples_leaf\": [1,3,5,10]}\n",
    "\n",
    "et = ExtraTreesClassifier(random_state=42)\n",
    "\n",
    "plist = []\n",
    "plist.append(('balancer', balancer))\n",
    "plist.append(('clf', et))\n",
    "pipeline = Pipeline(plist)\n",
    "\n",
    "gs_et = GridSearchCV(pipeline, param_grid=param_grid, cv=5, verbose=1,  scoring=myscorer, n_jobs=-1)"
   ]
  },
  {
   "cell_type": "code",
   "execution_count": 31,
   "metadata": {},
   "outputs": [
    {
     "name": "stdout",
     "output_type": "stream",
     "text": [
      "Fitting 5 folds for each of 120 candidates, totalling 600 fits\n"
     ]
    },
    {
     "name": "stderr",
     "output_type": "stream",
     "text": [
      "[Parallel(n_jobs=-1)]: Done  42 tasks      | elapsed:   17.7s\n",
      "[Parallel(n_jobs=-1)]: Done 192 tasks      | elapsed:  1.5min\n",
      "[Parallel(n_jobs=-1)]: Done 442 tasks      | elapsed:  3.7min\n",
      "[Parallel(n_jobs=-1)]: Done 600 out of 600 | elapsed:  5.1min finished\n"
     ]
    }
   ],
   "source": [
    "gs_et.fit(x_df, y_df);"
   ]
  },
  {
   "cell_type": "code",
   "execution_count": 32,
   "metadata": {},
   "outputs": [
    {
     "data": {
      "text/plain": [
       "{'clf__max_depth': 10, 'clf__min_samples_leaf': 1, 'clf__n_estimators': 1000}"
      ]
     },
     "execution_count": 32,
     "metadata": {},
     "output_type": "execute_result"
    }
   ],
   "source": [
    "gs_et.best_params_"
   ]
  },
  {
   "cell_type": "code",
   "execution_count": 33,
   "metadata": {},
   "outputs": [
    {
     "data": {
      "text/plain": [
       "0.6418488750188098"
      ]
     },
     "execution_count": 33,
     "metadata": {},
     "output_type": "execute_result"
    }
   ],
   "source": [
    "gs_et.best_score_"
   ]
  },
  {
   "cell_type": "code",
   "execution_count": 34,
   "metadata": {},
   "outputs": [],
   "source": [
    "if gs_et.best_score_ > best_score:\n",
    "    best_model = gs_et\n",
    "    best_score = gs_et.best_score_"
   ]
  },
  {
   "cell_type": "code",
   "execution_count": 35,
   "metadata": {},
   "outputs": [
    {
     "name": "stdout",
     "output_type": "stream",
     "text": [
      "Feature ranking:\n",
      "1. feature 66 - patsex (0.050558)\n",
      "2. feature 46 - Parea_ECG_V9 (0.034104)\n",
      "3. feature 45 - Parea_ECG_V8 (0.031758)\n",
      "4. feature 67 - Age (0.025983)\n",
      "5. feature 53 - Pfwhm_ECG_V1 (0.023840)\n",
      "6. feature 1 - QTm_old (0.023729)\n",
      "7. feature 34 - Parea_ECG_I (0.019316)\n",
      "8. feature 39 - Parea_ECG_V3 (0.018551)\n",
      "9. feature 55 - Pfwhm_ECG_V3 (0.018333)\n",
      "10. feature 36 - Parea_ECG_III (0.017903)\n",
      "11. feature 59 - Pfwhm_ECG_V5 (0.017632)\n",
      "12. feature 58 - Pfwhm_ECG_V4R (0.016487)\n",
      "13. feature 3 - QTn (0.016081)\n",
      "14. feature 0 - RR (0.015741)\n",
      "15. feature 49 - Parea_ECG_aVR (0.015732)\n",
      "16. feature 60 - Pfwhm_ECG_V6 (0.015717)\n",
      "17. feature 56 - Pfwhm_ECG_V3R (0.015697)\n",
      "18. feature 54 - Pfwhm_ECG_V2 (0.015676)\n",
      "19. feature 40 - Parea_ECG_V3R (0.015159)\n",
      "20. feature 57 - Pfwhm_ECG_V4 (0.015143)\n",
      "21. feature 48 - Parea_ECG_aVL (0.015117)\n",
      "22. feature 41 - Parea_ECG_V4 (0.015113)\n",
      "23. feature 44 - Parea_ECG_V6 (0.014957)\n",
      "24. feature 35 - Parea_ECG_II (0.014805)\n",
      "25. feature 10 - PCarea (0.014779)\n",
      "26. feature 16 - Pdur16std (0.014644)\n",
      "27. feature 17 - Pdur16iqr (0.014200)\n",
      "28. feature 19 - Pdur_ECG_II (0.013943)\n",
      "29. feature 43 - Parea_ECG_V5 (0.013897)\n",
      "30. feature 38 - Parea_ECG_V2 (0.013618)\n",
      "31. feature 27 - Pdur_ECG_V5 (0.013401)\n",
      "32. feature 6 - PCpos (0.013361)\n",
      "33. feature 9 - PCfwhm (0.013234)\n",
      "34. feature 2 - QR (0.013030)\n",
      "35. feature 61 - Pfwhm_ECG_V8 (0.012999)\n",
      "36. feature 65 - Pfwhm_ECG_aVR (0.012643)\n",
      "37. feature 25 - Pdur_ECG_V4 (0.012630)\n",
      "38. feature 50 - Pfwhm_ECG_I (0.012561)\n",
      "39. feature 47 - Parea_ECG_aVF (0.012526)\n",
      "40. feature 20 - Pdur_ECG_III (0.012275)\n",
      "41. feature 52 - Pfwhm_ECG_III (0.012262)\n",
      "42. feature 37 - Parea_ECG_V1 (0.012131)\n",
      "43. feature 30 - Pdur_ECG_V9 (0.011985)\n",
      "44. feature 29 - Pdur_ECG_V8 (0.011846)\n",
      "45. feature 21 - Pdur_ECG_V1 (0.011762)\n",
      "46. feature 4 - QRS (0.011746)\n",
      "47. feature 42 - Parea_ECG_V4R (0.011691)\n",
      "48. feature 18 - Pdur_ECG_I (0.011662)\n",
      "49. feature 64 - Pfwhm_ECG_aVL (0.011537)\n",
      "50. feature 33 - Pdur_ECG_aVR (0.011498)\n",
      "51. feature 31 - Pdur_ECG_aVF (0.011321)\n",
      "52. feature 11 - P_LoffEon (0.011288)\n",
      "53. feature 15 - Pdur16max (0.011266)\n",
      "54. feature 8 - PCdur (0.010902)\n",
      "55. feature 51 - Pfwhm_ECG_II (0.010803)\n",
      "56. feature 62 - Pfwhm_ECG_V9 (0.010606)\n",
      "57. feature 28 - Pdur_ECG_V6 (0.010457)\n",
      "58. feature 14 - Pdur16min (0.010386)\n",
      "59. feature 5 - PQ (0.010324)\n",
      "60. feature 26 - Pdur_ECG_V4R (0.010203)\n",
      "61. feature 23 - Pdur_ECG_V3 (0.010128)\n",
      "62. feature 63 - Pfwhm_ECG_aVF (0.010016)\n",
      "63. feature 12 - Pdur16mean (0.009961)\n",
      "64. feature 22 - Pdur_ECG_V2 (0.009861)\n",
      "65. feature 32 - Pdur_ECG_aVL (0.009795)\n",
      "66. feature 13 - Pdur16median (0.009774)\n",
      "67. feature 7 - PCneg (0.009441)\n",
      "68. feature 24 - Pdur_ECG_V3R (0.008475)\n"
     ]
    }
   ],
   "source": [
    "show_f_importance(gs_et.best_estimator_.named_steps['clf'],x_df)"
   ]
  },
  {
   "cell_type": "code",
   "execution_count": 36,
   "metadata": {},
   "outputs": [
    {
     "data": {
      "text/plain": [
       "(275, 73)"
      ]
     },
     "execution_count": 36,
     "metadata": {},
     "output_type": "execute_result"
    }
   ],
   "source": [
    "cdata = pd.read_csv('../data/central' +'_data.csv')\n",
    "cdata.shape"
   ]
  },
  {
   "cell_type": "code",
   "execution_count": 37,
   "metadata": {},
   "outputs": [
    {
     "name": "stdout",
     "output_type": "stream",
     "text": [
      "[MICE] Completing matrix with shape (270, 69)\n",
      "[MICE] Starting imputation round 1/110, elapsed time 0.003\n",
      "[MICE] Starting imputation round 2/110, elapsed time 0.038\n",
      "[MICE] Starting imputation round 3/110, elapsed time 0.063\n",
      "[MICE] Starting imputation round 4/110, elapsed time 0.088\n",
      "[MICE] Starting imputation round 5/110, elapsed time 0.117\n",
      "[MICE] Starting imputation round 6/110, elapsed time 0.145\n",
      "[MICE] Starting imputation round 7/110, elapsed time 0.171\n",
      "[MICE] Starting imputation round 8/110, elapsed time 0.195\n",
      "[MICE] Starting imputation round 9/110, elapsed time 0.225\n",
      "[MICE] Starting imputation round 10/110, elapsed time 0.250\n",
      "[MICE] Starting imputation round 11/110, elapsed time 0.274\n",
      "[MICE] Starting imputation round 12/110, elapsed time 0.298\n",
      "[MICE] Starting imputation round 13/110, elapsed time 0.324\n",
      "[MICE] Starting imputation round 14/110, elapsed time 0.351\n",
      "[MICE] Starting imputation round 15/110, elapsed time 0.378\n",
      "[MICE] Starting imputation round 16/110, elapsed time 0.402\n",
      "[MICE] Starting imputation round 17/110, elapsed time 0.427\n",
      "[MICE] Starting imputation round 18/110, elapsed time 0.456\n",
      "[MICE] Starting imputation round 19/110, elapsed time 0.483\n",
      "[MICE] Starting imputation round 20/110, elapsed time 0.508\n",
      "[MICE] Starting imputation round 21/110, elapsed time 0.535\n",
      "[MICE] Starting imputation round 22/110, elapsed time 0.563\n",
      "[MICE] Starting imputation round 23/110, elapsed time 0.588\n",
      "[MICE] Starting imputation round 24/110, elapsed time 0.614\n",
      "[MICE] Starting imputation round 25/110, elapsed time 0.637\n",
      "[MICE] Starting imputation round 26/110, elapsed time 0.663\n",
      "[MICE] Starting imputation round 27/110, elapsed time 0.694\n",
      "[MICE] Starting imputation round 28/110, elapsed time 0.719\n",
      "[MICE] Starting imputation round 29/110, elapsed time 0.745\n",
      "[MICE] Starting imputation round 30/110, elapsed time 0.771\n",
      "[MICE] Starting imputation round 31/110, elapsed time 0.798\n",
      "[MICE] Starting imputation round 32/110, elapsed time 0.825\n",
      "[MICE] Starting imputation round 33/110, elapsed time 0.852\n",
      "[MICE] Starting imputation round 34/110, elapsed time 0.885\n",
      "[MICE] Starting imputation round 35/110, elapsed time 0.917\n",
      "[MICE] Starting imputation round 36/110, elapsed time 0.944\n",
      "[MICE] Starting imputation round 37/110, elapsed time 0.978\n",
      "[MICE] Starting imputation round 38/110, elapsed time 1.005\n",
      "[MICE] Starting imputation round 39/110, elapsed time 1.031\n",
      "[MICE] Starting imputation round 40/110, elapsed time 1.063\n",
      "[MICE] Starting imputation round 41/110, elapsed time 1.110\n",
      "[MICE] Starting imputation round 42/110, elapsed time 1.154\n",
      "[MICE] Starting imputation round 43/110, elapsed time 1.180\n",
      "[MICE] Starting imputation round 44/110, elapsed time 1.209\n",
      "[MICE] Starting imputation round 45/110, elapsed time 1.235\n",
      "[MICE] Starting imputation round 46/110, elapsed time 1.263\n",
      "[MICE] Starting imputation round 47/110, elapsed time 1.287\n",
      "[MICE] Starting imputation round 48/110, elapsed time 1.311\n",
      "[MICE] Starting imputation round 49/110, elapsed time 1.338\n",
      "[MICE] Starting imputation round 50/110, elapsed time 1.365\n",
      "[MICE] Starting imputation round 51/110, elapsed time 1.394\n",
      "[MICE] Starting imputation round 52/110, elapsed time 1.425\n",
      "[MICE] Starting imputation round 53/110, elapsed time 1.455\n",
      "[MICE] Starting imputation round 54/110, elapsed time 1.480\n",
      "[MICE] Starting imputation round 55/110, elapsed time 1.506\n",
      "[MICE] Starting imputation round 56/110, elapsed time 1.530\n",
      "[MICE] Starting imputation round 57/110, elapsed time 1.558\n",
      "[MICE] Starting imputation round 58/110, elapsed time 1.585\n",
      "[MICE] Starting imputation round 59/110, elapsed time 1.614\n",
      "[MICE] Starting imputation round 60/110, elapsed time 1.643\n",
      "[MICE] Starting imputation round 61/110, elapsed time 1.670\n",
      "[MICE] Starting imputation round 62/110, elapsed time 1.696\n",
      "[MICE] Starting imputation round 63/110, elapsed time 1.723\n",
      "[MICE] Starting imputation round 64/110, elapsed time 1.749\n",
      "[MICE] Starting imputation round 65/110, elapsed time 1.779\n",
      "[MICE] Starting imputation round 66/110, elapsed time 1.808\n",
      "[MICE] Starting imputation round 67/110, elapsed time 1.836\n",
      "[MICE] Starting imputation round 68/110, elapsed time 1.863\n",
      "[MICE] Starting imputation round 69/110, elapsed time 1.887\n",
      "[MICE] Starting imputation round 70/110, elapsed time 1.911\n",
      "[MICE] Starting imputation round 71/110, elapsed time 1.936\n",
      "[MICE] Starting imputation round 72/110, elapsed time 1.964\n",
      "[MICE] Starting imputation round 73/110, elapsed time 1.992\n",
      "[MICE] Starting imputation round 74/110, elapsed time 2.022\n",
      "[MICE] Starting imputation round 75/110, elapsed time 2.051\n",
      "[MICE] Starting imputation round 76/110, elapsed time 2.081\n",
      "[MICE] Starting imputation round 77/110, elapsed time 2.108\n",
      "[MICE] Starting imputation round 78/110, elapsed time 2.136\n",
      "[MICE] Starting imputation round 79/110, elapsed time 2.163\n",
      "[MICE] Starting imputation round 80/110, elapsed time 2.188\n",
      "[MICE] Starting imputation round 81/110, elapsed time 2.217\n",
      "[MICE] Starting imputation round 82/110, elapsed time 2.246\n",
      "[MICE] Starting imputation round 83/110, elapsed time 2.273\n",
      "[MICE] Starting imputation round 84/110, elapsed time 2.302\n",
      "[MICE] Starting imputation round 85/110, elapsed time 2.326\n",
      "[MICE] Starting imputation round 86/110, elapsed time 2.352\n",
      "[MICE] Starting imputation round 87/110, elapsed time 2.376\n",
      "[MICE] Starting imputation round 88/110, elapsed time 2.401\n",
      "[MICE] Starting imputation round 89/110, elapsed time 2.430\n",
      "[MICE] Starting imputation round 90/110, elapsed time 2.457\n",
      "[MICE] Starting imputation round 91/110, elapsed time 2.492\n",
      "[MICE] Starting imputation round 92/110, elapsed time 2.521\n",
      "[MICE] Starting imputation round 93/110, elapsed time 2.547\n",
      "[MICE] Starting imputation round 94/110, elapsed time 2.577\n",
      "[MICE] Starting imputation round 95/110, elapsed time 2.605\n",
      "[MICE] Starting imputation round 96/110, elapsed time 2.630\n",
      "[MICE] Starting imputation round 97/110, elapsed time 2.661\n",
      "[MICE] Starting imputation round 98/110, elapsed time 2.687\n",
      "[MICE] Starting imputation round 99/110, elapsed time 2.716\n",
      "[MICE] Starting imputation round 100/110, elapsed time 2.745\n",
      "[MICE] Starting imputation round 101/110, elapsed time 2.771\n",
      "[MICE] Starting imputation round 102/110, elapsed time 2.802\n",
      "[MICE] Starting imputation round 103/110, elapsed time 2.828\n",
      "[MICE] Starting imputation round 104/110, elapsed time 2.854\n",
      "[MICE] Starting imputation round 105/110, elapsed time 2.883\n",
      "[MICE] Starting imputation round 106/110, elapsed time 2.911\n",
      "[MICE] Starting imputation round 107/110, elapsed time 2.941\n",
      "[MICE] Starting imputation round 108/110, elapsed time 2.973\n",
      "[MICE] Starting imputation round 109/110, elapsed time 3.000\n",
      "[MICE] Starting imputation round 110/110, elapsed time 3.026\n"
     ]
    }
   ],
   "source": [
    "data_e = cdata[cdata['IPG'] != 1]\n",
    "data_e = data_e.drop('IPG', axis = 1);\n",
    "data_e = data_e.drop('sbjBeatConsidered', axis = 1);\n",
    "data_e = data_e.drop('numRRaveraged', axis = 1);\n",
    "data_e = data_e.drop('Soggetti', axis = 1);\n",
    "# df_columns = data.columns.tolist()\n",
    "# matching_columns1 = [s for s in df_columns if \"Parea\" in s]\n",
    "# matching_columns2 = [s for s in df_columns if \"Pdur\" in s]\n",
    "# mc = matching_columns1 + matching_columns2\n",
    "# data_e = data_e.dropna(subset=mc)\n",
    "data_e['PCneg'].fillna(0, inplace=True)\n",
    "data_e['AFclass'].replace('persistierend (>7 Tage, EKV)', 1, inplace=True)\n",
    "data_e['AFclass'].replace('paroxysmal', 0, inplace=True)\n",
    "categorical_variables_mask = data_e.dtypes==object\n",
    "categorical_variables = data_e.columns[categorical_variables_mask]\n",
    "for v in categorical_variables:\n",
    "    data_e[v] = LabelEncoder().fit_transform(data_e[v])\n",
    "del categorical_variables_mask,categorical_variables\n",
    "data_e = pd.DataFrame(data=MICE(n_imputations=100, impute_type='col', n_nearest_columns=5).complete(data_e.as_matrix()), columns=data_e.columns, index=data_e.index);\n",
    "cy_df = data_e['AFclass'].copy()\n",
    "cx_df = data_e.drop('AFclass',axis=1, inplace=False)"
   ]
  },
  {
   "cell_type": "code",
   "execution_count": 39,
   "metadata": {},
   "outputs": [
    {
     "data": {
      "text/plain": [
       "0.5606745807424156"
      ]
     },
     "execution_count": 39,
     "metadata": {},
     "output_type": "execute_result"
    }
   ],
   "source": [
    "from sklearn.metrics import roc_auc_score\n",
    "p = best_model.predict(cx_df);\n",
    "scores = pd.DataFrame({hospital_name: p})\n",
    "scores.to_csv('../data/' + hospital_name +'_predictions.csv', index=False)\n",
    "np.save('../data/' + hospital_name +'_acc',best_score)\n",
    "roc_auc_score(cy_df, p)"
   ]
  },
  {
   "cell_type": "code",
   "execution_count": 42,
   "metadata": {},
   "outputs": [
    {
     "data": {
      "text/plain": [
       "GridSearchCV(cv=5, error_score='raise',\n",
       "       estimator=Pipeline(memory=None,\n",
       "     steps=[('balancer', SMOTE(k=None, k_neighbors=5, kind='regular', m=None, m_neighbors=10, n_jobs=1,\n",
       "   out_step=0.5, random_state=42, ratio='auto', svm_estimator=None)), ('clf', ExtraTreesClassifier(bootstrap=False, class_weight=None, criterion='gini',\n",
       "           max_depth=None, max_features='auto', ...estimators=10, n_jobs=1,\n",
       "           oob_score=False, random_state=42, verbose=0, warm_start=False))]),\n",
       "       fit_params=None, iid=True, n_jobs=-1,\n",
       "       param_grid={'clf__max_depth': [3, 5, 8, 10, 15, 30], 'clf__n_estimators': [100, 200, 500, 1000, 1500], 'clf__min_samples_leaf': [1, 3, 5, 10]},\n",
       "       pre_dispatch='2*n_jobs', refit=True, return_train_score='warn',\n",
       "       scoring='roc_auc', verbose=1)"
      ]
     },
     "execution_count": 42,
     "metadata": {},
     "output_type": "execute_result"
    }
   ],
   "source": [
    "best_model"
   ]
  },
  {
   "cell_type": "code",
   "execution_count": 41,
   "metadata": {
    "scrolled": true
   },
   "outputs": [
    {
     "data": {
      "text/plain": [
       "0.6418488750188098"
      ]
     },
     "execution_count": 41,
     "metadata": {},
     "output_type": "execute_result"
    }
   ],
   "source": [
    "best_score"
   ]
  },
  {
   "cell_type": "code",
   "execution_count": 40,
   "metadata": {},
   "outputs": [
    {
     "data": {
      "text/plain": [
       "['../data/host1_model.pkl']"
      ]
     },
     "execution_count": 40,
     "metadata": {},
     "output_type": "execute_result"
    }
   ],
   "source": [
    "from sklearn.externals import joblib\n",
    "joblib.dump(best_model.best_estimator_, '../data/' + hospital_name + '_model.pkl')"
   ]
  },
  {
   "cell_type": "code",
   "execution_count": null,
   "metadata": {},
   "outputs": [],
   "source": []
  }
 ],
 "metadata": {
  "kernelspec": {
   "display_name": "Python 3",
   "language": "python",
   "name": "python3"
  },
  "language_info": {
   "codemirror_mode": {
    "name": "ipython",
    "version": 3
   },
   "file_extension": ".py",
   "mimetype": "text/x-python",
   "name": "python",
   "nbconvert_exporter": "python",
   "pygments_lexer": "ipython3",
   "version": "3.6.5"
  },
  "toc": {
   "nav_menu": {},
   "number_sections": true,
   "sideBar": true,
   "skip_h1_title": false,
   "title_cell": "Table of Contents",
   "title_sidebar": "Contents",
   "toc_cell": false,
   "toc_position": {},
   "toc_section_display": true,
   "toc_window_display": false
  },
  "varInspector": {
   "cols": {
    "lenName": 16,
    "lenType": 16,
    "lenVar": 40
   },
   "kernels_config": {
    "python": {
     "delete_cmd_postfix": "",
     "delete_cmd_prefix": "del ",
     "library": "var_list.py",
     "varRefreshCmd": "print(var_dic_list())"
    },
    "r": {
     "delete_cmd_postfix": ") ",
     "delete_cmd_prefix": "rm(",
     "library": "var_list.r",
     "varRefreshCmd": "cat(var_dic_list()) "
    }
   },
   "types_to_exclude": [
    "module",
    "function",
    "builtin_function_or_method",
    "instance",
    "_Feature"
   ],
   "window_display": false
  }
 },
 "nbformat": 4,
 "nbformat_minor": 2
}
