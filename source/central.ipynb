{
 "cells": [
  {
   "cell_type": "code",
   "execution_count": 1,
   "metadata": {},
   "outputs": [],
   "source": [
    "import pandas as pd\n",
    "import numpy as np\n",
    "seed = np.random.seed(42)\n",
    "from matplotlib import pyplot as plt\n",
    "import seaborn as sns\n",
    "sns.set(style=\"ticks\", color_codes=True)\n",
    "\n",
    "pd.set_option('display.max_columns',500)\n",
    "pd.set_option('display.max_rows',50)\n",
    "\n",
    "%matplotlib inline"
   ]
  },
  {
   "cell_type": "code",
   "execution_count": 3,
   "metadata": {},
   "outputs": [],
   "source": [
    "from sklearn.model_selection import cross_val_score\n",
    "from sklearn.pipeline import Pipeline\n",
    "from sklearn.ensemble import RandomForestClassifier,GradientBoostingClassifier,ExtraTreesClassifier,AdaBoostClassifier\n",
    "#from sklearn.pipeline import Pipeline\n",
    "from sklearn.model_selection import cross_val_score\n",
    "from sklearn.model_selection import train_test_split\n",
    "from sklearn.metrics import f1_score, make_scorer\n",
    "from sklearn.metrics import accuracy_score\n",
    "from sklearn.model_selection import GridSearchCV\n",
    "from sklearn.dummy import DummyClassifier\n",
    "from imblearn.over_sampling import SMOTE\n",
    "from imblearn.pipeline import Pipeline\n",
    "from sklearn.preprocessing import Imputer,StandardScaler,LabelEncoder\n",
    "from fancyimpute import BiScaler, KNN, NuclearNormMinimization, SoftImpute, MICE\n",
    "\n",
    "#f1_scorer = make_scorer(f1_score, average='macro',labels=Y.unique().tolist())\n",
    "#myscorer = f1_scorer\n",
    "myscorer = 'accuracy'"
   ]
  },
  {
   "cell_type": "code",
   "execution_count": 4,
   "metadata": {},
   "outputs": [
    {
     "data": {
      "text/plain": [
       "(275, 73)"
      ]
     },
     "execution_count": 4,
     "metadata": {},
     "output_type": "execute_result"
    }
   ],
   "source": [
    "cdata = pd.read_csv('../data/central' +'_data.csv')\n",
    "cdata.shape"
   ]
  },
  {
   "cell_type": "code",
   "execution_count": 5,
   "metadata": {},
   "outputs": [],
   "source": [
    "h1_p = pd.read_csv('../data/host1_predictions.csv')\n",
    "h2_p = pd.read_csv('../data/host2_predictions.csv')\n",
    "h3_p = pd.read_csv('../data/host3_predictions.csv')\n",
    "h1_a = np.load('../data/host1_acc.npy')\n",
    "h2_a = np.load('../data/host2_acc.npy')\n",
    "h3_a = np.load('../data/host3_acc.npy')"
   ]
  },
  {
   "cell_type": "code",
   "execution_count": 6,
   "metadata": {},
   "outputs": [
    {
     "data": {
      "text/html": [
       "<div>\n",
       "<style scoped>\n",
       "    .dataframe tbody tr th:only-of-type {\n",
       "        vertical-align: middle;\n",
       "    }\n",
       "\n",
       "    .dataframe tbody tr th {\n",
       "        vertical-align: top;\n",
       "    }\n",
       "\n",
       "    .dataframe thead th {\n",
       "        text-align: right;\n",
       "    }\n",
       "</style>\n",
       "<table border=\"1\" class=\"dataframe\">\n",
       "  <thead>\n",
       "    <tr style=\"text-align: right;\">\n",
       "      <th></th>\n",
       "      <th>host2</th>\n",
       "    </tr>\n",
       "  </thead>\n",
       "  <tbody>\n",
       "    <tr>\n",
       "      <th>0</th>\n",
       "      <td>1.0</td>\n",
       "    </tr>\n",
       "    <tr>\n",
       "      <th>1</th>\n",
       "      <td>1.0</td>\n",
       "    </tr>\n",
       "    <tr>\n",
       "      <th>2</th>\n",
       "      <td>0.0</td>\n",
       "    </tr>\n",
       "  </tbody>\n",
       "</table>\n",
       "</div>"
      ],
      "text/plain": [
       "   host2\n",
       "0    1.0\n",
       "1    1.0\n",
       "2    0.0"
      ]
     },
     "execution_count": 6,
     "metadata": {},
     "output_type": "execute_result"
    }
   ],
   "source": [
    "h2_p.head(3)"
   ]
  },
  {
   "cell_type": "code",
   "execution_count": 7,
   "metadata": {},
   "outputs": [
    {
     "name": "stdout",
     "output_type": "stream",
     "text": [
      "[MICE] Completing matrix with shape (270, 69)\n",
      "[MICE] Starting imputation round 1/110, elapsed time 0.002\n",
      "[MICE] Starting imputation round 2/110, elapsed time 0.043\n",
      "[MICE] Starting imputation round 3/110, elapsed time 0.066\n",
      "[MICE] Starting imputation round 4/110, elapsed time 0.089\n",
      "[MICE] Starting imputation round 5/110, elapsed time 0.111\n",
      "[MICE] Starting imputation round 6/110, elapsed time 0.134\n",
      "[MICE] Starting imputation round 7/110, elapsed time 0.157\n",
      "[MICE] Starting imputation round 8/110, elapsed time 0.179\n",
      "[MICE] Starting imputation round 9/110, elapsed time 0.202\n",
      "[MICE] Starting imputation round 10/110, elapsed time 0.244\n",
      "[MICE] Starting imputation round 11/110, elapsed time 0.267\n",
      "[MICE] Starting imputation round 12/110, elapsed time 0.289\n",
      "[MICE] Starting imputation round 13/110, elapsed time 0.312\n",
      "[MICE] Starting imputation round 14/110, elapsed time 0.335\n",
      "[MICE] Starting imputation round 15/110, elapsed time 0.358\n",
      "[MICE] Starting imputation round 16/110, elapsed time 0.380\n",
      "[MICE] Starting imputation round 17/110, elapsed time 0.403\n",
      "[MICE] Starting imputation round 18/110, elapsed time 0.425\n",
      "[MICE] Starting imputation round 19/110, elapsed time 0.448\n",
      "[MICE] Starting imputation round 20/110, elapsed time 0.476\n",
      "[MICE] Starting imputation round 21/110, elapsed time 0.505\n",
      "[MICE] Starting imputation round 22/110, elapsed time 0.527\n",
      "[MICE] Starting imputation round 23/110, elapsed time 0.551\n",
      "[MICE] Starting imputation round 24/110, elapsed time 0.573\n",
      "[MICE] Starting imputation round 25/110, elapsed time 0.596\n",
      "[MICE] Starting imputation round 26/110, elapsed time 0.619\n",
      "[MICE] Starting imputation round 27/110, elapsed time 0.642\n",
      "[MICE] Starting imputation round 28/110, elapsed time 0.665\n",
      "[MICE] Starting imputation round 29/110, elapsed time 0.694\n",
      "[MICE] Starting imputation round 30/110, elapsed time 0.722\n",
      "[MICE] Starting imputation round 31/110, elapsed time 0.744\n",
      "[MICE] Starting imputation round 32/110, elapsed time 0.767\n",
      "[MICE] Starting imputation round 33/110, elapsed time 0.789\n",
      "[MICE] Starting imputation round 34/110, elapsed time 0.811\n",
      "[MICE] Starting imputation round 35/110, elapsed time 0.834\n",
      "[MICE] Starting imputation round 36/110, elapsed time 0.856\n",
      "[MICE] Starting imputation round 37/110, elapsed time 0.878\n",
      "[MICE] Starting imputation round 38/110, elapsed time 0.904\n",
      "[MICE] Starting imputation round 39/110, elapsed time 0.937\n",
      "[MICE] Starting imputation round 40/110, elapsed time 0.961\n",
      "[MICE] Starting imputation round 41/110, elapsed time 0.983\n",
      "[MICE] Starting imputation round 42/110, elapsed time 1.006\n",
      "[MICE] Starting imputation round 43/110, elapsed time 1.029\n",
      "[MICE] Starting imputation round 44/110, elapsed time 1.051\n",
      "[MICE] Starting imputation round 45/110, elapsed time 1.073\n",
      "[MICE] Starting imputation round 46/110, elapsed time 1.095\n",
      "[MICE] Starting imputation round 47/110, elapsed time 1.122\n",
      "[MICE] Starting imputation round 48/110, elapsed time 1.149\n",
      "[MICE] Starting imputation round 49/110, elapsed time 1.172\n",
      "[MICE] Starting imputation round 50/110, elapsed time 1.194\n",
      "[MICE] Starting imputation round 51/110, elapsed time 1.217\n",
      "[MICE] Starting imputation round 52/110, elapsed time 1.239\n",
      "[MICE] Starting imputation round 53/110, elapsed time 1.262\n",
      "[MICE] Starting imputation round 54/110, elapsed time 1.284\n",
      "[MICE] Starting imputation round 55/110, elapsed time 1.307\n",
      "[MICE] Starting imputation round 56/110, elapsed time 1.333\n",
      "[MICE] Starting imputation round 57/110, elapsed time 1.424\n",
      "[MICE] Starting imputation round 58/110, elapsed time 1.542\n",
      "[MICE] Starting imputation round 59/110, elapsed time 1.679\n",
      "[MICE] Starting imputation round 60/110, elapsed time 1.794\n",
      "[MICE] Starting imputation round 61/110, elapsed time 1.915\n",
      "[MICE] Starting imputation round 62/110, elapsed time 1.992\n",
      "[MICE] Starting imputation round 63/110, elapsed time 2.075\n",
      "[MICE] Starting imputation round 64/110, elapsed time 2.192\n",
      "[MICE] Starting imputation round 65/110, elapsed time 2.224\n",
      "[MICE] Starting imputation round 66/110, elapsed time 2.247\n",
      "[MICE] Starting imputation round 67/110, elapsed time 2.269\n",
      "[MICE] Starting imputation round 68/110, elapsed time 2.304\n",
      "[MICE] Starting imputation round 69/110, elapsed time 2.329\n",
      "[MICE] Starting imputation round 70/110, elapsed time 2.351\n",
      "[MICE] Starting imputation round 71/110, elapsed time 2.374\n",
      "[MICE] Starting imputation round 72/110, elapsed time 2.396\n",
      "[MICE] Starting imputation round 73/110, elapsed time 2.419\n",
      "[MICE] Starting imputation round 74/110, elapsed time 2.442\n",
      "[MICE] Starting imputation round 75/110, elapsed time 2.464\n",
      "[MICE] Starting imputation round 76/110, elapsed time 2.486\n",
      "[MICE] Starting imputation round 77/110, elapsed time 2.509\n",
      "[MICE] Starting imputation round 78/110, elapsed time 2.547\n",
      "[MICE] Starting imputation round 79/110, elapsed time 2.569\n",
      "[MICE] Starting imputation round 80/110, elapsed time 2.591\n",
      "[MICE] Starting imputation round 81/110, elapsed time 2.614\n",
      "[MICE] Starting imputation round 82/110, elapsed time 2.637\n",
      "[MICE] Starting imputation round 83/110, elapsed time 2.659\n",
      "[MICE] Starting imputation round 84/110, elapsed time 2.682\n",
      "[MICE] Starting imputation round 85/110, elapsed time 2.704\n",
      "[MICE] Starting imputation round 86/110, elapsed time 2.740\n",
      "[MICE] Starting imputation round 87/110, elapsed time 2.763\n",
      "[MICE] Starting imputation round 88/110, elapsed time 2.785\n",
      "[MICE] Starting imputation round 89/110, elapsed time 2.807\n",
      "[MICE] Starting imputation round 90/110, elapsed time 2.830\n",
      "[MICE] Starting imputation round 91/110, elapsed time 2.852\n",
      "[MICE] Starting imputation round 92/110, elapsed time 2.874\n",
      "[MICE] Starting imputation round 93/110, elapsed time 2.896\n",
      "[MICE] Starting imputation round 94/110, elapsed time 2.919\n",
      "[MICE] Starting imputation round 95/110, elapsed time 2.941\n",
      "[MICE] Starting imputation round 96/110, elapsed time 2.977\n",
      "[MICE] Starting imputation round 97/110, elapsed time 3.000\n",
      "[MICE] Starting imputation round 98/110, elapsed time 3.022\n",
      "[MICE] Starting imputation round 99/110, elapsed time 3.045\n",
      "[MICE] Starting imputation round 100/110, elapsed time 3.068\n",
      "[MICE] Starting imputation round 101/110, elapsed time 3.090\n",
      "[MICE] Starting imputation round 102/110, elapsed time 3.113\n",
      "[MICE] Starting imputation round 103/110, elapsed time 3.135\n",
      "[MICE] Starting imputation round 104/110, elapsed time 3.158\n",
      "[MICE] Starting imputation round 105/110, elapsed time 3.180\n",
      "[MICE] Starting imputation round 106/110, elapsed time 3.227\n",
      "[MICE] Starting imputation round 107/110, elapsed time 3.254\n",
      "[MICE] Starting imputation round 108/110, elapsed time 3.276\n",
      "[MICE] Starting imputation round 109/110, elapsed time 3.299\n",
      "[MICE] Starting imputation round 110/110, elapsed time 3.322\n"
     ]
    }
   ],
   "source": [
    "data_e = cdata[cdata['IPG'] != 1]\n",
    "data_e = data_e.drop('IPG', axis = 1);\n",
    "data_e = data_e.drop('sbjBeatConsidered', axis = 1);\n",
    "data_e = data_e.drop('numRRaveraged', axis = 1);\n",
    "data_e = data_e.drop('Soggetti', axis = 1);\n",
    "# df_columns = data.columns.tolist()\n",
    "# matching_columns1 = [s for s in df_columns if \"Parea\" in s]\n",
    "# matching_columns2 = [s for s in df_columns if \"Pdur\" in s]\n",
    "# mc = matching_columns1 + matching_columns2\n",
    "# data_e = data_e.dropna(subset=mc)\n",
    "data_e['PCneg'].fillna(0, inplace=True)\n",
    "data_e['AFclass'].replace('persistierend (>7 Tage, EKV)', 1, inplace=True)\n",
    "data_e['AFclass'].replace('paroxysmal', 0, inplace=True)\n",
    "categorical_variables_mask = data_e.dtypes==object\n",
    "categorical_variables = data_e.columns[categorical_variables_mask]\n",
    "for v in categorical_variables:\n",
    "    data_e[v] = LabelEncoder().fit_transform(data_e[v])\n",
    "del categorical_variables_mask,categorical_variables\n",
    "data_e = pd.DataFrame(data=MICE(n_imputations=100, impute_type='col', n_nearest_columns=5).complete(data_e.as_matrix()), columns=data_e.columns, index=data_e.index);\n",
    "cy_df = data_e['AFclass'].copy()\n",
    "cx_df = data_e.drop('AFclass',axis=1, inplace=False)"
   ]
  },
  {
   "cell_type": "code",
   "execution_count": 8,
   "metadata": {},
   "outputs": [
    {
     "data": {
      "text/plain": [
       "array(0.68888889)"
      ]
     },
     "execution_count": 8,
     "metadata": {},
     "output_type": "execute_result"
    }
   ],
   "source": [
    "h1_a"
   ]
  },
  {
   "cell_type": "code",
   "execution_count": 12,
   "metadata": {},
   "outputs": [
    {
     "data": {
      "text/plain": [
       "array([0.65665548, 0.67258175, 0.34334452, 0.32741825, 0.        ,\n",
       "       0.65665548, 0.32923724, 0.        , 0.        , 0.        ,\n",
       "       0.        , 0.32923724, 0.        , 0.34334452, 0.        ,\n",
       "       0.        , 0.        , 0.        , 0.34334452, 0.32923724,\n",
       "       0.67258175, 0.        , 0.        , 0.32741825, 0.        ,\n",
       "       0.        , 0.32923724, 0.34334452, 0.        , 0.67258175,\n",
       "       0.65665548, 0.        , 0.        , 0.        , 0.        ,\n",
       "       0.        , 0.34334452, 0.67258175, 0.        , 0.67258175,\n",
       "       0.34334452, 0.67076276, 0.        , 0.34334452, 0.34334452,\n",
       "       0.        , 0.        , 0.34334452, 0.32923724, 0.67076276,\n",
       "       0.67258175, 0.67258175, 0.32923724, 0.34334452, 0.        ,\n",
       "       0.65665548, 0.        , 0.32923724, 0.34334452, 0.        ,\n",
       "       0.67258175, 0.34334452, 0.67076276, 0.        , 0.67076276,\n",
       "       0.        , 0.        , 0.34334452, 0.32741825, 0.34334452,\n",
       "       0.67076276, 0.67258175, 1.        , 0.        , 0.34334452,\n",
       "       0.67076276, 0.34334452, 0.32923724, 0.        , 0.        ,\n",
       "       0.34334452, 0.32923724, 0.        , 0.32923724, 0.32923724,\n",
       "       0.32923724, 0.        , 0.        , 0.32741825, 0.        ,\n",
       "       0.        , 0.32923724, 0.        , 0.67076276, 0.34334452,\n",
       "       0.        , 0.        , 0.        , 0.        , 0.        ])"
      ]
     },
     "execution_count": 12,
     "metadata": {},
     "output_type": "execute_result"
    }
   ],
   "source": [
    "from sklearn.metrics import roc_auc_score,accuracy_score\n",
    "input_p = pd.concat([h1_p, h2_p, h3_p],axis=1)\n",
    "input_p.head(100)\n",
    "iv = input_p.values\n",
    "result = h1_a * iv[:,0] + h2_a * iv[:,1] + h3_a * iv[:,2] \n",
    "result /= (h1_a + h2_a + h3_a)\n",
    "result[0:100]"
   ]
  },
  {
   "cell_type": "code",
   "execution_count": 14,
   "metadata": {},
   "outputs": [
    {
     "data": {
      "text/plain": [
       "0.6666666666666666"
      ]
     },
     "execution_count": 14,
     "metadata": {},
     "output_type": "execute_result"
    }
   ],
   "source": [
    "result = np.where(result >= 0.5, 1, 0)\n",
    "#roc_auc_score(cy_df, result)\n",
    "accuracy_score(cy_df, result)"
   ]
  },
  {
   "cell_type": "code",
   "execution_count": 16,
   "metadata": {},
   "outputs": [],
   "source": [
    "param_grid = {\"clf__max_depth\": [10,30,50],\n",
    "              \"clf__criterion\": ['gini', 'entropy'],\n",
    "              \"clf__n_estimators\": [100,200,500,1000],\n",
    "              \"clf__random_state\": [42],\n",
    "              \"clf__class_weight\" : [None, 'balanced']}\n",
    "# param_grid = {\"classifier__max_depth\": [30],\n",
    "#               \"classifier__n_estimators\": [1000]}\n",
    "\n",
    "\n",
    "rf = RandomForestClassifier()\n",
    "\n",
    "plist = []\n",
    "plist.append(('clf', rf))\n",
    "pipeline = Pipeline(plist)\n",
    "gs_rf = GridSearchCV(pipeline, param_grid=param_grid, cv=5, verbose=1, scoring=myscorer, n_jobs=-1)"
   ]
  },
  {
   "cell_type": "code",
   "execution_count": 17,
   "metadata": {},
   "outputs": [
    {
     "name": "stdout",
     "output_type": "stream",
     "text": [
      "Fitting 5 folds for each of 48 candidates, totalling 240 fits\n"
     ]
    },
    {
     "name": "stderr",
     "output_type": "stream",
     "text": [
      "[Parallel(n_jobs=-1)]: Done  42 tasks      | elapsed:   10.8s\n",
      "[Parallel(n_jobs=-1)]: Done 192 tasks      | elapsed:   53.7s\n",
      "[Parallel(n_jobs=-1)]: Done 240 out of 240 | elapsed:  1.1min finished\n"
     ]
    }
   ],
   "source": [
    "gs_rf.fit(input_p, cy_df);"
   ]
  },
  {
   "cell_type": "code",
   "execution_count": 18,
   "metadata": {},
   "outputs": [
    {
     "data": {
      "text/plain": [
       "{'clf__class_weight': None,\n",
       " 'clf__criterion': 'gini',\n",
       " 'clf__max_depth': 10,\n",
       " 'clf__n_estimators': 100,\n",
       " 'clf__random_state': 42}"
      ]
     },
     "execution_count": 18,
     "metadata": {},
     "output_type": "execute_result"
    }
   ],
   "source": [
    "gs_rf.best_params_"
   ]
  },
  {
   "cell_type": "code",
   "execution_count": 19,
   "metadata": {},
   "outputs": [
    {
     "data": {
      "text/plain": [
       "0.674074074074074"
      ]
     },
     "execution_count": 19,
     "metadata": {},
     "output_type": "execute_result"
    }
   ],
   "source": [
    "gs_rf.best_score_"
   ]
  },
  {
   "cell_type": "code",
   "execution_count": null,
   "metadata": {},
   "outputs": [],
   "source": []
  }
 ],
 "metadata": {
  "kernelspec": {
   "display_name": "Python 3",
   "language": "python",
   "name": "python3"
  },
  "language_info": {
   "codemirror_mode": {
    "name": "ipython",
    "version": 3
   },
   "file_extension": ".py",
   "mimetype": "text/x-python",
   "name": "python",
   "nbconvert_exporter": "python",
   "pygments_lexer": "ipython3",
   "version": "3.6.5"
  },
  "toc": {
   "nav_menu": {},
   "number_sections": true,
   "sideBar": true,
   "skip_h1_title": false,
   "title_cell": "Table of Contents",
   "title_sidebar": "Contents",
   "toc_cell": false,
   "toc_position": {},
   "toc_section_display": true,
   "toc_window_display": false
  },
  "varInspector": {
   "cols": {
    "lenName": 16,
    "lenType": 16,
    "lenVar": 40
   },
   "kernels_config": {
    "python": {
     "delete_cmd_postfix": "",
     "delete_cmd_prefix": "del ",
     "library": "var_list.py",
     "varRefreshCmd": "print(var_dic_list())"
    },
    "r": {
     "delete_cmd_postfix": ") ",
     "delete_cmd_prefix": "rm(",
     "library": "var_list.r",
     "varRefreshCmd": "cat(var_dic_list()) "
    }
   },
   "types_to_exclude": [
    "module",
    "function",
    "builtin_function_or_method",
    "instance",
    "_Feature"
   ],
   "window_display": false
  }
 },
 "nbformat": 4,
 "nbformat_minor": 2
}
